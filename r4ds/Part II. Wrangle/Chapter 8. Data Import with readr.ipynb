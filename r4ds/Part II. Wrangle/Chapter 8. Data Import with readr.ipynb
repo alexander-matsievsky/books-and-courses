{
 "cells": [
  {
   "cell_type": "markdown",
   "metadata": {},
   "source": [
    "# Chapter 8. Data Import with readr"
   ]
  },
  {
   "cell_type": "code",
   "execution_count": 1,
   "metadata": {},
   "outputs": [
    {
     "name": "stderr",
     "output_type": "stream",
     "text": [
      "── \u001b[1mAttaching packages\u001b[22m ─────────────────────────────────────── tidyverse 1.3.0 ──\n",
      "\n",
      "\u001b[32m✔\u001b[39m \u001b[34mggplot2\u001b[39m 3.3.2     \u001b[32m✔\u001b[39m \u001b[34mpurrr  \u001b[39m 0.3.4\n",
      "\u001b[32m✔\u001b[39m \u001b[34mtibble \u001b[39m 3.0.4     \u001b[32m✔\u001b[39m \u001b[34mdplyr  \u001b[39m 1.0.2\n",
      "\u001b[32m✔\u001b[39m \u001b[34mtidyr  \u001b[39m 1.1.2     \u001b[32m✔\u001b[39m \u001b[34mstringr\u001b[39m 1.4.0\n",
      "\u001b[32m✔\u001b[39m \u001b[34mreadr  \u001b[39m 1.4.0     \u001b[32m✔\u001b[39m \u001b[34mforcats\u001b[39m 0.5.0\n",
      "\n",
      "── \u001b[1mConflicts\u001b[22m ────────────────────────────────────────── tidyverse_conflicts() ──\n",
      "\u001b[31m✖\u001b[39m \u001b[34mdplyr\u001b[39m::\u001b[32mfilter()\u001b[39m masks \u001b[34mstats\u001b[39m::filter()\n",
      "\u001b[31m✖\u001b[39m \u001b[34mdplyr\u001b[39m::\u001b[32mlag()\u001b[39m    masks \u001b[34mstats\u001b[39m::lag()\n",
      "\n"
     ]
    }
   ],
   "source": [
    "library(feather)\n",
    "library(tidyverse)"
   ]
  },
  {
   "cell_type": "markdown",
   "metadata": {},
   "source": [
    "## Getting Started\n",
    "\n",
    "> - `read_csv()` reads comma-delimited files, `read_csv2()` reads semicolon-separated files (common in countries where `,` is used as the decimal place), `read_tsv()` reads tab-delimited files, and `read_delim()` reads in files with any delimiter.\n",
    "> - `read_fwf()` reads fixed-width files. You can specify fields either by their widths with `fwf_widths()` or their position with `fwf_positions()`. `read_table()` reads a common variation of fixed-width files where columns are separated by white space.\n",
    "> - `read_log()` reads Apache style log files. (But also check out **webreadr**, which is built on top of `read_log()` and provides many more helpful tools.)"
   ]
  },
  {
   "cell_type": "code",
   "execution_count": 2,
   "metadata": {},
   "outputs": [
    {
     "name": "stderr",
     "output_type": "stream",
     "text": [
      "\n",
      "\u001b[36m──\u001b[39m \u001b[1m\u001b[1mColumn specification\u001b[1m\u001b[22m \u001b[36m────────────────────────────────────────────────────────\u001b[39m\n",
      "cols(\n",
      "  earn = \u001b[32mcol_double()\u001b[39m,\n",
      "  height = \u001b[32mcol_double()\u001b[39m,\n",
      "  sex = \u001b[31mcol_character()\u001b[39m,\n",
      "  ed = \u001b[32mcol_double()\u001b[39m,\n",
      "  age = \u001b[32mcol_double()\u001b[39m,\n",
      "  race = \u001b[31mcol_character()\u001b[39m\n",
      ")\n",
      "\n",
      "\n"
     ]
    },
    {
     "data": {
      "text/plain": [
       "      earn            height          sex                  ed      \n",
       " Min.   :   200   Min.   :57.50   Length:1192        Min.   : 3.0  \n",
       " 1st Qu.: 10000   1st Qu.:64.01   Class :character   1st Qu.:12.0  \n",
       " Median : 20000   Median :66.45   Mode  :character   Median :13.0  \n",
       " Mean   : 23155   Mean   :66.92                      Mean   :13.5  \n",
       " 3rd Qu.: 30000   3rd Qu.:69.85                      3rd Qu.:16.0  \n",
       " Max.   :200000   Max.   :77.05                      Max.   :18.0  \n",
       "      age            race          \n",
       " Min.   :18.00   Length:1192       \n",
       " 1st Qu.:29.00   Class :character  \n",
       " Median :38.00   Mode  :character  \n",
       " Mean   :41.38                     \n",
       " 3rd Qu.:51.00                     \n",
       " Max.   :91.00                     "
      ]
     },
     "metadata": {},
     "output_type": "display_data"
    },
    {
     "data": {
      "text/html": [
       "<table>\n",
       "<caption>A tibble: 6 × 6</caption>\n",
       "<thead>\n",
       "\t<tr><th scope=col>earn</th><th scope=col>height</th><th scope=col>sex</th><th scope=col>ed</th><th scope=col>age</th><th scope=col>race</th></tr>\n",
       "\t<tr><th scope=col>&lt;dbl&gt;</th><th scope=col>&lt;dbl&gt;</th><th scope=col>&lt;chr&gt;</th><th scope=col>&lt;dbl&gt;</th><th scope=col>&lt;dbl&gt;</th><th scope=col>&lt;chr&gt;</th></tr>\n",
       "</thead>\n",
       "<tbody>\n",
       "\t<tr><td>50000</td><td>74.42444</td><td>male  </td><td>16</td><td>45</td><td>white</td></tr>\n",
       "\t<tr><td>60000</td><td>65.53754</td><td>female</td><td>16</td><td>58</td><td>white</td></tr>\n",
       "\t<tr><td>30000</td><td>63.62920</td><td>female</td><td>16</td><td>29</td><td>white</td></tr>\n",
       "\t<tr><td>50000</td><td>63.10856</td><td>female</td><td>16</td><td>91</td><td>other</td></tr>\n",
       "\t<tr><td>51000</td><td>63.40248</td><td>female</td><td>17</td><td>39</td><td>white</td></tr>\n",
       "\t<tr><td> 9000</td><td>64.39951</td><td>female</td><td>15</td><td>26</td><td>white</td></tr>\n",
       "</tbody>\n",
       "</table>\n"
      ],
      "text/latex": [
       "A tibble: 6 × 6\n",
       "\\begin{tabular}{llllll}\n",
       " earn & height & sex & ed & age & race\\\\\n",
       " <dbl> & <dbl> & <chr> & <dbl> & <dbl> & <chr>\\\\\n",
       "\\hline\n",
       "\t 50000 & 74.42444 & male   & 16 & 45 & white\\\\\n",
       "\t 60000 & 65.53754 & female & 16 & 58 & white\\\\\n",
       "\t 30000 & 63.62920 & female & 16 & 29 & white\\\\\n",
       "\t 50000 & 63.10856 & female & 16 & 91 & other\\\\\n",
       "\t 51000 & 63.40248 & female & 17 & 39 & white\\\\\n",
       "\t  9000 & 64.39951 & female & 15 & 26 & white\\\\\n",
       "\\end{tabular}\n"
      ],
      "text/markdown": [
       "\n",
       "A tibble: 6 × 6\n",
       "\n",
       "| earn &lt;dbl&gt; | height &lt;dbl&gt; | sex &lt;chr&gt; | ed &lt;dbl&gt; | age &lt;dbl&gt; | race &lt;chr&gt; |\n",
       "|---|---|---|---|---|---|\n",
       "| 50000 | 74.42444 | male   | 16 | 45 | white |\n",
       "| 60000 | 65.53754 | female | 16 | 58 | white |\n",
       "| 30000 | 63.62920 | female | 16 | 29 | white |\n",
       "| 50000 | 63.10856 | female | 16 | 91 | other |\n",
       "| 51000 | 63.40248 | female | 17 | 39 | white |\n",
       "|  9000 | 64.39951 | female | 15 | 26 | white |\n",
       "\n"
      ],
      "text/plain": [
       "  earn  height   sex    ed age race \n",
       "1 50000 74.42444 male   16 45  white\n",
       "2 60000 65.53754 female 16 58  white\n",
       "3 30000 63.62920 female 16 29  white\n",
       "4 50000 63.10856 female 16 91  other\n",
       "5 51000 63.40248 female 17 39  white\n",
       "6  9000 64.39951 female 15 26  white"
      ]
     },
     "metadata": {},
     "output_type": "display_data"
    }
   ],
   "source": [
    "heights <- read_csv(\"../data/heights.csv\")\n",
    "summary(heights)\n",
    "head(heights)"
   ]
  },
  {
   "cell_type": "code",
   "execution_count": 3,
   "metadata": {},
   "outputs": [
    {
     "data": {
      "text/html": [
       "<table>\n",
       "<caption>A spec_tbl_df: 2 × 3</caption>\n",
       "<thead>\n",
       "\t<tr><th scope=col>a</th><th scope=col>b</th><th scope=col>c</th></tr>\n",
       "\t<tr><th scope=col>&lt;dbl&gt;</th><th scope=col>&lt;dbl&gt;</th><th scope=col>&lt;dbl&gt;</th></tr>\n",
       "</thead>\n",
       "<tbody>\n",
       "\t<tr><td>1</td><td>2</td><td>3</td></tr>\n",
       "\t<tr><td>4</td><td>5</td><td>6</td></tr>\n",
       "</tbody>\n",
       "</table>\n"
      ],
      "text/latex": [
       "A spec\\_tbl\\_df: 2 × 3\n",
       "\\begin{tabular}{lll}\n",
       " a & b & c\\\\\n",
       " <dbl> & <dbl> & <dbl>\\\\\n",
       "\\hline\n",
       "\t 1 & 2 & 3\\\\\n",
       "\t 4 & 5 & 6\\\\\n",
       "\\end{tabular}\n"
      ],
      "text/markdown": [
       "\n",
       "A spec_tbl_df: 2 × 3\n",
       "\n",
       "| a &lt;dbl&gt; | b &lt;dbl&gt; | c &lt;dbl&gt; |\n",
       "|---|---|---|\n",
       "| 1 | 2 | 3 |\n",
       "| 4 | 5 | 6 |\n",
       "\n"
      ],
      "text/plain": [
       "  a b c\n",
       "1 1 2 3\n",
       "2 4 5 6"
      ]
     },
     "metadata": {},
     "output_type": "display_data"
    },
    {
     "data": {
      "text/html": [
       "<table>\n",
       "<caption>A spec_tbl_df: 1 × 3</caption>\n",
       "<thead>\n",
       "\t<tr><th scope=col>x</th><th scope=col>y</th><th scope=col>z</th></tr>\n",
       "\t<tr><th scope=col>&lt;dbl&gt;</th><th scope=col>&lt;dbl&gt;</th><th scope=col>&lt;dbl&gt;</th></tr>\n",
       "</thead>\n",
       "<tbody>\n",
       "\t<tr><td>1</td><td>2</td><td>3</td></tr>\n",
       "</tbody>\n",
       "</table>\n"
      ],
      "text/latex": [
       "A spec\\_tbl\\_df: 1 × 3\n",
       "\\begin{tabular}{lll}\n",
       " x & y & z\\\\\n",
       " <dbl> & <dbl> & <dbl>\\\\\n",
       "\\hline\n",
       "\t 1 & 2 & 3\\\\\n",
       "\\end{tabular}\n"
      ],
      "text/markdown": [
       "\n",
       "A spec_tbl_df: 1 × 3\n",
       "\n",
       "| x &lt;dbl&gt; | y &lt;dbl&gt; | z &lt;dbl&gt; |\n",
       "|---|---|---|\n",
       "| 1 | 2 | 3 |\n",
       "\n"
      ],
      "text/plain": [
       "  x y z\n",
       "1 1 2 3"
      ]
     },
     "metadata": {},
     "output_type": "display_data"
    },
    {
     "data": {
      "text/html": [
       "<table>\n",
       "<caption>A spec_tbl_df: 1 × 3</caption>\n",
       "<thead>\n",
       "\t<tr><th scope=col>x</th><th scope=col>y</th><th scope=col>z</th></tr>\n",
       "\t<tr><th scope=col>&lt;dbl&gt;</th><th scope=col>&lt;dbl&gt;</th><th scope=col>&lt;dbl&gt;</th></tr>\n",
       "</thead>\n",
       "<tbody>\n",
       "\t<tr><td>1</td><td>2</td><td>3</td></tr>\n",
       "</tbody>\n",
       "</table>\n"
      ],
      "text/latex": [
       "A spec\\_tbl\\_df: 1 × 3\n",
       "\\begin{tabular}{lll}\n",
       " x & y & z\\\\\n",
       " <dbl> & <dbl> & <dbl>\\\\\n",
       "\\hline\n",
       "\t 1 & 2 & 3\\\\\n",
       "\\end{tabular}\n"
      ],
      "text/markdown": [
       "\n",
       "A spec_tbl_df: 1 × 3\n",
       "\n",
       "| x &lt;dbl&gt; | y &lt;dbl&gt; | z &lt;dbl&gt; |\n",
       "|---|---|---|\n",
       "| 1 | 2 | 3 |\n",
       "\n"
      ],
      "text/plain": [
       "  x y z\n",
       "1 1 2 3"
      ]
     },
     "metadata": {},
     "output_type": "display_data"
    },
    {
     "data": {
      "text/html": [
       "<table>\n",
       "<caption>A spec_tbl_df: 2 × 3</caption>\n",
       "<thead>\n",
       "\t<tr><th scope=col>X1</th><th scope=col>X2</th><th scope=col>X3</th></tr>\n",
       "\t<tr><th scope=col>&lt;dbl&gt;</th><th scope=col>&lt;dbl&gt;</th><th scope=col>&lt;dbl&gt;</th></tr>\n",
       "</thead>\n",
       "<tbody>\n",
       "\t<tr><td>1</td><td>2</td><td>3</td></tr>\n",
       "\t<tr><td>4</td><td>5</td><td>6</td></tr>\n",
       "</tbody>\n",
       "</table>\n"
      ],
      "text/latex": [
       "A spec\\_tbl\\_df: 2 × 3\n",
       "\\begin{tabular}{lll}\n",
       " X1 & X2 & X3\\\\\n",
       " <dbl> & <dbl> & <dbl>\\\\\n",
       "\\hline\n",
       "\t 1 & 2 & 3\\\\\n",
       "\t 4 & 5 & 6\\\\\n",
       "\\end{tabular}\n"
      ],
      "text/markdown": [
       "\n",
       "A spec_tbl_df: 2 × 3\n",
       "\n",
       "| X1 &lt;dbl&gt; | X2 &lt;dbl&gt; | X3 &lt;dbl&gt; |\n",
       "|---|---|---|\n",
       "| 1 | 2 | 3 |\n",
       "| 4 | 5 | 6 |\n",
       "\n"
      ],
      "text/plain": [
       "  X1 X2 X3\n",
       "1 1  2  3 \n",
       "2 4  5  6 "
      ]
     },
     "metadata": {},
     "output_type": "display_data"
    },
    {
     "data": {
      "text/html": [
       "<table>\n",
       "<caption>A spec_tbl_df: 2 × 3</caption>\n",
       "<thead>\n",
       "\t<tr><th scope=col>x</th><th scope=col>y</th><th scope=col>z</th></tr>\n",
       "\t<tr><th scope=col>&lt;dbl&gt;</th><th scope=col>&lt;dbl&gt;</th><th scope=col>&lt;dbl&gt;</th></tr>\n",
       "</thead>\n",
       "<tbody>\n",
       "\t<tr><td>1</td><td>2</td><td>3</td></tr>\n",
       "\t<tr><td>4</td><td>5</td><td>6</td></tr>\n",
       "</tbody>\n",
       "</table>\n"
      ],
      "text/latex": [
       "A spec\\_tbl\\_df: 2 × 3\n",
       "\\begin{tabular}{lll}\n",
       " x & y & z\\\\\n",
       " <dbl> & <dbl> & <dbl>\\\\\n",
       "\\hline\n",
       "\t 1 & 2 & 3\\\\\n",
       "\t 4 & 5 & 6\\\\\n",
       "\\end{tabular}\n"
      ],
      "text/markdown": [
       "\n",
       "A spec_tbl_df: 2 × 3\n",
       "\n",
       "| x &lt;dbl&gt; | y &lt;dbl&gt; | z &lt;dbl&gt; |\n",
       "|---|---|---|\n",
       "| 1 | 2 | 3 |\n",
       "| 4 | 5 | 6 |\n",
       "\n"
      ],
      "text/plain": [
       "  x y z\n",
       "1 1 2 3\n",
       "2 4 5 6"
      ]
     },
     "metadata": {},
     "output_type": "display_data"
    }
   ],
   "source": [
    "read_csv(\n",
    "  \"a,b,c\n",
    "   1,2,3\n",
    "   4,5,6\"\n",
    ")\n",
    "read_csv(\n",
    "  \"The first line of metadata\n",
    "   The second line of metadata\n",
    "   x,y,z\n",
    "   1,2,3\",\n",
    "  skip = 2\n",
    ")\n",
    "read_csv(\n",
    "  \"# A comment I want to skip\n",
    "   x,y,z\n",
    "   1,2,3\",\n",
    "  comment = \"#\"\n",
    ")\n",
    "read_csv(\n",
    "  \"1,2,3\n",
    "   4,5,6\",\n",
    "  col_names = FALSE\n",
    ")\n",
    "read_csv(\n",
    "  \"1,2,3\n",
    "   4,5,6\",\n",
    "  col_names = c(\"x\", \"y\", \"z\")\n",
    ")"
   ]
  },
  {
   "cell_type": "markdown",
   "metadata": {},
   "source": [
    "> There are a few good reasons to favor **readr** functions over the base equivalents:\n",
    "> - They are typically much faster (~10x) than their base equivalents. Long-running jobs have a progress bar, so you can see what’s happening. If you’re looking for raw speed, try `data.table::fread()`. It doesn’t fit quite so well into the tidyverse, but it can be quite a bit faster.\n",
    "> - They produce tibbles, and they don’t convert character vectors to factors, use row names, or munge the column names. These are common sources of frustration with the base R functions.\n",
    "> - They are more reproducible. Base R functions inherit some behavior from your operating system and environment variables, so import code that works on your computer might not work on someone else’s.\n",
    "\n",
    "### Exercises\n",
    "\n",
    "1. What function would you use to read a file where fields are separated with “|”?\n",
    "1. Apart from `file`, `skip`, and `comment`, what other arguments do `read_csv()` and `read_tsv()` have in common?\n",
    "1. What are the most important arguments to `read_fwf()`?\n",
    "1. Sometimes strings in a CSV file contain commas. To prevent them from causing problems they need to be surrounded by a quoting character, like \" or '. By convention, `read_csv()` assumes that the quoting character will be \", and if you want to change it you’ll need to use `read_delim()` instead. What arguments do you need to specify to read the following text into a data frame?\n",
    "\n",
    "    ```\n",
    "    \"x,y\\n1,'a,b'\"\n",
    "    ```\n",
    "\n",
    "1. Identify what is wrong with each of the following inline CSV files. What happens when you run the code?\n",
    "\n",
    "    ```r\n",
    "    read_csv(\"a,b\\n1,2,3\\n4,5,6\")\n",
    "    read_csv(\"a,b,c\\n1,2\\n1,2,3,4\")\n",
    "    read_csv(\"a,b\\n\\\"1\")\n",
    "    read_csv(\"a,b\\n1,2\\na,b\")\n",
    "    read_csv(\"a;b\\n1;3\")\n",
    "    ```"
   ]
  },
  {
   "cell_type": "code",
   "execution_count": 4,
   "metadata": {},
   "outputs": [
    {
     "data": {
      "text/html": [
       "<table>\n",
       "<caption>A spec_tbl_df: 2 × 3</caption>\n",
       "<thead>\n",
       "\t<tr><th scope=col>x</th><th scope=col>y</th><th scope=col>z</th></tr>\n",
       "\t<tr><th scope=col>&lt;chr&gt;</th><th scope=col>&lt;dbl&gt;</th><th scope=col>&lt;dbl&gt;</th></tr>\n",
       "</thead>\n",
       "<tbody>\n",
       "\t<tr><td>1   </td><td>2</td><td>3</td></tr>\n",
       "\t<tr><td>   4</td><td>5</td><td>6</td></tr>\n",
       "</tbody>\n",
       "</table>\n"
      ],
      "text/latex": [
       "A spec\\_tbl\\_df: 2 × 3\n",
       "\\begin{tabular}{lll}\n",
       " x & y & z\\\\\n",
       " <chr> & <dbl> & <dbl>\\\\\n",
       "\\hline\n",
       "\t 1    & 2 & 3\\\\\n",
       "\t    4 & 5 & 6\\\\\n",
       "\\end{tabular}\n"
      ],
      "text/markdown": [
       "\n",
       "A spec_tbl_df: 2 × 3\n",
       "\n",
       "| x &lt;chr&gt; | y &lt;dbl&gt; | z &lt;dbl&gt; |\n",
       "|---|---|---|\n",
       "| 1    | 2 | 3 |\n",
       "|    4 | 5 | 6 |\n",
       "\n"
      ],
      "text/plain": [
       "  x    y z\n",
       "1 1    2 3\n",
       "2    4 5 6"
      ]
     },
     "metadata": {},
     "output_type": "display_data"
    },
    {
     "data": {
      "text/html": [
       "<table>\n",
       "<caption>A spec_tbl_df: 1 × 2</caption>\n",
       "<thead>\n",
       "\t<tr><th scope=col>x</th><th scope=col>y</th></tr>\n",
       "\t<tr><th scope=col>&lt;dbl&gt;</th><th scope=col>&lt;chr&gt;</th></tr>\n",
       "</thead>\n",
       "<tbody>\n",
       "\t<tr><td>1</td><td>a,b</td></tr>\n",
       "</tbody>\n",
       "</table>\n"
      ],
      "text/latex": [
       "A spec\\_tbl\\_df: 1 × 2\n",
       "\\begin{tabular}{ll}\n",
       " x & y\\\\\n",
       " <dbl> & <chr>\\\\\n",
       "\\hline\n",
       "\t 1 & a,b\\\\\n",
       "\\end{tabular}\n"
      ],
      "text/markdown": [
       "\n",
       "A spec_tbl_df: 1 × 2\n",
       "\n",
       "| x &lt;dbl&gt; | y &lt;chr&gt; |\n",
       "|---|---|\n",
       "| 1 | a,b |\n",
       "\n"
      ],
      "text/plain": [
       "  x y  \n",
       "1 1 a,b"
      ]
     },
     "metadata": {},
     "output_type": "display_data"
    }
   ],
   "source": [
    "# 1.\n",
    "read_delim(\n",
    "  \"1|2|3\n",
    "   4|5|6\",\n",
    "  col_names = c(\"x\", \"y\", \"z\"),\n",
    "  delim = \"|\",\n",
    ")\n",
    "\n",
    "# 4.\n",
    "read_csv(\"x,y\\n1,'a,b'\", quote = \"'\")"
   ]
  },
  {
   "cell_type": "code",
   "execution_count": 5,
   "metadata": {},
   "outputs": [
    {
     "data": {
      "text/html": [
       "<table>\n",
       "<caption>A spec_tbl_df: 2 × 3</caption>\n",
       "<thead>\n",
       "\t<tr><th scope=col>a</th><th scope=col>b</th><th scope=col>c</th></tr>\n",
       "\t<tr><th scope=col>&lt;dbl&gt;</th><th scope=col>&lt;dbl&gt;</th><th scope=col>&lt;dbl&gt;</th></tr>\n",
       "</thead>\n",
       "<tbody>\n",
       "\t<tr><td>1</td><td>2</td><td>3</td></tr>\n",
       "\t<tr><td>4</td><td>5</td><td>6</td></tr>\n",
       "</tbody>\n",
       "</table>\n"
      ],
      "text/latex": [
       "A spec\\_tbl\\_df: 2 × 3\n",
       "\\begin{tabular}{lll}\n",
       " a & b & c\\\\\n",
       " <dbl> & <dbl> & <dbl>\\\\\n",
       "\\hline\n",
       "\t 1 & 2 & 3\\\\\n",
       "\t 4 & 5 & 6\\\\\n",
       "\\end{tabular}\n"
      ],
      "text/markdown": [
       "\n",
       "A spec_tbl_df: 2 × 3\n",
       "\n",
       "| a &lt;dbl&gt; | b &lt;dbl&gt; | c &lt;dbl&gt; |\n",
       "|---|---|---|\n",
       "| 1 | 2 | 3 |\n",
       "| 4 | 5 | 6 |\n",
       "\n"
      ],
      "text/plain": [
       "  a b c\n",
       "1 1 2 3\n",
       "2 4 5 6"
      ]
     },
     "metadata": {},
     "output_type": "display_data"
    },
    {
     "name": "stderr",
     "output_type": "stream",
     "text": [
      "Warning message:\n",
      "“1 parsing failure.\n",
      "row col  expected    actual         file\n",
      "  1  -- 4 columns 2 columns literal data\n",
      "”\n"
     ]
    },
    {
     "data": {
      "text/html": [
       "<table>\n",
       "<caption>A spec_tbl_df: 2 × 4</caption>\n",
       "<thead>\n",
       "\t<tr><th scope=col>a</th><th scope=col>b</th><th scope=col>c</th><th scope=col>d</th></tr>\n",
       "\t<tr><th scope=col>&lt;dbl&gt;</th><th scope=col>&lt;dbl&gt;</th><th scope=col>&lt;dbl&gt;</th><th scope=col>&lt;dbl&gt;</th></tr>\n",
       "</thead>\n",
       "<tbody>\n",
       "\t<tr><td>1</td><td>2</td><td>NA</td><td>NA</td></tr>\n",
       "\t<tr><td>1</td><td>2</td><td> 3</td><td> 4</td></tr>\n",
       "</tbody>\n",
       "</table>\n"
      ],
      "text/latex": [
       "A spec\\_tbl\\_df: 2 × 4\n",
       "\\begin{tabular}{llll}\n",
       " a & b & c & d\\\\\n",
       " <dbl> & <dbl> & <dbl> & <dbl>\\\\\n",
       "\\hline\n",
       "\t 1 & 2 & NA & NA\\\\\n",
       "\t 1 & 2 &  3 &  4\\\\\n",
       "\\end{tabular}\n"
      ],
      "text/markdown": [
       "\n",
       "A spec_tbl_df: 2 × 4\n",
       "\n",
       "| a &lt;dbl&gt; | b &lt;dbl&gt; | c &lt;dbl&gt; | d &lt;dbl&gt; |\n",
       "|---|---|---|---|\n",
       "| 1 | 2 | NA | NA |\n",
       "| 1 | 2 |  3 |  4 |\n",
       "\n"
      ],
      "text/plain": [
       "  a b c  d \n",
       "1 1 2 NA NA\n",
       "2 1 2  3  4"
      ]
     },
     "metadata": {},
     "output_type": "display_data"
    },
    {
     "name": "stderr",
     "output_type": "stream",
     "text": [
      "Warning message:\n",
      "“2 parsing failures.\n",
      "row col                     expected    actual         file\n",
      "  1  a  closing quote at end of file           literal data\n",
      "  1  -- 2 columns                    1 columns literal data\n",
      "”\n"
     ]
    },
    {
     "data": {
      "text/html": [
       "<table>\n",
       "<caption>A spec_tbl_df: 1 × 2</caption>\n",
       "<thead>\n",
       "\t<tr><th scope=col>a</th><th scope=col>b</th></tr>\n",
       "\t<tr><th scope=col>&lt;dbl&gt;</th><th scope=col>&lt;chr&gt;</th></tr>\n",
       "</thead>\n",
       "<tbody>\n",
       "\t<tr><td>1</td><td>NA</td></tr>\n",
       "</tbody>\n",
       "</table>\n"
      ],
      "text/latex": [
       "A spec\\_tbl\\_df: 1 × 2\n",
       "\\begin{tabular}{ll}\n",
       " a & b\\\\\n",
       " <dbl> & <chr>\\\\\n",
       "\\hline\n",
       "\t 1 & NA\\\\\n",
       "\\end{tabular}\n"
      ],
      "text/markdown": [
       "\n",
       "A spec_tbl_df: 1 × 2\n",
       "\n",
       "| a &lt;dbl&gt; | b &lt;chr&gt; |\n",
       "|---|---|\n",
       "| 1 | NA |\n",
       "\n"
      ],
      "text/plain": [
       "  a b \n",
       "1 1 NA"
      ]
     },
     "metadata": {},
     "output_type": "display_data"
    },
    {
     "data": {
      "text/html": [
       "<table>\n",
       "<caption>A spec_tbl_df: 2 × 2</caption>\n",
       "<thead>\n",
       "\t<tr><th scope=col>a</th><th scope=col>b</th></tr>\n",
       "\t<tr><th scope=col>&lt;chr&gt;</th><th scope=col>&lt;chr&gt;</th></tr>\n",
       "</thead>\n",
       "<tbody>\n",
       "\t<tr><td>1</td><td>2</td></tr>\n",
       "\t<tr><td>a</td><td>b</td></tr>\n",
       "</tbody>\n",
       "</table>\n"
      ],
      "text/latex": [
       "A spec\\_tbl\\_df: 2 × 2\n",
       "\\begin{tabular}{ll}\n",
       " a & b\\\\\n",
       " <chr> & <chr>\\\\\n",
       "\\hline\n",
       "\t 1 & 2\\\\\n",
       "\t a & b\\\\\n",
       "\\end{tabular}\n"
      ],
      "text/markdown": [
       "\n",
       "A spec_tbl_df: 2 × 2\n",
       "\n",
       "| a &lt;chr&gt; | b &lt;chr&gt; |\n",
       "|---|---|\n",
       "| 1 | 2 |\n",
       "| a | b |\n",
       "\n"
      ],
      "text/plain": [
       "  a b\n",
       "1 1 2\n",
       "2 a b"
      ]
     },
     "metadata": {},
     "output_type": "display_data"
    },
    {
     "data": {
      "text/html": [
       "<table>\n",
       "<caption>A spec_tbl_df: 1 × 2</caption>\n",
       "<thead>\n",
       "\t<tr><th scope=col>a</th><th scope=col>b</th></tr>\n",
       "\t<tr><th scope=col>&lt;dbl&gt;</th><th scope=col>&lt;dbl&gt;</th></tr>\n",
       "</thead>\n",
       "<tbody>\n",
       "\t<tr><td>1</td><td>3</td></tr>\n",
       "</tbody>\n",
       "</table>\n"
      ],
      "text/latex": [
       "A spec\\_tbl\\_df: 1 × 2\n",
       "\\begin{tabular}{ll}\n",
       " a & b\\\\\n",
       " <dbl> & <dbl>\\\\\n",
       "\\hline\n",
       "\t 1 & 3\\\\\n",
       "\\end{tabular}\n"
      ],
      "text/markdown": [
       "\n",
       "A spec_tbl_df: 1 × 2\n",
       "\n",
       "| a &lt;dbl&gt; | b &lt;dbl&gt; |\n",
       "|---|---|\n",
       "| 1 | 3 |\n",
       "\n"
      ],
      "text/plain": [
       "  a b\n",
       "1 1 3"
      ]
     },
     "metadata": {},
     "output_type": "display_data"
    }
   ],
   "source": [
    "# 5.\n",
    "read_csv(\"a,b\\n1,2,3\\n4,5,6\", col_names = c(\"a\", \"b\", \"c\"), skip = 1)\n",
    "read_csv(\"a,b,c\\n1,2\\n1,2,3,4\", col_names = c(\"a\", \"b\", \"c\", \"d\"), skip = 1)\n",
    "read_csv(\"a,b\\n\\\"1\")\n",
    "read_csv(\"a,b\\n1,2\\na,b\")\n",
    "read_delim(\"a;b\\n1;3\", delim = \";\")"
   ]
  },
  {
   "cell_type": "markdown",
   "metadata": {},
   "source": [
    "## Parsing a Vector"
   ]
  },
  {
   "cell_type": "code",
   "execution_count": 6,
   "metadata": {},
   "outputs": [
    {
     "name": "stdout",
     "output_type": "stream",
     "text": [
      " logi [1:3] TRUE FALSE NA\n",
      " int [1:4] 1 231 NA 456\n",
      " Date[1:2], format: \"2010-01-01\" \"1979-10-14\"\n"
     ]
    }
   ],
   "source": [
    "str(parse_logical(c(\"TRUE\", \"FALSE\", \"NA\")))\n",
    "str(parse_integer(c(\"1\", \"231\", \".\", \"456\"), na = \".\"))\n",
    "str(parse_date(c(\"2010-01-01\", \"1979-10-14\")))"
   ]
  },
  {
   "cell_type": "code",
   "execution_count": 7,
   "metadata": {},
   "outputs": [
    {
     "name": "stderr",
     "output_type": "stream",
     "text": [
      "Warning message:\n",
      "“2 parsing failures.\n",
      "row col               expected actual\n",
      "  3  -- an integer             abc   \n",
      "  4  -- no trailing characters 123.45\n",
      "”\n"
     ]
    },
    {
     "data": {
      "text/html": [
       "<style>\n",
       ".list-inline {list-style: none; margin:0; padding: 0}\n",
       ".list-inline>li {display: inline-block}\n",
       ".list-inline>li:not(:last-child)::after {content: \"\\00b7\"; padding: 0 .5ex}\n",
       "</style>\n",
       "<ol class=list-inline><li>123</li><li>345</li><li>&lt;NA&gt;</li><li>&lt;NA&gt;</li></ol>\n"
      ],
      "text/latex": [
       "\\begin{enumerate*}\n",
       "\\item 123\n",
       "\\item 345\n",
       "\\item <NA>\n",
       "\\item <NA>\n",
       "\\end{enumerate*}\n"
      ],
      "text/markdown": [
       "1. 123\n",
       "2. 345\n",
       "3. &lt;NA&gt;\n",
       "4. &lt;NA&gt;\n",
       "\n",
       "\n"
      ],
      "text/plain": [
       "[1] 123 345  NA  NA\n",
       "attr(,\"problems\")\n",
       "\u001b[90m# A tibble: 2 x 4\u001b[39m\n",
       "    row   col expected               actual\n",
       "  \u001b[3m\u001b[90m<int>\u001b[39m\u001b[23m \u001b[3m\u001b[90m<int>\u001b[39m\u001b[23m \u001b[3m\u001b[90m<chr>\u001b[39m\u001b[23m                  \u001b[3m\u001b[90m<chr>\u001b[39m\u001b[23m \n",
       "\u001b[90m1\u001b[39m     3    \u001b[31mNA\u001b[39m an integer             abc   \n",
       "\u001b[90m2\u001b[39m     4    \u001b[31mNA\u001b[39m no trailing characters 123.45"
      ]
     },
     "metadata": {},
     "output_type": "display_data"
    },
    {
     "data": {
      "text/html": [
       "<table>\n",
       "<caption>A tibble: 2 × 4</caption>\n",
       "<thead>\n",
       "\t<tr><th scope=col>row</th><th scope=col>col</th><th scope=col>expected</th><th scope=col>actual</th></tr>\n",
       "\t<tr><th scope=col>&lt;int&gt;</th><th scope=col>&lt;int&gt;</th><th scope=col>&lt;chr&gt;</th><th scope=col>&lt;chr&gt;</th></tr>\n",
       "</thead>\n",
       "<tbody>\n",
       "\t<tr><td>3</td><td>NA</td><td>an integer            </td><td>abc   </td></tr>\n",
       "\t<tr><td>4</td><td>NA</td><td>no trailing characters</td><td>123.45</td></tr>\n",
       "</tbody>\n",
       "</table>\n"
      ],
      "text/latex": [
       "A tibble: 2 × 4\n",
       "\\begin{tabular}{llll}\n",
       " row & col & expected & actual\\\\\n",
       " <int> & <int> & <chr> & <chr>\\\\\n",
       "\\hline\n",
       "\t 3 & NA & an integer             & abc   \\\\\n",
       "\t 4 & NA & no trailing characters & 123.45\\\\\n",
       "\\end{tabular}\n"
      ],
      "text/markdown": [
       "\n",
       "A tibble: 2 × 4\n",
       "\n",
       "| row &lt;int&gt; | col &lt;int&gt; | expected &lt;chr&gt; | actual &lt;chr&gt; |\n",
       "|---|---|---|---|\n",
       "| 3 | NA | an integer             | abc    |\n",
       "| 4 | NA | no trailing characters | 123.45 |\n",
       "\n"
      ],
      "text/plain": [
       "  row col expected               actual\n",
       "1 3   NA  an integer             abc   \n",
       "2 4   NA  no trailing characters 123.45"
      ]
     },
     "metadata": {},
     "output_type": "display_data"
    }
   ],
   "source": [
    "parse_integer(c(\"123\", \"345\", \"abc\", \"123.45\"))\n",
    "problems(parse_integer(c(\"123\", \"345\", \"abc\", \"123.45\")))"
   ]
  },
  {
   "cell_type": "markdown",
   "metadata": {},
   "source": [
    "> - `parse_logical()` and `parse_integer()` parse logicals and integers, respectively. There’s basically nothing that can go wrong with these parsers so I won’t describe them here further.\n",
    "> - `parse_double()` is a strict numeric parser, and `parse_number()` is a flexible numeric parser. These are more complicated than you might expect because different parts of the world write numbers in different ways.\n",
    "> - `parse_character()` seems so simple that it shouldn’t be necessary. But one complication makes it quite important: character encodings.\n",
    "> - `parse_factor()` creates factors, the data structure that R uses to represent categorical variables with fixed and known values.\n",
    "> - `parse_datetime()`, `parse_date()`, and `parse_time()` allow you to parse various date and time specifications. These are the most complicated because there are so many different ways of writing dates.\n",
    "\n",
    "### Numbers\n",
    "> - People write numbers differently in different parts of the world. For example, some countries use `.` in between the integer and fractional parts of a real number, while others use `,`.\n",
    "> - Numbers are often surrounded by other characters that provide some context, like “$1000” or “10%”.\n",
    "> - Numbers often contain “grouping” characters to make them easier to read, like “1,000,000”, and these grouping characters vary around the world."
   ]
  },
  {
   "cell_type": "code",
   "execution_count": 8,
   "metadata": {},
   "outputs": [
    {
     "data": {
      "text/html": [
       "1.23"
      ],
      "text/latex": [
       "1.23"
      ],
      "text/markdown": [
       "1.23"
      ],
      "text/plain": [
       "[1] 1.23"
      ]
     },
     "metadata": {},
     "output_type": "display_data"
    },
    {
     "data": {
      "text/html": [
       "123.45"
      ],
      "text/latex": [
       "123.45"
      ],
      "text/markdown": [
       "123.45"
      ],
      "text/plain": [
       "[1] 123.45"
      ]
     },
     "metadata": {},
     "output_type": "display_data"
    },
    {
     "data": {
      "text/html": [
       "123456789"
      ],
      "text/latex": [
       "123456789"
      ],
      "text/markdown": [
       "123456789"
      ],
      "text/plain": [
       "[1] 123456789"
      ]
     },
     "metadata": {},
     "output_type": "display_data"
    }
   ],
   "source": [
    "parse_double(\"1,23\", locale = locale(decimal_mark = \",\"))\n",
    "parse_number(\"It cost $123.45\")\n",
    "parse_number(\"123'456'789\", locale = locale(grouping_mark = \"'\"))"
   ]
  },
  {
   "cell_type": "markdown",
   "metadata": {},
   "source": [
    "### Strings\n",
    "\n",
    "> Each hexadecimal number represents a byte of information: `48` is `H`, `61` is `a`, and so on. The mapping from hexadecimal number to character is called the encoding, and in this case the encoding is called ASCII.\n",
    ">\n",
    "> Things get more complicated for languages other than English. In the early days of computing there were many competing standards for encoding non-English characters, and to correctly interpret a string you needed to know both the values and the encoding. For example, two common encodings are Latin1 (aka ISO-8859-1, used for Western European languages) and Latin2 (aka ISO-8859-2, used for Eastern European languages). In Latin1, the byte b1 is “±”, but in Latin2, it’s “ą”! Fortunately, today there is one standard that is supported almost everywhere: UTF-8. UTF-8 can encode just about every character used by humans today, as well as many extra symbols (like emoji!).\n",
    ">\n",
    "> **readr** uses UTF-8 everywhere: it assumes your data is UTF-8 encoded when you read it, and always uses it when writing. This is a good default, but will fail for data produced by older systems that don’t understand UTF-8. If this happens to you, your strings will look weird when you print them. Sometimes just one or two characters might be messed up; other times you’ll get complete gibberish.\n",
    "\n",
    "> If you’d like to learn more I’d recommend reading the detailed explanation at *http://kunststube.net/encoding/*."
   ]
  },
  {
   "cell_type": "code",
   "execution_count": 9,
   "metadata": {},
   "outputs": [
    {
     "data": {
      "text/plain": [
       "[1] 48 61 64 6c 65 79"
      ]
     },
     "metadata": {},
     "output_type": "display_data"
    }
   ],
   "source": [
    "charToRaw(\"Hadley\")"
   ]
  },
  {
   "cell_type": "code",
   "execution_count": 10,
   "metadata": {},
   "outputs": [
    {
     "data": {
      "text/html": [
       "<table>\n",
       "<caption>A tibble: 2 × 2</caption>\n",
       "<thead>\n",
       "\t<tr><th scope=col>encoding</th><th scope=col>confidence</th></tr>\n",
       "\t<tr><th scope=col>&lt;chr&gt;</th><th scope=col>&lt;dbl&gt;</th></tr>\n",
       "</thead>\n",
       "<tbody>\n",
       "\t<tr><td>ISO-8859-1</td><td>0.46</td></tr>\n",
       "\t<tr><td>ISO-8859-9</td><td>0.23</td></tr>\n",
       "</tbody>\n",
       "</table>\n"
      ],
      "text/latex": [
       "A tibble: 2 × 2\n",
       "\\begin{tabular}{ll}\n",
       " encoding & confidence\\\\\n",
       " <chr> & <dbl>\\\\\n",
       "\\hline\n",
       "\t ISO-8859-1 & 0.46\\\\\n",
       "\t ISO-8859-9 & 0.23\\\\\n",
       "\\end{tabular}\n"
      ],
      "text/markdown": [
       "\n",
       "A tibble: 2 × 2\n",
       "\n",
       "| encoding &lt;chr&gt; | confidence &lt;dbl&gt; |\n",
       "|---|---|\n",
       "| ISO-8859-1 | 0.46 |\n",
       "| ISO-8859-9 | 0.23 |\n",
       "\n"
      ],
      "text/plain": [
       "  encoding   confidence\n",
       "1 ISO-8859-1 0.46      \n",
       "2 ISO-8859-9 0.23      "
      ]
     },
     "metadata": {},
     "output_type": "display_data"
    },
    {
     "data": {
      "text/html": [
       "'El Niño was particularly bad this year'"
      ],
      "text/latex": [
       "'El Niño was particularly bad this year'"
      ],
      "text/markdown": [
       "'El Niño was particularly bad this year'"
      ],
      "text/plain": [
       "[1] \"El Niño was particularly bad this year\""
      ]
     },
     "metadata": {},
     "output_type": "display_data"
    }
   ],
   "source": [
    "x <- \"El Ni\\xf1o was particularly bad this year\"\n",
    "guess_encoding(charToRaw(x))\n",
    "parse_character(x, locale = locale(encoding = \"Latin1\"))"
   ]
  },
  {
   "cell_type": "code",
   "execution_count": 11,
   "metadata": {},
   "outputs": [
    {
     "data": {
      "text/html": [
       "<table>\n",
       "<caption>A tibble: 1 × 2</caption>\n",
       "<thead>\n",
       "\t<tr><th scope=col>encoding</th><th scope=col>confidence</th></tr>\n",
       "\t<tr><th scope=col>&lt;chr&gt;</th><th scope=col>&lt;dbl&gt;</th></tr>\n",
       "</thead>\n",
       "<tbody>\n",
       "\t<tr><td>KOI8-R</td><td>0.42</td></tr>\n",
       "</tbody>\n",
       "</table>\n"
      ],
      "text/latex": [
       "A tibble: 1 × 2\n",
       "\\begin{tabular}{ll}\n",
       " encoding & confidence\\\\\n",
       " <chr> & <dbl>\\\\\n",
       "\\hline\n",
       "\t KOI8-R & 0.42\\\\\n",
       "\\end{tabular}\n"
      ],
      "text/markdown": [
       "\n",
       "A tibble: 1 × 2\n",
       "\n",
       "| encoding &lt;chr&gt; | confidence &lt;dbl&gt; |\n",
       "|---|---|\n",
       "| KOI8-R | 0.42 |\n",
       "\n"
      ],
      "text/plain": [
       "  encoding confidence\n",
       "1 KOI8-R   0.42      "
      ]
     },
     "metadata": {},
     "output_type": "display_data"
    },
    {
     "data": {
      "text/html": [
       "'こんにちは'"
      ],
      "text/latex": [
       "'こんにちは'"
      ],
      "text/markdown": [
       "'こんにちは'"
      ],
      "text/plain": [
       "[1] \"こんにちは\""
      ]
     },
     "metadata": {},
     "output_type": "display_data"
    }
   ],
   "source": [
    "x <- \"\\x82\\xb1\\x82\\xf1\\x82\\xc9\\x82\\xbf\\x82\\xcd\"\n",
    "guess_encoding(charToRaw(x))\n",
    "parse_character(x, locale = locale(encoding = \"Shift-JIS\"))"
   ]
  },
  {
   "cell_type": "markdown",
   "metadata": {},
   "source": [
    "### Factors"
   ]
  },
  {
   "cell_type": "code",
   "execution_count": 12,
   "metadata": {},
   "outputs": [
    {
     "data": {
      "text/html": [
       "<table>\n",
       "<caption>A tibble: 1 × 4</caption>\n",
       "<thead>\n",
       "\t<tr><th scope=col>row</th><th scope=col>col</th><th scope=col>expected</th><th scope=col>actual</th></tr>\n",
       "\t<tr><th scope=col>&lt;int&gt;</th><th scope=col>&lt;int&gt;</th><th scope=col>&lt;chr&gt;</th><th scope=col>&lt;chr&gt;</th></tr>\n",
       "</thead>\n",
       "<tbody>\n",
       "\t<tr><td>3</td><td>NA</td><td>value in level set</td><td>bananana</td></tr>\n",
       "</tbody>\n",
       "</table>\n"
      ],
      "text/latex": [
       "A tibble: 1 × 4\n",
       "\\begin{tabular}{llll}\n",
       " row & col & expected & actual\\\\\n",
       " <int> & <int> & <chr> & <chr>\\\\\n",
       "\\hline\n",
       "\t 3 & NA & value in level set & bananana\\\\\n",
       "\\end{tabular}\n"
      ],
      "text/markdown": [
       "\n",
       "A tibble: 1 × 4\n",
       "\n",
       "| row &lt;int&gt; | col &lt;int&gt; | expected &lt;chr&gt; | actual &lt;chr&gt; |\n",
       "|---|---|---|---|\n",
       "| 3 | NA | value in level set | bananana |\n",
       "\n"
      ],
      "text/plain": [
       "  row col expected           actual  \n",
       "1 3   NA  value in level set bananana"
      ]
     },
     "metadata": {},
     "output_type": "display_data"
    },
    {
     "name": "stderr",
     "output_type": "stream",
     "text": [
      "Warning message:\n",
      "“1 parsing failure.\n",
      "row col           expected   actual\n",
      "  3  -- value in level set bananana\n",
      "”\n"
     ]
    },
    {
     "data": {
      "text/html": [
       "<style>\n",
       ".list-inline {list-style: none; margin:0; padding: 0}\n",
       ".list-inline>li {display: inline-block}\n",
       ".list-inline>li:not(:last-child)::after {content: \"\\00b7\"; padding: 0 .5ex}\n",
       "</style>\n",
       "<ol class=list-inline><li>apple</li><li>banana</li><li>&lt;NA&gt;</li></ol>\n",
       "\n",
       "<details>\n",
       "\t<summary style=display:list-item;cursor:pointer>\n",
       "\t\t<strong>Levels</strong>:\n",
       "\t</summary>\n",
       "\t<style>\n",
       "\t.list-inline {list-style: none; margin:0; padding: 0}\n",
       "\t.list-inline>li {display: inline-block}\n",
       "\t.list-inline>li:not(:last-child)::after {content: \"\\00b7\"; padding: 0 .5ex}\n",
       "\t</style>\n",
       "\t<ol class=list-inline><li>'apple'</li><li>'banana'</li></ol>\n",
       "</details>"
      ],
      "text/latex": [
       "\\begin{enumerate*}\n",
       "\\item apple\n",
       "\\item banana\n",
       "\\item <NA>\n",
       "\\end{enumerate*}\n",
       "\n",
       "\\emph{Levels}: \\begin{enumerate*}\n",
       "\\item 'apple'\n",
       "\\item 'banana'\n",
       "\\end{enumerate*}\n"
      ],
      "text/markdown": [
       "1. apple\n",
       "2. banana\n",
       "3. &lt;NA&gt;\n",
       "\n",
       "\n",
       "\n",
       "**Levels**: 1. 'apple'\n",
       "2. 'banana'\n",
       "\n",
       "\n"
      ],
      "text/plain": [
       "[1] apple  banana <NA>  \n",
       "attr(,\"problems\")\n",
       "\u001b[90m# A tibble: 1 x 4\u001b[39m\n",
       "    row   col expected           actual  \n",
       "  \u001b[3m\u001b[90m<int>\u001b[39m\u001b[23m \u001b[3m\u001b[90m<int>\u001b[39m\u001b[23m \u001b[3m\u001b[90m<chr>\u001b[39m\u001b[23m              \u001b[3m\u001b[90m<chr>\u001b[39m\u001b[23m   \n",
       "\u001b[90m1\u001b[39m     3    \u001b[31mNA\u001b[39m value in level set bananana\n",
       "Levels: apple banana"
      ]
     },
     "metadata": {},
     "output_type": "display_data"
    }
   ],
   "source": [
    "problems(parse_factor(c(\"apple\", \"banana\", \"bananana\"), levels = c(\"apple\", \"banana\")))\n",
    "parse_factor(c(\"apple\", \"banana\", \"bananana\"), levels = c(\"apple\", \"banana\"))"
   ]
  },
  {
   "cell_type": "markdown",
   "metadata": {},
   "source": [
    "### Dates, Date-Times, and Times"
   ]
  },
  {
   "cell_type": "code",
   "execution_count": 13,
   "metadata": {},
   "outputs": [
    {
     "data": {
      "text/plain": [
       "[1] \"2010-10-10 UTC\""
      ]
     },
     "metadata": {},
     "output_type": "display_data"
    },
    {
     "data": {
      "text/plain": [
       "01:10:00"
      ]
     },
     "metadata": {},
     "output_type": "display_data"
    },
    {
     "data": {
      "text/html": [
       "<time datetime=\"2015-01-02\">2015-01-02</time>"
      ],
      "text/latex": [
       "2015-01-02"
      ],
      "text/markdown": [
       "2015-01-02"
      ],
      "text/plain": [
       "[1] \"2015-01-02\""
      ]
     },
     "metadata": {},
     "output_type": "display_data"
    },
    {
     "data": {
      "text/html": [
       "<style>\n",
       ".list-inline {list-style: none; margin:0; padding: 0}\n",
       ".list-inline>li {display: inline-block}\n",
       ".list-inline>li:not(:last-child)::after {content: \"\\00b7\"; padding: 0 .5ex}\n",
       "</style>\n",
       "<ol class=list-inline><li>'af'</li><li>'agq'</li><li>'ak'</li><li>'am'</li><li>'ar'</li><li>'as'</li><li>'asa'</li><li>'az'</li><li>'bas'</li><li>'be'</li><li>'bem'</li><li>'bez'</li><li>'bg'</li><li>'bm'</li><li>'bn'</li><li>'bo'</li><li>'br'</li><li>'brx'</li><li>'bs'</li><li>'ca'</li><li>'cgg'</li><li>'chr'</li><li>'cs'</li><li>'cy'</li><li>'da'</li><li>'dav'</li><li>'de'</li><li>'dje'</li><li>'dsb'</li><li>'dua'</li><li>'dyo'</li><li>'dz'</li><li>'ebu'</li><li>'ee'</li><li>'el'</li><li>'en'</li><li>'eo'</li><li>'es'</li><li>'et'</li><li>'eu'</li><li>'ewo'</li><li>'fa'</li><li>'ff'</li><li>'fi'</li><li>'fil'</li><li>'fo'</li><li>'fr'</li><li>'fur'</li><li>'fy'</li><li>'ga'</li><li>'gd'</li><li>'gl'</li><li>'gsw'</li><li>'gu'</li><li>'guz'</li><li>'gv'</li><li>'ha'</li><li>'haw'</li><li>'he'</li><li>'hi'</li><li>'hr'</li><li>'hsb'</li><li>'hu'</li><li>'hy'</li><li>'id'</li><li>'ig'</li><li>'ii'</li><li>'is'</li><li>'it'</li><li>'ja'</li><li>'jgo'</li><li>'jmc'</li><li>'ka'</li><li>'kab'</li><li>'kam'</li><li>'kde'</li><li>'kea'</li><li>'khq'</li><li>'ki'</li><li>'kk'</li><li>'kkj'</li><li>'kl'</li><li>'kln'</li><li>'km'</li><li>'kn'</li><li>'ko'</li><li>'kok'</li><li>'ks'</li><li>'ksb'</li><li>'ksf'</li><li>'ksh'</li><li>'kw'</li><li>'ky'</li><li>'lag'</li><li>'lb'</li><li>'lg'</li><li>'lkt'</li><li>'ln'</li><li>'lo'</li><li>'lt'</li><li>'lu'</li><li>'luo'</li><li>'luy'</li><li>'lv'</li><li>'mas'</li><li>'mer'</li><li>'mfe'</li><li>'mg'</li><li>'mgh'</li><li>'mgo'</li><li>'mk'</li><li>'ml'</li><li>'mn'</li><li>'mr'</li><li>'ms'</li><li>'mt'</li><li>'mua'</li><li>'my'</li><li>'naq'</li><li>'nb'</li><li>'nd'</li><li>'ne'</li><li>'nl'</li><li>'nmg'</li><li>'nn'</li><li>'nnh'</li><li>'nus'</li><li>'nyn'</li><li>'om'</li><li>'or'</li><li>'os'</li><li>'pa'</li><li>'pl'</li><li>'ps'</li><li>'pt'</li><li>'qu'</li><li>'rm'</li><li>'rn'</li><li>'ro'</li><li>'rof'</li><li>'ru'</li><li>'rw'</li><li>'rwk'</li><li>'sah'</li><li>'saq'</li><li>'sbp'</li><li>'se'</li><li>'seh'</li><li>'ses'</li><li>'sg'</li><li>'shi'</li><li>'si'</li><li>'sk'</li><li>'sl'</li><li>'smn'</li><li>'sn'</li><li>'so'</li><li>'sq'</li><li>'sr'</li><li>'sv'</li><li>'sw'</li><li>'ta'</li><li>'te'</li><li>'teo'</li><li>'th'</li><li>'ti'</li><li>'to'</li><li>'tr'</li><li>'twq'</li><li>'tzm'</li><li>'ug'</li><li>'uk'</li><li>'ur'</li><li>'uz'</li><li>'vai'</li><li>'vi'</li><li>'vun'</li><li>'wae'</li><li>'xog'</li><li>'yav'</li><li>'yi'</li><li>'yo'</li><li>'zgh'</li><li>'zh'</li><li>'zu'</li></ol>\n"
      ],
      "text/latex": [
       "\\begin{enumerate*}\n",
       "\\item 'af'\n",
       "\\item 'agq'\n",
       "\\item 'ak'\n",
       "\\item 'am'\n",
       "\\item 'ar'\n",
       "\\item 'as'\n",
       "\\item 'asa'\n",
       "\\item 'az'\n",
       "\\item 'bas'\n",
       "\\item 'be'\n",
       "\\item 'bem'\n",
       "\\item 'bez'\n",
       "\\item 'bg'\n",
       "\\item 'bm'\n",
       "\\item 'bn'\n",
       "\\item 'bo'\n",
       "\\item 'br'\n",
       "\\item 'brx'\n",
       "\\item 'bs'\n",
       "\\item 'ca'\n",
       "\\item 'cgg'\n",
       "\\item 'chr'\n",
       "\\item 'cs'\n",
       "\\item 'cy'\n",
       "\\item 'da'\n",
       "\\item 'dav'\n",
       "\\item 'de'\n",
       "\\item 'dje'\n",
       "\\item 'dsb'\n",
       "\\item 'dua'\n",
       "\\item 'dyo'\n",
       "\\item 'dz'\n",
       "\\item 'ebu'\n",
       "\\item 'ee'\n",
       "\\item 'el'\n",
       "\\item 'en'\n",
       "\\item 'eo'\n",
       "\\item 'es'\n",
       "\\item 'et'\n",
       "\\item 'eu'\n",
       "\\item 'ewo'\n",
       "\\item 'fa'\n",
       "\\item 'ff'\n",
       "\\item 'fi'\n",
       "\\item 'fil'\n",
       "\\item 'fo'\n",
       "\\item 'fr'\n",
       "\\item 'fur'\n",
       "\\item 'fy'\n",
       "\\item 'ga'\n",
       "\\item 'gd'\n",
       "\\item 'gl'\n",
       "\\item 'gsw'\n",
       "\\item 'gu'\n",
       "\\item 'guz'\n",
       "\\item 'gv'\n",
       "\\item 'ha'\n",
       "\\item 'haw'\n",
       "\\item 'he'\n",
       "\\item 'hi'\n",
       "\\item 'hr'\n",
       "\\item 'hsb'\n",
       "\\item 'hu'\n",
       "\\item 'hy'\n",
       "\\item 'id'\n",
       "\\item 'ig'\n",
       "\\item 'ii'\n",
       "\\item 'is'\n",
       "\\item 'it'\n",
       "\\item 'ja'\n",
       "\\item 'jgo'\n",
       "\\item 'jmc'\n",
       "\\item 'ka'\n",
       "\\item 'kab'\n",
       "\\item 'kam'\n",
       "\\item 'kde'\n",
       "\\item 'kea'\n",
       "\\item 'khq'\n",
       "\\item 'ki'\n",
       "\\item 'kk'\n",
       "\\item 'kkj'\n",
       "\\item 'kl'\n",
       "\\item 'kln'\n",
       "\\item 'km'\n",
       "\\item 'kn'\n",
       "\\item 'ko'\n",
       "\\item 'kok'\n",
       "\\item 'ks'\n",
       "\\item 'ksb'\n",
       "\\item 'ksf'\n",
       "\\item 'ksh'\n",
       "\\item 'kw'\n",
       "\\item 'ky'\n",
       "\\item 'lag'\n",
       "\\item 'lb'\n",
       "\\item 'lg'\n",
       "\\item 'lkt'\n",
       "\\item 'ln'\n",
       "\\item 'lo'\n",
       "\\item 'lt'\n",
       "\\item 'lu'\n",
       "\\item 'luo'\n",
       "\\item 'luy'\n",
       "\\item 'lv'\n",
       "\\item 'mas'\n",
       "\\item 'mer'\n",
       "\\item 'mfe'\n",
       "\\item 'mg'\n",
       "\\item 'mgh'\n",
       "\\item 'mgo'\n",
       "\\item 'mk'\n",
       "\\item 'ml'\n",
       "\\item 'mn'\n",
       "\\item 'mr'\n",
       "\\item 'ms'\n",
       "\\item 'mt'\n",
       "\\item 'mua'\n",
       "\\item 'my'\n",
       "\\item 'naq'\n",
       "\\item 'nb'\n",
       "\\item 'nd'\n",
       "\\item 'ne'\n",
       "\\item 'nl'\n",
       "\\item 'nmg'\n",
       "\\item 'nn'\n",
       "\\item 'nnh'\n",
       "\\item 'nus'\n",
       "\\item 'nyn'\n",
       "\\item 'om'\n",
       "\\item 'or'\n",
       "\\item 'os'\n",
       "\\item 'pa'\n",
       "\\item 'pl'\n",
       "\\item 'ps'\n",
       "\\item 'pt'\n",
       "\\item 'qu'\n",
       "\\item 'rm'\n",
       "\\item 'rn'\n",
       "\\item 'ro'\n",
       "\\item 'rof'\n",
       "\\item 'ru'\n",
       "\\item 'rw'\n",
       "\\item 'rwk'\n",
       "\\item 'sah'\n",
       "\\item 'saq'\n",
       "\\item 'sbp'\n",
       "\\item 'se'\n",
       "\\item 'seh'\n",
       "\\item 'ses'\n",
       "\\item 'sg'\n",
       "\\item 'shi'\n",
       "\\item 'si'\n",
       "\\item 'sk'\n",
       "\\item 'sl'\n",
       "\\item 'smn'\n",
       "\\item 'sn'\n",
       "\\item 'so'\n",
       "\\item 'sq'\n",
       "\\item 'sr'\n",
       "\\item 'sv'\n",
       "\\item 'sw'\n",
       "\\item 'ta'\n",
       "\\item 'te'\n",
       "\\item 'teo'\n",
       "\\item 'th'\n",
       "\\item 'ti'\n",
       "\\item 'to'\n",
       "\\item 'tr'\n",
       "\\item 'twq'\n",
       "\\item 'tzm'\n",
       "\\item 'ug'\n",
       "\\item 'uk'\n",
       "\\item 'ur'\n",
       "\\item 'uz'\n",
       "\\item 'vai'\n",
       "\\item 'vi'\n",
       "\\item 'vun'\n",
       "\\item 'wae'\n",
       "\\item 'xog'\n",
       "\\item 'yav'\n",
       "\\item 'yi'\n",
       "\\item 'yo'\n",
       "\\item 'zgh'\n",
       "\\item 'zh'\n",
       "\\item 'zu'\n",
       "\\end{enumerate*}\n"
      ],
      "text/markdown": [
       "1. 'af'\n",
       "2. 'agq'\n",
       "3. 'ak'\n",
       "4. 'am'\n",
       "5. 'ar'\n",
       "6. 'as'\n",
       "7. 'asa'\n",
       "8. 'az'\n",
       "9. 'bas'\n",
       "10. 'be'\n",
       "11. 'bem'\n",
       "12. 'bez'\n",
       "13. 'bg'\n",
       "14. 'bm'\n",
       "15. 'bn'\n",
       "16. 'bo'\n",
       "17. 'br'\n",
       "18. 'brx'\n",
       "19. 'bs'\n",
       "20. 'ca'\n",
       "21. 'cgg'\n",
       "22. 'chr'\n",
       "23. 'cs'\n",
       "24. 'cy'\n",
       "25. 'da'\n",
       "26. 'dav'\n",
       "27. 'de'\n",
       "28. 'dje'\n",
       "29. 'dsb'\n",
       "30. 'dua'\n",
       "31. 'dyo'\n",
       "32. 'dz'\n",
       "33. 'ebu'\n",
       "34. 'ee'\n",
       "35. 'el'\n",
       "36. 'en'\n",
       "37. 'eo'\n",
       "38. 'es'\n",
       "39. 'et'\n",
       "40. 'eu'\n",
       "41. 'ewo'\n",
       "42. 'fa'\n",
       "43. 'ff'\n",
       "44. 'fi'\n",
       "45. 'fil'\n",
       "46. 'fo'\n",
       "47. 'fr'\n",
       "48. 'fur'\n",
       "49. 'fy'\n",
       "50. 'ga'\n",
       "51. 'gd'\n",
       "52. 'gl'\n",
       "53. 'gsw'\n",
       "54. 'gu'\n",
       "55. 'guz'\n",
       "56. 'gv'\n",
       "57. 'ha'\n",
       "58. 'haw'\n",
       "59. 'he'\n",
       "60. 'hi'\n",
       "61. 'hr'\n",
       "62. 'hsb'\n",
       "63. 'hu'\n",
       "64. 'hy'\n",
       "65. 'id'\n",
       "66. 'ig'\n",
       "67. 'ii'\n",
       "68. 'is'\n",
       "69. 'it'\n",
       "70. 'ja'\n",
       "71. 'jgo'\n",
       "72. 'jmc'\n",
       "73. 'ka'\n",
       "74. 'kab'\n",
       "75. 'kam'\n",
       "76. 'kde'\n",
       "77. 'kea'\n",
       "78. 'khq'\n",
       "79. 'ki'\n",
       "80. 'kk'\n",
       "81. 'kkj'\n",
       "82. 'kl'\n",
       "83. 'kln'\n",
       "84. 'km'\n",
       "85. 'kn'\n",
       "86. 'ko'\n",
       "87. 'kok'\n",
       "88. 'ks'\n",
       "89. 'ksb'\n",
       "90. 'ksf'\n",
       "91. 'ksh'\n",
       "92. 'kw'\n",
       "93. 'ky'\n",
       "94. 'lag'\n",
       "95. 'lb'\n",
       "96. 'lg'\n",
       "97. 'lkt'\n",
       "98. 'ln'\n",
       "99. 'lo'\n",
       "100. 'lt'\n",
       "101. 'lu'\n",
       "102. 'luo'\n",
       "103. 'luy'\n",
       "104. 'lv'\n",
       "105. 'mas'\n",
       "106. 'mer'\n",
       "107. 'mfe'\n",
       "108. 'mg'\n",
       "109. 'mgh'\n",
       "110. 'mgo'\n",
       "111. 'mk'\n",
       "112. 'ml'\n",
       "113. 'mn'\n",
       "114. 'mr'\n",
       "115. 'ms'\n",
       "116. 'mt'\n",
       "117. 'mua'\n",
       "118. 'my'\n",
       "119. 'naq'\n",
       "120. 'nb'\n",
       "121. 'nd'\n",
       "122. 'ne'\n",
       "123. 'nl'\n",
       "124. 'nmg'\n",
       "125. 'nn'\n",
       "126. 'nnh'\n",
       "127. 'nus'\n",
       "128. 'nyn'\n",
       "129. 'om'\n",
       "130. 'or'\n",
       "131. 'os'\n",
       "132. 'pa'\n",
       "133. 'pl'\n",
       "134. 'ps'\n",
       "135. 'pt'\n",
       "136. 'qu'\n",
       "137. 'rm'\n",
       "138. 'rn'\n",
       "139. 'ro'\n",
       "140. 'rof'\n",
       "141. 'ru'\n",
       "142. 'rw'\n",
       "143. 'rwk'\n",
       "144. 'sah'\n",
       "145. 'saq'\n",
       "146. 'sbp'\n",
       "147. 'se'\n",
       "148. 'seh'\n",
       "149. 'ses'\n",
       "150. 'sg'\n",
       "151. 'shi'\n",
       "152. 'si'\n",
       "153. 'sk'\n",
       "154. 'sl'\n",
       "155. 'smn'\n",
       "156. 'sn'\n",
       "157. 'so'\n",
       "158. 'sq'\n",
       "159. 'sr'\n",
       "160. 'sv'\n",
       "161. 'sw'\n",
       "162. 'ta'\n",
       "163. 'te'\n",
       "164. 'teo'\n",
       "165. 'th'\n",
       "166. 'ti'\n",
       "167. 'to'\n",
       "168. 'tr'\n",
       "169. 'twq'\n",
       "170. 'tzm'\n",
       "171. 'ug'\n",
       "172. 'uk'\n",
       "173. 'ur'\n",
       "174. 'uz'\n",
       "175. 'vai'\n",
       "176. 'vi'\n",
       "177. 'vun'\n",
       "178. 'wae'\n",
       "179. 'xog'\n",
       "180. 'yav'\n",
       "181. 'yi'\n",
       "182. 'yo'\n",
       "183. 'zgh'\n",
       "184. 'zh'\n",
       "185. 'zu'\n",
       "\n",
       "\n"
      ],
      "text/plain": [
       "  [1] \"af\"  \"agq\" \"ak\"  \"am\"  \"ar\"  \"as\"  \"asa\" \"az\"  \"bas\" \"be\"  \"bem\" \"bez\"\n",
       " [13] \"bg\"  \"bm\"  \"bn\"  \"bo\"  \"br\"  \"brx\" \"bs\"  \"ca\"  \"cgg\" \"chr\" \"cs\"  \"cy\" \n",
       " [25] \"da\"  \"dav\" \"de\"  \"dje\" \"dsb\" \"dua\" \"dyo\" \"dz\"  \"ebu\" \"ee\"  \"el\"  \"en\" \n",
       " [37] \"eo\"  \"es\"  \"et\"  \"eu\"  \"ewo\" \"fa\"  \"ff\"  \"fi\"  \"fil\" \"fo\"  \"fr\"  \"fur\"\n",
       " [49] \"fy\"  \"ga\"  \"gd\"  \"gl\"  \"gsw\" \"gu\"  \"guz\" \"gv\"  \"ha\"  \"haw\" \"he\"  \"hi\" \n",
       " [61] \"hr\"  \"hsb\" \"hu\"  \"hy\"  \"id\"  \"ig\"  \"ii\"  \"is\"  \"it\"  \"ja\"  \"jgo\" \"jmc\"\n",
       " [73] \"ka\"  \"kab\" \"kam\" \"kde\" \"kea\" \"khq\" \"ki\"  \"kk\"  \"kkj\" \"kl\"  \"kln\" \"km\" \n",
       " [85] \"kn\"  \"ko\"  \"kok\" \"ks\"  \"ksb\" \"ksf\" \"ksh\" \"kw\"  \"ky\"  \"lag\" \"lb\"  \"lg\" \n",
       " [97] \"lkt\" \"ln\"  \"lo\"  \"lt\"  \"lu\"  \"luo\" \"luy\" \"lv\"  \"mas\" \"mer\" \"mfe\" \"mg\" \n",
       "[109] \"mgh\" \"mgo\" \"mk\"  \"ml\"  \"mn\"  \"mr\"  \"ms\"  \"mt\"  \"mua\" \"my\"  \"naq\" \"nb\" \n",
       "[121] \"nd\"  \"ne\"  \"nl\"  \"nmg\" \"nn\"  \"nnh\" \"nus\" \"nyn\" \"om\"  \"or\"  \"os\"  \"pa\" \n",
       "[133] \"pl\"  \"ps\"  \"pt\"  \"qu\"  \"rm\"  \"rn\"  \"ro\"  \"rof\" \"ru\"  \"rw\"  \"rwk\" \"sah\"\n",
       "[145] \"saq\" \"sbp\" \"se\"  \"seh\" \"ses\" \"sg\"  \"shi\" \"si\"  \"sk\"  \"sl\"  \"smn\" \"sn\" \n",
       "[157] \"so\"  \"sq\"  \"sr\"  \"sv\"  \"sw\"  \"ta\"  \"te\"  \"teo\" \"th\"  \"ti\"  \"to\"  \"tr\" \n",
       "[169] \"twq\" \"tzm\" \"ug\"  \"uk\"  \"ur\"  \"uz\"  \"vai\" \"vi\"  \"vun\" \"wae\" \"xog\" \"yav\"\n",
       "[181] \"yi\"  \"yo\"  \"zgh\" \"zh\"  \"zu\" "
      ]
     },
     "metadata": {},
     "output_type": "display_data"
    },
    {
     "data": {
      "text/html": [
       "<time datetime=\"2015-01-01\">2015-01-01</time>"
      ],
      "text/latex": [
       "2015-01-01"
      ],
      "text/markdown": [
       "2015-01-01"
      ],
      "text/plain": [
       "[1] \"2015-01-01\""
      ]
     },
     "metadata": {},
     "output_type": "display_data"
    }
   ],
   "source": [
    "parse_datetime(\"20101010\")\n",
    "parse_time(\"01:10 am\")\n",
    "parse_date(\"01/02/15\", \"%m/%d/%y\")\n",
    "\n",
    "date_names_langs()\n",
    "parse_date(\"1 janvier 2015\", \"%d %B %Y\", locale = locale(\"fr\"))"
   ]
  },
  {
   "cell_type": "markdown",
   "metadata": {},
   "source": [
    "### Exercises\n",
    "\n",
    "1. What are the most important arguments to `locale()`?\n",
    "1. What happens if you try and set `decimal_mark` and `grouping_mark` to the same character? What happens to the default value of `grouping_mark` when you set `decimal_mark` to \",“? What happens to the default value of decimal_mark when you set the `grouping_mark` to \".“?\n",
    "1. I didn’t discuss the `date_format` and `time_format` options to `locale()`. What do they do? Construct an example that shows when they might be useful.\n",
    "1. If you live outside the US, create a new locale object that encapsulates the settings for the types of files you read most commonly.\n",
    "1. What’s the difference between `read_csv()` and `read_csv2()`?\n",
    "1. What are the most common encodings used in Europe? What are the most common encodings used in Asia? Do some googling to find out.\n",
    "1. Generate the correct format string to parse each of the following dates and times:\n",
    "\n",
    "    ```r\n",
    "    d1 <- \"January 1, 2010\"\n",
    "    d2 <- \"2015-Mar-07\"\n",
    "    d3 <- \"06-Jun-2017\"\n",
    "    d4 <- c(\"August 19 (2015)\", \"July 1 (2015)\")\n",
    "    d5 <- \"12/30/14\" # Dec 30, 2014\n",
    "    t1 <- \"1705\"\n",
    "    t2 <- \"11:15:10.12 PM\"\n",
    "    ```"
   ]
  },
  {
   "cell_type": "code",
   "execution_count": 14,
   "metadata": {},
   "outputs": [
    {
     "data": {
      "text/html": [
       "<time datetime=\"2010-01-01\">2010-01-01</time>"
      ],
      "text/latex": [
       "2010-01-01"
      ],
      "text/markdown": [
       "2010-01-01"
      ],
      "text/plain": [
       "[1] \"2010-01-01\""
      ]
     },
     "metadata": {},
     "output_type": "display_data"
    },
    {
     "data": {
      "text/html": [
       "<time datetime=\"2015-03-07\">2015-03-07</time>"
      ],
      "text/latex": [
       "2015-03-07"
      ],
      "text/markdown": [
       "2015-03-07"
      ],
      "text/plain": [
       "[1] \"2015-03-07\""
      ]
     },
     "metadata": {},
     "output_type": "display_data"
    },
    {
     "data": {
      "text/html": [
       "<time datetime=\"2017-06-06\">2017-06-06</time>"
      ],
      "text/latex": [
       "2017-06-06"
      ],
      "text/markdown": [
       "2017-06-06"
      ],
      "text/plain": [
       "[1] \"2017-06-06\""
      ]
     },
     "metadata": {},
     "output_type": "display_data"
    },
    {
     "data": {
      "text/html": [
       "<style>\n",
       ".list-inline {list-style: none; margin:0; padding: 0}\n",
       ".list-inline>li {display: inline-block}\n",
       ".list-inline>li:not(:last-child)::after {content: \"\\00b7\"; padding: 0 .5ex}\n",
       "</style>\n",
       "<ol class=list-inline><li><time datetime=\"2015-08-19\">2015-08-19</time></li><li><time datetime=\"2015-07-01\">2015-07-01</time></li></ol>\n"
      ],
      "text/latex": [
       "\\begin{enumerate*}\n",
       "\\item 2015-08-19\n",
       "\\item 2015-07-01\n",
       "\\end{enumerate*}\n"
      ],
      "text/markdown": [
       "1. 2015-08-19\n",
       "2. 2015-07-01\n",
       "\n",
       "\n"
      ],
      "text/plain": [
       "[1] \"2015-08-19\" \"2015-07-01\""
      ]
     },
     "metadata": {},
     "output_type": "display_data"
    },
    {
     "data": {
      "text/html": [
       "<time datetime=\"2014-12-30\">2014-12-30</time>"
      ],
      "text/latex": [
       "2014-12-30"
      ],
      "text/markdown": [
       "2014-12-30"
      ],
      "text/plain": [
       "[1] \"2014-12-30\""
      ]
     },
     "metadata": {},
     "output_type": "display_data"
    },
    {
     "data": {
      "text/plain": [
       "17:05:00"
      ]
     },
     "metadata": {},
     "output_type": "display_data"
    },
    {
     "data": {
      "text/plain": [
       "23:15:10.12"
      ]
     },
     "metadata": {},
     "output_type": "display_data"
    }
   ],
   "source": [
    "# 7.\n",
    "parse_date(\"January 1, 2010\", \"%B %d, %Y\")\n",
    "parse_date(\"2015-Mar-07\", \"%Y-%b-%d\")\n",
    "parse_date(\"06-Jun-2017\", \"%d-%b-%Y\")\n",
    "parse_date(c(\"August 19 (2015)\", \"July 1 (2015)\"), \"%B %d (%Y)\")\n",
    "parse_date(\"12/30/14\", \"%m/%d/%y\") # Dec 30, 2014\n",
    "parse_time(\"1705\", \"%H%M\")\n",
    "parse_time(\"11:15:10.12 PM\", \"%I:%M:%OS %p\")"
   ]
  },
  {
   "cell_type": "markdown",
   "metadata": {},
   "source": [
    "### Parsing a File\n",
    "\n",
    "> **readr** uses a heuristic to figure out the type of each column: it reads the first 1000 rows and uses some (moderately conservative) heuristics to figure out the type of each column.\n",
    "\n",
    "> I highly recommend always supplying `col_types`, building up from the printout provided by **readr**. This ensures that you have a consistent and reproducible data import script. If you rely on the default guesses and your data changes, **readr** will continue to read it in. If you want to be really strict, use `stop_for_problems()`: that will throw an error and stop your script if there are any parsing problems.\n",
    "\n",
    "> If you’re having major parsing problems, sometimes it’s easier to just read into a character vector of lines with `read_lines()`, or even a character vector of length 1 with `read_file()`. Then you can use the string parsing skills you’ll learn later to parse more exotic formats."
   ]
  },
  {
   "cell_type": "code",
   "execution_count": 15,
   "metadata": {},
   "outputs": [
    {
     "data": {
      "text/html": [
       "'date'"
      ],
      "text/latex": [
       "'date'"
      ],
      "text/markdown": [
       "'date'"
      ],
      "text/plain": [
       "[1] \"date\""
      ]
     },
     "metadata": {},
     "output_type": "display_data"
    },
    {
     "data": {
      "text/html": [
       "'time'"
      ],
      "text/latex": [
       "'time'"
      ],
      "text/markdown": [
       "'time'"
      ],
      "text/plain": [
       "[1] \"time\""
      ]
     },
     "metadata": {},
     "output_type": "display_data"
    },
    {
     "data": {
      "text/html": [
       "'logical'"
      ],
      "text/latex": [
       "'logical'"
      ],
      "text/markdown": [
       "'logical'"
      ],
      "text/plain": [
       "[1] \"logical\""
      ]
     },
     "metadata": {},
     "output_type": "display_data"
    },
    {
     "data": {
      "text/html": [
       "'double'"
      ],
      "text/latex": [
       "'double'"
      ],
      "text/markdown": [
       "'double'"
      ],
      "text/plain": [
       "[1] \"double\""
      ]
     },
     "metadata": {},
     "output_type": "display_data"
    },
    {
     "data": {
      "text/html": [
       "'number'"
      ],
      "text/latex": [
       "'number'"
      ],
      "text/markdown": [
       "'number'"
      ],
      "text/plain": [
       "[1] \"number\""
      ]
     },
     "metadata": {},
     "output_type": "display_data"
    },
    {
     "data": {
      "text/html": [
       "<time datetime=\"2010-10-10\">2010-10-10</time>"
      ],
      "text/latex": [
       "2010-10-10"
      ],
      "text/markdown": [
       "2010-10-10"
      ],
      "text/plain": [
       "[1] \"2010-10-10\""
      ]
     },
     "metadata": {},
     "output_type": "display_data"
    }
   ],
   "source": [
    "guess_parser(\"2010-10-01\")\n",
    "guess_parser(\"15:01\")\n",
    "guess_parser(c(\"TRUE\", \"FALSE\"))\n",
    "guess_parser(c(\"1\", \"5\", \"9\"))\n",
    "guess_parser(c(\"12,352,561\"))\n",
    "\n",
    "parse_guess(\"2010-10-10\")"
   ]
  },
  {
   "cell_type": "code",
   "execution_count": 16,
   "metadata": {},
   "outputs": [
    {
     "name": "stderr",
     "output_type": "stream",
     "text": [
      "\n",
      "\u001b[36m──\u001b[39m \u001b[1m\u001b[1mColumn specification\u001b[1m\u001b[22m \u001b[36m────────────────────────────────────────────────────────\u001b[39m\n",
      "cols(\n",
      "  x = \u001b[32mcol_double()\u001b[39m,\n",
      "  y = \u001b[33mcol_logical()\u001b[39m\n",
      ")\n",
      "\n",
      "\n"
     ]
    },
    {
     "data": {
      "text/html": [
       "<table>\n",
       "<caption>A tibble: 10 × 5</caption>\n",
       "<thead>\n",
       "\t<tr><th scope=col>row</th><th scope=col>col</th><th scope=col>expected</th><th scope=col>actual</th><th scope=col>file</th></tr>\n",
       "\t<tr><th scope=col>&lt;int&gt;</th><th scope=col>&lt;chr&gt;</th><th scope=col>&lt;chr&gt;</th><th scope=col>&lt;chr&gt;</th><th scope=col>&lt;chr&gt;</th></tr>\n",
       "</thead>\n",
       "<tbody>\n",
       "\t<tr><td>1001</td><td>y</td><td>1/0/T/F/TRUE/FALSE</td><td>2015-01-16</td><td>'/opt/conda/lib/R/library/readr/extdata/challenge.csv'</td></tr>\n",
       "\t<tr><td>1002</td><td>y</td><td>1/0/T/F/TRUE/FALSE</td><td>2018-05-18</td><td>'/opt/conda/lib/R/library/readr/extdata/challenge.csv'</td></tr>\n",
       "\t<tr><td>1003</td><td>y</td><td>1/0/T/F/TRUE/FALSE</td><td>2015-09-05</td><td>'/opt/conda/lib/R/library/readr/extdata/challenge.csv'</td></tr>\n",
       "\t<tr><td>1004</td><td>y</td><td>1/0/T/F/TRUE/FALSE</td><td>2012-11-28</td><td>'/opt/conda/lib/R/library/readr/extdata/challenge.csv'</td></tr>\n",
       "\t<tr><td>1005</td><td>y</td><td>1/0/T/F/TRUE/FALSE</td><td>2020-01-13</td><td>'/opt/conda/lib/R/library/readr/extdata/challenge.csv'</td></tr>\n",
       "\t<tr><td>1006</td><td>y</td><td>1/0/T/F/TRUE/FALSE</td><td>2016-04-17</td><td>'/opt/conda/lib/R/library/readr/extdata/challenge.csv'</td></tr>\n",
       "\t<tr><td>1007</td><td>y</td><td>1/0/T/F/TRUE/FALSE</td><td>2011-05-14</td><td>'/opt/conda/lib/R/library/readr/extdata/challenge.csv'</td></tr>\n",
       "\t<tr><td>1008</td><td>y</td><td>1/0/T/F/TRUE/FALSE</td><td>2020-07-18</td><td>'/opt/conda/lib/R/library/readr/extdata/challenge.csv'</td></tr>\n",
       "\t<tr><td>1009</td><td>y</td><td>1/0/T/F/TRUE/FALSE</td><td>2011-04-30</td><td>'/opt/conda/lib/R/library/readr/extdata/challenge.csv'</td></tr>\n",
       "\t<tr><td>1010</td><td>y</td><td>1/0/T/F/TRUE/FALSE</td><td>2010-05-11</td><td>'/opt/conda/lib/R/library/readr/extdata/challenge.csv'</td></tr>\n",
       "</tbody>\n",
       "</table>\n"
      ],
      "text/latex": [
       "A tibble: 10 × 5\n",
       "\\begin{tabular}{lllll}\n",
       " row & col & expected & actual & file\\\\\n",
       " <int> & <chr> & <chr> & <chr> & <chr>\\\\\n",
       "\\hline\n",
       "\t 1001 & y & 1/0/T/F/TRUE/FALSE & 2015-01-16 & '/opt/conda/lib/R/library/readr/extdata/challenge.csv'\\\\\n",
       "\t 1002 & y & 1/0/T/F/TRUE/FALSE & 2018-05-18 & '/opt/conda/lib/R/library/readr/extdata/challenge.csv'\\\\\n",
       "\t 1003 & y & 1/0/T/F/TRUE/FALSE & 2015-09-05 & '/opt/conda/lib/R/library/readr/extdata/challenge.csv'\\\\\n",
       "\t 1004 & y & 1/0/T/F/TRUE/FALSE & 2012-11-28 & '/opt/conda/lib/R/library/readr/extdata/challenge.csv'\\\\\n",
       "\t 1005 & y & 1/0/T/F/TRUE/FALSE & 2020-01-13 & '/opt/conda/lib/R/library/readr/extdata/challenge.csv'\\\\\n",
       "\t 1006 & y & 1/0/T/F/TRUE/FALSE & 2016-04-17 & '/opt/conda/lib/R/library/readr/extdata/challenge.csv'\\\\\n",
       "\t 1007 & y & 1/0/T/F/TRUE/FALSE & 2011-05-14 & '/opt/conda/lib/R/library/readr/extdata/challenge.csv'\\\\\n",
       "\t 1008 & y & 1/0/T/F/TRUE/FALSE & 2020-07-18 & '/opt/conda/lib/R/library/readr/extdata/challenge.csv'\\\\\n",
       "\t 1009 & y & 1/0/T/F/TRUE/FALSE & 2011-04-30 & '/opt/conda/lib/R/library/readr/extdata/challenge.csv'\\\\\n",
       "\t 1010 & y & 1/0/T/F/TRUE/FALSE & 2010-05-11 & '/opt/conda/lib/R/library/readr/extdata/challenge.csv'\\\\\n",
       "\\end{tabular}\n"
      ],
      "text/markdown": [
       "\n",
       "A tibble: 10 × 5\n",
       "\n",
       "| row &lt;int&gt; | col &lt;chr&gt; | expected &lt;chr&gt; | actual &lt;chr&gt; | file &lt;chr&gt; |\n",
       "|---|---|---|---|---|\n",
       "| 1001 | y | 1/0/T/F/TRUE/FALSE | 2015-01-16 | '/opt/conda/lib/R/library/readr/extdata/challenge.csv' |\n",
       "| 1002 | y | 1/0/T/F/TRUE/FALSE | 2018-05-18 | '/opt/conda/lib/R/library/readr/extdata/challenge.csv' |\n",
       "| 1003 | y | 1/0/T/F/TRUE/FALSE | 2015-09-05 | '/opt/conda/lib/R/library/readr/extdata/challenge.csv' |\n",
       "| 1004 | y | 1/0/T/F/TRUE/FALSE | 2012-11-28 | '/opt/conda/lib/R/library/readr/extdata/challenge.csv' |\n",
       "| 1005 | y | 1/0/T/F/TRUE/FALSE | 2020-01-13 | '/opt/conda/lib/R/library/readr/extdata/challenge.csv' |\n",
       "| 1006 | y | 1/0/T/F/TRUE/FALSE | 2016-04-17 | '/opt/conda/lib/R/library/readr/extdata/challenge.csv' |\n",
       "| 1007 | y | 1/0/T/F/TRUE/FALSE | 2011-05-14 | '/opt/conda/lib/R/library/readr/extdata/challenge.csv' |\n",
       "| 1008 | y | 1/0/T/F/TRUE/FALSE | 2020-07-18 | '/opt/conda/lib/R/library/readr/extdata/challenge.csv' |\n",
       "| 1009 | y | 1/0/T/F/TRUE/FALSE | 2011-04-30 | '/opt/conda/lib/R/library/readr/extdata/challenge.csv' |\n",
       "| 1010 | y | 1/0/T/F/TRUE/FALSE | 2010-05-11 | '/opt/conda/lib/R/library/readr/extdata/challenge.csv' |\n",
       "\n"
      ],
      "text/plain": [
       "   row  col expected           actual    \n",
       "1  1001 y   1/0/T/F/TRUE/FALSE 2015-01-16\n",
       "2  1002 y   1/0/T/F/TRUE/FALSE 2018-05-18\n",
       "3  1003 y   1/0/T/F/TRUE/FALSE 2015-09-05\n",
       "4  1004 y   1/0/T/F/TRUE/FALSE 2012-11-28\n",
       "5  1005 y   1/0/T/F/TRUE/FALSE 2020-01-13\n",
       "6  1006 y   1/0/T/F/TRUE/FALSE 2016-04-17\n",
       "7  1007 y   1/0/T/F/TRUE/FALSE 2011-05-14\n",
       "8  1008 y   1/0/T/F/TRUE/FALSE 2020-07-18\n",
       "9  1009 y   1/0/T/F/TRUE/FALSE 2011-04-30\n",
       "10 1010 y   1/0/T/F/TRUE/FALSE 2010-05-11\n",
       "   file                                                  \n",
       "1  '/opt/conda/lib/R/library/readr/extdata/challenge.csv'\n",
       "2  '/opt/conda/lib/R/library/readr/extdata/challenge.csv'\n",
       "3  '/opt/conda/lib/R/library/readr/extdata/challenge.csv'\n",
       "4  '/opt/conda/lib/R/library/readr/extdata/challenge.csv'\n",
       "5  '/opt/conda/lib/R/library/readr/extdata/challenge.csv'\n",
       "6  '/opt/conda/lib/R/library/readr/extdata/challenge.csv'\n",
       "7  '/opt/conda/lib/R/library/readr/extdata/challenge.csv'\n",
       "8  '/opt/conda/lib/R/library/readr/extdata/challenge.csv'\n",
       "9  '/opt/conda/lib/R/library/readr/extdata/challenge.csv'\n",
       "10 '/opt/conda/lib/R/library/readr/extdata/challenge.csv'"
      ]
     },
     "metadata": {},
     "output_type": "display_data"
    },
    {
     "data": {
      "text/plain": [
       "       x                  y             \n",
       " Min.   :   0.001   Min.   :2010-01-03  \n",
       " 1st Qu.:   0.497   1st Qu.:2013-04-08  \n",
       " Median :   0.998   Median :2016-08-11  \n",
       " Mean   :1265.592   Mean   :2016-09-11  \n",
       " 3rd Qu.:2577.250   3rd Qu.:2020-01-19  \n",
       " Max.   :4999.000   Max.   :2023-09-06  \n",
       "                    NA's   :1000        "
      ]
     },
     "metadata": {},
     "output_type": "display_data"
    }
   ],
   "source": [
    "problems(read_csv(readr_example(\"challenge.csv\"))) %>% head(10)\n",
    "summary(read_csv(readr_example(\"challenge.csv\"), col_types = \"dD\"))"
   ]
  },
  {
   "cell_type": "code",
   "execution_count": 17,
   "metadata": {},
   "outputs": [
    {
     "name": "stderr",
     "output_type": "stream",
     "text": [
      "\n",
      "\u001b[36m──\u001b[39m \u001b[1m\u001b[1mColumn specification\u001b[1m\u001b[22m \u001b[36m────────────────────────────────────────────────────────\u001b[39m\n",
      "cols(\n",
      "  x = \u001b[32mcol_double()\u001b[39m,\n",
      "  y = \u001b[34mcol_date(format = \"\")\u001b[39m\n",
      ")\n",
      "\n",
      "\n"
     ]
    },
    {
     "data": {
      "text/plain": [
       "       x                  y             \n",
       " Min.   :   0.001   Min.   :2010-01-03  \n",
       " 1st Qu.:   0.497   1st Qu.:2013-04-08  \n",
       " Median :   0.998   Median :2016-08-11  \n",
       " Mean   :1265.592   Mean   :2016-09-11  \n",
       " 3rd Qu.:2577.250   3rd Qu.:2020-01-19  \n",
       " Max.   :4999.000   Max.   :2023-09-06  \n",
       "                    NA's   :1000        "
      ]
     },
     "metadata": {},
     "output_type": "display_data"
    }
   ],
   "source": [
    "summary(read_csv(readr_example(\"challenge.csv\"), guess_max = 1001))"
   ]
  },
  {
   "cell_type": "code",
   "execution_count": 18,
   "metadata": {},
   "outputs": [
    {
     "name": "stderr",
     "output_type": "stream",
     "text": [
      "\n",
      "\u001b[36m──\u001b[39m \u001b[1m\u001b[1mColumn specification\u001b[1m\u001b[22m \u001b[36m────────────────────────────────────────────────────────\u001b[39m\n",
      "cols(\n",
      "  x = \u001b[32mcol_double()\u001b[39m,\n",
      "  y = \u001b[34mcol_date(format = \"\")\u001b[39m\n",
      ")\n",
      "\n",
      "\n"
     ]
    },
    {
     "data": {
      "text/plain": [
       "       x                  y             \n",
       " Min.   :   0.001   Min.   :2010-01-03  \n",
       " 1st Qu.:   0.497   1st Qu.:2013-04-08  \n",
       " Median :   0.998   Median :2016-08-11  \n",
       " Mean   :1265.592   Mean   :2016-09-11  \n",
       " 3rd Qu.:2577.250   3rd Qu.:2020-01-19  \n",
       " Max.   :4999.000   Max.   :2023-09-06  \n",
       "                    NA's   :1000        "
      ]
     },
     "metadata": {},
     "output_type": "display_data"
    }
   ],
   "source": [
    "summary(type_convert(read_csv(readr_example(\"challenge.csv\"), col_types = cols(.default = \"c\"))))"
   ]
  },
  {
   "cell_type": "markdown",
   "metadata": {},
   "source": [
    "## Writing to a File\n",
    "\n",
    "> If you want to export a CSV file to Excel, use `write_excel_csv()`—this writes a special character (a “byte order mark”) at the start of the file, which tells Excel that you’re using the UTF-8 encoding.\n",
    "\n",
    "> The **feather** package implements a fast binary file format that can be shared across programming languages."
   ]
  },
  {
   "cell_type": "code",
   "execution_count": 19,
   "metadata": {},
   "outputs": [
    {
     "name": "stderr",
     "output_type": "stream",
     "text": [
      "\n",
      "\u001b[36m──\u001b[39m \u001b[1m\u001b[1mColumn specification\u001b[1m\u001b[22m \u001b[36m────────────────────────────────────────────────────────\u001b[39m\n",
      "cols(\n",
      "  x = \u001b[32mcol_double()\u001b[39m,\n",
      "  y = \u001b[33mcol_logical()\u001b[39m\n",
      ")\n",
      "\n",
      "\n"
     ]
    },
    {
     "data": {
      "text/html": [
       "<table>\n",
       "<caption>A tibble: 10 × 5</caption>\n",
       "<thead>\n",
       "\t<tr><th scope=col>row</th><th scope=col>col</th><th scope=col>expected</th><th scope=col>actual</th><th scope=col>file</th></tr>\n",
       "\t<tr><th scope=col>&lt;int&gt;</th><th scope=col>&lt;chr&gt;</th><th scope=col>&lt;chr&gt;</th><th scope=col>&lt;chr&gt;</th><th scope=col>&lt;chr&gt;</th></tr>\n",
       "</thead>\n",
       "<tbody>\n",
       "\t<tr><td>1001</td><td>y</td><td>1/0/T/F/TRUE/FALSE</td><td>2015-01-16</td><td>'/tmp/challenge.csv'</td></tr>\n",
       "\t<tr><td>1002</td><td>y</td><td>1/0/T/F/TRUE/FALSE</td><td>2018-05-18</td><td>'/tmp/challenge.csv'</td></tr>\n",
       "\t<tr><td>1003</td><td>y</td><td>1/0/T/F/TRUE/FALSE</td><td>2015-09-05</td><td>'/tmp/challenge.csv'</td></tr>\n",
       "\t<tr><td>1004</td><td>y</td><td>1/0/T/F/TRUE/FALSE</td><td>2012-11-28</td><td>'/tmp/challenge.csv'</td></tr>\n",
       "\t<tr><td>1005</td><td>y</td><td>1/0/T/F/TRUE/FALSE</td><td>2020-01-13</td><td>'/tmp/challenge.csv'</td></tr>\n",
       "\t<tr><td>1006</td><td>y</td><td>1/0/T/F/TRUE/FALSE</td><td>2016-04-17</td><td>'/tmp/challenge.csv'</td></tr>\n",
       "\t<tr><td>1007</td><td>y</td><td>1/0/T/F/TRUE/FALSE</td><td>2011-05-14</td><td>'/tmp/challenge.csv'</td></tr>\n",
       "\t<tr><td>1008</td><td>y</td><td>1/0/T/F/TRUE/FALSE</td><td>2020-07-18</td><td>'/tmp/challenge.csv'</td></tr>\n",
       "\t<tr><td>1009</td><td>y</td><td>1/0/T/F/TRUE/FALSE</td><td>2011-04-30</td><td>'/tmp/challenge.csv'</td></tr>\n",
       "\t<tr><td>1010</td><td>y</td><td>1/0/T/F/TRUE/FALSE</td><td>2010-05-11</td><td>'/tmp/challenge.csv'</td></tr>\n",
       "</tbody>\n",
       "</table>\n"
      ],
      "text/latex": [
       "A tibble: 10 × 5\n",
       "\\begin{tabular}{lllll}\n",
       " row & col & expected & actual & file\\\\\n",
       " <int> & <chr> & <chr> & <chr> & <chr>\\\\\n",
       "\\hline\n",
       "\t 1001 & y & 1/0/T/F/TRUE/FALSE & 2015-01-16 & '/tmp/challenge.csv'\\\\\n",
       "\t 1002 & y & 1/0/T/F/TRUE/FALSE & 2018-05-18 & '/tmp/challenge.csv'\\\\\n",
       "\t 1003 & y & 1/0/T/F/TRUE/FALSE & 2015-09-05 & '/tmp/challenge.csv'\\\\\n",
       "\t 1004 & y & 1/0/T/F/TRUE/FALSE & 2012-11-28 & '/tmp/challenge.csv'\\\\\n",
       "\t 1005 & y & 1/0/T/F/TRUE/FALSE & 2020-01-13 & '/tmp/challenge.csv'\\\\\n",
       "\t 1006 & y & 1/0/T/F/TRUE/FALSE & 2016-04-17 & '/tmp/challenge.csv'\\\\\n",
       "\t 1007 & y & 1/0/T/F/TRUE/FALSE & 2011-05-14 & '/tmp/challenge.csv'\\\\\n",
       "\t 1008 & y & 1/0/T/F/TRUE/FALSE & 2020-07-18 & '/tmp/challenge.csv'\\\\\n",
       "\t 1009 & y & 1/0/T/F/TRUE/FALSE & 2011-04-30 & '/tmp/challenge.csv'\\\\\n",
       "\t 1010 & y & 1/0/T/F/TRUE/FALSE & 2010-05-11 & '/tmp/challenge.csv'\\\\\n",
       "\\end{tabular}\n"
      ],
      "text/markdown": [
       "\n",
       "A tibble: 10 × 5\n",
       "\n",
       "| row &lt;int&gt; | col &lt;chr&gt; | expected &lt;chr&gt; | actual &lt;chr&gt; | file &lt;chr&gt; |\n",
       "|---|---|---|---|---|\n",
       "| 1001 | y | 1/0/T/F/TRUE/FALSE | 2015-01-16 | '/tmp/challenge.csv' |\n",
       "| 1002 | y | 1/0/T/F/TRUE/FALSE | 2018-05-18 | '/tmp/challenge.csv' |\n",
       "| 1003 | y | 1/0/T/F/TRUE/FALSE | 2015-09-05 | '/tmp/challenge.csv' |\n",
       "| 1004 | y | 1/0/T/F/TRUE/FALSE | 2012-11-28 | '/tmp/challenge.csv' |\n",
       "| 1005 | y | 1/0/T/F/TRUE/FALSE | 2020-01-13 | '/tmp/challenge.csv' |\n",
       "| 1006 | y | 1/0/T/F/TRUE/FALSE | 2016-04-17 | '/tmp/challenge.csv' |\n",
       "| 1007 | y | 1/0/T/F/TRUE/FALSE | 2011-05-14 | '/tmp/challenge.csv' |\n",
       "| 1008 | y | 1/0/T/F/TRUE/FALSE | 2020-07-18 | '/tmp/challenge.csv' |\n",
       "| 1009 | y | 1/0/T/F/TRUE/FALSE | 2011-04-30 | '/tmp/challenge.csv' |\n",
       "| 1010 | y | 1/0/T/F/TRUE/FALSE | 2010-05-11 | '/tmp/challenge.csv' |\n",
       "\n"
      ],
      "text/plain": [
       "   row  col expected           actual     file                \n",
       "1  1001 y   1/0/T/F/TRUE/FALSE 2015-01-16 '/tmp/challenge.csv'\n",
       "2  1002 y   1/0/T/F/TRUE/FALSE 2018-05-18 '/tmp/challenge.csv'\n",
       "3  1003 y   1/0/T/F/TRUE/FALSE 2015-09-05 '/tmp/challenge.csv'\n",
       "4  1004 y   1/0/T/F/TRUE/FALSE 2012-11-28 '/tmp/challenge.csv'\n",
       "5  1005 y   1/0/T/F/TRUE/FALSE 2020-01-13 '/tmp/challenge.csv'\n",
       "6  1006 y   1/0/T/F/TRUE/FALSE 2016-04-17 '/tmp/challenge.csv'\n",
       "7  1007 y   1/0/T/F/TRUE/FALSE 2011-05-14 '/tmp/challenge.csv'\n",
       "8  1008 y   1/0/T/F/TRUE/FALSE 2020-07-18 '/tmp/challenge.csv'\n",
       "9  1009 y   1/0/T/F/TRUE/FALSE 2011-04-30 '/tmp/challenge.csv'\n",
       "10 1010 y   1/0/T/F/TRUE/FALSE 2010-05-11 '/tmp/challenge.csv'"
      ]
     },
     "metadata": {},
     "output_type": "display_data"
    }
   ],
   "source": [
    "read_csv(readr_example(\"challenge.csv\"), col_types = \"dD\") %>% write_csv(\"/tmp/challenge.csv\")\n",
    "problems(read_csv(\"/tmp/challenge.csv\")) %>% head(10)"
   ]
  },
  {
   "cell_type": "code",
   "execution_count": 20,
   "metadata": {},
   "outputs": [
    {
     "data": {
      "text/plain": [
       "       x                  y             \n",
       " Min.   :   0.001   Min.   :2010-01-03  \n",
       " 1st Qu.:   0.497   1st Qu.:2013-04-08  \n",
       " Median :   0.998   Median :2016-08-11  \n",
       " Mean   :1265.592   Mean   :2016-09-11  \n",
       " 3rd Qu.:2577.250   3rd Qu.:2020-01-19  \n",
       " Max.   :4999.000   Max.   :2023-09-06  \n",
       "                    NA's   :1000        "
      ]
     },
     "metadata": {},
     "output_type": "display_data"
    }
   ],
   "source": [
    "read_csv(readr_example(\"challenge.csv\"), col_types = \"dD\") %>% write_feather(\"/tmp/challenge.feather\")\n",
    "summary(read_feather(\"/tmp/challenge.feather\"))"
   ]
  },
  {
   "cell_type": "markdown",
   "metadata": {},
   "source": [
    "> For rectangular data:\n",
    "> - **haven** reads SPSS, Stata, and SAS files.\n",
    "> - **readxl** reads Excel files (both *.xls* and *.xlsx*).\n",
    "> - **DBI**, along with a database-specific backend (e.g., **RMySQL**, **RSQLite**, **RPostgreSQL**, etc.) allows you to run SQL queries against a database and return a data frame.\n",
    "> \n",
    "> For hierarchical data: use **jsonlite** (by Jeroen Ooms) for JSON, and **xml2** for XML. Jenny Bryan has some excellent worked examples at *https://jennybc.github.io/purrr-tutorial/*.\n",
    "> \n",
    "> For other file types, try the [*R data import/export manual*](https://cran.r-project.org/doc/manuals/r-release/R-data.html) and the [**rio**](https://github.com/leeper/rio) package."
   ]
  }
 ],
 "metadata": {
  "kernelspec": {
   "display_name": "R",
   "language": "R",
   "name": "ir"
  },
  "language_info": {
   "codemirror_mode": "r",
   "file_extension": ".r",
   "mimetype": "text/x-r-source",
   "name": "R",
   "pygments_lexer": "r",
   "version": "4.0.3"
  }
 },
 "nbformat": 4,
 "nbformat_minor": 4
}
