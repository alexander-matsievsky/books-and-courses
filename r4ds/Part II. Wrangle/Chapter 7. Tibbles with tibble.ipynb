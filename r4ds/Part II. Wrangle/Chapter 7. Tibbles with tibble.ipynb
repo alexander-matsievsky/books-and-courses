{
 "cells": [
  {
   "cell_type": "markdown",
   "metadata": {},
   "source": [
    "# Chapter 7. Tibbles with tibble"
   ]
  },
  {
   "cell_type": "code",
   "execution_count": 1,
   "metadata": {},
   "outputs": [
    {
     "name": "stderr",
     "output_type": "stream",
     "text": [
      "── \u001b[1mAttaching packages\u001b[22m ─────────────────────────────────────── tidyverse 1.3.0 ──\n",
      "\n",
      "\u001b[32m✔\u001b[39m \u001b[34mggplot2\u001b[39m 3.3.2     \u001b[32m✔\u001b[39m \u001b[34mpurrr  \u001b[39m 0.3.4\n",
      "\u001b[32m✔\u001b[39m \u001b[34mtibble \u001b[39m 3.0.4     \u001b[32m✔\u001b[39m \u001b[34mdplyr  \u001b[39m 1.0.2\n",
      "\u001b[32m✔\u001b[39m \u001b[34mtidyr  \u001b[39m 1.1.2     \u001b[32m✔\u001b[39m \u001b[34mstringr\u001b[39m 1.4.0\n",
      "\u001b[32m✔\u001b[39m \u001b[34mreadr  \u001b[39m 1.4.0     \u001b[32m✔\u001b[39m \u001b[34mforcats\u001b[39m 0.5.0\n",
      "\n",
      "── \u001b[1mConflicts\u001b[22m ────────────────────────────────────────── tidyverse_conflicts() ──\n",
      "\u001b[31m✖\u001b[39m \u001b[34mdplyr\u001b[39m::\u001b[32mfilter()\u001b[39m masks \u001b[34mstats\u001b[39m::filter()\n",
      "\u001b[31m✖\u001b[39m \u001b[34mdplyr\u001b[39m::\u001b[32mlag()\u001b[39m    masks \u001b[34mstats\u001b[39m::lag()\n",
      "\n"
     ]
    }
   ],
   "source": [
    "options(repr.plot.width = 8, repr.plot.height = 6)\n",
    "library(IRdisplay)\n",
    "library(tidyverse)"
   ]
  },
  {
   "cell_type": "markdown",
   "metadata": {},
   "source": [
    "## Creating Tibbles\n",
    "\n",
    "> Almost all of the functions that you’ll use in this book produce tibbles, as tibbles are one of the unifying features of the tidyverse."
   ]
  },
  {
   "cell_type": "code",
   "execution_count": 2,
   "metadata": {},
   "outputs": [
    {
     "data": {
      "text/html": [
       "<table>\n",
       "<caption>A tibble: 10 × 5</caption>\n",
       "<thead>\n",
       "\t<tr><th scope=col>Sepal.Length</th><th scope=col>Sepal.Width</th><th scope=col>Petal.Length</th><th scope=col>Petal.Width</th><th scope=col>Species</th></tr>\n",
       "\t<tr><th scope=col>&lt;dbl&gt;</th><th scope=col>&lt;dbl&gt;</th><th scope=col>&lt;dbl&gt;</th><th scope=col>&lt;dbl&gt;</th><th scope=col>&lt;fct&gt;</th></tr>\n",
       "</thead>\n",
       "<tbody>\n",
       "\t<tr><td>5.1</td><td>3.5</td><td>1.4</td><td>0.2</td><td>setosa</td></tr>\n",
       "\t<tr><td>4.9</td><td>3.0</td><td>1.4</td><td>0.2</td><td>setosa</td></tr>\n",
       "\t<tr><td>4.7</td><td>3.2</td><td>1.3</td><td>0.2</td><td>setosa</td></tr>\n",
       "\t<tr><td>4.6</td><td>3.1</td><td>1.5</td><td>0.2</td><td>setosa</td></tr>\n",
       "\t<tr><td>5.0</td><td>3.6</td><td>1.4</td><td>0.2</td><td>setosa</td></tr>\n",
       "\t<tr><td>5.4</td><td>3.9</td><td>1.7</td><td>0.4</td><td>setosa</td></tr>\n",
       "\t<tr><td>4.6</td><td>3.4</td><td>1.4</td><td>0.3</td><td>setosa</td></tr>\n",
       "\t<tr><td>5.0</td><td>3.4</td><td>1.5</td><td>0.2</td><td>setosa</td></tr>\n",
       "\t<tr><td>4.4</td><td>2.9</td><td>1.4</td><td>0.2</td><td>setosa</td></tr>\n",
       "\t<tr><td>4.9</td><td>3.1</td><td>1.5</td><td>0.1</td><td>setosa</td></tr>\n",
       "</tbody>\n",
       "</table>\n"
      ],
      "text/latex": [
       "A tibble: 10 × 5\n",
       "\\begin{tabular}{lllll}\n",
       " Sepal.Length & Sepal.Width & Petal.Length & Petal.Width & Species\\\\\n",
       " <dbl> & <dbl> & <dbl> & <dbl> & <fct>\\\\\n",
       "\\hline\n",
       "\t 5.1 & 3.5 & 1.4 & 0.2 & setosa\\\\\n",
       "\t 4.9 & 3.0 & 1.4 & 0.2 & setosa\\\\\n",
       "\t 4.7 & 3.2 & 1.3 & 0.2 & setosa\\\\\n",
       "\t 4.6 & 3.1 & 1.5 & 0.2 & setosa\\\\\n",
       "\t 5.0 & 3.6 & 1.4 & 0.2 & setosa\\\\\n",
       "\t 5.4 & 3.9 & 1.7 & 0.4 & setosa\\\\\n",
       "\t 4.6 & 3.4 & 1.4 & 0.3 & setosa\\\\\n",
       "\t 5.0 & 3.4 & 1.5 & 0.2 & setosa\\\\\n",
       "\t 4.4 & 2.9 & 1.4 & 0.2 & setosa\\\\\n",
       "\t 4.9 & 3.1 & 1.5 & 0.1 & setosa\\\\\n",
       "\\end{tabular}\n"
      ],
      "text/markdown": [
       "\n",
       "A tibble: 10 × 5\n",
       "\n",
       "| Sepal.Length &lt;dbl&gt; | Sepal.Width &lt;dbl&gt; | Petal.Length &lt;dbl&gt; | Petal.Width &lt;dbl&gt; | Species &lt;fct&gt; |\n",
       "|---|---|---|---|---|\n",
       "| 5.1 | 3.5 | 1.4 | 0.2 | setosa |\n",
       "| 4.9 | 3.0 | 1.4 | 0.2 | setosa |\n",
       "| 4.7 | 3.2 | 1.3 | 0.2 | setosa |\n",
       "| 4.6 | 3.1 | 1.5 | 0.2 | setosa |\n",
       "| 5.0 | 3.6 | 1.4 | 0.2 | setosa |\n",
       "| 5.4 | 3.9 | 1.7 | 0.4 | setosa |\n",
       "| 4.6 | 3.4 | 1.4 | 0.3 | setosa |\n",
       "| 5.0 | 3.4 | 1.5 | 0.2 | setosa |\n",
       "| 4.4 | 2.9 | 1.4 | 0.2 | setosa |\n",
       "| 4.9 | 3.1 | 1.5 | 0.1 | setosa |\n",
       "\n"
      ],
      "text/plain": [
       "   Sepal.Length Sepal.Width Petal.Length Petal.Width Species\n",
       "1  5.1          3.5         1.4          0.2         setosa \n",
       "2  4.9          3.0         1.4          0.2         setosa \n",
       "3  4.7          3.2         1.3          0.2         setosa \n",
       "4  4.6          3.1         1.5          0.2         setosa \n",
       "5  5.0          3.6         1.4          0.2         setosa \n",
       "6  5.4          3.9         1.7          0.4         setosa \n",
       "7  4.6          3.4         1.4          0.3         setosa \n",
       "8  5.0          3.4         1.5          0.2         setosa \n",
       "9  4.4          2.9         1.4          0.2         setosa \n",
       "10 4.9          3.1         1.5          0.1         setosa "
      ]
     },
     "metadata": {},
     "output_type": "display_data"
    }
   ],
   "source": [
    "as_tibble(iris) %>% head(10)"
   ]
  },
  {
   "cell_type": "code",
   "execution_count": 3,
   "metadata": {},
   "outputs": [
    {
     "data": {
      "text/html": [
       "<table>\n",
       "<caption>A tibble: 5 × 3</caption>\n",
       "<thead>\n",
       "\t<tr><th scope=col>x</th><th scope=col>y</th><th scope=col>z</th></tr>\n",
       "\t<tr><th scope=col>&lt;int&gt;</th><th scope=col>&lt;dbl&gt;</th><th scope=col>&lt;dbl&gt;</th></tr>\n",
       "</thead>\n",
       "<tbody>\n",
       "\t<tr><td>1</td><td>1</td><td> 2</td></tr>\n",
       "\t<tr><td>2</td><td>1</td><td> 5</td></tr>\n",
       "\t<tr><td>3</td><td>1</td><td>10</td></tr>\n",
       "\t<tr><td>4</td><td>1</td><td>17</td></tr>\n",
       "\t<tr><td>5</td><td>1</td><td>26</td></tr>\n",
       "</tbody>\n",
       "</table>\n"
      ],
      "text/latex": [
       "A tibble: 5 × 3\n",
       "\\begin{tabular}{lll}\n",
       " x & y & z\\\\\n",
       " <int> & <dbl> & <dbl>\\\\\n",
       "\\hline\n",
       "\t 1 & 1 &  2\\\\\n",
       "\t 2 & 1 &  5\\\\\n",
       "\t 3 & 1 & 10\\\\\n",
       "\t 4 & 1 & 17\\\\\n",
       "\t 5 & 1 & 26\\\\\n",
       "\\end{tabular}\n"
      ],
      "text/markdown": [
       "\n",
       "A tibble: 5 × 3\n",
       "\n",
       "| x &lt;int&gt; | y &lt;dbl&gt; | z &lt;dbl&gt; |\n",
       "|---|---|---|\n",
       "| 1 | 1 |  2 |\n",
       "| 2 | 1 |  5 |\n",
       "| 3 | 1 | 10 |\n",
       "| 4 | 1 | 17 |\n",
       "| 5 | 1 | 26 |\n",
       "\n"
      ],
      "text/plain": [
       "  x y z \n",
       "1 1 1  2\n",
       "2 2 1  5\n",
       "3 3 1 10\n",
       "4 4 1 17\n",
       "5 5 1 26"
      ]
     },
     "metadata": {},
     "output_type": "display_data"
    }
   ],
   "source": [
    "tibble(x = 1:5, y = 1, z = x^2 + y)"
   ]
  },
  {
   "cell_type": "markdown",
   "metadata": {},
   "source": [
    "> It’s possible for a tibble to have column names that are not valid R variable names, aka *nonsyntactic* names."
   ]
  },
  {
   "cell_type": "code",
   "execution_count": 4,
   "metadata": {},
   "outputs": [
    {
     "name": "stdout",
     "output_type": "stream",
     "text": [
      "\u001b[90m# A tibble: 1 x 3\u001b[39m\n",
      "  `:)`  ` `   `2000`\n",
      "  \u001b[3m\u001b[90m<chr>\u001b[39m\u001b[23m \u001b[3m\u001b[90m<chr>\u001b[39m\u001b[23m \u001b[3m\u001b[90m<chr>\u001b[39m\u001b[23m \n",
      "\u001b[90m1\u001b[39m smile space number\n"
     ]
    }
   ],
   "source": [
    "tibble(`:)` = \"smile\", ` ` = \"space\", `2000` = \"number\") %>% print"
   ]
  },
  {
   "cell_type": "markdown",
   "metadata": {},
   "source": [
    "> Another way to create a tibble is with `tribble()`, short for *transposed tibble*. `tribble()` is customized for data entry in code: column headings are defined by formulas (i.e., they start with `~`), and entries are separated by commas."
   ]
  },
  {
   "cell_type": "code",
   "execution_count": 5,
   "metadata": {},
   "outputs": [
    {
     "data": {
      "text/html": [
       "<table>\n",
       "<caption>A tibble: 2 × 3</caption>\n",
       "<thead>\n",
       "\t<tr><th scope=col>x</th><th scope=col>y</th><th scope=col>z</th></tr>\n",
       "\t<tr><th scope=col>&lt;chr&gt;</th><th scope=col>&lt;dbl&gt;</th><th scope=col>&lt;dbl&gt;</th></tr>\n",
       "</thead>\n",
       "<tbody>\n",
       "\t<tr><td>a</td><td>2</td><td>3.6</td></tr>\n",
       "\t<tr><td>b</td><td>1</td><td>8.5</td></tr>\n",
       "</tbody>\n",
       "</table>\n"
      ],
      "text/latex": [
       "A tibble: 2 × 3\n",
       "\\begin{tabular}{lll}\n",
       " x & y & z\\\\\n",
       " <chr> & <dbl> & <dbl>\\\\\n",
       "\\hline\n",
       "\t a & 2 & 3.6\\\\\n",
       "\t b & 1 & 8.5\\\\\n",
       "\\end{tabular}\n"
      ],
      "text/markdown": [
       "\n",
       "A tibble: 2 × 3\n",
       "\n",
       "| x &lt;chr&gt; | y &lt;dbl&gt; | z &lt;dbl&gt; |\n",
       "|---|---|---|\n",
       "| a | 2 | 3.6 |\n",
       "| b | 1 | 8.5 |\n",
       "\n"
      ],
      "text/plain": [
       "  x y z  \n",
       "1 a 2 3.6\n",
       "2 b 1 8.5"
      ]
     },
     "metadata": {},
     "output_type": "display_data"
    }
   ],
   "source": [
    "tribble(\n",
    "  ~x, ~y, ~z,\n",
    "  \"a\", 2, 3.6,\n",
    "  \"b\", 1, 8.5\n",
    ")"
   ]
  },
  {
   "cell_type": "code",
   "execution_count": 6,
   "metadata": {},
   "outputs": [
    {
     "name": "stdout",
     "output_type": "stream",
     "text": [
      "\u001b[90m# A tibble: 1,000 x 5\u001b[39m\n",
      "   a                   b              c     d e    \n",
      "   \u001b[3m\u001b[90m<dttm>\u001b[39m\u001b[23m              \u001b[3m\u001b[90m<date>\u001b[39m\u001b[23m     \u001b[3m\u001b[90m<int>\u001b[39m\u001b[23m \u001b[3m\u001b[90m<dbl>\u001b[39m\u001b[23m \u001b[3m\u001b[90m<chr>\u001b[39m\u001b[23m\n",
      "\u001b[90m 1\u001b[39m 2020-12-29 \u001b[90m06:50:46\u001b[39m 2021-01-21     1 0.372 e    \n",
      "\u001b[90m 2\u001b[39m 2020-12-29 \u001b[90m07:47:21\u001b[39m 2021-01-16     2 0.725 q    \n",
      "\u001b[90m 3\u001b[39m 2020-12-28 \u001b[90m17:34:18\u001b[39m 2020-12-31     3 0.510 b    \n",
      "\u001b[90m 4\u001b[39m 2020-12-28 \u001b[90m21:37:16\u001b[39m 2020-12-30     4 0.551 j    \n",
      "\u001b[90m 5\u001b[39m 2020-12-29 \u001b[90m05:56:05\u001b[39m 2021-01-17     5 0.101 i    \n",
      "\u001b[90m 6\u001b[39m 2020-12-29 \u001b[90m07:30:26\u001b[39m 2021-01-01     6 0.624 v    \n",
      "\u001b[90m 7\u001b[39m 2020-12-29 \u001b[90m02:56:07\u001b[39m 2021-01-27     7 0.924 j    \n",
      "\u001b[90m 8\u001b[39m 2020-12-28 \u001b[90m21:18:41\u001b[39m 2021-01-03     8 0.522 m    \n",
      "\u001b[90m 9\u001b[39m 2020-12-29 \u001b[90m02:41:31\u001b[39m 2021-01-26     9 0.500 b    \n",
      "\u001b[90m10\u001b[39m 2020-12-28 \u001b[90m20:53:30\u001b[39m 2021-01-21    10 0.502 q    \n",
      "\u001b[90m# … with 990 more rows\u001b[39m\n"
     ]
    }
   ],
   "source": [
    "tibble(\n",
    "  a = lubridate::now() + runif(1e3) * lubridate::ddays(),\n",
    "  b = lubridate::date(lubridate::today() + runif(1e3) * lubridate::dmonths()),\n",
    "  c = 1:1e3,\n",
    "  d = runif(1e3),\n",
    "  e = sample(letters, 1e3, replace = TRUE)\n",
    ") %>%\n",
    "  print(10, width = Inf)"
   ]
  },
  {
   "cell_type": "code",
   "execution_count": 7,
   "metadata": {},
   "outputs": [
    {
     "data": {
      "text/html": [
       "\n",
       "<table width=\"100%\" summary=\"page for tibble-package {tibble}\"><tr><td>tibble-package {tibble}</td><td style=\"text-align: right;\">R Documentation</td></tr></table>\n",
       "\n",
       "<h2>tibble: Simple Data Frames</h2>\n",
       "\n",
       "<h3>Description</h3>\n",
       "\n",
       "<p><img src=\"../help/figures/logo.png\" align='right' alt='logo' width='120' />\n",
       "</p>\n",
       "<p>Provides a 'tbl_df' class (the 'tibble') that\n",
       "provides stricter checking and better formatting than the traditional\n",
       "data frame.\n",
       "</p>\n",
       "\n",
       "\n",
       "<h3>Details</h3>\n",
       "\n",
       "<a href='https://www.tidyverse.org/lifecycle/#stable'><img src='figures/lifecycle-stable.svg' alt='Stable lifecycle'></a>\n",
       "<p>The tibble package provides utilities for handling <strong>tibbles</strong>, where\n",
       "&quot;tibble&quot; is a colloquial term for the S3 <code>tbl_df</code> class. The <code>tbl_df</code>\n",
       "class is a special case of the base <code>data.frame</code>.\n",
       "class, developed in response to lessons learned over many years of data\n",
       "analysis with data frames.\n",
       "</p>\n",
       "<p>Tibble is the central data structure for the set of packages known as the\n",
       "<a href=\"https://www.tidyverse.org/packages/\">tidyverse</a>, including\n",
       "<a href=\"https://dplyr.tidyverse.org/\">dplyr</a>,\n",
       "<a href=\"https://ggplot2.tidyverse.org/\">ggplot2</a>,\n",
       "<a href=\"https://tidyr.tidyverse.org/\">tidyr</a>, and\n",
       "<a href=\"https://readr.tidyverse.org/\">readr</a>.\n",
       "</p>\n",
       "<p>General resources:\n",
       "</p>\n",
       "\n",
       "<ul>\n",
       "<li><p> Website for the tibble package: <a href=\"https://tibble.tidyverse.org\">https://tibble.tidyverse.org</a>\n",
       "</p>\n",
       "</li>\n",
       "<li> <p><a href=\"https://r4ds.had.co.nz/tibbles.html\">Tibbles chapter</a> in <em>R for Data\n",
       "Science</em>\n",
       "</p>\n",
       "</li></ul>\n",
       "\n",
       "<p>Resources on specific topics:\n",
       "</p>\n",
       "\n",
       "<ul>\n",
       "<li><p> Create a tibble: <code>tibble()</code>, <code>as_tibble()</code>, <code>tribble()</code>, <code>enframe()</code>\n",
       "</p>\n",
       "</li>\n",
       "<li><p> Inspect a tibble: <code>print.tbl()</code>, <code>glimpse()</code>\n",
       "</p>\n",
       "</li>\n",
       "<li><p> Details on the S3 <code>tbl_df</code> class: <code>tbl_df</code>\n",
       "</p>\n",
       "</li></ul>\n",
       "\n",
       "\n",
       "\n",
       "<h3>Package options</h3>\n",
       "\n",
       "<p>The following option is used for viewing tabular data with <code>view()</code>:\n",
       "</p>\n",
       "\n",
       "<ul>\n",
       "<li> <p><code>tibble.view_max</code>: Maximum number of rows shown if the input is not a\n",
       "data frame. Default: 1000.\n",
       "</p>\n",
       "</li></ul>\n",
       "\n",
       "<p>The following options are used by the tibble and pillar packages\n",
       "to format and print <code>tbl_df</code> objects.\n",
       "Used by the formatting workhorse <code>trunc_mat()</code> and, therefore,\n",
       "indirectly, by <code>print.tbl()</code>.\n",
       "</p>\n",
       "\n",
       "<ul>\n",
       "<li> <p><code>tibble.print_max</code>: Row number threshold: Maximum number of rows printed.\n",
       "Set to <code>Inf</code> to always print all rows.  Default: 20.\n",
       "</p>\n",
       "</li>\n",
       "<li> <p><code>tibble.print_min</code>: Number of rows printed if row number threshold is\n",
       "exceeded. Default: 10.\n",
       "</p>\n",
       "</li>\n",
       "<li> <p><code>tibble.width</code>: Output width. Default: <code>NULL</code> (use <code>width</code> option).\n",
       "</p>\n",
       "</li>\n",
       "<li> <p><code>tibble.max_extra_cols</code>: Number of extra columns printed in reduced form.\n",
       "Default: 100.\n",
       "</p>\n",
       "</li></ul>\n",
       "\n",
       "\n",
       "<ul>\n",
       "<li> <p><code>pillar.bold</code>: Use bold font, e.g. for column headers? This currently\n",
       "defaults to <code>FALSE</code>, because many terminal fonts have poor support for\n",
       "bold fonts.\n",
       "</p>\n",
       "</li>\n",
       "<li> <p><code>pillar.subtle</code>: Use subtle style, e.g. for row numbers and data types?\n",
       "Default: <code>TRUE</code>.\n",
       "</p>\n",
       "</li>\n",
       "<li> <p><code>pillar.subtle_num</code>: Use subtle style for insignificant digits? Default:\n",
       "<code>FALSE</code>, is also affected by the <code>pillar.subtle</code> option.\n",
       "</p>\n",
       "</li>\n",
       "<li> <p><code>pillar.neg</code>: Highlight negative numbers? Default: <code>TRUE</code>.\n",
       "</p>\n",
       "</li>\n",
       "<li> <p><code>pillar.sigfig</code>: The number of significant digits that will be printed and\n",
       "highlighted, default: <code>3</code>. Set the <code>pillar.subtle</code> option to <code>FALSE</code> to\n",
       "turn off highlighting of significant digits.\n",
       "</p>\n",
       "</li>\n",
       "<li> <p><code>pillar.min_title_chars</code>: The minimum number of characters for the column\n",
       "title, default: <code>15</code>.  Column titles may be truncated up to that width to\n",
       "save horizontal space. Set to <code>Inf</code> to turn off truncation of column\n",
       "titles.\n",
       "</p>\n",
       "</li>\n",
       "<li> <p><code>pillar.min_chars</code>: The minimum number of characters wide to\n",
       "display character columns, default: <code>0</code>.  Character columns may be\n",
       "truncated up to that width to save horizontal space. Set to <code>Inf</code> to\n",
       "turn off truncation of character columns.\n",
       "</p>\n",
       "</li></ul>\n",
       "\n",
       "\n",
       "\n",
       "<h3>Author(s)</h3>\n",
       "\n",
       "<p><strong>Maintainer</strong>: Kirill Müller <a href=\"mailto:krlmlr+r@mailbox.org\">krlmlr+r@mailbox.org</a>\n",
       "</p>\n",
       "<p>Authors:\n",
       "</p>\n",
       "\n",
       "<ul>\n",
       "<li><p> Hadley Wickham <a href=\"mailto:hadley@rstudio.com\">hadley@rstudio.com</a>\n",
       "</p>\n",
       "</li></ul>\n",
       "\n",
       "<p>Other contributors:\n",
       "</p>\n",
       "\n",
       "<ul>\n",
       "<li><p> Romain Francois <a href=\"mailto:romain@r-enthusiasts.com\">romain@r-enthusiasts.com</a> [contributor]\n",
       "</p>\n",
       "</li>\n",
       "<li><p> Jennifer Bryan <a href=\"mailto:jenny@rstudio.com\">jenny@rstudio.com</a> [contributor]\n",
       "</p>\n",
       "</li>\n",
       "<li><p> RStudio [copyright holder]\n",
       "</p>\n",
       "</li></ul>\n",
       "\n",
       "\n",
       "\n",
       "<h3>See Also</h3>\n",
       "\n",
       "<p>Useful links:\n",
       "</p>\n",
       "\n",
       "<ul>\n",
       "<li> <p><a href=\"https://tibble.tidyverse.org/\">https://tibble.tidyverse.org/</a>\n",
       "</p>\n",
       "</li>\n",
       "<li> <p><a href=\"https://github.com/tidyverse/tibble\">https://github.com/tidyverse/tibble</a>\n",
       "</p>\n",
       "</li>\n",
       "<li><p> Report bugs at <a href=\"https://github.com/tidyverse/tibble/issues\">https://github.com/tidyverse/tibble/issues</a>\n",
       "</p>\n",
       "</li></ul>\n",
       "\n",
       "\n",
       "<hr /><div style=\"text-align: center;\">[Package <em>tibble</em> version 3.0.4 ]</div>"
      ],
      "text/latex": [
       "\\inputencoding{utf8}\n",
       "\\HeaderA{tibble-package}{tibble: Simple Data Frames}{tibble.Rdash.package}\n",
       "%\n",
       "\\begin{Description}\\relax\n",
       "\n",
       "\n",
       "Provides a 'tbl\\_df' class (the 'tibble') that\n",
       "provides stricter checking and better formatting than the traditional\n",
       "data frame.\n",
       "\\end{Description}\n",
       "%\n",
       "\\begin{Details}\\relax\n",
       "\\strong{Stable}\n",
       "\n",
       "The tibble package provides utilities for handling \\strong{tibbles}, where\n",
       "\"tibble\" is a colloquial term for the S3 \\code{\\LinkA{tbl\\_df}{tbl.Rul.df}} class. The \\code{\\LinkA{tbl\\_df}{tbl.Rul.df}}\n",
       "class is a special case of the base \\code{\\LinkA{data.frame}{data.frame}}.\n",
       "class, developed in response to lessons learned over many years of data\n",
       "analysis with data frames.\n",
       "\n",
       "Tibble is the central data structure for the set of packages known as the\n",
       "\\Rhref{https://www.tidyverse.org/packages/}{tidyverse}, including\n",
       "\\Rhref{https://dplyr.tidyverse.org/}{dplyr},\n",
       "\\Rhref{https://ggplot2.tidyverse.org/}{ggplot2},\n",
       "\\Rhref{https://tidyr.tidyverse.org/}{tidyr}, and\n",
       "\\Rhref{https://readr.tidyverse.org/}{readr}.\n",
       "\n",
       "General resources:\n",
       "\\begin{itemize}\n",
       "\n",
       "\\item{} Website for the tibble package: \\url{https://tibble.tidyverse.org}\n",
       "\\item{} \\Rhref{https://r4ds.had.co.nz/tibbles.html}{Tibbles chapter} in \\emph{R for Data\n",
       "Science}\n",
       "\n",
       "\\end{itemize}\n",
       "\n",
       "\n",
       "Resources on specific topics:\n",
       "\\begin{itemize}\n",
       "\n",
       "\\item{} Create a tibble: \\code{\\LinkA{tibble()}{tibble}}, \\code{\\LinkA{as\\_tibble()}{as.Rul.tibble}}, \\code{\\LinkA{tribble()}{tribble}}, \\code{\\LinkA{enframe()}{enframe}}\n",
       "\\item{} Inspect a tibble: \\code{\\LinkA{print.tbl()}{print.tbl}}, \\code{\\LinkA{glimpse()}{glimpse}}\n",
       "\\item{} Details on the S3 \\code{tbl\\_df} class: \\code{\\LinkA{tbl\\_df}{tbl.Rul.df.Rdash.class}}\n",
       "\n",
       "\\end{itemize}\n",
       "\n",
       "\\end{Details}\n",
       "%\n",
       "\\begin{Section}{Package options}\n",
       "\n",
       "The following option is used for viewing tabular data with \\code{view()}:\n",
       "\\begin{itemize}\n",
       "\n",
       "\\item{} \\code{tibble.view\\_max}: Maximum number of rows shown if the input is not a\n",
       "data frame. Default: 1000.\n",
       "\n",
       "\\end{itemize}\n",
       "\n",
       "\n",
       "\n",
       "\n",
       "The following options are used by the tibble and pillar packages\n",
       "to format and print \\code{tbl\\_df} objects.\n",
       "Used by the formatting workhorse \\code{trunc\\_mat()} and, therefore,\n",
       "indirectly, by \\code{print.tbl()}.\n",
       "\\begin{itemize}\n",
       "\n",
       "\\item{} \\code{tibble.print\\_max}: Row number threshold: Maximum number of rows printed.\n",
       "Set to \\code{Inf} to always print all rows.  Default: 20.\n",
       "\\item{} \\code{tibble.print\\_min}: Number of rows printed if row number threshold is\n",
       "exceeded. Default: 10.\n",
       "\\item{} \\code{tibble.width}: Output width. Default: \\code{NULL} (use \\code{width} option).\n",
       "\\item{} \\code{tibble.max\\_extra\\_cols}: Number of extra columns printed in reduced form.\n",
       "Default: 100.\n",
       "\n",
       "\\end{itemize}\n",
       "\n",
       "\n",
       "\n",
       "\n",
       "\\begin{itemize}\n",
       "\n",
       "\\item{} \\code{pillar.bold}: Use bold font, e.g. for column headers? This currently\n",
       "defaults to \\code{FALSE}, because many terminal fonts have poor support for\n",
       "bold fonts.\n",
       "\\item{} \\code{pillar.subtle}: Use subtle style, e.g. for row numbers and data types?\n",
       "Default: \\code{TRUE}.\n",
       "\\item{} \\code{pillar.subtle\\_num}: Use subtle style for insignificant digits? Default:\n",
       "\\code{FALSE}, is also affected by the \\code{pillar.subtle} option.\n",
       "\\item{} \\code{pillar.neg}: Highlight negative numbers? Default: \\code{TRUE}.\n",
       "\\item{} \\code{pillar.sigfig}: The number of significant digits that will be printed and\n",
       "highlighted, default: \\code{3}. Set the \\code{pillar.subtle} option to \\code{FALSE} to\n",
       "turn off highlighting of significant digits.\n",
       "\\item{} \\code{pillar.min\\_title\\_chars}: The minimum number of characters for the column\n",
       "title, default: \\code{15}.  Column titles may be truncated up to that width to\n",
       "save horizontal space. Set to \\code{Inf} to turn off truncation of column\n",
       "titles.\n",
       "\\item{} \\code{pillar.min\\_chars}: The minimum number of characters wide to\n",
       "display character columns, default: \\code{0}.  Character columns may be\n",
       "truncated up to that width to save horizontal space. Set to \\code{Inf} to\n",
       "turn off truncation of character columns.\n",
       "\n",
       "\\end{itemize}\n",
       "\n",
       "\n",
       "\\end{Section}\n",
       "%\n",
       "\\begin{Author}\\relax\n",
       "\\strong{Maintainer}: Kirill Müller \\email{krlmlr+r@mailbox.org}\n",
       "\n",
       "Authors:\n",
       "\\begin{itemize}\n",
       "\n",
       "\\item{} Hadley Wickham \\email{hadley@rstudio.com}\n",
       "\n",
       "\\end{itemize}\n",
       "\n",
       "\n",
       "Other contributors:\n",
       "\\begin{itemize}\n",
       "\n",
       "\\item{} Romain Francois \\email{romain@r-enthusiasts.com} [contributor]\n",
       "\\item{} Jennifer Bryan \\email{jenny@rstudio.com} [contributor]\n",
       "\\item{} RStudio [copyright holder]\n",
       "\n",
       "\\end{itemize}\n",
       "\n",
       "\n",
       "\\end{Author}\n",
       "%\n",
       "\\begin{SeeAlso}\\relax\n",
       "Useful links:\n",
       "\\begin{itemize}\n",
       "\n",
       "\\item{} \\url{https://tibble.tidyverse.org/}\n",
       "\\item{} \\url{https://github.com/tidyverse/tibble}\n",
       "\\item{} Report bugs at \\url{https://github.com/tidyverse/tibble/issues}\n",
       "\n",
       "\\end{itemize}\n",
       "\n",
       "\n",
       "\\end{SeeAlso}"
      ],
      "text/plain": [
       "tibble-package             package:tibble              R Documentation\n",
       "\n",
       "_\bt_\bi_\bb_\bb_\bl_\be: _\bS_\bi_\bm_\bp_\bl_\be _\bD_\ba_\bt_\ba _\bF_\br_\ba_\bm_\be_\bs\n",
       "\n",
       "_\bD_\be_\bs_\bc_\br_\bi_\bp_\bt_\bi_\bo_\bn:\n",
       "\n",
       "     Provides a 'tbl_df' class (the 'tibble') that provides stricter\n",
       "     checking and better formatting than the traditional data frame.\n",
       "\n",
       "_\bD_\be_\bt_\ba_\bi_\bl_\bs:\n",
       "\n",
       "     *Stable*\n",
       "\n",
       "     The tibble package provides utilities for handling *tibbles*,\n",
       "     where \"tibble\" is a colloquial term for the S3 ‘tbl_df’ class. The\n",
       "     ‘tbl_df’ class is a special case of the base ‘data.frame’. class,\n",
       "     developed in response to lessons learned over many years of data\n",
       "     analysis with data frames.\n",
       "\n",
       "     Tibble is the central data structure for the set of packages known\n",
       "     as the tidyverse, including dplyr, ggplot2, tidyr, and readr.\n",
       "\n",
       "     General resources:\n",
       "\n",
       "        • Website for the tibble package: <URL:\n",
       "          https://tibble.tidyverse.org>\n",
       "\n",
       "        • Tibbles chapter in _R for Data Science_\n",
       "\n",
       "     Resources on specific topics:\n",
       "\n",
       "        • Create a tibble: ‘tibble()’, ‘as_tibble()’, ‘tribble()’,\n",
       "          ‘enframe()’\n",
       "\n",
       "        • Inspect a tibble: ‘print.tbl()’, ‘glimpse()’\n",
       "\n",
       "        • Details on the S3 ‘tbl_df’ class: ‘tbl_df’\n",
       "\n",
       "_\bP_\ba_\bc_\bk_\ba_\bg_\be _\bo_\bp_\bt_\bi_\bo_\bn_\bs:\n",
       "\n",
       "     The following option is used for viewing tabular data with\n",
       "     ‘view()’:\n",
       "\n",
       "        • ‘tibble.view_max’: Maximum number of rows shown if the input\n",
       "          is not a data frame. Default: 1000.\n",
       "\n",
       "     The following options are used by the tibble and pillar packages\n",
       "     to format and print ‘tbl_df’ objects. Used by the formatting\n",
       "     workhorse ‘trunc_mat()’ and, therefore, indirectly, by\n",
       "     ‘print.tbl()’.\n",
       "\n",
       "        • ‘tibble.print_max’: Row number threshold: Maximum number of\n",
       "          rows printed. Set to ‘Inf’ to always print all rows.\n",
       "          Default: 20.\n",
       "\n",
       "        • ‘tibble.print_min’: Number of rows printed if row number\n",
       "          threshold is exceeded. Default: 10.\n",
       "\n",
       "        • ‘tibble.width’: Output width. Default: ‘NULL’ (use ‘width’\n",
       "          option).\n",
       "\n",
       "        • ‘tibble.max_extra_cols’: Number of extra columns printed in\n",
       "          reduced form. Default: 100.\n",
       "\n",
       "        • ‘pillar.bold’: Use bold font, e.g. for column headers? This\n",
       "          currently defaults to ‘FALSE’, because many terminal fonts\n",
       "          have poor support for bold fonts.\n",
       "\n",
       "        • ‘pillar.subtle’: Use subtle style, e.g. for row numbers and\n",
       "          data types? Default: ‘TRUE’.\n",
       "\n",
       "        • ‘pillar.subtle_num’: Use subtle style for insignificant\n",
       "          digits? Default: ‘FALSE’, is also affected by the\n",
       "          ‘pillar.subtle’ option.\n",
       "\n",
       "        • ‘pillar.neg’: Highlight negative numbers? Default: ‘TRUE’.\n",
       "\n",
       "        • ‘pillar.sigfig’: The number of significant digits that will\n",
       "          be printed and highlighted, default: ‘3’. Set the\n",
       "          ‘pillar.subtle’ option to ‘FALSE’ to turn off highlighting of\n",
       "          significant digits.\n",
       "\n",
       "        • ‘pillar.min_title_chars’: The minimum number of characters\n",
       "          for the column title, default: ‘15’.  Column titles may be\n",
       "          truncated up to that width to save horizontal space. Set to\n",
       "          ‘Inf’ to turn off truncation of column titles.\n",
       "\n",
       "        • ‘pillar.min_chars’: The minimum number of characters wide to\n",
       "          display character columns, default: ‘0’.  Character columns\n",
       "          may be truncated up to that width to save horizontal space.\n",
       "          Set to ‘Inf’ to turn off truncation of character columns.\n",
       "\n",
       "_\bA_\bu_\bt_\bh_\bo_\br(_\bs):\n",
       "\n",
       "     *Maintainer*: Kirill Müller <email: krlmlr+r@mailbox.org>\n",
       "\n",
       "     Authors:\n",
       "\n",
       "        • Hadley Wickham <email: hadley@rstudio.com>\n",
       "\n",
       "     Other contributors:\n",
       "\n",
       "        • Romain Francois <email: romain@r-enthusiasts.com>\n",
       "          [contributor]\n",
       "\n",
       "        • Jennifer Bryan <email: jenny@rstudio.com> [contributor]\n",
       "\n",
       "        • RStudio [copyright holder]\n",
       "\n",
       "_\bS_\be_\be _\bA_\bl_\bs_\bo:\n",
       "\n",
       "     Useful links:\n",
       "\n",
       "        • <URL: https://tibble.tidyverse.org/>\n",
       "\n",
       "        • <URL: https://github.com/tidyverse/tibble>\n",
       "\n",
       "        • Report bugs at <URL:\n",
       "          https://github.com/tidyverse/tibble/issues>\n"
      ]
     },
     "metadata": {},
     "output_type": "display_data"
    }
   ],
   "source": [
    "package?tibble"
   ]
  },
  {
   "cell_type": "code",
   "execution_count": 8,
   "metadata": {},
   "outputs": [
    {
     "data": {
      "text/html": [
       "<style>\n",
       ".list-inline {list-style: none; margin:0; padding: 0}\n",
       ".list-inline>li {display: inline-block}\n",
       ".list-inline>li:not(:last-child)::after {content: \"\\00b7\"; padding: 0 .5ex}\n",
       "</style>\n",
       "<ol class=list-inline><li>2013</li><li>2013</li><li>2013</li><li>2013</li><li>2013</li><li>2013</li></ol>\n"
      ],
      "text/latex": [
       "\\begin{enumerate*}\n",
       "\\item 2013\n",
       "\\item 2013\n",
       "\\item 2013\n",
       "\\item 2013\n",
       "\\item 2013\n",
       "\\item 2013\n",
       "\\end{enumerate*}\n"
      ],
      "text/markdown": [
       "1. 2013\n",
       "2. 2013\n",
       "3. 2013\n",
       "4. 2013\n",
       "5. 2013\n",
       "6. 2013\n",
       "\n",
       "\n"
      ],
      "text/plain": [
       "[1] 2013 2013 2013 2013 2013 2013"
      ]
     },
     "metadata": {},
     "output_type": "display_data"
    },
    {
     "data": {
      "text/html": [
       "<style>\n",
       ".list-inline {list-style: none; margin:0; padding: 0}\n",
       ".list-inline>li {display: inline-block}\n",
       ".list-inline>li:not(:last-child)::after {content: \"\\00b7\"; padding: 0 .5ex}\n",
       "</style>\n",
       "<ol class=list-inline><li>2013</li><li>2013</li><li>2013</li><li>2013</li><li>2013</li><li>2013</li></ol>\n"
      ],
      "text/latex": [
       "\\begin{enumerate*}\n",
       "\\item 2013\n",
       "\\item 2013\n",
       "\\item 2013\n",
       "\\item 2013\n",
       "\\item 2013\n",
       "\\item 2013\n",
       "\\end{enumerate*}\n"
      ],
      "text/markdown": [
       "1. 2013\n",
       "2. 2013\n",
       "3. 2013\n",
       "4. 2013\n",
       "5. 2013\n",
       "6. 2013\n",
       "\n",
       "\n"
      ],
      "text/plain": [
       "[1] 2013 2013 2013 2013 2013 2013"
      ]
     },
     "metadata": {},
     "output_type": "display_data"
    },
    {
     "data": {
      "text/html": [
       "<style>\n",
       ".list-inline {list-style: none; margin:0; padding: 0}\n",
       ".list-inline>li {display: inline-block}\n",
       ".list-inline>li:not(:last-child)::after {content: \"\\00b7\"; padding: 0 .5ex}\n",
       "</style>\n",
       "<ol class=list-inline><li>2013</li><li>2013</li><li>2013</li><li>2013</li><li>2013</li><li>2013</li></ol>\n"
      ],
      "text/latex": [
       "\\begin{enumerate*}\n",
       "\\item 2013\n",
       "\\item 2013\n",
       "\\item 2013\n",
       "\\item 2013\n",
       "\\item 2013\n",
       "\\item 2013\n",
       "\\end{enumerate*}\n"
      ],
      "text/markdown": [
       "1. 2013\n",
       "2. 2013\n",
       "3. 2013\n",
       "4. 2013\n",
       "5. 2013\n",
       "6. 2013\n",
       "\n",
       "\n"
      ],
      "text/plain": [
       "[1] 2013 2013 2013 2013 2013 2013"
      ]
     },
     "metadata": {},
     "output_type": "display_data"
    }
   ],
   "source": [
    "head(nycflights13::flights)$year\n",
    "head(nycflights13::flights)[[\"year\"]]\n",
    "head(nycflights13::flights)[[1]]"
   ]
  },
  {
   "cell_type": "markdown",
   "metadata": {},
   "source": [
    "### Exercises\n",
    "\n",
    "1. How can you tell if an object is a tibble? (Hint: try printing `mtcars`, which is a regular data frame.)\n",
    "1. Compare and contrast the following operations on a `data.frame` and equivalent tibble. What is different? Why might the default data frame behaviors cause you frustration?\n",
    "\n",
    "    ```r\n",
    "    df <- data.frame(abc = 1, xyz = \"a\")\n",
    "    df$x\n",
    "    df[, \"xyz\"]\n",
    "    df[, c(\"abc\", \"xyz\")]\n",
    "    ```\n",
    "\n",
    "1. If you have the name of a variable stored in an object, e.g., `var <- \"mpg\"`, how can you extract the reference variable from a tibble?\n",
    "1. Practice referring to nonsyntactic names in the following data frame by:\n",
    "\n",
    "    1. Extracting the variable called 1.\n",
    "    1. Plotting a scatterplot of 1 versus 2.\n",
    "    1. Creating a new column called 3, which is 2 divided by 1.\n",
    "    1. Renaming the columns to one, two, and three:\n",
    "\n",
    "        ```r\n",
    "        annoying <- tibble(\n",
    "          `1` = 1:10,\n",
    "          `2` = `1` * 2 + rnorm(length(`1`))\n",
    "        )\n",
    "        ```\n",
    "\n",
    "1. What does `tibble::enframe()` do? When might you use it?\n",
    "1. What option controls how many additional column names are printed at the footer of a tibble?"
   ]
  },
  {
   "cell_type": "code",
   "execution_count": 9,
   "metadata": {},
   "outputs": [
    {
     "data": {
      "text/html": [
       "'data.frame'"
      ],
      "text/latex": [
       "'data.frame'"
      ],
      "text/markdown": [
       "'data.frame'"
      ],
      "text/plain": [
       "[1] \"data.frame\""
      ]
     },
     "metadata": {},
     "output_type": "display_data"
    },
    {
     "data": {
      "text/html": [
       "<style>\n",
       ".list-inline {list-style: none; margin:0; padding: 0}\n",
       ".list-inline>li {display: inline-block}\n",
       ".list-inline>li:not(:last-child)::after {content: \"\\00b7\"; padding: 0 .5ex}\n",
       "</style>\n",
       "<ol class=list-inline><li>'tbl_df'</li><li>'tbl'</li><li>'data.frame'</li></ol>\n"
      ],
      "text/latex": [
       "\\begin{enumerate*}\n",
       "\\item 'tbl\\_df'\n",
       "\\item 'tbl'\n",
       "\\item 'data.frame'\n",
       "\\end{enumerate*}\n"
      ],
      "text/markdown": [
       "1. 'tbl_df'\n",
       "2. 'tbl'\n",
       "3. 'data.frame'\n",
       "\n",
       "\n"
      ],
      "text/plain": [
       "[1] \"tbl_df\"     \"tbl\"        \"data.frame\""
      ]
     },
     "metadata": {},
     "output_type": "display_data"
    },
    {
     "data": {
      "text/html": [
       "'tbl_df'"
      ],
      "text/latex": [
       "'tbl\\_df'"
      ],
      "text/markdown": [
       "'tbl_df'"
      ],
      "text/plain": [
       "[1] \"tbl_df\""
      ]
     },
     "metadata": {},
     "output_type": "display_data"
    }
   ],
   "source": [
    "# 1.\n",
    "class(mtcars)\n",
    "class(as_tibble(mtcars))\n",
    "class(as_tibble(mtcars))[1]"
   ]
  },
  {
   "cell_type": "code",
   "execution_count": 10,
   "metadata": {},
   "outputs": [
    {
     "data": {
      "text/html": [
       "'a'"
      ],
      "text/latex": [
       "'a'"
      ],
      "text/markdown": [
       "'a'"
      ],
      "text/plain": [
       "[1] \"a\""
      ]
     },
     "metadata": {},
     "output_type": "display_data"
    },
    {
     "data": {
      "text/html": [
       "'a'"
      ],
      "text/latex": [
       "'a'"
      ],
      "text/markdown": [
       "'a'"
      ],
      "text/plain": [
       "[1] \"a\""
      ]
     },
     "metadata": {},
     "output_type": "display_data"
    },
    {
     "data": {
      "text/html": [
       "<table>\n",
       "<caption>A data.frame: 1 × 2</caption>\n",
       "<thead>\n",
       "\t<tr><th scope=col>abc</th><th scope=col>xyz</th></tr>\n",
       "\t<tr><th scope=col>&lt;dbl&gt;</th><th scope=col>&lt;chr&gt;</th></tr>\n",
       "</thead>\n",
       "<tbody>\n",
       "\t<tr><td>1</td><td>a</td></tr>\n",
       "</tbody>\n",
       "</table>\n"
      ],
      "text/latex": [
       "A data.frame: 1 × 2\n",
       "\\begin{tabular}{ll}\n",
       " abc & xyz\\\\\n",
       " <dbl> & <chr>\\\\\n",
       "\\hline\n",
       "\t 1 & a\\\\\n",
       "\\end{tabular}\n"
      ],
      "text/markdown": [
       "\n",
       "A data.frame: 1 × 2\n",
       "\n",
       "| abc &lt;dbl&gt; | xyz &lt;chr&gt; |\n",
       "|---|---|\n",
       "| 1 | a |\n",
       "\n"
      ],
      "text/plain": [
       "  abc xyz\n",
       "1 1   a  "
      ]
     },
     "metadata": {},
     "output_type": "display_data"
    },
    {
     "data": {
      "text/markdown": [
       "---"
      ]
     },
     "metadata": {},
     "output_type": "display_data"
    },
    {
     "data": {
      "text/html": [
       "'a'"
      ],
      "text/latex": [
       "'a'"
      ],
      "text/markdown": [
       "'a'"
      ],
      "text/plain": [
       "[1] \"a\""
      ]
     },
     "metadata": {},
     "output_type": "display_data"
    },
    {
     "data": {
      "text/html": [
       "'a'"
      ],
      "text/latex": [
       "'a'"
      ],
      "text/markdown": [
       "'a'"
      ],
      "text/plain": [
       "[1] \"a\""
      ]
     },
     "metadata": {},
     "output_type": "display_data"
    },
    {
     "data": {
      "text/html": [
       "<table>\n",
       "<caption>A tibble: 1 × 2</caption>\n",
       "<thead>\n",
       "\t<tr><th scope=col>abc</th><th scope=col>xyz</th></tr>\n",
       "\t<tr><th scope=col>&lt;dbl&gt;</th><th scope=col>&lt;chr&gt;</th></tr>\n",
       "</thead>\n",
       "<tbody>\n",
       "\t<tr><td>1</td><td>a</td></tr>\n",
       "</tbody>\n",
       "</table>\n"
      ],
      "text/latex": [
       "A tibble: 1 × 2\n",
       "\\begin{tabular}{ll}\n",
       " abc & xyz\\\\\n",
       " <dbl> & <chr>\\\\\n",
       "\\hline\n",
       "\t 1 & a\\\\\n",
       "\\end{tabular}\n"
      ],
      "text/markdown": [
       "\n",
       "A tibble: 1 × 2\n",
       "\n",
       "| abc &lt;dbl&gt; | xyz &lt;chr&gt; |\n",
       "|---|---|\n",
       "| 1 | a |\n",
       "\n"
      ],
      "text/plain": [
       "  abc xyz\n",
       "1 1   a  "
      ]
     },
     "metadata": {},
     "output_type": "display_data"
    }
   ],
   "source": [
    "# 2.\n",
    "df <- data.frame(abc = 1, xyz = \"a\")\n",
    "df$x\n",
    "df[, \"xyz\"]\n",
    "df[, c(\"abc\", \"xyz\")]\n",
    "\n",
    "display_markdown(\"---\")\n",
    "\n",
    "tbl_df <- as_tibble(df)\n",
    "tbl_df$xyz\n",
    "tbl_df[, \"xyz\"]$xyz\n",
    "tbl_df[, c(\"abc\", \"xyz\")]"
   ]
  },
  {
   "cell_type": "code",
   "execution_count": 11,
   "metadata": {},
   "outputs": [
    {
     "data": {
      "text/html": [
       "<style>\n",
       ".list-inline {list-style: none; margin:0; padding: 0}\n",
       ".list-inline>li {display: inline-block}\n",
       ".list-inline>li:not(:last-child)::after {content: \"\\00b7\"; padding: 0 .5ex}\n",
       "</style>\n",
       "<ol class=list-inline><li>21</li><li>21</li><li>22.8</li><li>21.4</li><li>18.7</li><li>18.1</li><li>14.3</li><li>24.4</li><li>22.8</li><li>19.2</li><li>17.8</li><li>16.4</li><li>17.3</li><li>15.2</li><li>10.4</li><li>10.4</li><li>14.7</li><li>32.4</li><li>30.4</li><li>33.9</li><li>21.5</li><li>15.5</li><li>15.2</li><li>13.3</li><li>19.2</li><li>27.3</li><li>26</li><li>30.4</li><li>15.8</li><li>19.7</li><li>15</li><li>21.4</li></ol>\n"
      ],
      "text/latex": [
       "\\begin{enumerate*}\n",
       "\\item 21\n",
       "\\item 21\n",
       "\\item 22.8\n",
       "\\item 21.4\n",
       "\\item 18.7\n",
       "\\item 18.1\n",
       "\\item 14.3\n",
       "\\item 24.4\n",
       "\\item 22.8\n",
       "\\item 19.2\n",
       "\\item 17.8\n",
       "\\item 16.4\n",
       "\\item 17.3\n",
       "\\item 15.2\n",
       "\\item 10.4\n",
       "\\item 10.4\n",
       "\\item 14.7\n",
       "\\item 32.4\n",
       "\\item 30.4\n",
       "\\item 33.9\n",
       "\\item 21.5\n",
       "\\item 15.5\n",
       "\\item 15.2\n",
       "\\item 13.3\n",
       "\\item 19.2\n",
       "\\item 27.3\n",
       "\\item 26\n",
       "\\item 30.4\n",
       "\\item 15.8\n",
       "\\item 19.7\n",
       "\\item 15\n",
       "\\item 21.4\n",
       "\\end{enumerate*}\n"
      ],
      "text/markdown": [
       "1. 21\n",
       "2. 21\n",
       "3. 22.8\n",
       "4. 21.4\n",
       "5. 18.7\n",
       "6. 18.1\n",
       "7. 14.3\n",
       "8. 24.4\n",
       "9. 22.8\n",
       "10. 19.2\n",
       "11. 17.8\n",
       "12. 16.4\n",
       "13. 17.3\n",
       "14. 15.2\n",
       "15. 10.4\n",
       "16. 10.4\n",
       "17. 14.7\n",
       "18. 32.4\n",
       "19. 30.4\n",
       "20. 33.9\n",
       "21. 21.5\n",
       "22. 15.5\n",
       "23. 15.2\n",
       "24. 13.3\n",
       "25. 19.2\n",
       "26. 27.3\n",
       "27. 26\n",
       "28. 30.4\n",
       "29. 15.8\n",
       "30. 19.7\n",
       "31. 15\n",
       "32. 21.4\n",
       "\n",
       "\n"
      ],
      "text/plain": [
       " [1] 21.0 21.0 22.8 21.4 18.7 18.1 14.3 24.4 22.8 19.2 17.8 16.4 17.3 15.2 10.4\n",
       "[16] 10.4 14.7 32.4 30.4 33.9 21.5 15.5 15.2 13.3 19.2 27.3 26.0 30.4 15.8 19.7\n",
       "[31] 15.0 21.4"
      ]
     },
     "metadata": {},
     "output_type": "display_data"
    }
   ],
   "source": [
    "# 3.\n",
    "as_tibble(mtcars)[[\"mpg\"]]"
   ]
  },
  {
   "cell_type": "code",
   "execution_count": 12,
   "metadata": {},
   "outputs": [
    {
     "data": {
      "text/html": [
       "<style>\n",
       ".list-inline {list-style: none; margin:0; padding: 0}\n",
       ".list-inline>li {display: inline-block}\n",
       ".list-inline>li:not(:last-child)::after {content: \"\\00b7\"; padding: 0 .5ex}\n",
       "</style>\n",
       "<ol class=list-inline><li>1</li><li>2</li><li>3</li><li>4</li><li>5</li><li>6</li><li>7</li><li>8</li><li>9</li><li>10</li></ol>\n"
      ],
      "text/latex": [
       "\\begin{enumerate*}\n",
       "\\item 1\n",
       "\\item 2\n",
       "\\item 3\n",
       "\\item 4\n",
       "\\item 5\n",
       "\\item 6\n",
       "\\item 7\n",
       "\\item 8\n",
       "\\item 9\n",
       "\\item 10\n",
       "\\end{enumerate*}\n"
      ],
      "text/markdown": [
       "1. 1\n",
       "2. 2\n",
       "3. 3\n",
       "4. 4\n",
       "5. 5\n",
       "6. 6\n",
       "7. 7\n",
       "8. 8\n",
       "9. 9\n",
       "10. 10\n",
       "\n",
       "\n"
      ],
      "text/plain": [
       " [1]  1  2  3  4  5  6  7  8  9 10"
      ]
     },
     "metadata": {},
     "output_type": "display_data"
    },
    {
     "data": {
      "text/html": [
       "<table>\n",
       "<caption>A tibble: 10 × 3</caption>\n",
       "<thead>\n",
       "\t<tr><th scope=col>1</th><th scope=col>2</th><th scope=col>3</th></tr>\n",
       "\t<tr><th scope=col>&lt;int&gt;</th><th scope=col>&lt;dbl&gt;</th><th scope=col>&lt;dbl&gt;</th></tr>\n",
       "</thead>\n",
       "<tbody>\n",
       "\t<tr><td> 1</td><td> 1.669607</td><td>1.669607</td></tr>\n",
       "\t<tr><td> 2</td><td> 6.445369</td><td>3.222684</td></tr>\n",
       "\t<tr><td> 3</td><td> 3.251845</td><td>1.083948</td></tr>\n",
       "\t<tr><td> 4</td><td> 7.561451</td><td>1.890363</td></tr>\n",
       "\t<tr><td> 5</td><td>10.267279</td><td>2.053456</td></tr>\n",
       "\t<tr><td> 6</td><td>11.119071</td><td>1.853178</td></tr>\n",
       "\t<tr><td> 7</td><td>14.680977</td><td>2.097282</td></tr>\n",
       "\t<tr><td> 8</td><td>15.007839</td><td>1.875980</td></tr>\n",
       "\t<tr><td> 9</td><td>18.537831</td><td>2.059759</td></tr>\n",
       "\t<tr><td>10</td><td>19.347114</td><td>1.934711</td></tr>\n",
       "</tbody>\n",
       "</table>\n"
      ],
      "text/latex": [
       "A tibble: 10 × 3\n",
       "\\begin{tabular}{lll}\n",
       " 1 & 2 & 3\\\\\n",
       " <int> & <dbl> & <dbl>\\\\\n",
       "\\hline\n",
       "\t  1 &  1.669607 & 1.669607\\\\\n",
       "\t  2 &  6.445369 & 3.222684\\\\\n",
       "\t  3 &  3.251845 & 1.083948\\\\\n",
       "\t  4 &  7.561451 & 1.890363\\\\\n",
       "\t  5 & 10.267279 & 2.053456\\\\\n",
       "\t  6 & 11.119071 & 1.853178\\\\\n",
       "\t  7 & 14.680977 & 2.097282\\\\\n",
       "\t  8 & 15.007839 & 1.875980\\\\\n",
       "\t  9 & 18.537831 & 2.059759\\\\\n",
       "\t 10 & 19.347114 & 1.934711\\\\\n",
       "\\end{tabular}\n"
      ],
      "text/markdown": [
       "\n",
       "A tibble: 10 × 3\n",
       "\n",
       "| 1 &lt;int&gt; | 2 &lt;dbl&gt; | 3 &lt;dbl&gt; |\n",
       "|---|---|---|\n",
       "|  1 |  1.669607 | 1.669607 |\n",
       "|  2 |  6.445369 | 3.222684 |\n",
       "|  3 |  3.251845 | 1.083948 |\n",
       "|  4 |  7.561451 | 1.890363 |\n",
       "|  5 | 10.267279 | 2.053456 |\n",
       "|  6 | 11.119071 | 1.853178 |\n",
       "|  7 | 14.680977 | 2.097282 |\n",
       "|  8 | 15.007839 | 1.875980 |\n",
       "|  9 | 18.537831 | 2.059759 |\n",
       "| 10 | 19.347114 | 1.934711 |\n",
       "\n"
      ],
      "text/plain": [
       "   1  2         3       \n",
       "1   1  1.669607 1.669607\n",
       "2   2  6.445369 3.222684\n",
       "3   3  3.251845 1.083948\n",
       "4   4  7.561451 1.890363\n",
       "5   5 10.267279 2.053456\n",
       "6   6 11.119071 1.853178\n",
       "7   7 14.680977 2.097282\n",
       "8   8 15.007839 1.875980\n",
       "9   9 18.537831 2.059759\n",
       "10 10 19.347114 1.934711"
      ]
     },
     "metadata": {},
     "output_type": "display_data"
    },
    {
     "data": {
      "text/html": [
       "<table>\n",
       "<caption>A tibble: 10 × 2</caption>\n",
       "<thead>\n",
       "\t<tr><th scope=col>one</th><th scope=col>two</th></tr>\n",
       "\t<tr><th scope=col>&lt;int&gt;</th><th scope=col>&lt;dbl&gt;</th></tr>\n",
       "</thead>\n",
       "<tbody>\n",
       "\t<tr><td> 1</td><td> 1.669607</td></tr>\n",
       "\t<tr><td> 2</td><td> 6.445369</td></tr>\n",
       "\t<tr><td> 3</td><td> 3.251845</td></tr>\n",
       "\t<tr><td> 4</td><td> 7.561451</td></tr>\n",
       "\t<tr><td> 5</td><td>10.267279</td></tr>\n",
       "\t<tr><td> 6</td><td>11.119071</td></tr>\n",
       "\t<tr><td> 7</td><td>14.680977</td></tr>\n",
       "\t<tr><td> 8</td><td>15.007839</td></tr>\n",
       "\t<tr><td> 9</td><td>18.537831</td></tr>\n",
       "\t<tr><td>10</td><td>19.347114</td></tr>\n",
       "</tbody>\n",
       "</table>\n"
      ],
      "text/latex": [
       "A tibble: 10 × 2\n",
       "\\begin{tabular}{ll}\n",
       " one & two\\\\\n",
       " <int> & <dbl>\\\\\n",
       "\\hline\n",
       "\t  1 &  1.669607\\\\\n",
       "\t  2 &  6.445369\\\\\n",
       "\t  3 &  3.251845\\\\\n",
       "\t  4 &  7.561451\\\\\n",
       "\t  5 & 10.267279\\\\\n",
       "\t  6 & 11.119071\\\\\n",
       "\t  7 & 14.680977\\\\\n",
       "\t  8 & 15.007839\\\\\n",
       "\t  9 & 18.537831\\\\\n",
       "\t 10 & 19.347114\\\\\n",
       "\\end{tabular}\n"
      ],
      "text/markdown": [
       "\n",
       "A tibble: 10 × 2\n",
       "\n",
       "| one &lt;int&gt; | two &lt;dbl&gt; |\n",
       "|---|---|\n",
       "|  1 |  1.669607 |\n",
       "|  2 |  6.445369 |\n",
       "|  3 |  3.251845 |\n",
       "|  4 |  7.561451 |\n",
       "|  5 | 10.267279 |\n",
       "|  6 | 11.119071 |\n",
       "|  7 | 14.680977 |\n",
       "|  8 | 15.007839 |\n",
       "|  9 | 18.537831 |\n",
       "| 10 | 19.347114 |\n",
       "\n"
      ],
      "text/plain": [
       "   one two      \n",
       "1   1   1.669607\n",
       "2   2   6.445369\n",
       "3   3   3.251845\n",
       "4   4   7.561451\n",
       "5   5  10.267279\n",
       "6   6  11.119071\n",
       "7   7  14.680977\n",
       "8   8  15.007839\n",
       "9   9  18.537831\n",
       "10 10  19.347114"
      ]
     },
     "metadata": {},
     "output_type": "display_data"
    },
    {
     "data": {
      "image/png": "[encoded data removed]",
      "text/plain": [
       "plot without title"
      ]
     },
     "metadata": {
      "image/png": {
       "height": 360,
       "width": 480
      }
     },
     "output_type": "display_data"
    }
   ],
   "source": [
    "# 4.\n",
    "annoying <- tibble(\n",
    "  `1` = 1:10,\n",
    "  `2` = `1` * 2 + rnorm(length(`1`))\n",
    ")\n",
    "\n",
    "# 4.A.\n",
    "annoying$`1`\n",
    "\n",
    "# 4.B.\n",
    "qplot(`2`, `1`, data = annoying)\n",
    "\n",
    "# 4.C.\n",
    "mutate(annoying, `3` = `2` / `1`)\n",
    "\n",
    "# 4.D.\n",
    "rename(annoying, c(\"one\" = `1`, \"two\" = `2`))"
   ]
  },
  {
   "cell_type": "code",
   "execution_count": 13,
   "metadata": {},
   "outputs": [
    {
     "data": {
      "text/html": [
       "<style>\n",
       ".dl-inline {width: auto; margin:0; padding: 0}\n",
       ".dl-inline>dt, .dl-inline>dd {float: none; width: auto; display: inline-block}\n",
       ".dl-inline>dt::after {content: \":\\0020\"; padding-right: .5ex}\n",
       ".dl-inline>dt:not(:first-of-type) {padding-left: .5ex}\n",
       "</style><dl class=dl-inline><dt>a</dt><dd>1</dd><dt>b</dt><dd>2</dd><dt>c</dt><dd>3</dd><dt>d</dt><dd>4</dd><dt>e</dt><dd>5</dd><dt>f</dt><dd>6</dd><dt>g</dt><dd>7</dd><dt>h</dt><dd>8</dd><dt>i</dt><dd>9</dd><dt>j</dt><dd>10</dd></dl>\n"
      ],
      "text/latex": [
       "\\begin{description*}\n",
       "\\item[a] 1\n",
       "\\item[b] 2\n",
       "\\item[c] 3\n",
       "\\item[d] 4\n",
       "\\item[e] 5\n",
       "\\item[f] 6\n",
       "\\item[g] 7\n",
       "\\item[h] 8\n",
       "\\item[i] 9\n",
       "\\item[j] 10\n",
       "\\end{description*}\n"
      ],
      "text/markdown": [
       "a\n",
       ":   1b\n",
       ":   2c\n",
       ":   3d\n",
       ":   4e\n",
       ":   5f\n",
       ":   6g\n",
       ":   7h\n",
       ":   8i\n",
       ":   9j\n",
       ":   10\n",
       "\n"
      ],
      "text/plain": [
       " a  b  c  d  e  f  g  h  i  j \n",
       " 1  2  3  4  5  6  7  8  9 10 "
      ]
     },
     "metadata": {},
     "output_type": "display_data"
    },
    {
     "data": {
      "text/html": [
       "<table>\n",
       "<caption>A tibble: 10 × 2</caption>\n",
       "<thead>\n",
       "\t<tr><th scope=col>name</th><th scope=col>value</th></tr>\n",
       "\t<tr><th scope=col>&lt;chr&gt;</th><th scope=col>&lt;int&gt;</th></tr>\n",
       "</thead>\n",
       "<tbody>\n",
       "\t<tr><td>a</td><td> 1</td></tr>\n",
       "\t<tr><td>b</td><td> 2</td></tr>\n",
       "\t<tr><td>c</td><td> 3</td></tr>\n",
       "\t<tr><td>d</td><td> 4</td></tr>\n",
       "\t<tr><td>e</td><td> 5</td></tr>\n",
       "\t<tr><td>f</td><td> 6</td></tr>\n",
       "\t<tr><td>g</td><td> 7</td></tr>\n",
       "\t<tr><td>h</td><td> 8</td></tr>\n",
       "\t<tr><td>i</td><td> 9</td></tr>\n",
       "\t<tr><td>j</td><td>10</td></tr>\n",
       "</tbody>\n",
       "</table>\n"
      ],
      "text/latex": [
       "A tibble: 10 × 2\n",
       "\\begin{tabular}{ll}\n",
       " name & value\\\\\n",
       " <chr> & <int>\\\\\n",
       "\\hline\n",
       "\t a &  1\\\\\n",
       "\t b &  2\\\\\n",
       "\t c &  3\\\\\n",
       "\t d &  4\\\\\n",
       "\t e &  5\\\\\n",
       "\t f &  6\\\\\n",
       "\t g &  7\\\\\n",
       "\t h &  8\\\\\n",
       "\t i &  9\\\\\n",
       "\t j & 10\\\\\n",
       "\\end{tabular}\n"
      ],
      "text/markdown": [
       "\n",
       "A tibble: 10 × 2\n",
       "\n",
       "| name &lt;chr&gt; | value &lt;int&gt; |\n",
       "|---|---|\n",
       "| a |  1 |\n",
       "| b |  2 |\n",
       "| c |  3 |\n",
       "| d |  4 |\n",
       "| e |  5 |\n",
       "| f |  6 |\n",
       "| g |  7 |\n",
       "| h |  8 |\n",
       "| i |  9 |\n",
       "| j | 10 |\n",
       "\n"
      ],
      "text/plain": [
       "   name value\n",
       "1  a     1   \n",
       "2  b     2   \n",
       "3  c     3   \n",
       "4  d     4   \n",
       "5  e     5   \n",
       "6  f     6   \n",
       "7  g     7   \n",
       "8  h     8   \n",
       "9  i     9   \n",
       "10 j    10   "
      ]
     },
     "metadata": {},
     "output_type": "display_data"
    }
   ],
   "source": [
    "# 5.\n",
    "x <- 1:10; names(x) <- letters[1:10]; x\n",
    "enframe(x)"
   ]
  }
 ],
 "metadata": {
  "kernelspec": {
   "display_name": "R",
   "language": "R",
   "name": "ir"
  },
  "language_info": {
   "codemirror_mode": "r",
   "file_extension": ".r",
   "mimetype": "text/x-r-source",
   "name": "R",
   "pygments_lexer": "r",
   "version": "4.0.3"
  }
 },
 "nbformat": 4,
 "nbformat_minor": 4
}
