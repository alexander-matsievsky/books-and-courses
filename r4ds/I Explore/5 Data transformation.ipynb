{
 "cells": [
  {
   "cell_type": "markdown",
   "metadata": {},
   "source": [
    "# [5 Data transformation](https://r4ds.had.co.nz/transform.html)"
   ]
  },
  {
   "cell_type": "code",
   "execution_count": 1,
   "metadata": {},
   "outputs": [
    {
     "name": "stderr",
     "output_type": "stream",
     "text": [
      "── \u001b[1mAttaching packages\u001b[22m ─────────────────────────────────────── tidyverse 1.3.0 ──\n",
      "\n",
      "\u001b[32m✔\u001b[39m \u001b[34mggplot2\u001b[39m 3.3.0     \u001b[32m✔\u001b[39m \u001b[34mpurrr  \u001b[39m 0.3.4\n",
      "\u001b[32m✔\u001b[39m \u001b[34mtibble \u001b[39m 3.0.1     \u001b[32m✔\u001b[39m \u001b[34mdplyr  \u001b[39m 0.8.5\n",
      "\u001b[32m✔\u001b[39m \u001b[34mtidyr  \u001b[39m 1.1.0     \u001b[32m✔\u001b[39m \u001b[34mstringr\u001b[39m 1.4.0\n",
      "\u001b[32m✔\u001b[39m \u001b[34mreadr  \u001b[39m 1.3.1     \u001b[32m✔\u001b[39m \u001b[34mforcats\u001b[39m 0.5.0\n",
      "\n",
      "── \u001b[1mConflicts\u001b[22m ────────────────────────────────────────── tidyverse_conflicts() ──\n",
      "\u001b[31m✖\u001b[39m \u001b[34mdplyr\u001b[39m::\u001b[32mfilter()\u001b[39m masks \u001b[34mstats\u001b[39m::filter()\n",
      "\u001b[31m✖\u001b[39m \u001b[34mdplyr\u001b[39m::\u001b[32mlag()\u001b[39m    masks \u001b[34mstats\u001b[39m::lag()\n",
      "\n"
     ]
    }
   ],
   "source": [
    "library(nycflights13)\n",
    "library(tidyverse)"
   ]
  },
  {
   "cell_type": "code",
   "execution_count": 2,
   "metadata": {},
   "outputs": [
    {
     "data": {
      "text/plain": [
       "      year          month             day           dep_time    sched_dep_time\n",
       " Min.   :2013   Min.   : 1.000   Min.   : 1.00   Min.   :   1   Min.   : 106  \n",
       " 1st Qu.:2013   1st Qu.: 4.000   1st Qu.: 8.00   1st Qu.: 907   1st Qu.: 906  \n",
       " Median :2013   Median : 7.000   Median :16.00   Median :1401   Median :1359  \n",
       " Mean   :2013   Mean   : 6.549   Mean   :15.71   Mean   :1349   Mean   :1344  \n",
       " 3rd Qu.:2013   3rd Qu.:10.000   3rd Qu.:23.00   3rd Qu.:1744   3rd Qu.:1729  \n",
       " Max.   :2013   Max.   :12.000   Max.   :31.00   Max.   :2400   Max.   :2359  \n",
       "                                                 NA's   :8255                 \n",
       "   dep_delay          arr_time    sched_arr_time   arr_delay       \n",
       " Min.   : -43.00   Min.   :   1   Min.   :   1   Min.   : -86.000  \n",
       " 1st Qu.:  -5.00   1st Qu.:1104   1st Qu.:1124   1st Qu.: -17.000  \n",
       " Median :  -2.00   Median :1535   Median :1556   Median :  -5.000  \n",
       " Mean   :  12.64   Mean   :1502   Mean   :1536   Mean   :   6.895  \n",
       " 3rd Qu.:  11.00   3rd Qu.:1940   3rd Qu.:1945   3rd Qu.:  14.000  \n",
       " Max.   :1301.00   Max.   :2400   Max.   :2359   Max.   :1272.000  \n",
       " NA's   :8255      NA's   :8713                  NA's   :9430      \n",
       "   carrier              flight       tailnum             origin         \n",
       " Length:336776      Min.   :   1   Length:336776      Length:336776     \n",
       " Class :character   1st Qu.: 553   Class :character   Class :character  \n",
       " Mode  :character   Median :1496   Mode  :character   Mode  :character  \n",
       "                    Mean   :1972                                        \n",
       "                    3rd Qu.:3465                                        \n",
       "                    Max.   :8500                                        \n",
       "                                                                        \n",
       "     dest              air_time        distance         hour      \n",
       " Length:336776      Min.   : 20.0   Min.   :  17   Min.   : 1.00  \n",
       " Class :character   1st Qu.: 82.0   1st Qu.: 502   1st Qu.: 9.00  \n",
       " Mode  :character   Median :129.0   Median : 872   Median :13.00  \n",
       "                    Mean   :150.7   Mean   :1040   Mean   :13.18  \n",
       "                    3rd Qu.:192.0   3rd Qu.:1389   3rd Qu.:17.00  \n",
       "                    Max.   :695.0   Max.   :4983   Max.   :23.00  \n",
       "                    NA's   :9430                                  \n",
       "     minute        time_hour                  \n",
       " Min.   : 0.00   Min.   :2013-01-01 05:00:00  \n",
       " 1st Qu.: 8.00   1st Qu.:2013-04-04 13:00:00  \n",
       " Median :29.00   Median :2013-07-03 10:00:00  \n",
       " Mean   :26.23   Mean   :2013-07-03 05:22:54  \n",
       " 3rd Qu.:44.00   3rd Qu.:2013-10-01 07:00:00  \n",
       " Max.   :59.00   Max.   :2013-12-31 23:00:00  \n",
       "                                              "
      ]
     },
     "metadata": {},
     "output_type": "display_data"
    },
    {
     "data": {
      "text/html": [
       "<table>\n",
       "<caption>A tibble: 5 × 19</caption>\n",
       "<thead>\n",
       "\t<tr><th scope=col>year</th><th scope=col>month</th><th scope=col>day</th><th scope=col>dep_time</th><th scope=col>sched_dep_time</th><th scope=col>dep_delay</th><th scope=col>arr_time</th><th scope=col>sched_arr_time</th><th scope=col>arr_delay</th><th scope=col>carrier</th><th scope=col>flight</th><th scope=col>tailnum</th><th scope=col>origin</th><th scope=col>dest</th><th scope=col>air_time</th><th scope=col>distance</th><th scope=col>hour</th><th scope=col>minute</th><th scope=col>time_hour</th></tr>\n",
       "\t<tr><th scope=col>&lt;int&gt;</th><th scope=col>&lt;int&gt;</th><th scope=col>&lt;int&gt;</th><th scope=col>&lt;int&gt;</th><th scope=col>&lt;int&gt;</th><th scope=col>&lt;dbl&gt;</th><th scope=col>&lt;int&gt;</th><th scope=col>&lt;int&gt;</th><th scope=col>&lt;dbl&gt;</th><th scope=col>&lt;chr&gt;</th><th scope=col>&lt;int&gt;</th><th scope=col>&lt;chr&gt;</th><th scope=col>&lt;chr&gt;</th><th scope=col>&lt;chr&gt;</th><th scope=col>&lt;dbl&gt;</th><th scope=col>&lt;dbl&gt;</th><th scope=col>&lt;dbl&gt;</th><th scope=col>&lt;dbl&gt;</th><th scope=col>&lt;dttm&gt;</th></tr>\n",
       "</thead>\n",
       "<tbody>\n",
       "\t<tr><td>2013</td><td> 6</td><td>13</td><td>2016</td><td>1919</td><td>57</td><td>  44</td><td>2210</td><td>154</td><td>UA</td><td>1259</td><td>N73270</td><td>LGA</td><td>IAH</td><td>181</td><td>1416</td><td>19</td><td>19</td><td>2013-06-13 19:00:00</td></tr>\n",
       "\t<tr><td>2013</td><td> 1</td><td>16</td><td> 750</td><td> 755</td><td>-5</td><td>1042</td><td>1012</td><td> 30</td><td>9E</td><td>4023</td><td>N8533D</td><td>EWR</td><td>CVG</td><td>114</td><td> 569</td><td> 7</td><td>55</td><td>2013-01-16 07:00:00</td></tr>\n",
       "\t<tr><td>2013</td><td> 9</td><td>17</td><td>1004</td><td>1010</td><td>-6</td><td>1108</td><td>1126</td><td>-18</td><td>EV</td><td>5711</td><td>N836AS</td><td>JFK</td><td>IAD</td><td> 46</td><td> 228</td><td>10</td><td>10</td><td>2013-09-17 10:00:00</td></tr>\n",
       "\t<tr><td>2013</td><td> 4</td><td> 8</td><td>1609</td><td>1615</td><td>-6</td><td>1818</td><td>1838</td><td>-20</td><td>DL</td><td>  95</td><td>N334NB</td><td>JFK</td><td>DTW</td><td> 95</td><td> 509</td><td>16</td><td>15</td><td>2013-04-08 16:00:00</td></tr>\n",
       "\t<tr><td>2013</td><td>11</td><td>26</td><td> 606</td><td> 611</td><td>-5</td><td> 916</td><td> 912</td><td>  4</td><td>B6</td><td> 601</td><td>N606JB</td><td>JFK</td><td>FLL</td><td>159</td><td>1069</td><td> 6</td><td>11</td><td>2013-11-26 06:00:00</td></tr>\n",
       "</tbody>\n",
       "</table>\n"
      ],
      "text/latex": [
       "A tibble: 5 × 19\n",
       "\\begin{tabular}{lllllllllllllllllll}\n",
       " year & month & day & dep\\_time & sched\\_dep\\_time & dep\\_delay & arr\\_time & sched\\_arr\\_time & arr\\_delay & carrier & flight & tailnum & origin & dest & air\\_time & distance & hour & minute & time\\_hour\\\\\n",
       " <int> & <int> & <int> & <int> & <int> & <dbl> & <int> & <int> & <dbl> & <chr> & <int> & <chr> & <chr> & <chr> & <dbl> & <dbl> & <dbl> & <dbl> & <dttm>\\\\\n",
       "\\hline\n",
       "\t 2013 &  6 & 13 & 2016 & 1919 & 57 &   44 & 2210 & 154 & UA & 1259 & N73270 & LGA & IAH & 181 & 1416 & 19 & 19 & 2013-06-13 19:00:00\\\\\n",
       "\t 2013 &  1 & 16 &  750 &  755 & -5 & 1042 & 1012 &  30 & 9E & 4023 & N8533D & EWR & CVG & 114 &  569 &  7 & 55 & 2013-01-16 07:00:00\\\\\n",
       "\t 2013 &  9 & 17 & 1004 & 1010 & -6 & 1108 & 1126 & -18 & EV & 5711 & N836AS & JFK & IAD &  46 &  228 & 10 & 10 & 2013-09-17 10:00:00\\\\\n",
       "\t 2013 &  4 &  8 & 1609 & 1615 & -6 & 1818 & 1838 & -20 & DL &   95 & N334NB & JFK & DTW &  95 &  509 & 16 & 15 & 2013-04-08 16:00:00\\\\\n",
       "\t 2013 & 11 & 26 &  606 &  611 & -5 &  916 &  912 &   4 & B6 &  601 & N606JB & JFK & FLL & 159 & 1069 &  6 & 11 & 2013-11-26 06:00:00\\\\\n",
       "\\end{tabular}\n"
      ],
      "text/markdown": [
       "\n",
       "A tibble: 5 × 19\n",
       "\n",
       "| year &lt;int&gt; | month &lt;int&gt; | day &lt;int&gt; | dep_time &lt;int&gt; | sched_dep_time &lt;int&gt; | dep_delay &lt;dbl&gt; | arr_time &lt;int&gt; | sched_arr_time &lt;int&gt; | arr_delay &lt;dbl&gt; | carrier &lt;chr&gt; | flight &lt;int&gt; | tailnum &lt;chr&gt; | origin &lt;chr&gt; | dest &lt;chr&gt; | air_time &lt;dbl&gt; | distance &lt;dbl&gt; | hour &lt;dbl&gt; | minute &lt;dbl&gt; | time_hour &lt;dttm&gt; |\n",
       "|---|---|---|---|---|---|---|---|---|---|---|---|---|---|---|---|---|---|---|\n",
       "| 2013 |  6 | 13 | 2016 | 1919 | 57 |   44 | 2210 | 154 | UA | 1259 | N73270 | LGA | IAH | 181 | 1416 | 19 | 19 | 2013-06-13 19:00:00 |\n",
       "| 2013 |  1 | 16 |  750 |  755 | -5 | 1042 | 1012 |  30 | 9E | 4023 | N8533D | EWR | CVG | 114 |  569 |  7 | 55 | 2013-01-16 07:00:00 |\n",
       "| 2013 |  9 | 17 | 1004 | 1010 | -6 | 1108 | 1126 | -18 | EV | 5711 | N836AS | JFK | IAD |  46 |  228 | 10 | 10 | 2013-09-17 10:00:00 |\n",
       "| 2013 |  4 |  8 | 1609 | 1615 | -6 | 1818 | 1838 | -20 | DL |   95 | N334NB | JFK | DTW |  95 |  509 | 16 | 15 | 2013-04-08 16:00:00 |\n",
       "| 2013 | 11 | 26 |  606 |  611 | -5 |  916 |  912 |   4 | B6 |  601 | N606JB | JFK | FLL | 159 | 1069 |  6 | 11 | 2013-11-26 06:00:00 |\n",
       "\n"
      ],
      "text/plain": [
       "  year month day dep_time sched_dep_time dep_delay arr_time sched_arr_time\n",
       "1 2013  6    13  2016     1919           57          44     2210          \n",
       "2 2013  1    16   750      755           -5        1042     1012          \n",
       "3 2013  9    17  1004     1010           -6        1108     1126          \n",
       "4 2013  4     8  1609     1615           -6        1818     1838          \n",
       "5 2013 11    26   606      611           -5         916      912          \n",
       "  arr_delay carrier flight tailnum origin dest air_time distance hour minute\n",
       "1 154       UA      1259   N73270  LGA    IAH  181      1416     19   19    \n",
       "2  30       9E      4023   N8533D  EWR    CVG  114       569      7   55    \n",
       "3 -18       EV      5711   N836AS  JFK    IAD   46       228     10   10    \n",
       "4 -20       DL        95   N334NB  JFK    DTW   95       509     16   15    \n",
       "5   4       B6       601   N606JB  JFK    FLL  159      1069      6   11    \n",
       "  time_hour          \n",
       "1 2013-06-13 19:00:00\n",
       "2 2013-01-16 07:00:00\n",
       "3 2013-09-17 10:00:00\n",
       "4 2013-04-08 16:00:00\n",
       "5 2013-11-26 06:00:00"
      ]
     },
     "metadata": {},
     "output_type": "display_data"
    },
    {
     "data": {
      "text/html": [
       "\n",
       "<table width=\"100%\" summary=\"page for flights {nycflights13}\"><tr><td>flights {nycflights13}</td><td style=\"text-align: right;\">R Documentation</td></tr></table>\n",
       "\n",
       "<h2>Flights data</h2>\n",
       "\n",
       "<h3>Description</h3>\n",
       "\n",
       "<p>On-time data for all flights that departed NYC (i.e. JFK, LGA or EWR) in\n",
       "2013.\n",
       "</p>\n",
       "\n",
       "\n",
       "<h3>Usage</h3>\n",
       "\n",
       "<pre>\n",
       "flights\n",
       "</pre>\n",
       "\n",
       "\n",
       "<h3>Format</h3>\n",
       "\n",
       "<p>Data frame with columns\n",
       "</p>\n",
       "\n",
       "<dl>\n",
       "<dt>year, month, day</dt><dd><p>Date of departure.</p>\n",
       "</dd>\n",
       "<dt>dep_time, arr_time</dt><dd><p>Actual departure and arrival times (format HHMM or HMM), local tz.</p>\n",
       "</dd>\n",
       "<dt>sched_dep_time, sched_arr_time</dt><dd><p>Scheduled departure and arrival times (format HHMM or HMM), local tz.</p>\n",
       "</dd>\n",
       "<dt>dep_delay, arr_delay</dt><dd><p>Departure and arrival delays, in minutes.\n",
       "Negative times represent early departures/arrivals.</p>\n",
       "</dd>\n",
       "<dt>carrier</dt><dd><p>Two letter carrier abbreviation. See <code>airlines</code>\n",
       "to get name.</p>\n",
       "</dd>\n",
       "<dt>flight</dt><dd><p>Flight number.</p>\n",
       "</dd>\n",
       "<dt>tailnum</dt><dd><p>Plane tail number. See <code>planes</code> for additional metadata.</p>\n",
       "</dd>\n",
       "<dt>origin, dest</dt><dd><p>Origin and destination. See <code>airports</code> for\n",
       "additional metadata.</p>\n",
       "</dd>\n",
       "<dt>air_time</dt><dd><p>Amount of time spent in the air, in minutes.</p>\n",
       "</dd>\n",
       "<dt>distance</dt><dd><p>Distance between airports, in miles.</p>\n",
       "</dd>\n",
       "<dt>hour, minute</dt><dd><p>Time of scheduled departure broken into hour and minutes.</p>\n",
       "</dd>\n",
       "<dt>time_hour</dt><dd><p>Scheduled date and hour of the flight as a <code>POSIXct</code> date.\n",
       "Along with <code>origin</code>, can be used to join flights data to <code>weather</code> data.</p>\n",
       "</dd>\n",
       "</dl>\n",
       "\n",
       "\n",
       "<h3>Source</h3>\n",
       "\n",
       "<p>RITA, Bureau of transportation statistics,\n",
       "<a href=\"https://www.transtats.bts.gov/DL_SelectFields.asp?Table_ID=236\">https://www.transtats.bts.gov/DL_SelectFields.asp?Table_ID=236</a>\n",
       "</p>\n",
       "\n",
       "<hr /><div style=\"text-align: center;\">[Package <em>nycflights13</em> version 1.0.1 ]</div>"
      ],
      "text/latex": [
       "\\inputencoding{utf8}\n",
       "\\HeaderA{flights}{Flights data}{flights}\n",
       "\\keyword{datasets}{flights}\n",
       "%\n",
       "\\begin{Description}\\relax\n",
       "On-time data for all flights that departed NYC (i.e. JFK, LGA or EWR) in\n",
       "2013.\n",
       "\\end{Description}\n",
       "%\n",
       "\\begin{Usage}\n",
       "\\begin{verbatim}\n",
       "flights\n",
       "\\end{verbatim}\n",
       "\\end{Usage}\n",
       "%\n",
       "\\begin{Format}\n",
       "Data frame with columns\n",
       "\\begin{description}\n",
       "\n",
       "\\item[year, month, day] Date of departure.\n",
       "\\item[dep\\_time, arr\\_time] Actual departure and arrival times (format HHMM or HMM), local tz.\n",
       "\\item[sched\\_dep\\_time, sched\\_arr\\_time] Scheduled departure and arrival times (format HHMM or HMM), local tz.\n",
       "\\item[dep\\_delay, arr\\_delay] Departure and arrival delays, in minutes.\n",
       "Negative times represent early departures/arrivals.\n",
       "\\item[carrier] Two letter carrier abbreviation. See \\code{\\LinkA{airlines}{airlines}}\n",
       "to get name.\n",
       "\\item[flight] Flight number.\n",
       "\\item[tailnum] Plane tail number. See \\code{\\LinkA{planes}{planes}} for additional metadata.\n",
       "\\item[origin, dest] Origin and destination. See \\code{\\LinkA{airports}{airports}} for\n",
       "additional metadata.\n",
       "\\item[air\\_time] Amount of time spent in the air, in minutes.\n",
       "\\item[distance] Distance between airports, in miles.\n",
       "\\item[hour, minute] Time of scheduled departure broken into hour and minutes.\n",
       "\\item[time\\_hour] Scheduled date and hour of the flight as a \\code{POSIXct} date.\n",
       "Along with \\code{origin}, can be used to join flights data to \\code{\\LinkA{weather}{weather}} data.\n",
       "\n",
       "\\end{description}\n",
       "\\end{Format}\n",
       "%\n",
       "\\begin{Source}\\relax\n",
       "RITA, Bureau of transportation statistics,\n",
       "\\url{https://www.transtats.bts.gov/DL_SelectFields.asp?Table_ID=236}\n",
       "\\end{Source}"
      ],
      "text/plain": [
       "flights              package:nycflights13              R Documentation\n",
       "\n",
       "_\bF_\bl_\bi_\bg_\bh_\bt_\bs _\bd_\ba_\bt_\ba\n",
       "\n",
       "_\bD_\be_\bs_\bc_\br_\bi_\bp_\bt_\bi_\bo_\bn:\n",
       "\n",
       "     On-time data for all flights that departed NYC (i.e. JFK, LGA or\n",
       "     EWR) in 2013.\n",
       "\n",
       "_\bU_\bs_\ba_\bg_\be:\n",
       "\n",
       "     flights\n",
       "     \n",
       "_\bF_\bo_\br_\bm_\ba_\bt:\n",
       "\n",
       "     Data frame with columns\n",
       "\n",
       "     year, month, day Date of departure.\n",
       "\n",
       "     dep_time, arr_time Actual departure and arrival times (format HHMM\n",
       "          or HMM), local tz.\n",
       "\n",
       "     sched_dep_time, sched_arr_time Scheduled departure and arrival\n",
       "          times (format HHMM or HMM), local tz.\n",
       "\n",
       "     dep_delay, arr_delay Departure and arrival delays, in minutes.\n",
       "          Negative times represent early departures/arrivals.\n",
       "\n",
       "     carrier Two letter carrier abbreviation. See ‘airlines’ to get\n",
       "          name.\n",
       "\n",
       "     flight Flight number.\n",
       "\n",
       "     tailnum Plane tail number. See ‘planes’ for additional metadata.\n",
       "\n",
       "     origin, dest Origin and destination. See ‘airports’ for additional\n",
       "          metadata.\n",
       "\n",
       "     air_time Amount of time spent in the air, in minutes.\n",
       "\n",
       "     distance Distance between airports, in miles.\n",
       "\n",
       "     hour, minute Time of scheduled departure broken into hour and\n",
       "          minutes.\n",
       "\n",
       "     time_hour Scheduled date and hour of the flight as a ‘POSIXct’\n",
       "          date. Along with ‘origin’, can be used to join flights data\n",
       "          to ‘weather’ data.\n",
       "\n",
       "_\bS_\bo_\bu_\br_\bc_\be:\n",
       "\n",
       "     RITA, Bureau of transportation statistics, <URL:\n",
       "     https://www.transtats.bts.gov/DL_SelectFields.asp?Table_ID=236>\n"
      ]
     },
     "metadata": {},
     "output_type": "display_data"
    }
   ],
   "source": [
    "set.seed(0)\n",
    "\n",
    "summary(flights)\n",
    "sample_n(flights, 5)\n",
    "?flights"
   ]
  },
  {
   "cell_type": "code",
   "execution_count": 3,
   "metadata": {},
   "outputs": [
    {
     "data": {
      "text/plain": [
       "   carrier              name          \n",
       " Length:16          Length:16         \n",
       " Class :character   Class :character  \n",
       " Mode  :character   Mode  :character  "
      ]
     },
     "metadata": {},
     "output_type": "display_data"
    },
    {
     "data": {
      "text/html": [
       "<table>\n",
       "<caption>A tibble: 5 × 2</caption>\n",
       "<thead>\n",
       "\t<tr><th scope=col>carrier</th><th scope=col>name</th></tr>\n",
       "\t<tr><th scope=col>&lt;chr&gt;</th><th scope=col>&lt;chr&gt;</th></tr>\n",
       "</thead>\n",
       "<tbody>\n",
       "\t<tr><td>VX</td><td>Virgin America        </td></tr>\n",
       "\t<tr><td>HA</td><td>Hawaiian Airlines Inc.</td></tr>\n",
       "\t<tr><td>B6</td><td>JetBlue Airways       </td></tr>\n",
       "\t<tr><td>F9</td><td>Frontier Airlines Inc.</td></tr>\n",
       "\t<tr><td>9E</td><td>Endeavor Air Inc.     </td></tr>\n",
       "</tbody>\n",
       "</table>\n"
      ],
      "text/latex": [
       "A tibble: 5 × 2\n",
       "\\begin{tabular}{ll}\n",
       " carrier & name\\\\\n",
       " <chr> & <chr>\\\\\n",
       "\\hline\n",
       "\t VX & Virgin America        \\\\\n",
       "\t HA & Hawaiian Airlines Inc.\\\\\n",
       "\t B6 & JetBlue Airways       \\\\\n",
       "\t F9 & Frontier Airlines Inc.\\\\\n",
       "\t 9E & Endeavor Air Inc.     \\\\\n",
       "\\end{tabular}\n"
      ],
      "text/markdown": [
       "\n",
       "A tibble: 5 × 2\n",
       "\n",
       "| carrier &lt;chr&gt; | name &lt;chr&gt; |\n",
       "|---|---|\n",
       "| VX | Virgin America         |\n",
       "| HA | Hawaiian Airlines Inc. |\n",
       "| B6 | JetBlue Airways        |\n",
       "| F9 | Frontier Airlines Inc. |\n",
       "| 9E | Endeavor Air Inc.      |\n",
       "\n"
      ],
      "text/plain": [
       "  carrier name                  \n",
       "1 VX      Virgin America        \n",
       "2 HA      Hawaiian Airlines Inc.\n",
       "3 B6      JetBlue Airways       \n",
       "4 F9      Frontier Airlines Inc.\n",
       "5 9E      Endeavor Air Inc.     "
      ]
     },
     "metadata": {},
     "output_type": "display_data"
    },
    {
     "data": {
      "text/plain": [
       "     faa                name                lat             lon         \n",
       " Length:1458        Length:1458        Min.   :19.72   Min.   :-176.65  \n",
       " Class :character   Class :character   1st Qu.:34.26   1st Qu.:-119.19  \n",
       " Mode  :character   Mode  :character   Median :40.09   Median : -94.66  \n",
       "                                       Mean   :41.65   Mean   :-103.39  \n",
       "                                       3rd Qu.:45.07   3rd Qu.: -82.52  \n",
       "                                       Max.   :72.27   Max.   : 174.11  \n",
       "      alt                tz              dst               tzone          \n",
       " Min.   : -54.00   Min.   :-10.000   Length:1458        Length:1458       \n",
       " 1st Qu.:  70.25   1st Qu.: -8.000   Class :character   Class :character  \n",
       " Median : 473.00   Median : -6.000   Mode  :character   Mode  :character  \n",
       " Mean   :1001.42   Mean   : -6.519                                        \n",
       " 3rd Qu.:1062.50   3rd Qu.: -5.000                                        \n",
       " Max.   :9078.00   Max.   :  8.000                                        "
      ]
     },
     "metadata": {},
     "output_type": "display_data"
    },
    {
     "data": {
      "text/html": [
       "<table>\n",
       "<caption>A tibble: 5 × 8</caption>\n",
       "<thead>\n",
       "\t<tr><th scope=col>faa</th><th scope=col>name</th><th scope=col>lat</th><th scope=col>lon</th><th scope=col>alt</th><th scope=col>tz</th><th scope=col>dst</th><th scope=col>tzone</th></tr>\n",
       "\t<tr><th scope=col>&lt;chr&gt;</th><th scope=col>&lt;chr&gt;</th><th scope=col>&lt;dbl&gt;</th><th scope=col>&lt;dbl&gt;</th><th scope=col>&lt;dbl&gt;</th><th scope=col>&lt;dbl&gt;</th><th scope=col>&lt;chr&gt;</th><th scope=col>&lt;chr&gt;</th></tr>\n",
       "</thead>\n",
       "<tbody>\n",
       "\t<tr><td>MTN</td><td>Martin State                </td><td>39.32567</td><td> -76.41378</td><td>  22</td><td>-5</td><td>A</td><td>America/New_York </td></tr>\n",
       "\t<tr><td>FBK</td><td>Ladd Aaf                    </td><td>64.83750</td><td>-147.61444</td><td> 454</td><td>-9</td><td>A</td><td>America/Anchorage</td></tr>\n",
       "\t<tr><td>CKF</td><td>Crisp County Cordele Airport</td><td>31.98883</td><td> -83.77392</td><td> 310</td><td>-5</td><td>A</td><td>America/New_York </td></tr>\n",
       "\t<tr><td>CDR</td><td>Chadron Municipal Airport   </td><td>42.83750</td><td>-103.09556</td><td>3297</td><td>-7</td><td>A</td><td>America/Denver   </td></tr>\n",
       "\t<tr><td>SEF</td><td>Regional - Hendricks AAF    </td><td>27.45639</td><td> -81.34222</td><td>  63</td><td>-5</td><td>A</td><td>America/New_York </td></tr>\n",
       "</tbody>\n",
       "</table>\n"
      ],
      "text/latex": [
       "A tibble: 5 × 8\n",
       "\\begin{tabular}{llllllll}\n",
       " faa & name & lat & lon & alt & tz & dst & tzone\\\\\n",
       " <chr> & <chr> & <dbl> & <dbl> & <dbl> & <dbl> & <chr> & <chr>\\\\\n",
       "\\hline\n",
       "\t MTN & Martin State                 & 39.32567 &  -76.41378 &   22 & -5 & A & America/New\\_York \\\\\n",
       "\t FBK & Ladd Aaf                     & 64.83750 & -147.61444 &  454 & -9 & A & America/Anchorage\\\\\n",
       "\t CKF & Crisp County Cordele Airport & 31.98883 &  -83.77392 &  310 & -5 & A & America/New\\_York \\\\\n",
       "\t CDR & Chadron Municipal Airport    & 42.83750 & -103.09556 & 3297 & -7 & A & America/Denver   \\\\\n",
       "\t SEF & Regional - Hendricks AAF     & 27.45639 &  -81.34222 &   63 & -5 & A & America/New\\_York \\\\\n",
       "\\end{tabular}\n"
      ],
      "text/markdown": [
       "\n",
       "A tibble: 5 × 8\n",
       "\n",
       "| faa &lt;chr&gt; | name &lt;chr&gt; | lat &lt;dbl&gt; | lon &lt;dbl&gt; | alt &lt;dbl&gt; | tz &lt;dbl&gt; | dst &lt;chr&gt; | tzone &lt;chr&gt; |\n",
       "|---|---|---|---|---|---|---|---|\n",
       "| MTN | Martin State                 | 39.32567 |  -76.41378 |   22 | -5 | A | America/New_York  |\n",
       "| FBK | Ladd Aaf                     | 64.83750 | -147.61444 |  454 | -9 | A | America/Anchorage |\n",
       "| CKF | Crisp County Cordele Airport | 31.98883 |  -83.77392 |  310 | -5 | A | America/New_York  |\n",
       "| CDR | Chadron Municipal Airport    | 42.83750 | -103.09556 | 3297 | -7 | A | America/Denver    |\n",
       "| SEF | Regional - Hendricks AAF     | 27.45639 |  -81.34222 |   63 | -5 | A | America/New_York  |\n",
       "\n"
      ],
      "text/plain": [
       "  faa name                         lat      lon        alt  tz dst\n",
       "1 MTN Martin State                 39.32567  -76.41378   22 -5 A  \n",
       "2 FBK Ladd Aaf                     64.83750 -147.61444  454 -9 A  \n",
       "3 CKF Crisp County Cordele Airport 31.98883  -83.77392  310 -5 A  \n",
       "4 CDR Chadron Municipal Airport    42.83750 -103.09556 3297 -7 A  \n",
       "5 SEF Regional - Hendricks AAF     27.45639  -81.34222   63 -5 A  \n",
       "  tzone            \n",
       "1 America/New_York \n",
       "2 America/Anchorage\n",
       "3 America/New_York \n",
       "4 America/Denver   \n",
       "5 America/New_York "
      ]
     },
     "metadata": {},
     "output_type": "display_data"
    },
    {
     "data": {
      "text/html": [
       "\n",
       "<table width=\"100%\" summary=\"page for airports {nycflights13}\"><tr><td>airports {nycflights13}</td><td style=\"text-align: right;\">R Documentation</td></tr></table>\n",
       "\n",
       "<h2>Airport metadata</h2>\n",
       "\n",
       "<h3>Description</h3>\n",
       "\n",
       "<p>Useful metadata about airports.\n",
       "</p>\n",
       "\n",
       "\n",
       "<h3>Usage</h3>\n",
       "\n",
       "<pre>\n",
       "airports\n",
       "</pre>\n",
       "\n",
       "\n",
       "<h3>Format</h3>\n",
       "\n",
       "<p>A data frame with columns:\n",
       "</p>\n",
       "\n",
       "<dl>\n",
       "<dt>faa</dt><dd><p>FAA airport code.</p>\n",
       "</dd>\n",
       "<dt>name</dt><dd><p>Usual name of the aiport.</p>\n",
       "</dd>\n",
       "<dt>lat, lon</dt><dd><p>Location of airport.</p>\n",
       "</dd>\n",
       "<dt>alt</dt><dd><p>Altitude, in feet.</p>\n",
       "</dd>\n",
       "<dt>tz</dt><dd><p>Timezone offset from GMT.</p>\n",
       "</dd>\n",
       "<dt>dst</dt><dd><p>Daylight savings time zone. A = Standard US DST: starts on the\n",
       "second Sunday of March, ends on the first Sunday of November.\n",
       "U = unknown. N = no dst.</p>\n",
       "</dd>\n",
       "<dt>tzone</dt><dd><p>IANA time zone, as determined by GeoNames webservice.</p>\n",
       "</dd>\n",
       "</dl>\n",
       "\n",
       "\n",
       "<h3>Source</h3>\n",
       "\n",
       "<p><a href=\"http://openflights.org/data.html\">http://openflights.org/data.html</a>, downloaded 2014-06-27\n",
       "</p>\n",
       "\n",
       "\n",
       "<h3>Examples</h3>\n",
       "\n",
       "<pre>\n",
       "airports\n",
       "\n",
       "if (require(\"dplyr\")) {\n",
       "\n",
       "airports %&gt;% rename(dest = faa) %&gt;% semi_join(flights)\n",
       "flights %&gt;% anti_join(airports %&gt;% rename(dest = faa))\n",
       "airports %&gt;% rename(origin = faa) %&gt;% semi_join(flights)\n",
       "\n",
       "}\n",
       "</pre>\n",
       "\n",
       "<hr /><div style=\"text-align: center;\">[Package <em>nycflights13</em> version 1.0.1 ]</div>"
      ],
      "text/latex": [
       "\\inputencoding{utf8}\n",
       "\\HeaderA{airports}{Airport metadata}{airports}\n",
       "\\keyword{datasets}{airports}\n",
       "%\n",
       "\\begin{Description}\\relax\n",
       "Useful metadata about airports.\n",
       "\\end{Description}\n",
       "%\n",
       "\\begin{Usage}\n",
       "\\begin{verbatim}\n",
       "airports\n",
       "\\end{verbatim}\n",
       "\\end{Usage}\n",
       "%\n",
       "\\begin{Format}\n",
       "A data frame with columns:\n",
       "\\begin{description}\n",
       "\n",
       "\\item[faa] FAA airport code.\n",
       "\\item[name] Usual name of the aiport.\n",
       "\\item[lat, lon] Location of airport.\n",
       "\\item[alt] Altitude, in feet.\n",
       "\\item[tz] Timezone offset from GMT.\n",
       "\\item[dst] Daylight savings time zone. A = Standard US DST: starts on the\n",
       "second Sunday of March, ends on the first Sunday of November.\n",
       "U = unknown. N = no dst.\n",
       "\\item[tzone] IANA time zone, as determined by GeoNames webservice.\n",
       "\n",
       "\\end{description}\n",
       "\\end{Format}\n",
       "%\n",
       "\\begin{Source}\\relax\n",
       "\\url{http://openflights.org/data.html}, downloaded 2014-06-27\n",
       "\\end{Source}\n",
       "%\n",
       "\\begin{Examples}\n",
       "\\begin{ExampleCode}\n",
       "airports\n",
       "\n",
       "if (require(\"dplyr\")) {\n",
       "\n",
       "airports %>% rename(dest = faa) %>% semi_join(flights)\n",
       "flights %>% anti_join(airports %>% rename(dest = faa))\n",
       "airports %>% rename(origin = faa) %>% semi_join(flights)\n",
       "\n",
       "}\n",
       "\\end{ExampleCode}\n",
       "\\end{Examples}"
      ],
      "text/plain": [
       "airports             package:nycflights13              R Documentation\n",
       "\n",
       "_\bA_\bi_\br_\bp_\bo_\br_\bt _\bm_\be_\bt_\ba_\bd_\ba_\bt_\ba\n",
       "\n",
       "_\bD_\be_\bs_\bc_\br_\bi_\bp_\bt_\bi_\bo_\bn:\n",
       "\n",
       "     Useful metadata about airports.\n",
       "\n",
       "_\bU_\bs_\ba_\bg_\be:\n",
       "\n",
       "     airports\n",
       "     \n",
       "_\bF_\bo_\br_\bm_\ba_\bt:\n",
       "\n",
       "     A data frame with columns:\n",
       "\n",
       "     faa FAA airport code.\n",
       "\n",
       "     name Usual name of the aiport.\n",
       "\n",
       "     lat, lon Location of airport.\n",
       "\n",
       "     alt Altitude, in feet.\n",
       "\n",
       "     tz Timezone offset from GMT.\n",
       "\n",
       "     dst Daylight savings time zone. A = Standard US DST: starts on the\n",
       "          second Sunday of March, ends on the first Sunday of November.\n",
       "          U = unknown. N = no dst.\n",
       "\n",
       "     tzone IANA time zone, as determined by GeoNames webservice.\n",
       "\n",
       "_\bS_\bo_\bu_\br_\bc_\be:\n",
       "\n",
       "     <URL: http://openflights.org/data.html>, downloaded 2014-06-27\n",
       "\n",
       "_\bE_\bx_\ba_\bm_\bp_\bl_\be_\bs:\n",
       "\n",
       "     airports\n",
       "     \n",
       "     if (require(\"dplyr\")) {\n",
       "     \n",
       "     airports %>% rename(dest = faa) %>% semi_join(flights)\n",
       "     flights %>% anti_join(airports %>% rename(dest = faa))\n",
       "     airports %>% rename(origin = faa) %>% semi_join(flights)\n",
       "     \n",
       "     }\n",
       "     "
      ]
     },
     "metadata": {},
     "output_type": "display_data"
    }
   ],
   "source": [
    "set.seed(0)\n",
    "\n",
    "summary(airlines)\n",
    "sample_n(airlines, 5)\n",
    "\n",
    "summary(airports)\n",
    "sample_n(airports, 5)\n",
    "?airports"
   ]
  },
  {
   "cell_type": "code",
   "execution_count": 4,
   "metadata": {},
   "outputs": [
    {
     "data": {
      "text/plain": [
       "   tailnum               year          type           manufacturer      \n",
       " Length:3322        Min.   :1956   Length:3322        Length:3322       \n",
       " Class :character   1st Qu.:1997   Class :character   Class :character  \n",
       " Mode  :character   Median :2001   Mode  :character   Mode  :character  \n",
       "                    Mean   :2000                                        \n",
       "                    3rd Qu.:2005                                        \n",
       "                    Max.   :2013                                        \n",
       "                    NA's   :70                                          \n",
       "    model              engines          seats           speed      \n",
       " Length:3322        Min.   :1.000   Min.   :  2.0   Min.   : 90.0  \n",
       " Class :character   1st Qu.:2.000   1st Qu.:140.0   1st Qu.:107.5  \n",
       " Mode  :character   Median :2.000   Median :149.0   Median :162.0  \n",
       "                    Mean   :1.995   Mean   :154.3   Mean   :236.8  \n",
       "                    3rd Qu.:2.000   3rd Qu.:182.0   3rd Qu.:432.0  \n",
       "                    Max.   :4.000   Max.   :450.0   Max.   :432.0  \n",
       "                                                    NA's   :3299   \n",
       "    engine         \n",
       " Length:3322       \n",
       " Class :character  \n",
       " Mode  :character  \n",
       "                   \n",
       "                   \n",
       "                   \n",
       "                   "
      ]
     },
     "metadata": {},
     "output_type": "display_data"
    },
    {
     "data": {
      "text/html": [
       "<table>\n",
       "<caption>A tibble: 5 × 9</caption>\n",
       "<thead>\n",
       "\t<tr><th scope=col>tailnum</th><th scope=col>year</th><th scope=col>type</th><th scope=col>manufacturer</th><th scope=col>model</th><th scope=col>engines</th><th scope=col>seats</th><th scope=col>speed</th><th scope=col>engine</th></tr>\n",
       "\t<tr><th scope=col>&lt;chr&gt;</th><th scope=col>&lt;int&gt;</th><th scope=col>&lt;chr&gt;</th><th scope=col>&lt;chr&gt;</th><th scope=col>&lt;chr&gt;</th><th scope=col>&lt;int&gt;</th><th scope=col>&lt;int&gt;</th><th scope=col>&lt;int&gt;</th><th scope=col>&lt;chr&gt;</th></tr>\n",
       "</thead>\n",
       "<tbody>\n",
       "\t<tr><td>N505MJ</td><td>2002</td><td>Fixed wing multi engine </td><td>BOMBARDIER INC</td><td>CL-600-2C10</td><td>2</td><td> 80</td><td>NA</td><td>Turbo-fan    </td></tr>\n",
       "\t<tr><td>N376AA</td><td>1978</td><td>Fixed wing single engine</td><td>PIPER         </td><td>PA-32RT-300</td><td>1</td><td>  7</td><td>NA</td><td>Reciprocating</td></tr>\n",
       "\t<tr><td>N31131</td><td>2003</td><td>Fixed wing multi engine </td><td>EMBRAER       </td><td>EMB-145XR  </td><td>2</td><td> 55</td><td>NA</td><td>Turbo-fan    </td></tr>\n",
       "\t<tr><td>N693SW</td><td>1985</td><td>Fixed wing multi engine </td><td>BOEING        </td><td>737-317    </td><td>2</td><td>149</td><td>NA</td><td>Turbo-jet    </td></tr>\n",
       "\t<tr><td>N37255</td><td>2000</td><td>Fixed wing multi engine </td><td>BOEING        </td><td>737-824    </td><td>2</td><td>149</td><td>NA</td><td>Turbo-fan    </td></tr>\n",
       "</tbody>\n",
       "</table>\n"
      ],
      "text/latex": [
       "A tibble: 5 × 9\n",
       "\\begin{tabular}{lllllllll}\n",
       " tailnum & year & type & manufacturer & model & engines & seats & speed & engine\\\\\n",
       " <chr> & <int> & <chr> & <chr> & <chr> & <int> & <int> & <int> & <chr>\\\\\n",
       "\\hline\n",
       "\t N505MJ & 2002 & Fixed wing multi engine  & BOMBARDIER INC & CL-600-2C10 & 2 &  80 & NA & Turbo-fan    \\\\\n",
       "\t N376AA & 1978 & Fixed wing single engine & PIPER          & PA-32RT-300 & 1 &   7 & NA & Reciprocating\\\\\n",
       "\t N31131 & 2003 & Fixed wing multi engine  & EMBRAER        & EMB-145XR   & 2 &  55 & NA & Turbo-fan    \\\\\n",
       "\t N693SW & 1985 & Fixed wing multi engine  & BOEING         & 737-317     & 2 & 149 & NA & Turbo-jet    \\\\\n",
       "\t N37255 & 2000 & Fixed wing multi engine  & BOEING         & 737-824     & 2 & 149 & NA & Turbo-fan    \\\\\n",
       "\\end{tabular}\n"
      ],
      "text/markdown": [
       "\n",
       "A tibble: 5 × 9\n",
       "\n",
       "| tailnum &lt;chr&gt; | year &lt;int&gt; | type &lt;chr&gt; | manufacturer &lt;chr&gt; | model &lt;chr&gt; | engines &lt;int&gt; | seats &lt;int&gt; | speed &lt;int&gt; | engine &lt;chr&gt; |\n",
       "|---|---|---|---|---|---|---|---|---|\n",
       "| N505MJ | 2002 | Fixed wing multi engine  | BOMBARDIER INC | CL-600-2C10 | 2 |  80 | NA | Turbo-fan     |\n",
       "| N376AA | 1978 | Fixed wing single engine | PIPER          | PA-32RT-300 | 1 |   7 | NA | Reciprocating |\n",
       "| N31131 | 2003 | Fixed wing multi engine  | EMBRAER        | EMB-145XR   | 2 |  55 | NA | Turbo-fan     |\n",
       "| N693SW | 1985 | Fixed wing multi engine  | BOEING         | 737-317     | 2 | 149 | NA | Turbo-jet     |\n",
       "| N37255 | 2000 | Fixed wing multi engine  | BOEING         | 737-824     | 2 | 149 | NA | Turbo-fan     |\n",
       "\n"
      ],
      "text/plain": [
       "  tailnum year type                     manufacturer   model       engines\n",
       "1 N505MJ  2002 Fixed wing multi engine  BOMBARDIER INC CL-600-2C10 2      \n",
       "2 N376AA  1978 Fixed wing single engine PIPER          PA-32RT-300 1      \n",
       "3 N31131  2003 Fixed wing multi engine  EMBRAER        EMB-145XR   2      \n",
       "4 N693SW  1985 Fixed wing multi engine  BOEING         737-317     2      \n",
       "5 N37255  2000 Fixed wing multi engine  BOEING         737-824     2      \n",
       "  seats speed engine       \n",
       "1  80   NA    Turbo-fan    \n",
       "2   7   NA    Reciprocating\n",
       "3  55   NA    Turbo-fan    \n",
       "4 149   NA    Turbo-jet    \n",
       "5 149   NA    Turbo-fan    "
      ]
     },
     "metadata": {},
     "output_type": "display_data"
    },
    {
     "data": {
      "text/html": [
       "\n",
       "<table width=\"100%\" summary=\"page for planes {nycflights13}\"><tr><td>planes {nycflights13}</td><td style=\"text-align: right;\">R Documentation</td></tr></table>\n",
       "\n",
       "<h2>Plane metadata.</h2>\n",
       "\n",
       "<h3>Description</h3>\n",
       "\n",
       "<p>Plane metadata for all plane tailnumbers found in the FAA aircraft\n",
       "registry. American Airways (AA) and Envoy Air (MQ) report fleet numbers\n",
       "rather than tail numbers so can't be matched.\n",
       "</p>\n",
       "\n",
       "\n",
       "<h3>Usage</h3>\n",
       "\n",
       "<pre>\n",
       "planes\n",
       "</pre>\n",
       "\n",
       "\n",
       "<h3>Format</h3>\n",
       "\n",
       "<p>A data frame with columns:\n",
       "</p>\n",
       "\n",
       "<dl>\n",
       "<dt>tailnum</dt><dd><p>Tail number.</p>\n",
       "</dd>\n",
       "<dt>year</dt><dd><p>Year manufactured.</p>\n",
       "</dd>\n",
       "<dt>type</dt><dd><p>Type of plane.</p>\n",
       "</dd>\n",
       "<dt>manufacturer, model</dt><dd><p>Manufacturer and model.</p>\n",
       "</dd>\n",
       "<dt>engines, seats</dt><dd><p>Number of engines and seats.</p>\n",
       "</dd>\n",
       "<dt>speed</dt><dd><p>Average cruising speed in mph.</p>\n",
       "</dd>\n",
       "<dt>engine</dt><dd><p>Type of engine.</p>\n",
       "</dd>\n",
       "</dl>\n",
       "\n",
       "\n",
       "<h3>Source</h3>\n",
       "\n",
       "<p>FAA Aircraft registry,\n",
       "<a href=\"http://www.faa.gov/licenses_certificates/aircraft_certification/aircraft_registry/releasable_aircraft_download/\">http://www.faa.gov/licenses_certificates/aircraft_certification/aircraft_registry/releasable_aircraft_download/</a>\n",
       "</p>\n",
       "\n",
       "\n",
       "<h3>Examples</h3>\n",
       "\n",
       "<pre>\n",
       "planes\n",
       "\n",
       "if (require(\"dplyr\")) {\n",
       "\n",
       "# Flights that don't have plane metadata\n",
       "flights %&gt;% anti_join(planes, \"tailnum\")\n",
       "\n",
       "}\n",
       "</pre>\n",
       "\n",
       "<hr /><div style=\"text-align: center;\">[Package <em>nycflights13</em> version 1.0.1 ]</div>"
      ],
      "text/latex": [
       "\\inputencoding{utf8}\n",
       "\\HeaderA{planes}{Plane metadata.}{planes}\n",
       "\\keyword{datasets}{planes}\n",
       "%\n",
       "\\begin{Description}\\relax\n",
       "Plane metadata for all plane tailnumbers found in the FAA aircraft\n",
       "registry. American Airways (AA) and Envoy Air (MQ) report fleet numbers\n",
       "rather than tail numbers so can't be matched.\n",
       "\\end{Description}\n",
       "%\n",
       "\\begin{Usage}\n",
       "\\begin{verbatim}\n",
       "planes\n",
       "\\end{verbatim}\n",
       "\\end{Usage}\n",
       "%\n",
       "\\begin{Format}\n",
       "A data frame with columns:\n",
       "\\begin{description}\n",
       "\n",
       "\\item[tailnum] Tail number.\n",
       "\\item[year] Year manufactured.\n",
       "\\item[type] Type of plane.\n",
       "\\item[manufacturer, model] Manufacturer and model.\n",
       "\\item[engines, seats] Number of engines and seats.\n",
       "\\item[speed] Average cruising speed in mph.\n",
       "\\item[engine] Type of engine.\n",
       "\n",
       "\\end{description}\n",
       "\\end{Format}\n",
       "%\n",
       "\\begin{Source}\\relax\n",
       "FAA Aircraft registry,\n",
       "\\url{http://www.faa.gov/licenses_certificates/aircraft_certification/aircraft_registry/releasable_aircraft_download/}\n",
       "\\end{Source}\n",
       "%\n",
       "\\begin{Examples}\n",
       "\\begin{ExampleCode}\n",
       "planes\n",
       "\n",
       "if (require(\"dplyr\")) {\n",
       "\n",
       "# Flights that don't have plane metadata\n",
       "flights %>% anti_join(planes, \"tailnum\")\n",
       "\n",
       "}\n",
       "\\end{ExampleCode}\n",
       "\\end{Examples}"
      ],
      "text/plain": [
       "planes              package:nycflights13               R Documentation\n",
       "\n",
       "_\bP_\bl_\ba_\bn_\be _\bm_\be_\bt_\ba_\bd_\ba_\bt_\ba.\n",
       "\n",
       "_\bD_\be_\bs_\bc_\br_\bi_\bp_\bt_\bi_\bo_\bn:\n",
       "\n",
       "     Plane metadata for all plane tailnumbers found in the FAA aircraft\n",
       "     registry. American Airways (AA) and Envoy Air (MQ) report fleet\n",
       "     numbers rather than tail numbers so can't be matched.\n",
       "\n",
       "_\bU_\bs_\ba_\bg_\be:\n",
       "\n",
       "     planes\n",
       "     \n",
       "_\bF_\bo_\br_\bm_\ba_\bt:\n",
       "\n",
       "     A data frame with columns:\n",
       "\n",
       "     tailnum Tail number.\n",
       "\n",
       "     year Year manufactured.\n",
       "\n",
       "     type Type of plane.\n",
       "\n",
       "     manufacturer, model Manufacturer and model.\n",
       "\n",
       "     engines, seats Number of engines and seats.\n",
       "\n",
       "     speed Average cruising speed in mph.\n",
       "\n",
       "     engine Type of engine.\n",
       "\n",
       "_\bS_\bo_\bu_\br_\bc_\be:\n",
       "\n",
       "     FAA Aircraft registry, <URL:\n",
       "     http://www.faa.gov/licenses_certificates/aircraft_certification/aircraft_registry/releasable_aircraft_download/>\n",
       "\n",
       "_\bE_\bx_\ba_\bm_\bp_\bl_\be_\bs:\n",
       "\n",
       "     planes\n",
       "     \n",
       "     if (require(\"dplyr\")) {\n",
       "     \n",
       "     # Flights that don't have plane metadata\n",
       "     flights %>% anti_join(planes, \"tailnum\")\n",
       "     \n",
       "     }\n",
       "     "
      ]
     },
     "metadata": {},
     "output_type": "display_data"
    }
   ],
   "source": [
    "set.seed(0)\n",
    "\n",
    "summary(planes)\n",
    "sample_n(planes, 5)\n",
    "?planes"
   ]
  },
  {
   "cell_type": "code",
   "execution_count": 5,
   "metadata": {},
   "outputs": [
    {
     "data": {
      "text/plain": [
       "    origin               year          month             day       \n",
       " Length:26115       Min.   :2013   Min.   : 1.000   Min.   : 1.00  \n",
       " Class :character   1st Qu.:2013   1st Qu.: 4.000   1st Qu.: 8.00  \n",
       " Mode  :character   Median :2013   Median : 7.000   Median :16.00  \n",
       "                    Mean   :2013   Mean   : 6.504   Mean   :15.68  \n",
       "                    3rd Qu.:2013   3rd Qu.: 9.000   3rd Qu.:23.00  \n",
       "                    Max.   :2013   Max.   :12.000   Max.   :31.00  \n",
       "                                                                   \n",
       "      hour            temp             dewp           humid       \n",
       " Min.   : 0.00   Min.   : 10.94   Min.   :-9.94   Min.   : 12.74  \n",
       " 1st Qu.: 6.00   1st Qu.: 39.92   1st Qu.:26.06   1st Qu.: 47.05  \n",
       " Median :11.00   Median : 55.40   Median :42.08   Median : 61.79  \n",
       " Mean   :11.49   Mean   : 55.26   Mean   :41.44   Mean   : 62.53  \n",
       " 3rd Qu.:17.00   3rd Qu.: 69.98   3rd Qu.:57.92   3rd Qu.: 78.79  \n",
       " Max.   :23.00   Max.   :100.04   Max.   :78.08   Max.   :100.00  \n",
       "                 NA's   :1        NA's   :1       NA's   :1       \n",
       "    wind_dir       wind_speed         wind_gust         precip        \n",
       " Min.   :  0.0   Min.   :   0.000   Min.   :16.11   Min.   :0.000000  \n",
       " 1st Qu.:120.0   1st Qu.:   6.905   1st Qu.:20.71   1st Qu.:0.000000  \n",
       " Median :220.0   Median :  10.357   Median :24.17   Median :0.000000  \n",
       " Mean   :199.8   Mean   :  10.518   Mean   :25.49   Mean   :0.004469  \n",
       " 3rd Qu.:290.0   3rd Qu.:  13.809   3rd Qu.:28.77   3rd Qu.:0.000000  \n",
       " Max.   :360.0   Max.   :1048.361   Max.   :66.75   Max.   :1.210000  \n",
       " NA's   :460     NA's   :4          NA's   :20778                     \n",
       "    pressure          visib          time_hour                  \n",
       " Min.   : 983.8   Min.   : 0.000   Min.   :2013-01-01 01:00:00  \n",
       " 1st Qu.:1012.9   1st Qu.:10.000   1st Qu.:2013-04-01 21:30:00  \n",
       " Median :1017.6   Median :10.000   Median :2013-07-01 14:00:00  \n",
       " Mean   :1017.9   Mean   : 9.255   Mean   :2013-07-01 18:26:37  \n",
       " 3rd Qu.:1023.0   3rd Qu.:10.000   3rd Qu.:2013-09-30 13:00:00  \n",
       " Max.   :1042.1   Max.   :10.000   Max.   :2013-12-30 18:00:00  \n",
       " NA's   :2729                                                   "
      ]
     },
     "metadata": {},
     "output_type": "display_data"
    },
    {
     "data": {
      "text/html": [
       "<table>\n",
       "<caption>A tibble: 5 × 15</caption>\n",
       "<thead>\n",
       "\t<tr><th scope=col>origin</th><th scope=col>year</th><th scope=col>month</th><th scope=col>day</th><th scope=col>hour</th><th scope=col>temp</th><th scope=col>dewp</th><th scope=col>humid</th><th scope=col>wind_dir</th><th scope=col>wind_speed</th><th scope=col>wind_gust</th><th scope=col>precip</th><th scope=col>pressure</th><th scope=col>visib</th><th scope=col>time_hour</th></tr>\n",
       "\t<tr><th scope=col>&lt;chr&gt;</th><th scope=col>&lt;int&gt;</th><th scope=col>&lt;int&gt;</th><th scope=col>&lt;int&gt;</th><th scope=col>&lt;int&gt;</th><th scope=col>&lt;dbl&gt;</th><th scope=col>&lt;dbl&gt;</th><th scope=col>&lt;dbl&gt;</th><th scope=col>&lt;dbl&gt;</th><th scope=col>&lt;dbl&gt;</th><th scope=col>&lt;dbl&gt;</th><th scope=col>&lt;dbl&gt;</th><th scope=col>&lt;dbl&gt;</th><th scope=col>&lt;dbl&gt;</th><th scope=col>&lt;dttm&gt;</th></tr>\n",
       "</thead>\n",
       "<tbody>\n",
       "\t<tr><td>LGA</td><td>2013</td><td>12</td><td>25</td><td>21</td><td>28.94</td><td>10.94</td><td>46.41</td><td>130</td><td> 6.90468</td><td>NA</td><td>0</td><td>1032.2</td><td>10</td><td>2013-12-25 21:00:00</td></tr>\n",
       "\t<tr><td>JFK</td><td>2013</td><td>12</td><td>30</td><td>10</td><td>46.94</td><td>35.06</td><td>63.13</td><td>270</td><td>16.11092</td><td>NA</td><td>0</td><td>1014.6</td><td>10</td><td>2013-12-30 10:00:00</td></tr>\n",
       "\t<tr><td>LGA</td><td>2013</td><td>10</td><td>19</td><td> 6</td><td>55.94</td><td>42.08</td><td>59.58</td><td>  0</td><td> 0.00000</td><td>NA</td><td>0</td><td>1014.7</td><td>10</td><td>2013-10-19 06:00:00</td></tr>\n",
       "\t<tr><td>EWR</td><td>2013</td><td> 7</td><td>19</td><td> 6</td><td>82.94</td><td>75.92</td><td>79.42</td><td>240</td><td>10.35702</td><td>NA</td><td>0</td><td>1013.9</td><td> 8</td><td>2013-07-19 06:00:00</td></tr>\n",
       "\t<tr><td>JFK</td><td>2013</td><td> 7</td><td> 8</td><td> 8</td><td>80.96</td><td>68.00</td><td>64.77</td><td>260</td><td> 8.05546</td><td>NA</td><td>0</td><td>1017.1</td><td>10</td><td>2013-07-08 08:00:00</td></tr>\n",
       "</tbody>\n",
       "</table>\n"
      ],
      "text/latex": [
       "A tibble: 5 × 15\n",
       "\\begin{tabular}{lllllllllllllll}\n",
       " origin & year & month & day & hour & temp & dewp & humid & wind\\_dir & wind\\_speed & wind\\_gust & precip & pressure & visib & time\\_hour\\\\\n",
       " <chr> & <int> & <int> & <int> & <int> & <dbl> & <dbl> & <dbl> & <dbl> & <dbl> & <dbl> & <dbl> & <dbl> & <dbl> & <dttm>\\\\\n",
       "\\hline\n",
       "\t LGA & 2013 & 12 & 25 & 21 & 28.94 & 10.94 & 46.41 & 130 &  6.90468 & NA & 0 & 1032.2 & 10 & 2013-12-25 21:00:00\\\\\n",
       "\t JFK & 2013 & 12 & 30 & 10 & 46.94 & 35.06 & 63.13 & 270 & 16.11092 & NA & 0 & 1014.6 & 10 & 2013-12-30 10:00:00\\\\\n",
       "\t LGA & 2013 & 10 & 19 &  6 & 55.94 & 42.08 & 59.58 &   0 &  0.00000 & NA & 0 & 1014.7 & 10 & 2013-10-19 06:00:00\\\\\n",
       "\t EWR & 2013 &  7 & 19 &  6 & 82.94 & 75.92 & 79.42 & 240 & 10.35702 & NA & 0 & 1013.9 &  8 & 2013-07-19 06:00:00\\\\\n",
       "\t JFK & 2013 &  7 &  8 &  8 & 80.96 & 68.00 & 64.77 & 260 &  8.05546 & NA & 0 & 1017.1 & 10 & 2013-07-08 08:00:00\\\\\n",
       "\\end{tabular}\n"
      ],
      "text/markdown": [
       "\n",
       "A tibble: 5 × 15\n",
       "\n",
       "| origin &lt;chr&gt; | year &lt;int&gt; | month &lt;int&gt; | day &lt;int&gt; | hour &lt;int&gt; | temp &lt;dbl&gt; | dewp &lt;dbl&gt; | humid &lt;dbl&gt; | wind_dir &lt;dbl&gt; | wind_speed &lt;dbl&gt; | wind_gust &lt;dbl&gt; | precip &lt;dbl&gt; | pressure &lt;dbl&gt; | visib &lt;dbl&gt; | time_hour &lt;dttm&gt; |\n",
       "|---|---|---|---|---|---|---|---|---|---|---|---|---|---|---|\n",
       "| LGA | 2013 | 12 | 25 | 21 | 28.94 | 10.94 | 46.41 | 130 |  6.90468 | NA | 0 | 1032.2 | 10 | 2013-12-25 21:00:00 |\n",
       "| JFK | 2013 | 12 | 30 | 10 | 46.94 | 35.06 | 63.13 | 270 | 16.11092 | NA | 0 | 1014.6 | 10 | 2013-12-30 10:00:00 |\n",
       "| LGA | 2013 | 10 | 19 |  6 | 55.94 | 42.08 | 59.58 |   0 |  0.00000 | NA | 0 | 1014.7 | 10 | 2013-10-19 06:00:00 |\n",
       "| EWR | 2013 |  7 | 19 |  6 | 82.94 | 75.92 | 79.42 | 240 | 10.35702 | NA | 0 | 1013.9 |  8 | 2013-07-19 06:00:00 |\n",
       "| JFK | 2013 |  7 |  8 |  8 | 80.96 | 68.00 | 64.77 | 260 |  8.05546 | NA | 0 | 1017.1 | 10 | 2013-07-08 08:00:00 |\n",
       "\n"
      ],
      "text/plain": [
       "  origin year month day hour temp  dewp  humid wind_dir wind_speed wind_gust\n",
       "1 LGA    2013 12    25  21   28.94 10.94 46.41 130       6.90468   NA       \n",
       "2 JFK    2013 12    30  10   46.94 35.06 63.13 270      16.11092   NA       \n",
       "3 LGA    2013 10    19   6   55.94 42.08 59.58   0       0.00000   NA       \n",
       "4 EWR    2013  7    19   6   82.94 75.92 79.42 240      10.35702   NA       \n",
       "5 JFK    2013  7     8   8   80.96 68.00 64.77 260       8.05546   NA       \n",
       "  precip pressure visib time_hour          \n",
       "1 0      1032.2   10    2013-12-25 21:00:00\n",
       "2 0      1014.6   10    2013-12-30 10:00:00\n",
       "3 0      1014.7   10    2013-10-19 06:00:00\n",
       "4 0      1013.9    8    2013-07-19 06:00:00\n",
       "5 0      1017.1   10    2013-07-08 08:00:00"
      ]
     },
     "metadata": {},
     "output_type": "display_data"
    },
    {
     "data": {
      "text/html": [
       "\n",
       "<table width=\"100%\" summary=\"page for weather {nycflights13}\"><tr><td>weather {nycflights13}</td><td style=\"text-align: right;\">R Documentation</td></tr></table>\n",
       "\n",
       "<h2>Hourly weather data</h2>\n",
       "\n",
       "<h3>Description</h3>\n",
       "\n",
       "<p>Hourly meterological data for LGA, JFK and EWR.\n",
       "</p>\n",
       "\n",
       "\n",
       "<h3>Usage</h3>\n",
       "\n",
       "<pre>\n",
       "weather\n",
       "</pre>\n",
       "\n",
       "\n",
       "<h3>Format</h3>\n",
       "\n",
       "<p>A data frame with columns\n",
       "</p>\n",
       "\n",
       "<dl>\n",
       "<dt>origin</dt><dd><p>Weather station. Named <code>origin</code> to facilitate merging with\n",
       "<code>flights</code> data.</p>\n",
       "</dd>\n",
       "<dt>year, month, day, hour</dt><dd><p>Time of recording.</p>\n",
       "</dd>\n",
       "<dt>temp, dewp</dt><dd><p>Temperature and dewpoint in F.</p>\n",
       "</dd>\n",
       "<dt>humid</dt><dd><p>Relative humidity.</p>\n",
       "</dd>\n",
       "<dt>wind_dir, wind_speed, wind_gust</dt><dd><p>Wind direction (in degrees), speed\n",
       "and gust speed (in mph).</p>\n",
       "</dd>\n",
       "<dt>precip</dt><dd><p>Precipitation, in inches.</p>\n",
       "</dd>\n",
       "<dt>pressure</dt><dd><p>Sea level pressure in millibars.</p>\n",
       "</dd>\n",
       "<dt>visib</dt><dd><p>Visibility in miles.</p>\n",
       "</dd>\n",
       "<dt>time_hour</dt><dd><p>Date and hour of the recording as a <code>POSIXct</code> date.</p>\n",
       "</dd>\n",
       "</dl>\n",
       "\n",
       "\n",
       "<h3>Source</h3>\n",
       "\n",
       "<p>ASOS download from Iowa Environmental Mesonet,\n",
       "<a href=\"https://mesonet.agron.iastate.edu/request/download.phtml\">https://mesonet.agron.iastate.edu/request/download.phtml</a>.\n",
       "</p>\n",
       "\n",
       "<hr /><div style=\"text-align: center;\">[Package <em>nycflights13</em> version 1.0.1 ]</div>"
      ],
      "text/latex": [
       "\\inputencoding{utf8}\n",
       "\\HeaderA{weather}{Hourly weather data}{weather}\n",
       "\\keyword{datasets}{weather}\n",
       "%\n",
       "\\begin{Description}\\relax\n",
       "Hourly meterological data for LGA, JFK and EWR.\n",
       "\\end{Description}\n",
       "%\n",
       "\\begin{Usage}\n",
       "\\begin{verbatim}\n",
       "weather\n",
       "\\end{verbatim}\n",
       "\\end{Usage}\n",
       "%\n",
       "\\begin{Format}\n",
       "A data frame with columns\n",
       "\\begin{description}\n",
       "\n",
       "\\item[origin] Weather station. Named \\code{origin} to facilitate merging with\n",
       "\\code{\\LinkA{flights}{flights}} data.\n",
       "\\item[year, month, day, hour] Time of recording.\n",
       "\\item[temp, dewp] Temperature and dewpoint in F.\n",
       "\\item[humid] Relative humidity.\n",
       "\\item[wind\\_dir, wind\\_speed, wind\\_gust] Wind direction (in degrees), speed\n",
       "and gust speed (in mph).\n",
       "\\item[precip] Precipitation, in inches.\n",
       "\\item[pressure] Sea level pressure in millibars.\n",
       "\\item[visib] Visibility in miles.\n",
       "\\item[time\\_hour] Date and hour of the recording as a \\code{POSIXct} date.\n",
       "\n",
       "\\end{description}\n",
       "\\end{Format}\n",
       "%\n",
       "\\begin{Source}\\relax\n",
       "ASOS download from Iowa Environmental Mesonet,\n",
       "\\url{https://mesonet.agron.iastate.edu/request/download.phtml}.\n",
       "\\end{Source}"
      ],
      "text/plain": [
       "weather              package:nycflights13              R Documentation\n",
       "\n",
       "_\bH_\bo_\bu_\br_\bl_\by _\bw_\be_\ba_\bt_\bh_\be_\br _\bd_\ba_\bt_\ba\n",
       "\n",
       "_\bD_\be_\bs_\bc_\br_\bi_\bp_\bt_\bi_\bo_\bn:\n",
       "\n",
       "     Hourly meterological data for LGA, JFK and EWR.\n",
       "\n",
       "_\bU_\bs_\ba_\bg_\be:\n",
       "\n",
       "     weather\n",
       "     \n",
       "_\bF_\bo_\br_\bm_\ba_\bt:\n",
       "\n",
       "     A data frame with columns\n",
       "\n",
       "     origin Weather station. Named ‘origin’ to facilitate merging with\n",
       "          ‘flights’ data.\n",
       "\n",
       "     year, month, day, hour Time of recording.\n",
       "\n",
       "     temp, dewp Temperature and dewpoint in F.\n",
       "\n",
       "     humid Relative humidity.\n",
       "\n",
       "     wind_dir, wind_speed, wind_gust Wind direction (in degrees), speed\n",
       "          and gust speed (in mph).\n",
       "\n",
       "     precip Precipitation, in inches.\n",
       "\n",
       "     pressure Sea level pressure in millibars.\n",
       "\n",
       "     visib Visibility in miles.\n",
       "\n",
       "     time_hour Date and hour of the recording as a ‘POSIXct’ date.\n",
       "\n",
       "_\bS_\bo_\bu_\br_\bc_\be:\n",
       "\n",
       "     ASOS download from Iowa Environmental Mesonet, <URL:\n",
       "     https://mesonet.agron.iastate.edu/request/download.phtml>.\n"
      ]
     },
     "metadata": {},
     "output_type": "display_data"
    }
   ],
   "source": [
    "set.seed(0)\n",
    "\n",
    "summary(weather)\n",
    "sample_n(weather, 5)\n",
    "?weather"
   ]
  },
  {
   "cell_type": "markdown",
   "metadata": {},
   "source": [
    "## 5.1.3 dplyr basics\n",
    "\n",
    "> In this chapter you are going to learn the five key dplyr functions that allow you to solve the vast majority of your data manipulation challenges:\n",
    "> - Pick observations by their values (`filter()`).\n",
    "> - Reorder the rows (`arrange()`).\n",
    "> - Pick variables by their names (`select()`).\n",
    "> - Create new variables with functions of existing variables (`mutate()`).\n",
    "> - Collapse many values down to a single summary (`summarise()`).\n",
    ">\n",
    "> These can all be used in conjunction with `group_by()` which changes the scope of each function from operating on the entire dataset to operating on it group-by-group. These six functions provide the verbs for a language of data manipulation.\n",
    "\n",
    "## 5.2 Filter rows with `filter()`"
   ]
  },
  {
   "cell_type": "code",
   "execution_count": 6,
   "metadata": {},
   "outputs": [
    {
     "data": {
      "text/html": [
       "FALSE"
      ],
      "text/latex": [
       "FALSE"
      ],
      "text/markdown": [
       "FALSE"
      ],
      "text/plain": [
       "[1] FALSE"
      ]
     },
     "metadata": {},
     "output_type": "display_data"
    },
    {
     "data": {
      "text/html": [
       "FALSE"
      ],
      "text/latex": [
       "FALSE"
      ],
      "text/markdown": [
       "FALSE"
      ],
      "text/plain": [
       "[1] FALSE"
      ]
     },
     "metadata": {},
     "output_type": "display_data"
    },
    {
     "data": {
      "text/html": [
       "TRUE"
      ],
      "text/latex": [
       "TRUE"
      ],
      "text/markdown": [
       "TRUE"
      ],
      "text/plain": [
       "[1] TRUE"
      ]
     },
     "metadata": {},
     "output_type": "display_data"
    },
    {
     "data": {
      "text/html": [
       "TRUE"
      ],
      "text/latex": [
       "TRUE"
      ],
      "text/markdown": [
       "TRUE"
      ],
      "text/plain": [
       "[1] TRUE"
      ]
     },
     "metadata": {},
     "output_type": "display_data"
    }
   ],
   "source": [
    "sqrt(2)^2 == 2\n",
    "1 / 49 * 49 == 1\n",
    "\n",
    "near(sqrt(2)^2, 2)\n",
    "near(1 / 49 * 49, 1)"
   ]
  },
  {
   "cell_type": "code",
   "execution_count": 7,
   "metadata": {},
   "outputs": [
    {
     "data": {
      "text/html": [
       "<ol>\n",
       "\t<li>1</li>\n",
       "\t<li><ol>\n",
       "\t<li>2</li>\n",
       "\t<li><ol>\n",
       "\t<li>3</li>\n",
       "\t<li><ol>\n",
       "\t<li>4</li>\n",
       "\t<li><ol>\n",
       "\t<li>5</li>\n",
       "</ol>\n",
       "</li>\n",
       "</ol>\n",
       "</li>\n",
       "</ol>\n",
       "</li>\n",
       "</ol>\n",
       "</li>\n",
       "</ol>\n"
      ],
      "text/latex": [
       "\\begin{enumerate}\n",
       "\\item 1\n",
       "\\item \\begin{enumerate}\n",
       "\\item 2\n",
       "\\item \\begin{enumerate}\n",
       "\\item 3\n",
       "\\item \\begin{enumerate}\n",
       "\\item 4\n",
       "\\item \\begin{enumerate}\n",
       "\\item 5\n",
       "\\end{enumerate}\n",
       "\n",
       "\\end{enumerate}\n",
       "\n",
       "\\end{enumerate}\n",
       "\n",
       "\\end{enumerate}\n",
       "\n",
       "\\end{enumerate}\n"
      ],
      "text/markdown": [
       "1. 1\n",
       "2. 1. 2\n",
       "2. 1. 3\n",
       "2. 1. 4\n",
       "2. 1. 5\n",
       "\n",
       "\n",
       "\n",
       "\n",
       "\n",
       "\n",
       "\n",
       "\n",
       "\n",
       "\n",
       "\n",
       "\n",
       "\n",
       "\n"
      ],
      "text/plain": [
       "[[1]]\n",
       "[1] 1\n",
       "\n",
       "[[2]]\n",
       "[[2]][[1]]\n",
       "[1] 2\n",
       "\n",
       "[[2]][[2]]\n",
       "[[2]][[2]][[1]]\n",
       "[1] 3\n",
       "\n",
       "[[2]][[2]][[2]]\n",
       "[[2]][[2]][[2]][[1]]\n",
       "[1] 4\n",
       "\n",
       "[[2]][[2]][[2]][[2]]\n",
       "[[2]][[2]][[2]][[2]][[1]]\n",
       "[1] 5\n",
       "\n",
       "\n",
       "\n",
       "\n"
      ]
     },
     "metadata": {},
     "output_type": "display_data"
    },
    {
     "data": {
      "text/html": [
       "<style>\n",
       ".list-inline {list-style: none; margin:0; padding: 0}\n",
       ".list-inline>li {display: inline-block}\n",
       ".list-inline>li:not(:last-child)::after {content: \"\\00b7\"; padding: 0 .5ex}\n",
       "</style>\n",
       "<ol class=list-inline><li>1</li><li>2</li><li>3</li><li>4</li><li>5</li></ol>\n"
      ],
      "text/latex": [
       "\\begin{enumerate*}\n",
       "\\item 1\n",
       "\\item 2\n",
       "\\item 3\n",
       "\\item 4\n",
       "\\item 5\n",
       "\\end{enumerate*}\n"
      ],
      "text/markdown": [
       "1. 1\n",
       "2. 2\n",
       "3. 3\n",
       "4. 4\n",
       "5. 5\n",
       "\n",
       "\n"
      ],
      "text/plain": [
       "[1] 1 2 3 4 5"
      ]
     },
     "metadata": {},
     "output_type": "display_data"
    }
   ],
   "source": [
    "l <- list(1, list(2, list(3, list(4, list(5)))))\n",
    "c(l)\n",
    "c(l, recursive = TRUE)"
   ]
  },
  {
   "cell_type": "code",
   "execution_count": 8,
   "metadata": {},
   "outputs": [
    {
     "data": {
      "text/html": [
       "TRUE"
      ],
      "text/latex": [
       "TRUE"
      ],
      "text/markdown": [
       "TRUE"
      ],
      "text/plain": [
       "[1] TRUE"
      ]
     },
     "metadata": {},
     "output_type": "display_data"
    }
   ],
   "source": [
    "all_equal(\n",
    "  filter(flights, month == 11 | month == 12),\n",
    "  filter(flights, month %in% c(11, 12))\n",
    ")"
   ]
  },
  {
   "cell_type": "markdown",
   "metadata": {},
   "source": [
    "### 5.2.3 Missing values\n",
    "\n",
    "> The most confusing result is this one:\n",
    "> ```\n",
    "> NA == NA\n",
    "> #> [1] NA\n",
    "> ```\n",
    ">\n",
    "> It’s easiest to understand why this is true with a bit more context:\n",
    "> ```\n",
    "> # Let x be Mary's age. We don't know how old she is.\n",
    "> x <- NA\n",
    "> \n",
    "> # Let y be John's age. We don't know how old he is.\n",
    "> y <- NA\n",
    "> \n",
    "> # Are John and Mary the same age?\n",
    "> x == y\n",
    "> #> [1] NA\n",
    "> # We don't know!\n",
    "> ```"
   ]
  },
  {
   "cell_type": "code",
   "execution_count": 9,
   "metadata": {},
   "outputs": [
    {
     "data": {
      "text/html": [
       "&lt;NA&gt;"
      ],
      "text/latex": [
       "<NA>"
      ],
      "text/markdown": [
       "&lt;NA&gt;"
      ],
      "text/plain": [
       "[1] NA"
      ]
     },
     "metadata": {},
     "output_type": "display_data"
    },
    {
     "data": {
      "text/html": [
       "&lt;NA&gt;"
      ],
      "text/latex": [
       "<NA>"
      ],
      "text/markdown": [
       "&lt;NA&gt;"
      ],
      "text/plain": [
       "[1] NA"
      ]
     },
     "metadata": {},
     "output_type": "display_data"
    }
   ],
   "source": [
    "NA == NA\n",
    "NA != NA"
   ]
  },
  {
   "cell_type": "markdown",
   "metadata": {},
   "source": [
    "### 5.2.4 Exercises\n",
    "\n",
    "> 1. Find all flights that\n",
    ">     1. Had an arrival delay of two or more hours\n",
    ">     1. Flew to Houston (`IAH` or `HOU`)\n",
    ">     1. Were operated by United, American, or Delta\n",
    ">     1. Departed in summer (July, August, and September)\n",
    ">     1. Arrived more than two hours late, but didn’t leave late\n",
    ">     1. Were delayed by at least an hour, but made up over 30 minutes in flight\n",
    ">     1. Departed between midnight and 6am (inclusive)\n",
    "> 1. Another useful dplyr filtering helper is `between()`. What does it do? Can you use it to simplify the code needed to answer the previous challenges?\n",
    "> 1. How many flights have a missing `dep_time`? What other variables are missing? What might these rows represent?\n",
    "> 1. Why is `NA ^ 0` not missing? Why is `NA | TRUE` not missing? Why is `FALSE & NA` not missing? Can you figure out the general rule? (`NA * 0` is a tricky counterexample!)"
   ]
  },
  {
   "cell_type": "code",
   "execution_count": 10,
   "metadata": {},
   "outputs": [
    {
     "data": {
      "text/html": [
       "10200"
      ],
      "text/latex": [
       "10200"
      ],
      "text/markdown": [
       "10200"
      ],
      "text/plain": [
       "[1] 10200"
      ]
     },
     "metadata": {},
     "output_type": "display_data"
    }
   ],
   "source": [
    "# 1.A.\n",
    "flights %>%\n",
    "  filter(arr_delay >= 2 * 60) %>%\n",
    "  n_distinct"
   ]
  },
  {
   "cell_type": "code",
   "execution_count": 11,
   "metadata": {},
   "outputs": [
    {
     "data": {
      "text/html": [
       "9313"
      ],
      "text/latex": [
       "9313"
      ],
      "text/markdown": [
       "9313"
      ],
      "text/plain": [
       "[1] 9313"
      ]
     },
     "metadata": {},
     "output_type": "display_data"
    }
   ],
   "source": [
    "# 1.B.\n",
    "flights %>%\n",
    "  filter(dest %in% c(\"IAH\", \"HOU\")) %>%\n",
    "  n_distinct"
   ]
  },
  {
   "cell_type": "code",
   "execution_count": 12,
   "metadata": {},
   "outputs": [
    {
     "data": {
      "text/html": [
       "139504"
      ],
      "text/latex": [
       "139504"
      ],
      "text/markdown": [
       "139504"
      ],
      "text/plain": [
       "[1] 139504"
      ]
     },
     "metadata": {},
     "output_type": "display_data"
    }
   ],
   "source": [
    "# 1.C.\n",
    "airlines %>%\n",
    "  filter(grepl(\"United|American|Delta\", name)) %>%\n",
    "  inner_join(flights, by = \"carrier\") %>%\n",
    "  n_distinct"
   ]
  },
  {
   "cell_type": "code",
   "execution_count": 13,
   "metadata": {},
   "outputs": [
    {
     "data": {
      "text/html": [
       "86326"
      ],
      "text/latex": [
       "86326"
      ],
      "text/markdown": [
       "86326"
      ],
      "text/plain": [
       "[1] 86326"
      ]
     },
     "metadata": {},
     "output_type": "display_data"
    }
   ],
   "source": [
    "# 1.D.\n",
    "flights %>%\n",
    "  filter(between(month, 7, 9)) %>%\n",
    "  n_distinct"
   ]
  },
  {
   "cell_type": "code",
   "execution_count": 14,
   "metadata": {},
   "outputs": [
    {
     "data": {
      "text/html": [
       "29"
      ],
      "text/latex": [
       "29"
      ],
      "text/markdown": [
       "29"
      ],
      "text/plain": [
       "[1] 29"
      ]
     },
     "metadata": {},
     "output_type": "display_data"
    }
   ],
   "source": [
    "# 1.E.\n",
    "flights %>%\n",
    "  filter(dep_delay <= 0, arr_delay > 2 * 60) %>%\n",
    "  n_distinct"
   ]
  },
  {
   "cell_type": "code",
   "execution_count": 15,
   "metadata": {},
   "outputs": [],
   "source": [
    "# 1.F.\n",
    "# todo"
   ]
  },
  {
   "cell_type": "code",
   "execution_count": 16,
   "metadata": {},
   "outputs": [
    {
     "data": {
      "text/html": [
       "9344"
      ],
      "text/latex": [
       "9344"
      ],
      "text/markdown": [
       "9344"
      ],
      "text/plain": [
       "[1] 9344"
      ]
     },
     "metadata": {},
     "output_type": "display_data"
    }
   ],
   "source": [
    "# 1.G.\n",
    "flights %>%\n",
    "  filter(dep_time >= 0, dep_time <= 600) %>%\n",
    "  n_distinct"
   ]
  },
  {
   "cell_type": "code",
   "execution_count": 17,
   "metadata": {},
   "outputs": [
    {
     "data": {
      "text/html": [
       "8255"
      ],
      "text/latex": [
       "8255"
      ],
      "text/markdown": [
       "8255"
      ],
      "text/plain": [
       "[1] 8255"
      ]
     },
     "metadata": {},
     "output_type": "display_data"
    },
    {
     "data": {
      "text/html": [
       "<table>\n",
       "<caption>A tibble: 5 × 6</caption>\n",
       "<thead>\n",
       "\t<tr><th scope=col>dep_time</th><th scope=col>dep_delay</th><th scope=col>arr_time</th><th scope=col>arr_delay</th><th scope=col>tailnum</th><th scope=col>air_time</th></tr>\n",
       "\t<tr><th scope=col>&lt;int&gt;</th><th scope=col>&lt;dbl&gt;</th><th scope=col>&lt;int&gt;</th><th scope=col>&lt;dbl&gt;</th><th scope=col>&lt;chr&gt;</th><th scope=col>&lt;dbl&gt;</th></tr>\n",
       "</thead>\n",
       "<tbody>\n",
       "\t<tr><td>NA</td><td>NA</td><td>NA</td><td>NA</td><td>NA    </td><td>NA</td></tr>\n",
       "\t<tr><td>NA</td><td>NA</td><td>NA</td><td>NA</td><td>NA    </td><td>NA</td></tr>\n",
       "\t<tr><td>NA</td><td>NA</td><td>NA</td><td>NA</td><td>N535MQ</td><td>NA</td></tr>\n",
       "\t<tr><td>NA</td><td>NA</td><td>NA</td><td>NA</td><td>N511MQ</td><td>NA</td></tr>\n",
       "\t<tr><td>NA</td><td>NA</td><td>NA</td><td>NA</td><td>N839MQ</td><td>NA</td></tr>\n",
       "</tbody>\n",
       "</table>\n"
      ],
      "text/latex": [
       "A tibble: 5 × 6\n",
       "\\begin{tabular}{llllll}\n",
       " dep\\_time & dep\\_delay & arr\\_time & arr\\_delay & tailnum & air\\_time\\\\\n",
       " <int> & <dbl> & <int> & <dbl> & <chr> & <dbl>\\\\\n",
       "\\hline\n",
       "\t NA & NA & NA & NA & NA     & NA\\\\\n",
       "\t NA & NA & NA & NA & NA     & NA\\\\\n",
       "\t NA & NA & NA & NA & N535MQ & NA\\\\\n",
       "\t NA & NA & NA & NA & N511MQ & NA\\\\\n",
       "\t NA & NA & NA & NA & N839MQ & NA\\\\\n",
       "\\end{tabular}\n"
      ],
      "text/markdown": [
       "\n",
       "A tibble: 5 × 6\n",
       "\n",
       "| dep_time &lt;int&gt; | dep_delay &lt;dbl&gt; | arr_time &lt;int&gt; | arr_delay &lt;dbl&gt; | tailnum &lt;chr&gt; | air_time &lt;dbl&gt; |\n",
       "|---|---|---|---|---|---|\n",
       "| NA | NA | NA | NA | NA     | NA |\n",
       "| NA | NA | NA | NA | NA     | NA |\n",
       "| NA | NA | NA | NA | N535MQ | NA |\n",
       "| NA | NA | NA | NA | N511MQ | NA |\n",
       "| NA | NA | NA | NA | N839MQ | NA |\n",
       "\n"
      ],
      "text/plain": [
       "  dep_time dep_delay arr_time arr_delay tailnum air_time\n",
       "1 NA       NA        NA       NA        NA      NA      \n",
       "2 NA       NA        NA       NA        NA      NA      \n",
       "3 NA       NA        NA       NA        N535MQ  NA      \n",
       "4 NA       NA        NA       NA        N511MQ  NA      \n",
       "5 NA       NA        NA       NA        N839MQ  NA      "
      ]
     },
     "metadata": {},
     "output_type": "display_data"
    }
   ],
   "source": [
    "# 3.\n",
    "flights %>% filter(is.na(dep_time)) %>% n_distinct\n",
    "flights %>%\n",
    "  select_if(function(var) any(is.na(var))) %>%\n",
    "  tail(5)"
   ]
  },
  {
   "cell_type": "code",
   "execution_count": 18,
   "metadata": {},
   "outputs": [
    {
     "data": {
      "text/html": [
       "1"
      ],
      "text/latex": [
       "1"
      ],
      "text/markdown": [
       "1"
      ],
      "text/plain": [
       "[1] 1"
      ]
     },
     "metadata": {},
     "output_type": "display_data"
    },
    {
     "data": {
      "text/html": [
       "&lt;NA&gt;"
      ],
      "text/latex": [
       "<NA>"
      ],
      "text/markdown": [
       "&lt;NA&gt;"
      ],
      "text/plain": [
       "[1] NA"
      ]
     },
     "metadata": {},
     "output_type": "display_data"
    }
   ],
   "source": [
    "# 4.\n",
    "NA^0\n",
    "NA * 0"
   ]
  },
  {
   "cell_type": "markdown",
   "metadata": {},
   "source": [
    "## 5.3 Arrange rows with `arrange()`\n",
    "\n",
    "### 5.3.1 Exercises\n",
    "\n",
    "1. How could you use `arrange()` to sort all missing values to the start? (Hint: use `is.na()`).\n",
    "1. Sort `flights` to find the most delayed flights. Find the flights that left earliest.\n",
    "1. Sort `flights` to find the fastest (highest speed) flights.\n",
    "1. Which flights travelled the farthest? Which travelled the shortest?"
   ]
  },
  {
   "cell_type": "code",
   "execution_count": 19,
   "metadata": {},
   "outputs": [
    {
     "data": {
      "text/html": [
       "<table>\n",
       "<caption>A tibble: 3 × 19</caption>\n",
       "<thead>\n",
       "\t<tr><th scope=col>year</th><th scope=col>month</th><th scope=col>day</th><th scope=col>dep_time</th><th scope=col>sched_dep_time</th><th scope=col>dep_delay</th><th scope=col>arr_time</th><th scope=col>sched_arr_time</th><th scope=col>arr_delay</th><th scope=col>carrier</th><th scope=col>flight</th><th scope=col>tailnum</th><th scope=col>origin</th><th scope=col>dest</th><th scope=col>air_time</th><th scope=col>distance</th><th scope=col>hour</th><th scope=col>minute</th><th scope=col>time_hour</th></tr>\n",
       "\t<tr><th scope=col>&lt;int&gt;</th><th scope=col>&lt;int&gt;</th><th scope=col>&lt;int&gt;</th><th scope=col>&lt;int&gt;</th><th scope=col>&lt;int&gt;</th><th scope=col>&lt;dbl&gt;</th><th scope=col>&lt;int&gt;</th><th scope=col>&lt;int&gt;</th><th scope=col>&lt;dbl&gt;</th><th scope=col>&lt;chr&gt;</th><th scope=col>&lt;int&gt;</th><th scope=col>&lt;chr&gt;</th><th scope=col>&lt;chr&gt;</th><th scope=col>&lt;chr&gt;</th><th scope=col>&lt;dbl&gt;</th><th scope=col>&lt;dbl&gt;</th><th scope=col>&lt;dbl&gt;</th><th scope=col>&lt;dbl&gt;</th><th scope=col>&lt;dttm&gt;</th></tr>\n",
       "</thead>\n",
       "<tbody>\n",
       "\t<tr><td>2013</td><td>1</td><td>1</td><td>NA</td><td>1630</td><td>NA</td><td>NA</td><td>1815</td><td>NA</td><td>EV</td><td>4308</td><td>N18120</td><td>EWR</td><td>RDU</td><td>NA</td><td> 416</td><td>16</td><td>30</td><td>2013-01-01 16:00:00</td></tr>\n",
       "\t<tr><td>2013</td><td>1</td><td>1</td><td>NA</td><td>1935</td><td>NA</td><td>NA</td><td>2240</td><td>NA</td><td>AA</td><td> 791</td><td>N3EHAA</td><td>LGA</td><td>DFW</td><td>NA</td><td>1389</td><td>19</td><td>35</td><td>2013-01-01 19:00:00</td></tr>\n",
       "\t<tr><td>2013</td><td>1</td><td>1</td><td>NA</td><td>1500</td><td>NA</td><td>NA</td><td>1825</td><td>NA</td><td>AA</td><td>1925</td><td>N3EVAA</td><td>LGA</td><td>MIA</td><td>NA</td><td>1096</td><td>15</td><td> 0</td><td>2013-01-01 15:00:00</td></tr>\n",
       "</tbody>\n",
       "</table>\n"
      ],
      "text/latex": [
       "A tibble: 3 × 19\n",
       "\\begin{tabular}{lllllllllllllllllll}\n",
       " year & month & day & dep\\_time & sched\\_dep\\_time & dep\\_delay & arr\\_time & sched\\_arr\\_time & arr\\_delay & carrier & flight & tailnum & origin & dest & air\\_time & distance & hour & minute & time\\_hour\\\\\n",
       " <int> & <int> & <int> & <int> & <int> & <dbl> & <int> & <int> & <dbl> & <chr> & <int> & <chr> & <chr> & <chr> & <dbl> & <dbl> & <dbl> & <dbl> & <dttm>\\\\\n",
       "\\hline\n",
       "\t 2013 & 1 & 1 & NA & 1630 & NA & NA & 1815 & NA & EV & 4308 & N18120 & EWR & RDU & NA &  416 & 16 & 30 & 2013-01-01 16:00:00\\\\\n",
       "\t 2013 & 1 & 1 & NA & 1935 & NA & NA & 2240 & NA & AA &  791 & N3EHAA & LGA & DFW & NA & 1389 & 19 & 35 & 2013-01-01 19:00:00\\\\\n",
       "\t 2013 & 1 & 1 & NA & 1500 & NA & NA & 1825 & NA & AA & 1925 & N3EVAA & LGA & MIA & NA & 1096 & 15 &  0 & 2013-01-01 15:00:00\\\\\n",
       "\\end{tabular}\n"
      ],
      "text/markdown": [
       "\n",
       "A tibble: 3 × 19\n",
       "\n",
       "| year &lt;int&gt; | month &lt;int&gt; | day &lt;int&gt; | dep_time &lt;int&gt; | sched_dep_time &lt;int&gt; | dep_delay &lt;dbl&gt; | arr_time &lt;int&gt; | sched_arr_time &lt;int&gt; | arr_delay &lt;dbl&gt; | carrier &lt;chr&gt; | flight &lt;int&gt; | tailnum &lt;chr&gt; | origin &lt;chr&gt; | dest &lt;chr&gt; | air_time &lt;dbl&gt; | distance &lt;dbl&gt; | hour &lt;dbl&gt; | minute &lt;dbl&gt; | time_hour &lt;dttm&gt; |\n",
       "|---|---|---|---|---|---|---|---|---|---|---|---|---|---|---|---|---|---|---|\n",
       "| 2013 | 1 | 1 | NA | 1630 | NA | NA | 1815 | NA | EV | 4308 | N18120 | EWR | RDU | NA |  416 | 16 | 30 | 2013-01-01 16:00:00 |\n",
       "| 2013 | 1 | 1 | NA | 1935 | NA | NA | 2240 | NA | AA |  791 | N3EHAA | LGA | DFW | NA | 1389 | 19 | 35 | 2013-01-01 19:00:00 |\n",
       "| 2013 | 1 | 1 | NA | 1500 | NA | NA | 1825 | NA | AA | 1925 | N3EVAA | LGA | MIA | NA | 1096 | 15 |  0 | 2013-01-01 15:00:00 |\n",
       "\n"
      ],
      "text/plain": [
       "  year month day dep_time sched_dep_time dep_delay arr_time sched_arr_time\n",
       "1 2013 1     1   NA       1630           NA        NA       1815          \n",
       "2 2013 1     1   NA       1935           NA        NA       2240          \n",
       "3 2013 1     1   NA       1500           NA        NA       1825          \n",
       "  arr_delay carrier flight tailnum origin dest air_time distance hour minute\n",
       "1 NA        EV      4308   N18120  EWR    RDU  NA        416     16   30    \n",
       "2 NA        AA       791   N3EHAA  LGA    DFW  NA       1389     19   35    \n",
       "3 NA        AA      1925   N3EVAA  LGA    MIA  NA       1096     15    0    \n",
       "  time_hour          \n",
       "1 2013-01-01 16:00:00\n",
       "2 2013-01-01 19:00:00\n",
       "3 2013-01-01 15:00:00"
      ]
     },
     "metadata": {},
     "output_type": "display_data"
    }
   ],
   "source": [
    "# 1.\n",
    "arrange(flights, desc(is.na(dep_time))) %>% head(3)"
   ]
  },
  {
   "cell_type": "code",
   "execution_count": 20,
   "metadata": {},
   "outputs": [
    {
     "data": {
      "text/html": [
       "<table>\n",
       "<caption>A tibble: 3 × 19</caption>\n",
       "<thead>\n",
       "\t<tr><th scope=col>year</th><th scope=col>month</th><th scope=col>day</th><th scope=col>dep_time</th><th scope=col>sched_dep_time</th><th scope=col>dep_delay</th><th scope=col>arr_time</th><th scope=col>sched_arr_time</th><th scope=col>arr_delay</th><th scope=col>carrier</th><th scope=col>flight</th><th scope=col>tailnum</th><th scope=col>origin</th><th scope=col>dest</th><th scope=col>air_time</th><th scope=col>distance</th><th scope=col>hour</th><th scope=col>minute</th><th scope=col>time_hour</th></tr>\n",
       "\t<tr><th scope=col>&lt;int&gt;</th><th scope=col>&lt;int&gt;</th><th scope=col>&lt;int&gt;</th><th scope=col>&lt;int&gt;</th><th scope=col>&lt;int&gt;</th><th scope=col>&lt;dbl&gt;</th><th scope=col>&lt;int&gt;</th><th scope=col>&lt;int&gt;</th><th scope=col>&lt;dbl&gt;</th><th scope=col>&lt;chr&gt;</th><th scope=col>&lt;int&gt;</th><th scope=col>&lt;chr&gt;</th><th scope=col>&lt;chr&gt;</th><th scope=col>&lt;chr&gt;</th><th scope=col>&lt;dbl&gt;</th><th scope=col>&lt;dbl&gt;</th><th scope=col>&lt;dbl&gt;</th><th scope=col>&lt;dbl&gt;</th><th scope=col>&lt;dttm&gt;</th></tr>\n",
       "</thead>\n",
       "<tbody>\n",
       "\t<tr><td>2013</td><td>12</td><td> 7</td><td>2040</td><td>2123</td><td>-43</td><td>  40</td><td>2352</td><td> 48</td><td>B6</td><td>  97</td><td>N592JB</td><td>JFK</td><td>DEN</td><td>265</td><td>1626</td><td>21</td><td>23</td><td>2013-12-07 21:00:00</td></tr>\n",
       "\t<tr><td>2013</td><td> 2</td><td> 3</td><td>2022</td><td>2055</td><td>-33</td><td>2240</td><td>2338</td><td>-58</td><td>DL</td><td>1715</td><td>N612DL</td><td>LGA</td><td>MSY</td><td>162</td><td>1183</td><td>20</td><td>55</td><td>2013-02-03 20:00:00</td></tr>\n",
       "\t<tr><td>2013</td><td>11</td><td>10</td><td>1408</td><td>1440</td><td>-32</td><td>1549</td><td>1559</td><td>-10</td><td>EV</td><td>5713</td><td>N825AS</td><td>LGA</td><td>IAD</td><td> 52</td><td> 229</td><td>14</td><td>40</td><td>2013-11-10 14:00:00</td></tr>\n",
       "</tbody>\n",
       "</table>\n"
      ],
      "text/latex": [
       "A tibble: 3 × 19\n",
       "\\begin{tabular}{lllllllllllllllllll}\n",
       " year & month & day & dep\\_time & sched\\_dep\\_time & dep\\_delay & arr\\_time & sched\\_arr\\_time & arr\\_delay & carrier & flight & tailnum & origin & dest & air\\_time & distance & hour & minute & time\\_hour\\\\\n",
       " <int> & <int> & <int> & <int> & <int> & <dbl> & <int> & <int> & <dbl> & <chr> & <int> & <chr> & <chr> & <chr> & <dbl> & <dbl> & <dbl> & <dbl> & <dttm>\\\\\n",
       "\\hline\n",
       "\t 2013 & 12 &  7 & 2040 & 2123 & -43 &   40 & 2352 &  48 & B6 &   97 & N592JB & JFK & DEN & 265 & 1626 & 21 & 23 & 2013-12-07 21:00:00\\\\\n",
       "\t 2013 &  2 &  3 & 2022 & 2055 & -33 & 2240 & 2338 & -58 & DL & 1715 & N612DL & LGA & MSY & 162 & 1183 & 20 & 55 & 2013-02-03 20:00:00\\\\\n",
       "\t 2013 & 11 & 10 & 1408 & 1440 & -32 & 1549 & 1559 & -10 & EV & 5713 & N825AS & LGA & IAD &  52 &  229 & 14 & 40 & 2013-11-10 14:00:00\\\\\n",
       "\\end{tabular}\n"
      ],
      "text/markdown": [
       "\n",
       "A tibble: 3 × 19\n",
       "\n",
       "| year &lt;int&gt; | month &lt;int&gt; | day &lt;int&gt; | dep_time &lt;int&gt; | sched_dep_time &lt;int&gt; | dep_delay &lt;dbl&gt; | arr_time &lt;int&gt; | sched_arr_time &lt;int&gt; | arr_delay &lt;dbl&gt; | carrier &lt;chr&gt; | flight &lt;int&gt; | tailnum &lt;chr&gt; | origin &lt;chr&gt; | dest &lt;chr&gt; | air_time &lt;dbl&gt; | distance &lt;dbl&gt; | hour &lt;dbl&gt; | minute &lt;dbl&gt; | time_hour &lt;dttm&gt; |\n",
       "|---|---|---|---|---|---|---|---|---|---|---|---|---|---|---|---|---|---|---|\n",
       "| 2013 | 12 |  7 | 2040 | 2123 | -43 |   40 | 2352 |  48 | B6 |   97 | N592JB | JFK | DEN | 265 | 1626 | 21 | 23 | 2013-12-07 21:00:00 |\n",
       "| 2013 |  2 |  3 | 2022 | 2055 | -33 | 2240 | 2338 | -58 | DL | 1715 | N612DL | LGA | MSY | 162 | 1183 | 20 | 55 | 2013-02-03 20:00:00 |\n",
       "| 2013 | 11 | 10 | 1408 | 1440 | -32 | 1549 | 1559 | -10 | EV | 5713 | N825AS | LGA | IAD |  52 |  229 | 14 | 40 | 2013-11-10 14:00:00 |\n",
       "\n"
      ],
      "text/plain": [
       "  year month day dep_time sched_dep_time dep_delay arr_time sched_arr_time\n",
       "1 2013 12     7  2040     2123           -43         40     2352          \n",
       "2 2013  2     3  2022     2055           -33       2240     2338          \n",
       "3 2013 11    10  1408     1440           -32       1549     1559          \n",
       "  arr_delay carrier flight tailnum origin dest air_time distance hour minute\n",
       "1  48       B6        97   N592JB  JFK    DEN  265      1626     21   23    \n",
       "2 -58       DL      1715   N612DL  LGA    MSY  162      1183     20   55    \n",
       "3 -10       EV      5713   N825AS  LGA    IAD   52       229     14   40    \n",
       "  time_hour          \n",
       "1 2013-12-07 21:00:00\n",
       "2 2013-02-03 20:00:00\n",
       "3 2013-11-10 14:00:00"
      ]
     },
     "metadata": {},
     "output_type": "display_data"
    },
    {
     "data": {
      "text/html": [
       "<table>\n",
       "<caption>A tibble: 3 × 19</caption>\n",
       "<thead>\n",
       "\t<tr><th scope=col>year</th><th scope=col>month</th><th scope=col>day</th><th scope=col>dep_time</th><th scope=col>sched_dep_time</th><th scope=col>dep_delay</th><th scope=col>arr_time</th><th scope=col>sched_arr_time</th><th scope=col>arr_delay</th><th scope=col>carrier</th><th scope=col>flight</th><th scope=col>tailnum</th><th scope=col>origin</th><th scope=col>dest</th><th scope=col>air_time</th><th scope=col>distance</th><th scope=col>hour</th><th scope=col>minute</th><th scope=col>time_hour</th></tr>\n",
       "\t<tr><th scope=col>&lt;int&gt;</th><th scope=col>&lt;int&gt;</th><th scope=col>&lt;int&gt;</th><th scope=col>&lt;int&gt;</th><th scope=col>&lt;int&gt;</th><th scope=col>&lt;dbl&gt;</th><th scope=col>&lt;int&gt;</th><th scope=col>&lt;int&gt;</th><th scope=col>&lt;dbl&gt;</th><th scope=col>&lt;chr&gt;</th><th scope=col>&lt;int&gt;</th><th scope=col>&lt;chr&gt;</th><th scope=col>&lt;chr&gt;</th><th scope=col>&lt;chr&gt;</th><th scope=col>&lt;dbl&gt;</th><th scope=col>&lt;dbl&gt;</th><th scope=col>&lt;dbl&gt;</th><th scope=col>&lt;dbl&gt;</th><th scope=col>&lt;dttm&gt;</th></tr>\n",
       "</thead>\n",
       "<tbody>\n",
       "\t<tr><td>2013</td><td> 1</td><td>13</td><td>1</td><td>2249</td><td> 72</td><td>108</td><td>2357</td><td> 71</td><td>B6</td><td>  22</td><td>N206JB</td><td>JFK</td><td>SYR</td><td> 41</td><td> 209</td><td>22</td><td>49</td><td>2013-01-13 22:00:00</td></tr>\n",
       "\t<tr><td>2013</td><td> 1</td><td>31</td><td>1</td><td>2100</td><td>181</td><td>124</td><td>2225</td><td>179</td><td>WN</td><td> 530</td><td>N550WN</td><td>LGA</td><td>MDW</td><td>127</td><td> 725</td><td>21</td><td> 0</td><td>2013-01-31 21:00:00</td></tr>\n",
       "\t<tr><td>2013</td><td>11</td><td>13</td><td>1</td><td>2359</td><td>  2</td><td>442</td><td> 440</td><td>  2</td><td>B6</td><td>1503</td><td>N627JB</td><td>JFK</td><td>SJU</td><td>194</td><td>1598</td><td>23</td><td>59</td><td>2013-11-13 23:00:00</td></tr>\n",
       "</tbody>\n",
       "</table>\n"
      ],
      "text/latex": [
       "A tibble: 3 × 19\n",
       "\\begin{tabular}{lllllllllllllllllll}\n",
       " year & month & day & dep\\_time & sched\\_dep\\_time & dep\\_delay & arr\\_time & sched\\_arr\\_time & arr\\_delay & carrier & flight & tailnum & origin & dest & air\\_time & distance & hour & minute & time\\_hour\\\\\n",
       " <int> & <int> & <int> & <int> & <int> & <dbl> & <int> & <int> & <dbl> & <chr> & <int> & <chr> & <chr> & <chr> & <dbl> & <dbl> & <dbl> & <dbl> & <dttm>\\\\\n",
       "\\hline\n",
       "\t 2013 &  1 & 13 & 1 & 2249 &  72 & 108 & 2357 &  71 & B6 &   22 & N206JB & JFK & SYR &  41 &  209 & 22 & 49 & 2013-01-13 22:00:00\\\\\n",
       "\t 2013 &  1 & 31 & 1 & 2100 & 181 & 124 & 2225 & 179 & WN &  530 & N550WN & LGA & MDW & 127 &  725 & 21 &  0 & 2013-01-31 21:00:00\\\\\n",
       "\t 2013 & 11 & 13 & 1 & 2359 &   2 & 442 &  440 &   2 & B6 & 1503 & N627JB & JFK & SJU & 194 & 1598 & 23 & 59 & 2013-11-13 23:00:00\\\\\n",
       "\\end{tabular}\n"
      ],
      "text/markdown": [
       "\n",
       "A tibble: 3 × 19\n",
       "\n",
       "| year &lt;int&gt; | month &lt;int&gt; | day &lt;int&gt; | dep_time &lt;int&gt; | sched_dep_time &lt;int&gt; | dep_delay &lt;dbl&gt; | arr_time &lt;int&gt; | sched_arr_time &lt;int&gt; | arr_delay &lt;dbl&gt; | carrier &lt;chr&gt; | flight &lt;int&gt; | tailnum &lt;chr&gt; | origin &lt;chr&gt; | dest &lt;chr&gt; | air_time &lt;dbl&gt; | distance &lt;dbl&gt; | hour &lt;dbl&gt; | minute &lt;dbl&gt; | time_hour &lt;dttm&gt; |\n",
       "|---|---|---|---|---|---|---|---|---|---|---|---|---|---|---|---|---|---|---|\n",
       "| 2013 |  1 | 13 | 1 | 2249 |  72 | 108 | 2357 |  71 | B6 |   22 | N206JB | JFK | SYR |  41 |  209 | 22 | 49 | 2013-01-13 22:00:00 |\n",
       "| 2013 |  1 | 31 | 1 | 2100 | 181 | 124 | 2225 | 179 | WN |  530 | N550WN | LGA | MDW | 127 |  725 | 21 |  0 | 2013-01-31 21:00:00 |\n",
       "| 2013 | 11 | 13 | 1 | 2359 |   2 | 442 |  440 |   2 | B6 | 1503 | N627JB | JFK | SJU | 194 | 1598 | 23 | 59 | 2013-11-13 23:00:00 |\n",
       "\n"
      ],
      "text/plain": [
       "  year month day dep_time sched_dep_time dep_delay arr_time sched_arr_time\n",
       "1 2013  1    13  1        2249            72       108      2357          \n",
       "2 2013  1    31  1        2100           181       124      2225          \n",
       "3 2013 11    13  1        2359             2       442       440          \n",
       "  arr_delay carrier flight tailnum origin dest air_time distance hour minute\n",
       "1  71       B6        22   N206JB  JFK    SYR   41       209     22   49    \n",
       "2 179       WN       530   N550WN  LGA    MDW  127       725     21    0    \n",
       "3   2       B6      1503   N627JB  JFK    SJU  194      1598     23   59    \n",
       "  time_hour          \n",
       "1 2013-01-13 22:00:00\n",
       "2 2013-01-31 21:00:00\n",
       "3 2013-11-13 23:00:00"
      ]
     },
     "metadata": {},
     "output_type": "display_data"
    }
   ],
   "source": [
    "# 2.\n",
    "arrange(flights, dep_delay) %>% head(3)\n",
    "arrange(flights, dep_time) %>% head(3)"
   ]
  },
  {
   "cell_type": "code",
   "execution_count": 21,
   "metadata": {},
   "outputs": [
    {
     "data": {
      "text/html": [
       "<table>\n",
       "<caption>A tibble: 3 × 19</caption>\n",
       "<thead>\n",
       "\t<tr><th scope=col>year</th><th scope=col>month</th><th scope=col>day</th><th scope=col>dep_time</th><th scope=col>sched_dep_time</th><th scope=col>dep_delay</th><th scope=col>arr_time</th><th scope=col>sched_arr_time</th><th scope=col>arr_delay</th><th scope=col>carrier</th><th scope=col>flight</th><th scope=col>tailnum</th><th scope=col>origin</th><th scope=col>dest</th><th scope=col>air_time</th><th scope=col>distance</th><th scope=col>hour</th><th scope=col>minute</th><th scope=col>time_hour</th></tr>\n",
       "\t<tr><th scope=col>&lt;int&gt;</th><th scope=col>&lt;int&gt;</th><th scope=col>&lt;int&gt;</th><th scope=col>&lt;int&gt;</th><th scope=col>&lt;int&gt;</th><th scope=col>&lt;dbl&gt;</th><th scope=col>&lt;int&gt;</th><th scope=col>&lt;int&gt;</th><th scope=col>&lt;dbl&gt;</th><th scope=col>&lt;chr&gt;</th><th scope=col>&lt;int&gt;</th><th scope=col>&lt;chr&gt;</th><th scope=col>&lt;chr&gt;</th><th scope=col>&lt;chr&gt;</th><th scope=col>&lt;dbl&gt;</th><th scope=col>&lt;dbl&gt;</th><th scope=col>&lt;dbl&gt;</th><th scope=col>&lt;dbl&gt;</th><th scope=col>&lt;dttm&gt;</th></tr>\n",
       "</thead>\n",
       "<tbody>\n",
       "\t<tr><td>2013</td><td>5</td><td>25</td><td>1709</td><td>1700</td><td> 9</td><td>1923</td><td>1937</td><td>-14</td><td>DL</td><td>1499</td><td>N666DN</td><td>LGA</td><td>ATL</td><td>65</td><td> 762</td><td>17</td><td> 0</td><td>2013-05-25 17:00:00</td></tr>\n",
       "\t<tr><td>2013</td><td>7</td><td> 2</td><td>1558</td><td>1513</td><td>45</td><td>1745</td><td>1719</td><td> 26</td><td>EV</td><td>4667</td><td>N17196</td><td>EWR</td><td>MSP</td><td>93</td><td>1008</td><td>15</td><td>13</td><td>2013-07-02 15:00:00</td></tr>\n",
       "\t<tr><td>2013</td><td>5</td><td>13</td><td>2040</td><td>2025</td><td>15</td><td>2225</td><td>2226</td><td> -1</td><td>EV</td><td>4292</td><td>N14568</td><td>EWR</td><td>GSP</td><td>55</td><td> 594</td><td>20</td><td>25</td><td>2013-05-13 20:00:00</td></tr>\n",
       "</tbody>\n",
       "</table>\n"
      ],
      "text/latex": [
       "A tibble: 3 × 19\n",
       "\\begin{tabular}{lllllllllllllllllll}\n",
       " year & month & day & dep\\_time & sched\\_dep\\_time & dep\\_delay & arr\\_time & sched\\_arr\\_time & arr\\_delay & carrier & flight & tailnum & origin & dest & air\\_time & distance & hour & minute & time\\_hour\\\\\n",
       " <int> & <int> & <int> & <int> & <int> & <dbl> & <int> & <int> & <dbl> & <chr> & <int> & <chr> & <chr> & <chr> & <dbl> & <dbl> & <dbl> & <dbl> & <dttm>\\\\\n",
       "\\hline\n",
       "\t 2013 & 5 & 25 & 1709 & 1700 &  9 & 1923 & 1937 & -14 & DL & 1499 & N666DN & LGA & ATL & 65 &  762 & 17 &  0 & 2013-05-25 17:00:00\\\\\n",
       "\t 2013 & 7 &  2 & 1558 & 1513 & 45 & 1745 & 1719 &  26 & EV & 4667 & N17196 & EWR & MSP & 93 & 1008 & 15 & 13 & 2013-07-02 15:00:00\\\\\n",
       "\t 2013 & 5 & 13 & 2040 & 2025 & 15 & 2225 & 2226 &  -1 & EV & 4292 & N14568 & EWR & GSP & 55 &  594 & 20 & 25 & 2013-05-13 20:00:00\\\\\n",
       "\\end{tabular}\n"
      ],
      "text/markdown": [
       "\n",
       "A tibble: 3 × 19\n",
       "\n",
       "| year &lt;int&gt; | month &lt;int&gt; | day &lt;int&gt; | dep_time &lt;int&gt; | sched_dep_time &lt;int&gt; | dep_delay &lt;dbl&gt; | arr_time &lt;int&gt; | sched_arr_time &lt;int&gt; | arr_delay &lt;dbl&gt; | carrier &lt;chr&gt; | flight &lt;int&gt; | tailnum &lt;chr&gt; | origin &lt;chr&gt; | dest &lt;chr&gt; | air_time &lt;dbl&gt; | distance &lt;dbl&gt; | hour &lt;dbl&gt; | minute &lt;dbl&gt; | time_hour &lt;dttm&gt; |\n",
       "|---|---|---|---|---|---|---|---|---|---|---|---|---|---|---|---|---|---|---|\n",
       "| 2013 | 5 | 25 | 1709 | 1700 |  9 | 1923 | 1937 | -14 | DL | 1499 | N666DN | LGA | ATL | 65 |  762 | 17 |  0 | 2013-05-25 17:00:00 |\n",
       "| 2013 | 7 |  2 | 1558 | 1513 | 45 | 1745 | 1719 |  26 | EV | 4667 | N17196 | EWR | MSP | 93 | 1008 | 15 | 13 | 2013-07-02 15:00:00 |\n",
       "| 2013 | 5 | 13 | 2040 | 2025 | 15 | 2225 | 2226 |  -1 | EV | 4292 | N14568 | EWR | GSP | 55 |  594 | 20 | 25 | 2013-05-13 20:00:00 |\n",
       "\n"
      ],
      "text/plain": [
       "  year month day dep_time sched_dep_time dep_delay arr_time sched_arr_time\n",
       "1 2013 5     25  1709     1700            9        1923     1937          \n",
       "2 2013 7      2  1558     1513           45        1745     1719          \n",
       "3 2013 5     13  2040     2025           15        2225     2226          \n",
       "  arr_delay carrier flight tailnum origin dest air_time distance hour minute\n",
       "1 -14       DL      1499   N666DN  LGA    ATL  65        762     17    0    \n",
       "2  26       EV      4667   N17196  EWR    MSP  93       1008     15   13    \n",
       "3  -1       EV      4292   N14568  EWR    GSP  55        594     20   25    \n",
       "  time_hour          \n",
       "1 2013-05-25 17:00:00\n",
       "2 2013-07-02 15:00:00\n",
       "3 2013-05-13 20:00:00"
      ]
     },
     "metadata": {},
     "output_type": "display_data"
    }
   ],
   "source": [
    "# 3.\n",
    "arrange(flights, desc(distance / air_time)) %>% head(3)"
   ]
  },
  {
   "cell_type": "code",
   "execution_count": 22,
   "metadata": {},
   "outputs": [
    {
     "data": {
      "text/html": [
       "<table>\n",
       "<caption>A tibble: 3 × 19</caption>\n",
       "<thead>\n",
       "\t<tr><th scope=col>year</th><th scope=col>month</th><th scope=col>day</th><th scope=col>dep_time</th><th scope=col>sched_dep_time</th><th scope=col>dep_delay</th><th scope=col>arr_time</th><th scope=col>sched_arr_time</th><th scope=col>arr_delay</th><th scope=col>carrier</th><th scope=col>flight</th><th scope=col>tailnum</th><th scope=col>origin</th><th scope=col>dest</th><th scope=col>air_time</th><th scope=col>distance</th><th scope=col>hour</th><th scope=col>minute</th><th scope=col>time_hour</th></tr>\n",
       "\t<tr><th scope=col>&lt;int&gt;</th><th scope=col>&lt;int&gt;</th><th scope=col>&lt;int&gt;</th><th scope=col>&lt;int&gt;</th><th scope=col>&lt;int&gt;</th><th scope=col>&lt;dbl&gt;</th><th scope=col>&lt;int&gt;</th><th scope=col>&lt;int&gt;</th><th scope=col>&lt;dbl&gt;</th><th scope=col>&lt;chr&gt;</th><th scope=col>&lt;int&gt;</th><th scope=col>&lt;chr&gt;</th><th scope=col>&lt;chr&gt;</th><th scope=col>&lt;chr&gt;</th><th scope=col>&lt;dbl&gt;</th><th scope=col>&lt;dbl&gt;</th><th scope=col>&lt;dbl&gt;</th><th scope=col>&lt;dbl&gt;</th><th scope=col>&lt;dttm&gt;</th></tr>\n",
       "</thead>\n",
       "<tbody>\n",
       "\t<tr><td>2013</td><td>1</td><td>1</td><td>857</td><td>900</td><td>-3</td><td>1516</td><td>1530</td><td>-14</td><td>HA</td><td>51</td><td>N380HA</td><td>JFK</td><td>HNL</td><td>659</td><td>4983</td><td>9</td><td>0</td><td>2013-01-01 09:00:00</td></tr>\n",
       "\t<tr><td>2013</td><td>1</td><td>2</td><td>909</td><td>900</td><td> 9</td><td>1525</td><td>1530</td><td> -5</td><td>HA</td><td>51</td><td>N380HA</td><td>JFK</td><td>HNL</td><td>638</td><td>4983</td><td>9</td><td>0</td><td>2013-01-02 09:00:00</td></tr>\n",
       "\t<tr><td>2013</td><td>1</td><td>3</td><td>914</td><td>900</td><td>14</td><td>1504</td><td>1530</td><td>-26</td><td>HA</td><td>51</td><td>N380HA</td><td>JFK</td><td>HNL</td><td>616</td><td>4983</td><td>9</td><td>0</td><td>2013-01-03 09:00:00</td></tr>\n",
       "</tbody>\n",
       "</table>\n"
      ],
      "text/latex": [
       "A tibble: 3 × 19\n",
       "\\begin{tabular}{lllllllllllllllllll}\n",
       " year & month & day & dep\\_time & sched\\_dep\\_time & dep\\_delay & arr\\_time & sched\\_arr\\_time & arr\\_delay & carrier & flight & tailnum & origin & dest & air\\_time & distance & hour & minute & time\\_hour\\\\\n",
       " <int> & <int> & <int> & <int> & <int> & <dbl> & <int> & <int> & <dbl> & <chr> & <int> & <chr> & <chr> & <chr> & <dbl> & <dbl> & <dbl> & <dbl> & <dttm>\\\\\n",
       "\\hline\n",
       "\t 2013 & 1 & 1 & 857 & 900 & -3 & 1516 & 1530 & -14 & HA & 51 & N380HA & JFK & HNL & 659 & 4983 & 9 & 0 & 2013-01-01 09:00:00\\\\\n",
       "\t 2013 & 1 & 2 & 909 & 900 &  9 & 1525 & 1530 &  -5 & HA & 51 & N380HA & JFK & HNL & 638 & 4983 & 9 & 0 & 2013-01-02 09:00:00\\\\\n",
       "\t 2013 & 1 & 3 & 914 & 900 & 14 & 1504 & 1530 & -26 & HA & 51 & N380HA & JFK & HNL & 616 & 4983 & 9 & 0 & 2013-01-03 09:00:00\\\\\n",
       "\\end{tabular}\n"
      ],
      "text/markdown": [
       "\n",
       "A tibble: 3 × 19\n",
       "\n",
       "| year &lt;int&gt; | month &lt;int&gt; | day &lt;int&gt; | dep_time &lt;int&gt; | sched_dep_time &lt;int&gt; | dep_delay &lt;dbl&gt; | arr_time &lt;int&gt; | sched_arr_time &lt;int&gt; | arr_delay &lt;dbl&gt; | carrier &lt;chr&gt; | flight &lt;int&gt; | tailnum &lt;chr&gt; | origin &lt;chr&gt; | dest &lt;chr&gt; | air_time &lt;dbl&gt; | distance &lt;dbl&gt; | hour &lt;dbl&gt; | minute &lt;dbl&gt; | time_hour &lt;dttm&gt; |\n",
       "|---|---|---|---|---|---|---|---|---|---|---|---|---|---|---|---|---|---|---|\n",
       "| 2013 | 1 | 1 | 857 | 900 | -3 | 1516 | 1530 | -14 | HA | 51 | N380HA | JFK | HNL | 659 | 4983 | 9 | 0 | 2013-01-01 09:00:00 |\n",
       "| 2013 | 1 | 2 | 909 | 900 |  9 | 1525 | 1530 |  -5 | HA | 51 | N380HA | JFK | HNL | 638 | 4983 | 9 | 0 | 2013-01-02 09:00:00 |\n",
       "| 2013 | 1 | 3 | 914 | 900 | 14 | 1504 | 1530 | -26 | HA | 51 | N380HA | JFK | HNL | 616 | 4983 | 9 | 0 | 2013-01-03 09:00:00 |\n",
       "\n"
      ],
      "text/plain": [
       "  year month day dep_time sched_dep_time dep_delay arr_time sched_arr_time\n",
       "1 2013 1     1   857      900            -3        1516     1530          \n",
       "2 2013 1     2   909      900             9        1525     1530          \n",
       "3 2013 1     3   914      900            14        1504     1530          \n",
       "  arr_delay carrier flight tailnum origin dest air_time distance hour minute\n",
       "1 -14       HA      51     N380HA  JFK    HNL  659      4983     9    0     \n",
       "2  -5       HA      51     N380HA  JFK    HNL  638      4983     9    0     \n",
       "3 -26       HA      51     N380HA  JFK    HNL  616      4983     9    0     \n",
       "  time_hour          \n",
       "1 2013-01-01 09:00:00\n",
       "2 2013-01-02 09:00:00\n",
       "3 2013-01-03 09:00:00"
      ]
     },
     "metadata": {},
     "output_type": "display_data"
    },
    {
     "data": {
      "text/html": [
       "<table>\n",
       "<caption>A tibble: 3 × 19</caption>\n",
       "<thead>\n",
       "\t<tr><th scope=col>year</th><th scope=col>month</th><th scope=col>day</th><th scope=col>dep_time</th><th scope=col>sched_dep_time</th><th scope=col>dep_delay</th><th scope=col>arr_time</th><th scope=col>sched_arr_time</th><th scope=col>arr_delay</th><th scope=col>carrier</th><th scope=col>flight</th><th scope=col>tailnum</th><th scope=col>origin</th><th scope=col>dest</th><th scope=col>air_time</th><th scope=col>distance</th><th scope=col>hour</th><th scope=col>minute</th><th scope=col>time_hour</th></tr>\n",
       "\t<tr><th scope=col>&lt;int&gt;</th><th scope=col>&lt;int&gt;</th><th scope=col>&lt;int&gt;</th><th scope=col>&lt;int&gt;</th><th scope=col>&lt;int&gt;</th><th scope=col>&lt;dbl&gt;</th><th scope=col>&lt;int&gt;</th><th scope=col>&lt;int&gt;</th><th scope=col>&lt;dbl&gt;</th><th scope=col>&lt;chr&gt;</th><th scope=col>&lt;int&gt;</th><th scope=col>&lt;chr&gt;</th><th scope=col>&lt;chr&gt;</th><th scope=col>&lt;chr&gt;</th><th scope=col>&lt;dbl&gt;</th><th scope=col>&lt;dbl&gt;</th><th scope=col>&lt;dbl&gt;</th><th scope=col>&lt;dbl&gt;</th><th scope=col>&lt;dttm&gt;</th></tr>\n",
       "</thead>\n",
       "<tbody>\n",
       "\t<tr><td>2013</td><td>7</td><td>27</td><td>  NA</td><td> 106</td><td>NA</td><td>  NA</td><td> 245</td><td>NA</td><td>US</td><td>1632</td><td>NA    </td><td>EWR</td><td>LGA</td><td>NA</td><td>17</td><td> 1</td><td> 6</td><td>2013-07-27 01:00:00</td></tr>\n",
       "\t<tr><td>2013</td><td>1</td><td> 3</td><td>2127</td><td>2129</td><td>-2</td><td>2222</td><td>2224</td><td>-2</td><td>EV</td><td>3833</td><td>N13989</td><td>EWR</td><td>PHL</td><td>30</td><td>80</td><td>21</td><td>29</td><td>2013-01-03 21:00:00</td></tr>\n",
       "\t<tr><td>2013</td><td>1</td><td> 4</td><td>1240</td><td>1200</td><td>40</td><td>1333</td><td>1306</td><td>27</td><td>EV</td><td>4193</td><td>N14972</td><td>EWR</td><td>PHL</td><td>30</td><td>80</td><td>12</td><td> 0</td><td>2013-01-04 12:00:00</td></tr>\n",
       "</tbody>\n",
       "</table>\n"
      ],
      "text/latex": [
       "A tibble: 3 × 19\n",
       "\\begin{tabular}{lllllllllllllllllll}\n",
       " year & month & day & dep\\_time & sched\\_dep\\_time & dep\\_delay & arr\\_time & sched\\_arr\\_time & arr\\_delay & carrier & flight & tailnum & origin & dest & air\\_time & distance & hour & minute & time\\_hour\\\\\n",
       " <int> & <int> & <int> & <int> & <int> & <dbl> & <int> & <int> & <dbl> & <chr> & <int> & <chr> & <chr> & <chr> & <dbl> & <dbl> & <dbl> & <dbl> & <dttm>\\\\\n",
       "\\hline\n",
       "\t 2013 & 7 & 27 &   NA &  106 & NA &   NA &  245 & NA & US & 1632 & NA     & EWR & LGA & NA & 17 &  1 &  6 & 2013-07-27 01:00:00\\\\\n",
       "\t 2013 & 1 &  3 & 2127 & 2129 & -2 & 2222 & 2224 & -2 & EV & 3833 & N13989 & EWR & PHL & 30 & 80 & 21 & 29 & 2013-01-03 21:00:00\\\\\n",
       "\t 2013 & 1 &  4 & 1240 & 1200 & 40 & 1333 & 1306 & 27 & EV & 4193 & N14972 & EWR & PHL & 30 & 80 & 12 &  0 & 2013-01-04 12:00:00\\\\\n",
       "\\end{tabular}\n"
      ],
      "text/markdown": [
       "\n",
       "A tibble: 3 × 19\n",
       "\n",
       "| year &lt;int&gt; | month &lt;int&gt; | day &lt;int&gt; | dep_time &lt;int&gt; | sched_dep_time &lt;int&gt; | dep_delay &lt;dbl&gt; | arr_time &lt;int&gt; | sched_arr_time &lt;int&gt; | arr_delay &lt;dbl&gt; | carrier &lt;chr&gt; | flight &lt;int&gt; | tailnum &lt;chr&gt; | origin &lt;chr&gt; | dest &lt;chr&gt; | air_time &lt;dbl&gt; | distance &lt;dbl&gt; | hour &lt;dbl&gt; | minute &lt;dbl&gt; | time_hour &lt;dttm&gt; |\n",
       "|---|---|---|---|---|---|---|---|---|---|---|---|---|---|---|---|---|---|---|\n",
       "| 2013 | 7 | 27 |   NA |  106 | NA |   NA |  245 | NA | US | 1632 | NA     | EWR | LGA | NA | 17 |  1 |  6 | 2013-07-27 01:00:00 |\n",
       "| 2013 | 1 |  3 | 2127 | 2129 | -2 | 2222 | 2224 | -2 | EV | 3833 | N13989 | EWR | PHL | 30 | 80 | 21 | 29 | 2013-01-03 21:00:00 |\n",
       "| 2013 | 1 |  4 | 1240 | 1200 | 40 | 1333 | 1306 | 27 | EV | 4193 | N14972 | EWR | PHL | 30 | 80 | 12 |  0 | 2013-01-04 12:00:00 |\n",
       "\n"
      ],
      "text/plain": [
       "  year month day dep_time sched_dep_time dep_delay arr_time sched_arr_time\n",
       "1 2013 7     27    NA      106           NA          NA      245          \n",
       "2 2013 1      3  2127     2129           -2        2222     2224          \n",
       "3 2013 1      4  1240     1200           40        1333     1306          \n",
       "  arr_delay carrier flight tailnum origin dest air_time distance hour minute\n",
       "1 NA        US      1632   NA      EWR    LGA  NA       17        1    6    \n",
       "2 -2        EV      3833   N13989  EWR    PHL  30       80       21   29    \n",
       "3 27        EV      4193   N14972  EWR    PHL  30       80       12    0    \n",
       "  time_hour          \n",
       "1 2013-07-27 01:00:00\n",
       "2 2013-01-03 21:00:00\n",
       "3 2013-01-04 12:00:00"
      ]
     },
     "metadata": {},
     "output_type": "display_data"
    }
   ],
   "source": [
    "# 4. \n",
    "arrange(flights, desc(distance)) %>% head(3)\n",
    "arrange(flights, distance) %>% head(3)"
   ]
  },
  {
   "cell_type": "markdown",
   "metadata": {},
   "source": [
    "### 5.4 Select columns with `select()`"
   ]
  },
  {
   "cell_type": "code",
   "execution_count": 23,
   "metadata": {},
   "outputs": [
    {
     "data": {
      "text/html": [
       "<table>\n",
       "<caption>A tibble: 3 × 16</caption>\n",
       "<thead>\n",
       "\t<tr><th scope=col>dep_time</th><th scope=col>sched_dep_time</th><th scope=col>dep_delay</th><th scope=col>arr_time</th><th scope=col>sched_arr_time</th><th scope=col>arr_delay</th><th scope=col>carrier</th><th scope=col>flight</th><th scope=col>tailnum</th><th scope=col>origin</th><th scope=col>dest</th><th scope=col>air_time</th><th scope=col>distance</th><th scope=col>hour</th><th scope=col>minute</th><th scope=col>time_hour</th></tr>\n",
       "\t<tr><th scope=col>&lt;int&gt;</th><th scope=col>&lt;int&gt;</th><th scope=col>&lt;dbl&gt;</th><th scope=col>&lt;int&gt;</th><th scope=col>&lt;int&gt;</th><th scope=col>&lt;dbl&gt;</th><th scope=col>&lt;chr&gt;</th><th scope=col>&lt;int&gt;</th><th scope=col>&lt;chr&gt;</th><th scope=col>&lt;chr&gt;</th><th scope=col>&lt;chr&gt;</th><th scope=col>&lt;dbl&gt;</th><th scope=col>&lt;dbl&gt;</th><th scope=col>&lt;dbl&gt;</th><th scope=col>&lt;dbl&gt;</th><th scope=col>&lt;dttm&gt;</th></tr>\n",
       "</thead>\n",
       "<tbody>\n",
       "\t<tr><td>517</td><td>515</td><td>2</td><td>830</td><td>819</td><td>11</td><td>UA</td><td>1545</td><td>N14228</td><td>EWR</td><td>IAH</td><td>227</td><td>1400</td><td>5</td><td>15</td><td>2013-01-01 05:00:00</td></tr>\n",
       "\t<tr><td>533</td><td>529</td><td>4</td><td>850</td><td>830</td><td>20</td><td>UA</td><td>1714</td><td>N24211</td><td>LGA</td><td>IAH</td><td>227</td><td>1416</td><td>5</td><td>29</td><td>2013-01-01 05:00:00</td></tr>\n",
       "\t<tr><td>542</td><td>540</td><td>2</td><td>923</td><td>850</td><td>33</td><td>AA</td><td>1141</td><td>N619AA</td><td>JFK</td><td>MIA</td><td>160</td><td>1089</td><td>5</td><td>40</td><td>2013-01-01 05:00:00</td></tr>\n",
       "</tbody>\n",
       "</table>\n"
      ],
      "text/latex": [
       "A tibble: 3 × 16\n",
       "\\begin{tabular}{llllllllllllllll}\n",
       " dep\\_time & sched\\_dep\\_time & dep\\_delay & arr\\_time & sched\\_arr\\_time & arr\\_delay & carrier & flight & tailnum & origin & dest & air\\_time & distance & hour & minute & time\\_hour\\\\\n",
       " <int> & <int> & <dbl> & <int> & <int> & <dbl> & <chr> & <int> & <chr> & <chr> & <chr> & <dbl> & <dbl> & <dbl> & <dbl> & <dttm>\\\\\n",
       "\\hline\n",
       "\t 517 & 515 & 2 & 830 & 819 & 11 & UA & 1545 & N14228 & EWR & IAH & 227 & 1400 & 5 & 15 & 2013-01-01 05:00:00\\\\\n",
       "\t 533 & 529 & 4 & 850 & 830 & 20 & UA & 1714 & N24211 & LGA & IAH & 227 & 1416 & 5 & 29 & 2013-01-01 05:00:00\\\\\n",
       "\t 542 & 540 & 2 & 923 & 850 & 33 & AA & 1141 & N619AA & JFK & MIA & 160 & 1089 & 5 & 40 & 2013-01-01 05:00:00\\\\\n",
       "\\end{tabular}\n"
      ],
      "text/markdown": [
       "\n",
       "A tibble: 3 × 16\n",
       "\n",
       "| dep_time &lt;int&gt; | sched_dep_time &lt;int&gt; | dep_delay &lt;dbl&gt; | arr_time &lt;int&gt; | sched_arr_time &lt;int&gt; | arr_delay &lt;dbl&gt; | carrier &lt;chr&gt; | flight &lt;int&gt; | tailnum &lt;chr&gt; | origin &lt;chr&gt; | dest &lt;chr&gt; | air_time &lt;dbl&gt; | distance &lt;dbl&gt; | hour &lt;dbl&gt; | minute &lt;dbl&gt; | time_hour &lt;dttm&gt; |\n",
       "|---|---|---|---|---|---|---|---|---|---|---|---|---|---|---|---|\n",
       "| 517 | 515 | 2 | 830 | 819 | 11 | UA | 1545 | N14228 | EWR | IAH | 227 | 1400 | 5 | 15 | 2013-01-01 05:00:00 |\n",
       "| 533 | 529 | 4 | 850 | 830 | 20 | UA | 1714 | N24211 | LGA | IAH | 227 | 1416 | 5 | 29 | 2013-01-01 05:00:00 |\n",
       "| 542 | 540 | 2 | 923 | 850 | 33 | AA | 1141 | N619AA | JFK | MIA | 160 | 1089 | 5 | 40 | 2013-01-01 05:00:00 |\n",
       "\n"
      ],
      "text/plain": [
       "  dep_time sched_dep_time dep_delay arr_time sched_arr_time arr_delay carrier\n",
       "1 517      515            2         830      819            11        UA     \n",
       "2 533      529            4         850      830            20        UA     \n",
       "3 542      540            2         923      850            33        AA     \n",
       "  flight tailnum origin dest air_time distance hour minute time_hour          \n",
       "1 1545   N14228  EWR    IAH  227      1400     5    15     2013-01-01 05:00:00\n",
       "2 1714   N24211  LGA    IAH  227      1416     5    29     2013-01-01 05:00:00\n",
       "3 1141   N619AA  JFK    MIA  160      1089     5    40     2013-01-01 05:00:00"
      ]
     },
     "metadata": {},
     "output_type": "display_data"
    }
   ],
   "source": [
    "select(flights, -(year:day)) %>% head(3)"
   ]
  },
  {
   "cell_type": "code",
   "execution_count": 24,
   "metadata": {},
   "outputs": [
    {
     "data": {
      "text/html": [
       "<table>\n",
       "<caption>A tibble: 3 × 19</caption>\n",
       "<thead>\n",
       "\t<tr><th scope=col>year</th><th scope=col>month</th><th scope=col>day</th><th scope=col>dep_time</th><th scope=col>sched_dep_time</th><th scope=col>dep_delay</th><th scope=col>arr_time</th><th scope=col>sched_arr_time</th><th scope=col>arr_delay</th><th scope=col>carrier</th><th scope=col>flight</th><th scope=col>tailnum</th><th scope=col>Origin</th><th scope=col>Destination</th><th scope=col>air_time</th><th scope=col>distance</th><th scope=col>hour</th><th scope=col>minute</th><th scope=col>time_hour</th></tr>\n",
       "\t<tr><th scope=col>&lt;int&gt;</th><th scope=col>&lt;int&gt;</th><th scope=col>&lt;int&gt;</th><th scope=col>&lt;int&gt;</th><th scope=col>&lt;int&gt;</th><th scope=col>&lt;dbl&gt;</th><th scope=col>&lt;int&gt;</th><th scope=col>&lt;int&gt;</th><th scope=col>&lt;dbl&gt;</th><th scope=col>&lt;chr&gt;</th><th scope=col>&lt;int&gt;</th><th scope=col>&lt;chr&gt;</th><th scope=col>&lt;chr&gt;</th><th scope=col>&lt;chr&gt;</th><th scope=col>&lt;dbl&gt;</th><th scope=col>&lt;dbl&gt;</th><th scope=col>&lt;dbl&gt;</th><th scope=col>&lt;dbl&gt;</th><th scope=col>&lt;dttm&gt;</th></tr>\n",
       "</thead>\n",
       "<tbody>\n",
       "\t<tr><td>2013</td><td>1</td><td>1</td><td>517</td><td>515</td><td>2</td><td>830</td><td>819</td><td>11</td><td>UA</td><td>1545</td><td>N14228</td><td>EWR</td><td>IAH</td><td>227</td><td>1400</td><td>5</td><td>15</td><td>2013-01-01 05:00:00</td></tr>\n",
       "\t<tr><td>2013</td><td>1</td><td>1</td><td>533</td><td>529</td><td>4</td><td>850</td><td>830</td><td>20</td><td>UA</td><td>1714</td><td>N24211</td><td>LGA</td><td>IAH</td><td>227</td><td>1416</td><td>5</td><td>29</td><td>2013-01-01 05:00:00</td></tr>\n",
       "\t<tr><td>2013</td><td>1</td><td>1</td><td>542</td><td>540</td><td>2</td><td>923</td><td>850</td><td>33</td><td>AA</td><td>1141</td><td>N619AA</td><td>JFK</td><td>MIA</td><td>160</td><td>1089</td><td>5</td><td>40</td><td>2013-01-01 05:00:00</td></tr>\n",
       "</tbody>\n",
       "</table>\n"
      ],
      "text/latex": [
       "A tibble: 3 × 19\n",
       "\\begin{tabular}{lllllllllllllllllll}\n",
       " year & month & day & dep\\_time & sched\\_dep\\_time & dep\\_delay & arr\\_time & sched\\_arr\\_time & arr\\_delay & carrier & flight & tailnum & Origin & Destination & air\\_time & distance & hour & minute & time\\_hour\\\\\n",
       " <int> & <int> & <int> & <int> & <int> & <dbl> & <int> & <int> & <dbl> & <chr> & <int> & <chr> & <chr> & <chr> & <dbl> & <dbl> & <dbl> & <dbl> & <dttm>\\\\\n",
       "\\hline\n",
       "\t 2013 & 1 & 1 & 517 & 515 & 2 & 830 & 819 & 11 & UA & 1545 & N14228 & EWR & IAH & 227 & 1400 & 5 & 15 & 2013-01-01 05:00:00\\\\\n",
       "\t 2013 & 1 & 1 & 533 & 529 & 4 & 850 & 830 & 20 & UA & 1714 & N24211 & LGA & IAH & 227 & 1416 & 5 & 29 & 2013-01-01 05:00:00\\\\\n",
       "\t 2013 & 1 & 1 & 542 & 540 & 2 & 923 & 850 & 33 & AA & 1141 & N619AA & JFK & MIA & 160 & 1089 & 5 & 40 & 2013-01-01 05:00:00\\\\\n",
       "\\end{tabular}\n"
      ],
      "text/markdown": [
       "\n",
       "A tibble: 3 × 19\n",
       "\n",
       "| year &lt;int&gt; | month &lt;int&gt; | day &lt;int&gt; | dep_time &lt;int&gt; | sched_dep_time &lt;int&gt; | dep_delay &lt;dbl&gt; | arr_time &lt;int&gt; | sched_arr_time &lt;int&gt; | arr_delay &lt;dbl&gt; | carrier &lt;chr&gt; | flight &lt;int&gt; | tailnum &lt;chr&gt; | Origin &lt;chr&gt; | Destination &lt;chr&gt; | air_time &lt;dbl&gt; | distance &lt;dbl&gt; | hour &lt;dbl&gt; | minute &lt;dbl&gt; | time_hour &lt;dttm&gt; |\n",
       "|---|---|---|---|---|---|---|---|---|---|---|---|---|---|---|---|---|---|---|\n",
       "| 2013 | 1 | 1 | 517 | 515 | 2 | 830 | 819 | 11 | UA | 1545 | N14228 | EWR | IAH | 227 | 1400 | 5 | 15 | 2013-01-01 05:00:00 |\n",
       "| 2013 | 1 | 1 | 533 | 529 | 4 | 850 | 830 | 20 | UA | 1714 | N24211 | LGA | IAH | 227 | 1416 | 5 | 29 | 2013-01-01 05:00:00 |\n",
       "| 2013 | 1 | 1 | 542 | 540 | 2 | 923 | 850 | 33 | AA | 1141 | N619AA | JFK | MIA | 160 | 1089 | 5 | 40 | 2013-01-01 05:00:00 |\n",
       "\n"
      ],
      "text/plain": [
       "  year month day dep_time sched_dep_time dep_delay arr_time sched_arr_time\n",
       "1 2013 1     1   517      515            2         830      819           \n",
       "2 2013 1     1   533      529            4         850      830           \n",
       "3 2013 1     1   542      540            2         923      850           \n",
       "  arr_delay carrier flight tailnum Origin Destination air_time distance hour\n",
       "1 11        UA      1545   N14228  EWR    IAH         227      1400     5   \n",
       "2 20        UA      1714   N24211  LGA    IAH         227      1416     5   \n",
       "3 33        AA      1141   N619AA  JFK    MIA         160      1089     5   \n",
       "  minute time_hour          \n",
       "1 15     2013-01-01 05:00:00\n",
       "2 29     2013-01-01 05:00:00\n",
       "3 40     2013-01-01 05:00:00"
      ]
     },
     "metadata": {},
     "output_type": "display_data"
    }
   ],
   "source": [
    "rename(flights, Destination = dest, Origin = origin) %>% head(3)"
   ]
  },
  {
   "cell_type": "markdown",
   "metadata": {},
   "source": [
    "> Another option is to use `select()` in conjunction with the `everything()` helper. This is useful if you have a handful of variables you’d like to move to the start of the data frame."
   ]
  },
  {
   "cell_type": "code",
   "execution_count": 25,
   "metadata": {},
   "outputs": [
    {
     "data": {
      "text/html": [
       "<table>\n",
       "<caption>A tibble: 3 × 19</caption>\n",
       "<thead>\n",
       "\t<tr><th scope=col>dep_time</th><th scope=col>sched_dep_time</th><th scope=col>dep_delay</th><th scope=col>arr_time</th><th scope=col>sched_arr_time</th><th scope=col>arr_delay</th><th scope=col>air_time</th><th scope=col>time_hour</th><th scope=col>year</th><th scope=col>month</th><th scope=col>day</th><th scope=col>carrier</th><th scope=col>flight</th><th scope=col>tailnum</th><th scope=col>origin</th><th scope=col>dest</th><th scope=col>distance</th><th scope=col>hour</th><th scope=col>minute</th></tr>\n",
       "\t<tr><th scope=col>&lt;int&gt;</th><th scope=col>&lt;int&gt;</th><th scope=col>&lt;dbl&gt;</th><th scope=col>&lt;int&gt;</th><th scope=col>&lt;int&gt;</th><th scope=col>&lt;dbl&gt;</th><th scope=col>&lt;dbl&gt;</th><th scope=col>&lt;dttm&gt;</th><th scope=col>&lt;int&gt;</th><th scope=col>&lt;int&gt;</th><th scope=col>&lt;int&gt;</th><th scope=col>&lt;chr&gt;</th><th scope=col>&lt;int&gt;</th><th scope=col>&lt;chr&gt;</th><th scope=col>&lt;chr&gt;</th><th scope=col>&lt;chr&gt;</th><th scope=col>&lt;dbl&gt;</th><th scope=col>&lt;dbl&gt;</th><th scope=col>&lt;dbl&gt;</th></tr>\n",
       "</thead>\n",
       "<tbody>\n",
       "\t<tr><td>517</td><td>515</td><td>2</td><td>830</td><td>819</td><td>11</td><td>227</td><td>2013-01-01 05:00:00</td><td>2013</td><td>1</td><td>1</td><td>UA</td><td>1545</td><td>N14228</td><td>EWR</td><td>IAH</td><td>1400</td><td>5</td><td>15</td></tr>\n",
       "\t<tr><td>533</td><td>529</td><td>4</td><td>850</td><td>830</td><td>20</td><td>227</td><td>2013-01-01 05:00:00</td><td>2013</td><td>1</td><td>1</td><td>UA</td><td>1714</td><td>N24211</td><td>LGA</td><td>IAH</td><td>1416</td><td>5</td><td>29</td></tr>\n",
       "\t<tr><td>542</td><td>540</td><td>2</td><td>923</td><td>850</td><td>33</td><td>160</td><td>2013-01-01 05:00:00</td><td>2013</td><td>1</td><td>1</td><td>AA</td><td>1141</td><td>N619AA</td><td>JFK</td><td>MIA</td><td>1089</td><td>5</td><td>40</td></tr>\n",
       "</tbody>\n",
       "</table>\n"
      ],
      "text/latex": [
       "A tibble: 3 × 19\n",
       "\\begin{tabular}{lllllllllllllllllll}\n",
       " dep\\_time & sched\\_dep\\_time & dep\\_delay & arr\\_time & sched\\_arr\\_time & arr\\_delay & air\\_time & time\\_hour & year & month & day & carrier & flight & tailnum & origin & dest & distance & hour & minute\\\\\n",
       " <int> & <int> & <dbl> & <int> & <int> & <dbl> & <dbl> & <dttm> & <int> & <int> & <int> & <chr> & <int> & <chr> & <chr> & <chr> & <dbl> & <dbl> & <dbl>\\\\\n",
       "\\hline\n",
       "\t 517 & 515 & 2 & 830 & 819 & 11 & 227 & 2013-01-01 05:00:00 & 2013 & 1 & 1 & UA & 1545 & N14228 & EWR & IAH & 1400 & 5 & 15\\\\\n",
       "\t 533 & 529 & 4 & 850 & 830 & 20 & 227 & 2013-01-01 05:00:00 & 2013 & 1 & 1 & UA & 1714 & N24211 & LGA & IAH & 1416 & 5 & 29\\\\\n",
       "\t 542 & 540 & 2 & 923 & 850 & 33 & 160 & 2013-01-01 05:00:00 & 2013 & 1 & 1 & AA & 1141 & N619AA & JFK & MIA & 1089 & 5 & 40\\\\\n",
       "\\end{tabular}\n"
      ],
      "text/markdown": [
       "\n",
       "A tibble: 3 × 19\n",
       "\n",
       "| dep_time &lt;int&gt; | sched_dep_time &lt;int&gt; | dep_delay &lt;dbl&gt; | arr_time &lt;int&gt; | sched_arr_time &lt;int&gt; | arr_delay &lt;dbl&gt; | air_time &lt;dbl&gt; | time_hour &lt;dttm&gt; | year &lt;int&gt; | month &lt;int&gt; | day &lt;int&gt; | carrier &lt;chr&gt; | flight &lt;int&gt; | tailnum &lt;chr&gt; | origin &lt;chr&gt; | dest &lt;chr&gt; | distance &lt;dbl&gt; | hour &lt;dbl&gt; | minute &lt;dbl&gt; |\n",
       "|---|---|---|---|---|---|---|---|---|---|---|---|---|---|---|---|---|---|---|\n",
       "| 517 | 515 | 2 | 830 | 819 | 11 | 227 | 2013-01-01 05:00:00 | 2013 | 1 | 1 | UA | 1545 | N14228 | EWR | IAH | 1400 | 5 | 15 |\n",
       "| 533 | 529 | 4 | 850 | 830 | 20 | 227 | 2013-01-01 05:00:00 | 2013 | 1 | 1 | UA | 1714 | N24211 | LGA | IAH | 1416 | 5 | 29 |\n",
       "| 542 | 540 | 2 | 923 | 850 | 33 | 160 | 2013-01-01 05:00:00 | 2013 | 1 | 1 | AA | 1141 | N619AA | JFK | MIA | 1089 | 5 | 40 |\n",
       "\n"
      ],
      "text/plain": [
       "  dep_time sched_dep_time dep_delay arr_time sched_arr_time arr_delay air_time\n",
       "1 517      515            2         830      819            11        227     \n",
       "2 533      529            4         850      830            20        227     \n",
       "3 542      540            2         923      850            33        160     \n",
       "  time_hour           year month day carrier flight tailnum origin dest\n",
       "1 2013-01-01 05:00:00 2013 1     1   UA      1545   N14228  EWR    IAH \n",
       "2 2013-01-01 05:00:00 2013 1     1   UA      1714   N24211  LGA    IAH \n",
       "3 2013-01-01 05:00:00 2013 1     1   AA      1141   N619AA  JFK    MIA \n",
       "  distance hour minute\n",
       "1 1400     5    15    \n",
       "2 1416     5    29    \n",
       "3 1089     5    40    "
      ]
     },
     "metadata": {},
     "output_type": "display_data"
    }
   ],
   "source": [
    "select(flights, matches(\"time|delay\"), everything()) %>% head(3)"
   ]
  },
  {
   "cell_type": "markdown",
   "metadata": {},
   "source": [
    "### 5.4.1 Exercises\n",
    "\n",
    "1. Brainstorm as many ways as possible to select `dep_time`, `dep_delay`, `arr_time`, and `arr_delay` from `flights`.\n",
    "1. What happens if you include the name of a variable multiple times in a `select()` call?\n",
    "1. What does the `one_of()` function do? Why might it be helpful in conjunction with this vector?\n",
    "\n",
    "    ```R\n",
    "    vars <- c(\"year\", \"month\", \"day\", \"dep_delay\", \"arr_delay\")\n",
    "    ```\n",
    "\n",
    "1. Does the result of running the following code surprise you? How do the select helpers deal with case by default? How can you change that default?\n",
    "\n",
    "    ```R\n",
    "    select(flights, contains(\"TIME\"))\n",
    "    ```"
   ]
  },
  {
   "cell_type": "code",
   "execution_count": 26,
   "metadata": {},
   "outputs": [
    {
     "data": {
      "text/html": [
       "<table>\n",
       "<caption>A tibble: 3 × 4</caption>\n",
       "<thead>\n",
       "\t<tr><th scope=col>dep_time</th><th scope=col>dep_delay</th><th scope=col>arr_time</th><th scope=col>arr_delay</th></tr>\n",
       "\t<tr><th scope=col>&lt;int&gt;</th><th scope=col>&lt;dbl&gt;</th><th scope=col>&lt;int&gt;</th><th scope=col>&lt;dbl&gt;</th></tr>\n",
       "</thead>\n",
       "<tbody>\n",
       "\t<tr><td>517</td><td>2</td><td>830</td><td>11</td></tr>\n",
       "\t<tr><td>533</td><td>4</td><td>850</td><td>20</td></tr>\n",
       "\t<tr><td>542</td><td>2</td><td>923</td><td>33</td></tr>\n",
       "</tbody>\n",
       "</table>\n"
      ],
      "text/latex": [
       "A tibble: 3 × 4\n",
       "\\begin{tabular}{llll}\n",
       " dep\\_time & dep\\_delay & arr\\_time & arr\\_delay\\\\\n",
       " <int> & <dbl> & <int> & <dbl>\\\\\n",
       "\\hline\n",
       "\t 517 & 2 & 830 & 11\\\\\n",
       "\t 533 & 4 & 850 & 20\\\\\n",
       "\t 542 & 2 & 923 & 33\\\\\n",
       "\\end{tabular}\n"
      ],
      "text/markdown": [
       "\n",
       "A tibble: 3 × 4\n",
       "\n",
       "| dep_time &lt;int&gt; | dep_delay &lt;dbl&gt; | arr_time &lt;int&gt; | arr_delay &lt;dbl&gt; |\n",
       "|---|---|---|---|\n",
       "| 517 | 2 | 830 | 11 |\n",
       "| 533 | 4 | 850 | 20 |\n",
       "| 542 | 2 | 923 | 33 |\n",
       "\n"
      ],
      "text/plain": [
       "  dep_time dep_delay arr_time arr_delay\n",
       "1 517      2         830      11       \n",
       "2 533      4         850      20       \n",
       "3 542      2         923      33       "
      ]
     },
     "metadata": {},
     "output_type": "display_data"
    }
   ],
   "source": [
    "# 1.\n",
    "select(flights, matches(\"^(arr_|dep_)\")) %>% head(3)"
   ]
  },
  {
   "cell_type": "code",
   "execution_count": 27,
   "metadata": {},
   "outputs": [
    {
     "data": {
      "text/html": [
       "<table>\n",
       "<caption>A tibble: 3 × 1</caption>\n",
       "<thead>\n",
       "\t<tr><th scope=col>year</th></tr>\n",
       "\t<tr><th scope=col>&lt;int&gt;</th></tr>\n",
       "</thead>\n",
       "<tbody>\n",
       "\t<tr><td>2013</td></tr>\n",
       "\t<tr><td>2013</td></tr>\n",
       "\t<tr><td>2013</td></tr>\n",
       "</tbody>\n",
       "</table>\n"
      ],
      "text/latex": [
       "A tibble: 3 × 1\n",
       "\\begin{tabular}{l}\n",
       " year\\\\\n",
       " <int>\\\\\n",
       "\\hline\n",
       "\t 2013\\\\\n",
       "\t 2013\\\\\n",
       "\t 2013\\\\\n",
       "\\end{tabular}\n"
      ],
      "text/markdown": [
       "\n",
       "A tibble: 3 × 1\n",
       "\n",
       "| year &lt;int&gt; |\n",
       "|---|\n",
       "| 2013 |\n",
       "| 2013 |\n",
       "| 2013 |\n",
       "\n"
      ],
      "text/plain": [
       "  year\n",
       "1 2013\n",
       "2 2013\n",
       "3 2013"
      ]
     },
     "metadata": {},
     "output_type": "display_data"
    }
   ],
   "source": [
    "# 2.\n",
    "select(flights, year, year) %>% head(3)"
   ]
  },
  {
   "cell_type": "code",
   "execution_count": 28,
   "metadata": {},
   "outputs": [
    {
     "data": {
      "text/html": [
       "<table>\n",
       "<caption>A tibble: 3 × 14</caption>\n",
       "<thead>\n",
       "\t<tr><th scope=col>dep_time</th><th scope=col>sched_dep_time</th><th scope=col>arr_time</th><th scope=col>sched_arr_time</th><th scope=col>carrier</th><th scope=col>flight</th><th scope=col>tailnum</th><th scope=col>origin</th><th scope=col>dest</th><th scope=col>air_time</th><th scope=col>distance</th><th scope=col>hour</th><th scope=col>minute</th><th scope=col>time_hour</th></tr>\n",
       "\t<tr><th scope=col>&lt;int&gt;</th><th scope=col>&lt;int&gt;</th><th scope=col>&lt;int&gt;</th><th scope=col>&lt;int&gt;</th><th scope=col>&lt;chr&gt;</th><th scope=col>&lt;int&gt;</th><th scope=col>&lt;chr&gt;</th><th scope=col>&lt;chr&gt;</th><th scope=col>&lt;chr&gt;</th><th scope=col>&lt;dbl&gt;</th><th scope=col>&lt;dbl&gt;</th><th scope=col>&lt;dbl&gt;</th><th scope=col>&lt;dbl&gt;</th><th scope=col>&lt;dttm&gt;</th></tr>\n",
       "</thead>\n",
       "<tbody>\n",
       "\t<tr><td>517</td><td>515</td><td>830</td><td>819</td><td>UA</td><td>1545</td><td>N14228</td><td>EWR</td><td>IAH</td><td>227</td><td>1400</td><td>5</td><td>15</td><td>2013-01-01 05:00:00</td></tr>\n",
       "\t<tr><td>533</td><td>529</td><td>850</td><td>830</td><td>UA</td><td>1714</td><td>N24211</td><td>LGA</td><td>IAH</td><td>227</td><td>1416</td><td>5</td><td>29</td><td>2013-01-01 05:00:00</td></tr>\n",
       "\t<tr><td>542</td><td>540</td><td>923</td><td>850</td><td>AA</td><td>1141</td><td>N619AA</td><td>JFK</td><td>MIA</td><td>160</td><td>1089</td><td>5</td><td>40</td><td>2013-01-01 05:00:00</td></tr>\n",
       "</tbody>\n",
       "</table>\n"
      ],
      "text/latex": [
       "A tibble: 3 × 14\n",
       "\\begin{tabular}{llllllllllllll}\n",
       " dep\\_time & sched\\_dep\\_time & arr\\_time & sched\\_arr\\_time & carrier & flight & tailnum & origin & dest & air\\_time & distance & hour & minute & time\\_hour\\\\\n",
       " <int> & <int> & <int> & <int> & <chr> & <int> & <chr> & <chr> & <chr> & <dbl> & <dbl> & <dbl> & <dbl> & <dttm>\\\\\n",
       "\\hline\n",
       "\t 517 & 515 & 830 & 819 & UA & 1545 & N14228 & EWR & IAH & 227 & 1400 & 5 & 15 & 2013-01-01 05:00:00\\\\\n",
       "\t 533 & 529 & 850 & 830 & UA & 1714 & N24211 & LGA & IAH & 227 & 1416 & 5 & 29 & 2013-01-01 05:00:00\\\\\n",
       "\t 542 & 540 & 923 & 850 & AA & 1141 & N619AA & JFK & MIA & 160 & 1089 & 5 & 40 & 2013-01-01 05:00:00\\\\\n",
       "\\end{tabular}\n"
      ],
      "text/markdown": [
       "\n",
       "A tibble: 3 × 14\n",
       "\n",
       "| dep_time &lt;int&gt; | sched_dep_time &lt;int&gt; | arr_time &lt;int&gt; | sched_arr_time &lt;int&gt; | carrier &lt;chr&gt; | flight &lt;int&gt; | tailnum &lt;chr&gt; | origin &lt;chr&gt; | dest &lt;chr&gt; | air_time &lt;dbl&gt; | distance &lt;dbl&gt; | hour &lt;dbl&gt; | minute &lt;dbl&gt; | time_hour &lt;dttm&gt; |\n",
       "|---|---|---|---|---|---|---|---|---|---|---|---|---|---|\n",
       "| 517 | 515 | 830 | 819 | UA | 1545 | N14228 | EWR | IAH | 227 | 1400 | 5 | 15 | 2013-01-01 05:00:00 |\n",
       "| 533 | 529 | 850 | 830 | UA | 1714 | N24211 | LGA | IAH | 227 | 1416 | 5 | 29 | 2013-01-01 05:00:00 |\n",
       "| 542 | 540 | 923 | 850 | AA | 1141 | N619AA | JFK | MIA | 160 | 1089 | 5 | 40 | 2013-01-01 05:00:00 |\n",
       "\n"
      ],
      "text/plain": [
       "  dep_time sched_dep_time arr_time sched_arr_time carrier flight tailnum origin\n",
       "1 517      515            830      819            UA      1545   N14228  EWR   \n",
       "2 533      529            850      830            UA      1714   N24211  LGA   \n",
       "3 542      540            923      850            AA      1141   N619AA  JFK   \n",
       "  dest air_time distance hour minute time_hour          \n",
       "1 IAH  227      1400     5    15     2013-01-01 05:00:00\n",
       "2 IAH  227      1416     5    29     2013-01-01 05:00:00\n",
       "3 MIA  160      1089     5    40     2013-01-01 05:00:00"
      ]
     },
     "metadata": {},
     "output_type": "display_data"
    }
   ],
   "source": [
    "# 3.\n",
    "select(flights, -one_of(c(\"year\", \"month\", \"day\", \"dep_delay\", \"arr_delay\"))) %>% head(3)"
   ]
  },
  {
   "cell_type": "code",
   "execution_count": 29,
   "metadata": {},
   "outputs": [
    {
     "name": "stderr",
     "output_type": "stream",
     "text": [
      "Warning message in rbind(parts$upper, ellip_v, parts$lower, deparse.level = 0L):\n",
      "“number of columns of result is not a multiple of vector length (arg 2)”\n"
     ]
    },
    {
     "data": {
      "text/html": [],
      "text/latex": [],
      "text/markdown": [],
      "text/plain": [
       "      \n",
       "1     \n",
       "2     \n",
       "3     \n",
       "4     \n",
       "5     \n",
       "6     \n",
       "7     \n",
       "8     \n",
       "9     \n",
       "10    \n",
       "11    \n",
       "12    \n",
       "13    \n",
       "14    \n",
       "15    \n",
       "16    \n",
       "17    \n",
       "18    \n",
       "19    \n",
       "20    \n",
       "21    \n",
       "22    \n",
       "23    \n",
       "24    \n",
       "25    \n",
       "26    \n",
       "27    \n",
       "28    \n",
       "29    \n",
       "30    \n",
       "⋮     \n",
       "336747\n",
       "336748\n",
       "336749\n",
       "336750\n",
       "336751\n",
       "336752\n",
       "336753\n",
       "336754\n",
       "336755\n",
       "336756\n",
       "336757\n",
       "336758\n",
       "336759\n",
       "336760\n",
       "336761\n",
       "336762\n",
       "336763\n",
       "336764\n",
       "336765\n",
       "336766\n",
       "336767\n",
       "336768\n",
       "336769\n",
       "336770\n",
       "336771\n",
       "336772\n",
       "336773\n",
       "336774\n",
       "336775\n",
       "336776"
      ]
     },
     "metadata": {},
     "output_type": "display_data"
    }
   ],
   "source": [
    "# 4.\n",
    "select(flights, contains(\"TIME\", ignore.case = FALSE))"
   ]
  },
  {
   "cell_type": "markdown",
   "metadata": {},
   "source": [
    "### 5.5 Add new variables with `mutate()`"
   ]
  },
  {
   "cell_type": "code",
   "execution_count": 30,
   "metadata": {},
   "outputs": [
    {
     "data": {
      "text/html": [
       "<table>\n",
       "<caption>A tibble: 3 × 9</caption>\n",
       "<thead>\n",
       "\t<tr><th scope=col>year</th><th scope=col>month</th><th scope=col>day</th><th scope=col>dep_delay</th><th scope=col>arr_delay</th><th scope=col>air_time</th><th scope=col>distance</th><th scope=col>gain</th><th scope=col>speed</th></tr>\n",
       "\t<tr><th scope=col>&lt;int&gt;</th><th scope=col>&lt;int&gt;</th><th scope=col>&lt;int&gt;</th><th scope=col>&lt;dbl&gt;</th><th scope=col>&lt;dbl&gt;</th><th scope=col>&lt;dbl&gt;</th><th scope=col>&lt;dbl&gt;</th><th scope=col>&lt;dbl&gt;</th><th scope=col>&lt;dbl&gt;</th></tr>\n",
       "</thead>\n",
       "<tbody>\n",
       "\t<tr><td>2013</td><td>1</td><td>1</td><td>2</td><td>11</td><td>227</td><td>1400</td><td> -9</td><td>370.0441</td></tr>\n",
       "\t<tr><td>2013</td><td>1</td><td>1</td><td>4</td><td>20</td><td>227</td><td>1416</td><td>-16</td><td>374.2731</td></tr>\n",
       "\t<tr><td>2013</td><td>1</td><td>1</td><td>2</td><td>33</td><td>160</td><td>1089</td><td>-31</td><td>408.3750</td></tr>\n",
       "</tbody>\n",
       "</table>\n"
      ],
      "text/latex": [
       "A tibble: 3 × 9\n",
       "\\begin{tabular}{lllllllll}\n",
       " year & month & day & dep\\_delay & arr\\_delay & air\\_time & distance & gain & speed\\\\\n",
       " <int> & <int> & <int> & <dbl> & <dbl> & <dbl> & <dbl> & <dbl> & <dbl>\\\\\n",
       "\\hline\n",
       "\t 2013 & 1 & 1 & 2 & 11 & 227 & 1400 &  -9 & 370.0441\\\\\n",
       "\t 2013 & 1 & 1 & 4 & 20 & 227 & 1416 & -16 & 374.2731\\\\\n",
       "\t 2013 & 1 & 1 & 2 & 33 & 160 & 1089 & -31 & 408.3750\\\\\n",
       "\\end{tabular}\n"
      ],
      "text/markdown": [
       "\n",
       "A tibble: 3 × 9\n",
       "\n",
       "| year &lt;int&gt; | month &lt;int&gt; | day &lt;int&gt; | dep_delay &lt;dbl&gt; | arr_delay &lt;dbl&gt; | air_time &lt;dbl&gt; | distance &lt;dbl&gt; | gain &lt;dbl&gt; | speed &lt;dbl&gt; |\n",
       "|---|---|---|---|---|---|---|---|---|\n",
       "| 2013 | 1 | 1 | 2 | 11 | 227 | 1400 |  -9 | 370.0441 |\n",
       "| 2013 | 1 | 1 | 4 | 20 | 227 | 1416 | -16 | 374.2731 |\n",
       "| 2013 | 1 | 1 | 2 | 33 | 160 | 1089 | -31 | 408.3750 |\n",
       "\n"
      ],
      "text/plain": [
       "  year month day dep_delay arr_delay air_time distance gain speed   \n",
       "1 2013 1     1   2         11        227      1400      -9  370.0441\n",
       "2 2013 1     1   4         20        227      1416     -16  374.2731\n",
       "3 2013 1     1   2         33        160      1089     -31  408.3750"
      ]
     },
     "metadata": {},
     "output_type": "display_data"
    }
   ],
   "source": [
    "flights_sml <- select(flights, matches(\"year|month|day|delay|distance|air_time\"))\n",
    "mutate(flights_sml, gain = dep_delay - arr_delay, speed = distance / air_time * 60) %>% head(3)"
   ]
  },
  {
   "cell_type": "code",
   "execution_count": 31,
   "metadata": {},
   "outputs": [
    {
     "data": {
      "text/html": [
       "<table>\n",
       "<caption>A tibble: 3 × 10</caption>\n",
       "<thead>\n",
       "\t<tr><th scope=col>year</th><th scope=col>month</th><th scope=col>day</th><th scope=col>dep_delay</th><th scope=col>arr_delay</th><th scope=col>air_time</th><th scope=col>distance</th><th scope=col>gain</th><th scope=col>hours</th><th scope=col>gain_per_hours</th></tr>\n",
       "\t<tr><th scope=col>&lt;int&gt;</th><th scope=col>&lt;int&gt;</th><th scope=col>&lt;int&gt;</th><th scope=col>&lt;dbl&gt;</th><th scope=col>&lt;dbl&gt;</th><th scope=col>&lt;dbl&gt;</th><th scope=col>&lt;dbl&gt;</th><th scope=col>&lt;dbl&gt;</th><th scope=col>&lt;dbl&gt;</th><th scope=col>&lt;dbl&gt;</th></tr>\n",
       "</thead>\n",
       "<tbody>\n",
       "\t<tr><td>2013</td><td>1</td><td>1</td><td>2</td><td>11</td><td>227</td><td>1400</td><td> -9</td><td>3.783333</td><td> -2.378855</td></tr>\n",
       "\t<tr><td>2013</td><td>1</td><td>1</td><td>4</td><td>20</td><td>227</td><td>1416</td><td>-16</td><td>3.783333</td><td> -4.229075</td></tr>\n",
       "\t<tr><td>2013</td><td>1</td><td>1</td><td>2</td><td>33</td><td>160</td><td>1089</td><td>-31</td><td>2.666667</td><td>-11.625000</td></tr>\n",
       "</tbody>\n",
       "</table>\n"
      ],
      "text/latex": [
       "A tibble: 3 × 10\n",
       "\\begin{tabular}{llllllllll}\n",
       " year & month & day & dep\\_delay & arr\\_delay & air\\_time & distance & gain & hours & gain\\_per\\_hours\\\\\n",
       " <int> & <int> & <int> & <dbl> & <dbl> & <dbl> & <dbl> & <dbl> & <dbl> & <dbl>\\\\\n",
       "\\hline\n",
       "\t 2013 & 1 & 1 & 2 & 11 & 227 & 1400 &  -9 & 3.783333 &  -2.378855\\\\\n",
       "\t 2013 & 1 & 1 & 4 & 20 & 227 & 1416 & -16 & 3.783333 &  -4.229075\\\\\n",
       "\t 2013 & 1 & 1 & 2 & 33 & 160 & 1089 & -31 & 2.666667 & -11.625000\\\\\n",
       "\\end{tabular}\n"
      ],
      "text/markdown": [
       "\n",
       "A tibble: 3 × 10\n",
       "\n",
       "| year &lt;int&gt; | month &lt;int&gt; | day &lt;int&gt; | dep_delay &lt;dbl&gt; | arr_delay &lt;dbl&gt; | air_time &lt;dbl&gt; | distance &lt;dbl&gt; | gain &lt;dbl&gt; | hours &lt;dbl&gt; | gain_per_hours &lt;dbl&gt; |\n",
       "|---|---|---|---|---|---|---|---|---|---|\n",
       "| 2013 | 1 | 1 | 2 | 11 | 227 | 1400 |  -9 | 3.783333 |  -2.378855 |\n",
       "| 2013 | 1 | 1 | 4 | 20 | 227 | 1416 | -16 | 3.783333 |  -4.229075 |\n",
       "| 2013 | 1 | 1 | 2 | 33 | 160 | 1089 | -31 | 2.666667 | -11.625000 |\n",
       "\n"
      ],
      "text/plain": [
       "  year month day dep_delay arr_delay air_time distance gain hours   \n",
       "1 2013 1     1   2         11        227      1400      -9  3.783333\n",
       "2 2013 1     1   4         20        227      1416     -16  3.783333\n",
       "3 2013 1     1   2         33        160      1089     -31  2.666667\n",
       "  gain_per_hours\n",
       "1  -2.378855    \n",
       "2  -4.229075    \n",
       "3 -11.625000    "
      ]
     },
     "metadata": {},
     "output_type": "display_data"
    },
    {
     "data": {
      "text/html": [
       "<table>\n",
       "<caption>A tibble: 3 × 3</caption>\n",
       "<thead>\n",
       "\t<tr><th scope=col>gain</th><th scope=col>hours</th><th scope=col>gain_per_hours</th></tr>\n",
       "\t<tr><th scope=col>&lt;dbl&gt;</th><th scope=col>&lt;dbl&gt;</th><th scope=col>&lt;dbl&gt;</th></tr>\n",
       "</thead>\n",
       "<tbody>\n",
       "\t<tr><td> -9</td><td>3.783333</td><td> -2.378855</td></tr>\n",
       "\t<tr><td>-16</td><td>3.783333</td><td> -4.229075</td></tr>\n",
       "\t<tr><td>-31</td><td>2.666667</td><td>-11.625000</td></tr>\n",
       "</tbody>\n",
       "</table>\n"
      ],
      "text/latex": [
       "A tibble: 3 × 3\n",
       "\\begin{tabular}{lll}\n",
       " gain & hours & gain\\_per\\_hours\\\\\n",
       " <dbl> & <dbl> & <dbl>\\\\\n",
       "\\hline\n",
       "\t  -9 & 3.783333 &  -2.378855\\\\\n",
       "\t -16 & 3.783333 &  -4.229075\\\\\n",
       "\t -31 & 2.666667 & -11.625000\\\\\n",
       "\\end{tabular}\n"
      ],
      "text/markdown": [
       "\n",
       "A tibble: 3 × 3\n",
       "\n",
       "| gain &lt;dbl&gt; | hours &lt;dbl&gt; | gain_per_hours &lt;dbl&gt; |\n",
       "|---|---|---|\n",
       "|  -9 | 3.783333 |  -2.378855 |\n",
       "| -16 | 3.783333 |  -4.229075 |\n",
       "| -31 | 2.666667 | -11.625000 |\n",
       "\n"
      ],
      "text/plain": [
       "  gain hours    gain_per_hours\n",
       "1  -9  3.783333  -2.378855    \n",
       "2 -16  3.783333  -4.229075    \n",
       "3 -31  2.666667 -11.625000    "
      ]
     },
     "metadata": {},
     "output_type": "display_data"
    }
   ],
   "source": [
    "mutate(flights_sml, gain = dep_delay - arr_delay, hours = air_time / 60, gain_per_hours = gain / hours) %>% head(3)\n",
    "transmute(flights_sml, gain = dep_delay - arr_delay, hours = air_time / 60, gain_per_hours = gain / hours) %>% head(3)"
   ]
  },
  {
   "cell_type": "markdown",
   "metadata": {},
   "source": [
    "### 5.5.1 Useful creation functions\n",
    "\n",
    "> The key property is that the function must be vectorised: it must take a vector of values as input, return a vector with the same number of values as output.\n",
    "\n",
    "> Arithmetic operators: `+`, `-`, `*`, `/`, `^`. These are all vectorised, using the so called “recycling rules”. If one parameter is shorter than the other, it will be automatically extended to be the same length.\n",
    "\n",
    "> Modular arithmetic is a handy tool because it allows you to break integers up into pieces. For example, in the `flights` dataset, you can compute hour and minute from `dep_time` with:"
   ]
  },
  {
   "cell_type": "code",
   "execution_count": 32,
   "metadata": {},
   "outputs": [
    {
     "data": {
      "text/html": [
       "<table>\n",
       "<caption>A tibble: 3 × 3</caption>\n",
       "<thead>\n",
       "\t<tr><th scope=col>dep_time</th><th scope=col>hour</th><th scope=col>minute</th></tr>\n",
       "\t<tr><th scope=col>&lt;int&gt;</th><th scope=col>&lt;dbl&gt;</th><th scope=col>&lt;dbl&gt;</th></tr>\n",
       "</thead>\n",
       "<tbody>\n",
       "\t<tr><td>517</td><td>5</td><td>17</td></tr>\n",
       "\t<tr><td>533</td><td>5</td><td>33</td></tr>\n",
       "\t<tr><td>542</td><td>5</td><td>42</td></tr>\n",
       "</tbody>\n",
       "</table>\n"
      ],
      "text/latex": [
       "A tibble: 3 × 3\n",
       "\\begin{tabular}{lll}\n",
       " dep\\_time & hour & minute\\\\\n",
       " <int> & <dbl> & <dbl>\\\\\n",
       "\\hline\n",
       "\t 517 & 5 & 17\\\\\n",
       "\t 533 & 5 & 33\\\\\n",
       "\t 542 & 5 & 42\\\\\n",
       "\\end{tabular}\n"
      ],
      "text/markdown": [
       "\n",
       "A tibble: 3 × 3\n",
       "\n",
       "| dep_time &lt;int&gt; | hour &lt;dbl&gt; | minute &lt;dbl&gt; |\n",
       "|---|---|---|\n",
       "| 517 | 5 | 17 |\n",
       "| 533 | 5 | 33 |\n",
       "| 542 | 5 | 42 |\n",
       "\n"
      ],
      "text/plain": [
       "  dep_time hour minute\n",
       "1 517      5    17    \n",
       "2 533      5    33    \n",
       "3 542      5    42    "
      ]
     },
     "metadata": {},
     "output_type": "display_data"
    }
   ],
   "source": [
    "transmute(flights, dep_time, hour = dep_time %/% 100, minute = dep_time %% 100) %>% head(3)"
   ]
  },
  {
   "cell_type": "markdown",
   "metadata": {},
   "source": [
    "> Logs: `log()`, `log2()`, `log10()`. Logarithms are an incredibly useful transformation for dealing with data that ranges across multiple orders of magnitude. They also convert multiplicative relationships to additive, a feature we’ll come back to in modelling. All else being equal, I recommend using `log2()` because it’s easy to interpret: a difference of 1 on the log scale corresponds to doubling on the original scale and a difference of -1 corresponds to halving.\n",
    "\n",
    "> Offsets: `lead()` and `lag()` allow you to refer to leading or lagging values. This allows you to compute running differences (e.g. `x - lag(x)`) or find when values change (`x != lag(x)`). They are most useful in conjunction with `group_by()`, which you’ll learn about shortly."
   ]
  },
  {
   "cell_type": "code",
   "execution_count": 33,
   "metadata": {},
   "outputs": [
    {
     "data": {
      "text/html": [
       "<style>\n",
       ".list-inline {list-style: none; margin:0; padding: 0}\n",
       ".list-inline>li {display: inline-block}\n",
       ".list-inline>li:not(:last-child)::after {content: \"\\00b7\"; padding: 0 .5ex}\n",
       "</style>\n",
       "<ol class=list-inline><li>1</li><li>2</li><li>3</li><li>4</li><li>5</li><li>6</li><li>7</li><li>8</li><li>9</li><li>10</li></ol>\n"
      ],
      "text/latex": [
       "\\begin{enumerate*}\n",
       "\\item 1\n",
       "\\item 2\n",
       "\\item 3\n",
       "\\item 4\n",
       "\\item 5\n",
       "\\item 6\n",
       "\\item 7\n",
       "\\item 8\n",
       "\\item 9\n",
       "\\item 10\n",
       "\\end{enumerate*}\n"
      ],
      "text/markdown": [
       "1. 1\n",
       "2. 2\n",
       "3. 3\n",
       "4. 4\n",
       "5. 5\n",
       "6. 6\n",
       "7. 7\n",
       "8. 8\n",
       "9. 9\n",
       "10. 10\n",
       "\n",
       "\n"
      ],
      "text/plain": [
       " [1]  1  2  3  4  5  6  7  8  9 10"
      ]
     },
     "metadata": {},
     "output_type": "display_data"
    },
    {
     "data": {
      "text/html": [
       "<style>\n",
       ".list-inline {list-style: none; margin:0; padding: 0}\n",
       ".list-inline>li {display: inline-block}\n",
       ".list-inline>li:not(:last-child)::after {content: \"\\00b7\"; padding: 0 .5ex}\n",
       "</style>\n",
       "<ol class=list-inline><li>&lt;NA&gt;</li><li>1</li><li>2</li><li>3</li><li>4</li><li>5</li><li>6</li><li>7</li><li>8</li><li>9</li></ol>\n"
      ],
      "text/latex": [
       "\\begin{enumerate*}\n",
       "\\item <NA>\n",
       "\\item 1\n",
       "\\item 2\n",
       "\\item 3\n",
       "\\item 4\n",
       "\\item 5\n",
       "\\item 6\n",
       "\\item 7\n",
       "\\item 8\n",
       "\\item 9\n",
       "\\end{enumerate*}\n"
      ],
      "text/markdown": [
       "1. &lt;NA&gt;\n",
       "2. 1\n",
       "3. 2\n",
       "4. 3\n",
       "5. 4\n",
       "6. 5\n",
       "7. 6\n",
       "8. 7\n",
       "9. 8\n",
       "10. 9\n",
       "\n",
       "\n"
      ],
      "text/plain": [
       " [1] NA  1  2  3  4  5  6  7  8  9"
      ]
     },
     "metadata": {},
     "output_type": "display_data"
    },
    {
     "data": {
      "text/html": [
       "<style>\n",
       ".list-inline {list-style: none; margin:0; padding: 0}\n",
       ".list-inline>li {display: inline-block}\n",
       ".list-inline>li:not(:last-child)::after {content: \"\\00b7\"; padding: 0 .5ex}\n",
       "</style>\n",
       "<ol class=list-inline><li>2</li><li>3</li><li>4</li><li>5</li><li>6</li><li>7</li><li>8</li><li>9</li><li>10</li><li>&lt;NA&gt;</li></ol>\n"
      ],
      "text/latex": [
       "\\begin{enumerate*}\n",
       "\\item 2\n",
       "\\item 3\n",
       "\\item 4\n",
       "\\item 5\n",
       "\\item 6\n",
       "\\item 7\n",
       "\\item 8\n",
       "\\item 9\n",
       "\\item 10\n",
       "\\item <NA>\n",
       "\\end{enumerate*}\n"
      ],
      "text/markdown": [
       "1. 2\n",
       "2. 3\n",
       "3. 4\n",
       "4. 5\n",
       "5. 6\n",
       "6. 7\n",
       "7. 8\n",
       "8. 9\n",
       "9. 10\n",
       "10. &lt;NA&gt;\n",
       "\n",
       "\n"
      ],
      "text/plain": [
       " [1]  2  3  4  5  6  7  8  9 10 NA"
      ]
     },
     "metadata": {},
     "output_type": "display_data"
    }
   ],
   "source": [
    "x <- 1:10\n",
    "x\n",
    "lag(x)\n",
    "lead(x)"
   ]
  },
  {
   "cell_type": "code",
   "execution_count": 34,
   "metadata": {},
   "outputs": [
    {
     "data": {
      "text/html": [
       "<style>\n",
       ".list-inline {list-style: none; margin:0; padding: 0}\n",
       ".list-inline>li {display: inline-block}\n",
       ".list-inline>li:not(:last-child)::after {content: \"\\00b7\"; padding: 0 .5ex}\n",
       "</style>\n",
       "<ol class=list-inline><li>2</li><li>1</li><li>3</li><li>1</li><li>2</li><li>1</li><li>3</li><li>3</li><li>2</li><li>2</li></ol>\n"
      ],
      "text/latex": [
       "\\begin{enumerate*}\n",
       "\\item 2\n",
       "\\item 1\n",
       "\\item 3\n",
       "\\item 1\n",
       "\\item 2\n",
       "\\item 1\n",
       "\\item 3\n",
       "\\item 3\n",
       "\\item 2\n",
       "\\item 2\n",
       "\\end{enumerate*}\n"
      ],
      "text/markdown": [
       "1. 2\n",
       "2. 1\n",
       "3. 3\n",
       "4. 1\n",
       "5. 2\n",
       "6. 1\n",
       "7. 3\n",
       "8. 3\n",
       "9. 2\n",
       "10. 2\n",
       "\n",
       "\n"
      ],
      "text/plain": [
       " [1] 2 1 3 1 2 1 3 3 2 2"
      ]
     },
     "metadata": {},
     "output_type": "display_data"
    },
    {
     "data": {
      "text/html": [
       "<style>\n",
       ".list-inline {list-style: none; margin:0; padding: 0}\n",
       ".list-inline>li {display: inline-block}\n",
       ".list-inline>li:not(:last-child)::after {content: \"\\00b7\"; padding: 0 .5ex}\n",
       "</style>\n",
       "<ol class=list-inline><li>&lt;NA&gt;</li><li>-1</li><li>2</li><li>-2</li><li>1</li><li>-1</li><li>2</li><li>0</li><li>-1</li><li>0</li></ol>\n"
      ],
      "text/latex": [
       "\\begin{enumerate*}\n",
       "\\item <NA>\n",
       "\\item -1\n",
       "\\item 2\n",
       "\\item -2\n",
       "\\item 1\n",
       "\\item -1\n",
       "\\item 2\n",
       "\\item 0\n",
       "\\item -1\n",
       "\\item 0\n",
       "\\end{enumerate*}\n"
      ],
      "text/markdown": [
       "1. &lt;NA&gt;\n",
       "2. -1\n",
       "3. 2\n",
       "4. -2\n",
       "5. 1\n",
       "6. -1\n",
       "7. 2\n",
       "8. 0\n",
       "9. -1\n",
       "10. 0\n",
       "\n",
       "\n"
      ],
      "text/plain": [
       " [1] NA -1  2 -2  1 -1  2  0 -1  0"
      ]
     },
     "metadata": {},
     "output_type": "display_data"
    },
    {
     "data": {
      "text/html": [
       "<style>\n",
       ".list-inline {list-style: none; margin:0; padding: 0}\n",
       ".list-inline>li {display: inline-block}\n",
       ".list-inline>li:not(:last-child)::after {content: \"\\00b7\"; padding: 0 .5ex}\n",
       "</style>\n",
       "<ol class=list-inline><li>&lt;NA&gt;</li><li>TRUE</li><li>TRUE</li><li>TRUE</li><li>TRUE</li><li>TRUE</li><li>TRUE</li><li>FALSE</li><li>TRUE</li><li>FALSE</li></ol>\n"
      ],
      "text/latex": [
       "\\begin{enumerate*}\n",
       "\\item <NA>\n",
       "\\item TRUE\n",
       "\\item TRUE\n",
       "\\item TRUE\n",
       "\\item TRUE\n",
       "\\item TRUE\n",
       "\\item TRUE\n",
       "\\item FALSE\n",
       "\\item TRUE\n",
       "\\item FALSE\n",
       "\\end{enumerate*}\n"
      ],
      "text/markdown": [
       "1. &lt;NA&gt;\n",
       "2. TRUE\n",
       "3. TRUE\n",
       "4. TRUE\n",
       "5. TRUE\n",
       "6. TRUE\n",
       "7. TRUE\n",
       "8. FALSE\n",
       "9. TRUE\n",
       "10. FALSE\n",
       "\n",
       "\n"
      ],
      "text/plain": [
       " [1]    NA  TRUE  TRUE  TRUE  TRUE  TRUE  TRUE FALSE  TRUE FALSE"
      ]
     },
     "metadata": {},
     "output_type": "display_data"
    }
   ],
   "source": [
    "set.seed(0)\n",
    "x <- sample(1:3, 10, replace = TRUE)\n",
    "x\n",
    "x - lag(x)\n",
    "x != lag(x)"
   ]
  },
  {
   "cell_type": "markdown",
   "metadata": {},
   "source": [
    "> Cumulative and rolling aggregates. If you need rolling aggregates (i.e. a sum computed over a rolling window), try the RcppRoll package.\n",
    "\n",
    "> Ranking: there are a number of ranking functions, but you should start with `min_rank()`. If `min_rank()` doesn’t do what you need, look at the variants `row_number()`, `dense_rank()`, `percent_rank()`, `cume_dist()`, `ntile()`.\n",
    ">\n",
    "> https://en.wikipedia.org/wiki/Ranking"
   ]
  },
  {
   "cell_type": "code",
   "execution_count": 35,
   "metadata": {},
   "outputs": [
    {
     "data": {
      "text/html": [
       "<style>\n",
       ".list-inline {list-style: none; margin:0; padding: 0}\n",
       ".list-inline>li {display: inline-block}\n",
       ".list-inline>li:not(:last-child)::after {content: \"\\00b7\"; padding: 0 .5ex}\n",
       "</style>\n",
       "<ol class=list-inline><li>1</li><li>2</li><li>2</li><li>&lt;NA&gt;</li><li>3</li><li>4</li></ol>\n"
      ],
      "text/latex": [
       "\\begin{enumerate*}\n",
       "\\item 1\n",
       "\\item 2\n",
       "\\item 2\n",
       "\\item <NA>\n",
       "\\item 3\n",
       "\\item 4\n",
       "\\end{enumerate*}\n"
      ],
      "text/markdown": [
       "1. 1\n",
       "2. 2\n",
       "3. 2\n",
       "4. &lt;NA&gt;\n",
       "5. 3\n",
       "6. 4\n",
       "\n",
       "\n"
      ],
      "text/plain": [
       "[1]  1  2  2 NA  3  4"
      ]
     },
     "metadata": {},
     "output_type": "display_data"
    },
    {
     "data": {
      "text/html": [
       "<style>\n",
       ".list-inline {list-style: none; margin:0; padding: 0}\n",
       ".list-inline>li {display: inline-block}\n",
       ".list-inline>li:not(:last-child)::after {content: \"\\00b7\"; padding: 0 .5ex}\n",
       "</style>\n",
       "<ol class=list-inline><li>1</li><li>2</li><li>2</li><li>&lt;NA&gt;</li><li>4</li><li>5</li></ol>\n"
      ],
      "text/latex": [
       "\\begin{enumerate*}\n",
       "\\item 1\n",
       "\\item 2\n",
       "\\item 2\n",
       "\\item <NA>\n",
       "\\item 4\n",
       "\\item 5\n",
       "\\end{enumerate*}\n"
      ],
      "text/markdown": [
       "1. 1\n",
       "2. 2\n",
       "3. 2\n",
       "4. &lt;NA&gt;\n",
       "5. 4\n",
       "6. 5\n",
       "\n",
       "\n"
      ],
      "text/plain": [
       "[1]  1  2  2 NA  4  5"
      ]
     },
     "metadata": {},
     "output_type": "display_data"
    },
    {
     "data": {
      "text/html": [
       "<style>\n",
       ".list-inline {list-style: none; margin:0; padding: 0}\n",
       ".list-inline>li {display: inline-block}\n",
       ".list-inline>li:not(:last-child)::after {content: \"\\00b7\"; padding: 0 .5ex}\n",
       "</style>\n",
       "<ol class=list-inline><li>5</li><li>3</li><li>3</li><li>&lt;NA&gt;</li><li>2</li><li>1</li></ol>\n"
      ],
      "text/latex": [
       "\\begin{enumerate*}\n",
       "\\item 5\n",
       "\\item 3\n",
       "\\item 3\n",
       "\\item <NA>\n",
       "\\item 2\n",
       "\\item 1\n",
       "\\end{enumerate*}\n"
      ],
      "text/markdown": [
       "1. 5\n",
       "2. 3\n",
       "3. 3\n",
       "4. &lt;NA&gt;\n",
       "5. 2\n",
       "6. 1\n",
       "\n",
       "\n"
      ],
      "text/plain": [
       "[1]  5  3  3 NA  2  1"
      ]
     },
     "metadata": {},
     "output_type": "display_data"
    },
    {
     "data": {
      "text/html": [
       "<style>\n",
       ".list-inline {list-style: none; margin:0; padding: 0}\n",
       ".list-inline>li {display: inline-block}\n",
       ".list-inline>li:not(:last-child)::after {content: \"\\00b7\"; padding: 0 .5ex}\n",
       "</style>\n",
       "<ol class=list-inline><li>1</li><li>2</li><li>3</li><li>&lt;NA&gt;</li><li>4</li><li>5</li></ol>\n"
      ],
      "text/latex": [
       "\\begin{enumerate*}\n",
       "\\item 1\n",
       "\\item 2\n",
       "\\item 3\n",
       "\\item <NA>\n",
       "\\item 4\n",
       "\\item 5\n",
       "\\end{enumerate*}\n"
      ],
      "text/markdown": [
       "1. 1\n",
       "2. 2\n",
       "3. 3\n",
       "4. &lt;NA&gt;\n",
       "5. 4\n",
       "6. 5\n",
       "\n",
       "\n"
      ],
      "text/plain": [
       "[1]  1  2  3 NA  4  5"
      ]
     },
     "metadata": {},
     "output_type": "display_data"
    },
    {
     "data": {
      "text/html": [
       "<style>\n",
       ".list-inline {list-style: none; margin:0; padding: 0}\n",
       ".list-inline>li {display: inline-block}\n",
       ".list-inline>li:not(:last-child)::after {content: \"\\00b7\"; padding: 0 .5ex}\n",
       "</style>\n",
       "<ol class=list-inline><li>1</li><li>2</li><li>2</li><li>&lt;NA&gt;</li><li>3</li><li>4</li></ol>\n"
      ],
      "text/latex": [
       "\\begin{enumerate*}\n",
       "\\item 1\n",
       "\\item 2\n",
       "\\item 2\n",
       "\\item <NA>\n",
       "\\item 3\n",
       "\\item 4\n",
       "\\end{enumerate*}\n"
      ],
      "text/markdown": [
       "1. 1\n",
       "2. 2\n",
       "3. 2\n",
       "4. &lt;NA&gt;\n",
       "5. 3\n",
       "6. 4\n",
       "\n",
       "\n"
      ],
      "text/plain": [
       "[1]  1  2  2 NA  3  4"
      ]
     },
     "metadata": {},
     "output_type": "display_data"
    },
    {
     "data": {
      "text/html": [
       "<style>\n",
       ".list-inline {list-style: none; margin:0; padding: 0}\n",
       ".list-inline>li {display: inline-block}\n",
       ".list-inline>li:not(:last-child)::after {content: \"\\00b7\"; padding: 0 .5ex}\n",
       "</style>\n",
       "<ol class=list-inline><li>0</li><li>0.25</li><li>0.25</li><li>&lt;NA&gt;</li><li>0.75</li><li>1</li></ol>\n"
      ],
      "text/latex": [
       "\\begin{enumerate*}\n",
       "\\item 0\n",
       "\\item 0.25\n",
       "\\item 0.25\n",
       "\\item <NA>\n",
       "\\item 0.75\n",
       "\\item 1\n",
       "\\end{enumerate*}\n"
      ],
      "text/markdown": [
       "1. 0\n",
       "2. 0.25\n",
       "3. 0.25\n",
       "4. &lt;NA&gt;\n",
       "5. 0.75\n",
       "6. 1\n",
       "\n",
       "\n"
      ],
      "text/plain": [
       "[1] 0.00 0.25 0.25   NA 0.75 1.00"
      ]
     },
     "metadata": {},
     "output_type": "display_data"
    },
    {
     "data": {
      "text/html": [
       "<style>\n",
       ".list-inline {list-style: none; margin:0; padding: 0}\n",
       ".list-inline>li {display: inline-block}\n",
       ".list-inline>li:not(:last-child)::after {content: \"\\00b7\"; padding: 0 .5ex}\n",
       "</style>\n",
       "<ol class=list-inline><li>0.2</li><li>0.6</li><li>0.6</li><li>&lt;NA&gt;</li><li>0.8</li><li>1</li></ol>\n"
      ],
      "text/latex": [
       "\\begin{enumerate*}\n",
       "\\item 0.2\n",
       "\\item 0.6\n",
       "\\item 0.6\n",
       "\\item <NA>\n",
       "\\item 0.8\n",
       "\\item 1\n",
       "\\end{enumerate*}\n"
      ],
      "text/markdown": [
       "1. 0.2\n",
       "2. 0.6\n",
       "3. 0.6\n",
       "4. &lt;NA&gt;\n",
       "5. 0.8\n",
       "6. 1\n",
       "\n",
       "\n"
      ],
      "text/plain": [
       "[1] 0.2 0.6 0.6  NA 0.8 1.0"
      ]
     },
     "metadata": {},
     "output_type": "display_data"
    },
    {
     "data": {
      "text/html": [
       "<style>\n",
       ".list-inline {list-style: none; margin:0; padding: 0}\n",
       ".list-inline>li {display: inline-block}\n",
       ".list-inline>li:not(:last-child)::after {content: \"\\00b7\"; padding: 0 .5ex}\n",
       "</style>\n",
       "<ol class=list-inline><li>1</li><li>1</li><li>2</li><li>&lt;NA&gt;</li><li>2</li><li>3</li></ol>\n"
      ],
      "text/latex": [
       "\\begin{enumerate*}\n",
       "\\item 1\n",
       "\\item 1\n",
       "\\item 2\n",
       "\\item <NA>\n",
       "\\item 2\n",
       "\\item 3\n",
       "\\end{enumerate*}\n"
      ],
      "text/markdown": [
       "1. 1\n",
       "2. 1\n",
       "3. 2\n",
       "4. &lt;NA&gt;\n",
       "5. 2\n",
       "6. 3\n",
       "\n",
       "\n"
      ],
      "text/plain": [
       "[1]  1  1  2 NA  2  3"
      ]
     },
     "metadata": {},
     "output_type": "display_data"
    }
   ],
   "source": [
    "y <- c(1, 2, 2, NA, 3, 4)\n",
    "y\n",
    "min_rank(y)\n",
    "min_rank(desc(y))\n",
    "row_number(y)\n",
    "dense_rank(y)\n",
    "percent_rank(y)\n",
    "cume_dist(y)\n",
    "ntile(y,3)"
   ]
  },
  {
   "cell_type": "markdown",
   "metadata": {},
   "source": [
    "### 5.5.2 Exercises\n",
    "\n",
    "1. Currently `dep_time` and `sched_dep_time` are convenient to look at, but hard to compute with because they’re not really continuous numbers. Convert them to a more convenient representation of number of minutes since midnight.\n",
    "1. Compare `air_time` with `arr_time - dep_time`. What do you expect to see? What do you see? What do you need to do to fix it?\n",
    "1. Compare `dep_time`, `sched_dep_time`, and `dep_delay`. How would you expect those three numbers to be related?\n",
    "1. Find the 10 most delayed flights using a ranking function. How do you want to handle ties? Carefully read the documentation for `min_rank()`.\n",
    "1. What does `1:3 + 1:10` return? Why?\n",
    "1. What trigonometric functions does R provide?"
   ]
  },
  {
   "cell_type": "code",
   "execution_count": 36,
   "metadata": {},
   "outputs": [
    {
     "data": {
      "text/html": [
       "<table>\n",
       "<caption>A tibble: 3 × 2</caption>\n",
       "<thead>\n",
       "\t<tr><th scope=col>dep_time</th><th scope=col>sched_dep_time</th></tr>\n",
       "\t<tr><th scope=col>&lt;int&gt;</th><th scope=col>&lt;int&gt;</th></tr>\n",
       "</thead>\n",
       "<tbody>\n",
       "\t<tr><td>517</td><td>515</td></tr>\n",
       "\t<tr><td>533</td><td>529</td></tr>\n",
       "\t<tr><td>542</td><td>540</td></tr>\n",
       "</tbody>\n",
       "</table>\n"
      ],
      "text/latex": [
       "A tibble: 3 × 2\n",
       "\\begin{tabular}{ll}\n",
       " dep\\_time & sched\\_dep\\_time\\\\\n",
       " <int> & <int>\\\\\n",
       "\\hline\n",
       "\t 517 & 515\\\\\n",
       "\t 533 & 529\\\\\n",
       "\t 542 & 540\\\\\n",
       "\\end{tabular}\n"
      ],
      "text/markdown": [
       "\n",
       "A tibble: 3 × 2\n",
       "\n",
       "| dep_time &lt;int&gt; | sched_dep_time &lt;int&gt; |\n",
       "|---|---|\n",
       "| 517 | 515 |\n",
       "| 533 | 529 |\n",
       "| 542 | 540 |\n",
       "\n"
      ],
      "text/plain": [
       "  dep_time sched_dep_time\n",
       "1 517      515           \n",
       "2 533      529           \n",
       "3 542      540           "
      ]
     },
     "metadata": {},
     "output_type": "display_data"
    },
    {
     "data": {
      "text/html": [
       "<table>\n",
       "<caption>A tibble: 3 × 2</caption>\n",
       "<thead>\n",
       "\t<tr><th scope=col>dep_time</th><th scope=col>sched_dep_time</th></tr>\n",
       "\t<tr><th scope=col>&lt;dbl&gt;</th><th scope=col>&lt;dbl&gt;</th></tr>\n",
       "</thead>\n",
       "<tbody>\n",
       "\t<tr><td>317</td><td>315</td></tr>\n",
       "\t<tr><td>333</td><td>329</td></tr>\n",
       "\t<tr><td>342</td><td>340</td></tr>\n",
       "</tbody>\n",
       "</table>\n"
      ],
      "text/latex": [
       "A tibble: 3 × 2\n",
       "\\begin{tabular}{ll}\n",
       " dep\\_time & sched\\_dep\\_time\\\\\n",
       " <dbl> & <dbl>\\\\\n",
       "\\hline\n",
       "\t 317 & 315\\\\\n",
       "\t 333 & 329\\\\\n",
       "\t 342 & 340\\\\\n",
       "\\end{tabular}\n"
      ],
      "text/markdown": [
       "\n",
       "A tibble: 3 × 2\n",
       "\n",
       "| dep_time &lt;dbl&gt; | sched_dep_time &lt;dbl&gt; |\n",
       "|---|---|\n",
       "| 317 | 315 |\n",
       "| 333 | 329 |\n",
       "| 342 | 340 |\n",
       "\n"
      ],
      "text/plain": [
       "  dep_time sched_dep_time\n",
       "1 317      315           \n",
       "2 333      329           \n",
       "3 342      340           "
      ]
     },
     "metadata": {},
     "output_type": "display_data"
    }
   ],
   "source": [
    "# 1.\n",
    "select(flights, contains(\"dep_time\")) %>% head(3)\n",
    "select(flights, contains(\"dep_time\")) %>%\n",
    "  mutate_all(function(var) var %/% 100 * 60 + var %% 100) %>%\n",
    "  head(3)"
   ]
  },
  {
   "cell_type": "code",
   "execution_count": 37,
   "metadata": {},
   "outputs": [
    {
     "data": {
      "text/html": [
       "<table>\n",
       "<caption>A tibble: 5 × 5</caption>\n",
       "<thead>\n",
       "\t<tr><th scope=col>air_time</th><th scope=col>dep_time</th><th scope=col>arr_time</th><th scope=col>arr_time - dep_time</th><th scope=col>air_time - (arr_time - dep_time)</th></tr>\n",
       "\t<tr><th scope=col>&lt;dbl&gt;</th><th scope=col>&lt;int&gt;</th><th scope=col>&lt;int&gt;</th><th scope=col>&lt;int&gt;</th><th scope=col>&lt;dbl&gt;</th></tr>\n",
       "</thead>\n",
       "<tbody>\n",
       "\t<tr><td>227</td><td>517</td><td> 830</td><td>313</td><td> -86</td></tr>\n",
       "\t<tr><td>227</td><td>533</td><td> 850</td><td>317</td><td> -90</td></tr>\n",
       "\t<tr><td>160</td><td>542</td><td> 923</td><td>381</td><td>-221</td></tr>\n",
       "\t<tr><td>183</td><td>544</td><td>1004</td><td>460</td><td>-277</td></tr>\n",
       "\t<tr><td>116</td><td>554</td><td> 812</td><td>258</td><td>-142</td></tr>\n",
       "</tbody>\n",
       "</table>\n"
      ],
      "text/latex": [
       "A tibble: 5 × 5\n",
       "\\begin{tabular}{lllll}\n",
       " air\\_time & dep\\_time & arr\\_time & arr\\_time - dep\\_time & air\\_time - (arr\\_time - dep\\_time)\\\\\n",
       " <dbl> & <int> & <int> & <int> & <dbl>\\\\\n",
       "\\hline\n",
       "\t 227 & 517 &  830 & 313 &  -86\\\\\n",
       "\t 227 & 533 &  850 & 317 &  -90\\\\\n",
       "\t 160 & 542 &  923 & 381 & -221\\\\\n",
       "\t 183 & 544 & 1004 & 460 & -277\\\\\n",
       "\t 116 & 554 &  812 & 258 & -142\\\\\n",
       "\\end{tabular}\n"
      ],
      "text/markdown": [
       "\n",
       "A tibble: 5 × 5\n",
       "\n",
       "| air_time &lt;dbl&gt; | dep_time &lt;int&gt; | arr_time &lt;int&gt; | arr_time - dep_time &lt;int&gt; | air_time - (arr_time - dep_time) &lt;dbl&gt; |\n",
       "|---|---|---|---|---|\n",
       "| 227 | 517 |  830 | 313 |  -86 |\n",
       "| 227 | 533 |  850 | 317 |  -90 |\n",
       "| 160 | 542 |  923 | 381 | -221 |\n",
       "| 183 | 544 | 1004 | 460 | -277 |\n",
       "| 116 | 554 |  812 | 258 | -142 |\n",
       "\n"
      ],
      "text/plain": [
       "  air_time dep_time arr_time arr_time - dep_time\n",
       "1 227      517       830     313                \n",
       "2 227      533       850     317                \n",
       "3 160      542       923     381                \n",
       "4 183      544      1004     460                \n",
       "5 116      554       812     258                \n",
       "  air_time - (arr_time - dep_time)\n",
       "1  -86                            \n",
       "2  -90                            \n",
       "3 -221                            \n",
       "4 -277                            \n",
       "5 -142                            "
      ]
     },
     "metadata": {},
     "output_type": "display_data"
    },
    {
     "data": {
      "text/html": [
       "<table>\n",
       "<caption>A tibble: 5 × 5</caption>\n",
       "<thead>\n",
       "\t<tr><th scope=col>air_time</th><th scope=col>dep_time</th><th scope=col>arr_time</th><th scope=col>arr_time - dep_time</th><th scope=col>air_time - (arr_time - dep_time)</th></tr>\n",
       "\t<tr><th scope=col>&lt;dbl&gt;</th><th scope=col>&lt;dbl&gt;</th><th scope=col>&lt;dbl&gt;</th><th scope=col>&lt;dbl&gt;</th><th scope=col>&lt;dbl&gt;</th></tr>\n",
       "</thead>\n",
       "<tbody>\n",
       "\t<tr><td>227</td><td>317</td><td>510</td><td>193</td><td> 34</td></tr>\n",
       "\t<tr><td>227</td><td>333</td><td>530</td><td>197</td><td> 30</td></tr>\n",
       "\t<tr><td>160</td><td>342</td><td>563</td><td>221</td><td>-61</td></tr>\n",
       "\t<tr><td>183</td><td>344</td><td>604</td><td>260</td><td>-77</td></tr>\n",
       "\t<tr><td>116</td><td>354</td><td>492</td><td>138</td><td>-22</td></tr>\n",
       "</tbody>\n",
       "</table>\n"
      ],
      "text/latex": [
       "A tibble: 5 × 5\n",
       "\\begin{tabular}{lllll}\n",
       " air\\_time & dep\\_time & arr\\_time & arr\\_time - dep\\_time & air\\_time - (arr\\_time - dep\\_time)\\\\\n",
       " <dbl> & <dbl> & <dbl> & <dbl> & <dbl>\\\\\n",
       "\\hline\n",
       "\t 227 & 317 & 510 & 193 &  34\\\\\n",
       "\t 227 & 333 & 530 & 197 &  30\\\\\n",
       "\t 160 & 342 & 563 & 221 & -61\\\\\n",
       "\t 183 & 344 & 604 & 260 & -77\\\\\n",
       "\t 116 & 354 & 492 & 138 & -22\\\\\n",
       "\\end{tabular}\n"
      ],
      "text/markdown": [
       "\n",
       "A tibble: 5 × 5\n",
       "\n",
       "| air_time &lt;dbl&gt; | dep_time &lt;dbl&gt; | arr_time &lt;dbl&gt; | arr_time - dep_time &lt;dbl&gt; | air_time - (arr_time - dep_time) &lt;dbl&gt; |\n",
       "|---|---|---|---|---|\n",
       "| 227 | 317 | 510 | 193 |  34 |\n",
       "| 227 | 333 | 530 | 197 |  30 |\n",
       "| 160 | 342 | 563 | 221 | -61 |\n",
       "| 183 | 344 | 604 | 260 | -77 |\n",
       "| 116 | 354 | 492 | 138 | -22 |\n",
       "\n"
      ],
      "text/plain": [
       "  air_time dep_time arr_time arr_time - dep_time\n",
       "1 227      317      510      193                \n",
       "2 227      333      530      197                \n",
       "3 160      342      563      221                \n",
       "4 183      344      604      260                \n",
       "5 116      354      492      138                \n",
       "  air_time - (arr_time - dep_time)\n",
       "1  34                             \n",
       "2  30                             \n",
       "3 -61                             \n",
       "4 -77                             \n",
       "5 -22                             "
      ]
     },
     "metadata": {},
     "output_type": "display_data"
    }
   ],
   "source": [
    "# 2.\n",
    "flights %>%\n",
    "  transmute(air_time, dep_time, arr_time, arr_time - dep_time, air_time - (arr_time - dep_time)) %>%\n",
    "  head(5)\n",
    "flights %>%\n",
    "  mutate_at(vars(contains(\"_time\"), -air_time), function(var) var %/% 100 * 60 + var %% 100) %>%\n",
    "  transmute(air_time, dep_time, arr_time, arr_time - dep_time, air_time - (arr_time - dep_time)) %>%\n",
    "  head(5)"
   ]
  },
  {
   "cell_type": "code",
   "execution_count": 38,
   "metadata": {},
   "outputs": [
    {
     "data": {
      "text/html": [
       "<table>\n",
       "<caption>A tibble: 5 × 4</caption>\n",
       "<thead>\n",
       "\t<tr><th scope=col>dep_time</th><th scope=col>sched_dep_time</th><th scope=col>dep_delay</th><th scope=col>dep_time - (sched_dep_time + dep_delay)</th></tr>\n",
       "\t<tr><th scope=col>&lt;int&gt;</th><th scope=col>&lt;int&gt;</th><th scope=col>&lt;dbl&gt;</th><th scope=col>&lt;dbl&gt;</th></tr>\n",
       "</thead>\n",
       "<tbody>\n",
       "\t<tr><td>517</td><td>515</td><td> 2</td><td>  0</td></tr>\n",
       "\t<tr><td>533</td><td>529</td><td> 4</td><td>  0</td></tr>\n",
       "\t<tr><td>542</td><td>540</td><td> 2</td><td>  0</td></tr>\n",
       "\t<tr><td>544</td><td>545</td><td>-1</td><td>  0</td></tr>\n",
       "\t<tr><td>554</td><td>600</td><td>-6</td><td>-40</td></tr>\n",
       "</tbody>\n",
       "</table>\n"
      ],
      "text/latex": [
       "A tibble: 5 × 4\n",
       "\\begin{tabular}{llll}\n",
       " dep\\_time & sched\\_dep\\_time & dep\\_delay & dep\\_time - (sched\\_dep\\_time + dep\\_delay)\\\\\n",
       " <int> & <int> & <dbl> & <dbl>\\\\\n",
       "\\hline\n",
       "\t 517 & 515 &  2 &   0\\\\\n",
       "\t 533 & 529 &  4 &   0\\\\\n",
       "\t 542 & 540 &  2 &   0\\\\\n",
       "\t 544 & 545 & -1 &   0\\\\\n",
       "\t 554 & 600 & -6 & -40\\\\\n",
       "\\end{tabular}\n"
      ],
      "text/markdown": [
       "\n",
       "A tibble: 5 × 4\n",
       "\n",
       "| dep_time &lt;int&gt; | sched_dep_time &lt;int&gt; | dep_delay &lt;dbl&gt; | dep_time - (sched_dep_time + dep_delay) &lt;dbl&gt; |\n",
       "|---|---|---|---|\n",
       "| 517 | 515 |  2 |   0 |\n",
       "| 533 | 529 |  4 |   0 |\n",
       "| 542 | 540 |  2 |   0 |\n",
       "| 544 | 545 | -1 |   0 |\n",
       "| 554 | 600 | -6 | -40 |\n",
       "\n"
      ],
      "text/plain": [
       "  dep_time sched_dep_time dep_delay dep_time - (sched_dep_time + dep_delay)\n",
       "1 517      515             2          0                                    \n",
       "2 533      529             4          0                                    \n",
       "3 542      540             2          0                                    \n",
       "4 544      545            -1          0                                    \n",
       "5 554      600            -6        -40                                    "
      ]
     },
     "metadata": {},
     "output_type": "display_data"
    }
   ],
   "source": [
    "# 3.\n",
    "transmute(flights, dep_time, sched_dep_time, dep_delay, dep_time - (sched_dep_time + dep_delay)) %>% head(5)"
   ]
  }
 ],
 "metadata": {
  "kernelspec": {
   "display_name": "R",
   "language": "R",
   "name": "ir"
  },
  "language_info": {
   "codemirror_mode": "r",
   "file_extension": ".r",
   "mimetype": "text/x-r-source",
   "name": "R",
   "pygments_lexer": "r",
   "version": "3.6.3"
  }
 },
 "nbformat": 4,
 "nbformat_minor": 4
}
