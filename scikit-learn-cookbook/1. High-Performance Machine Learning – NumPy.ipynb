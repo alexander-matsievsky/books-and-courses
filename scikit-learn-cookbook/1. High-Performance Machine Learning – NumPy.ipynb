{
 "cells": [
  {
   "cell_type": "code",
   "execution_count": 27,
   "metadata": {},
   "outputs": [],
   "source": [
    "import altair as alt\n",
    "import numpy as np\n",
    "import pandas as pd\n",
    "from sklearn import datasets"
   ]
  },
  {
   "cell_type": "code",
   "execution_count": 14,
   "metadata": {},
   "outputs": [
    {
     "data": {
      "text/plain": [
       "['DESCR', 'data', 'feature_names', 'filename', 'target', 'target_names']"
      ]
     },
     "execution_count": 14,
     "metadata": {},
     "output_type": "execute_result"
    }
   ],
   "source": [
    "iris = datasets.load_iris()\n",
    "dir(iris)"
   ]
  },
  {
   "cell_type": "code",
   "execution_count": 10,
   "metadata": {},
   "outputs": [
    {
     "data": {
      "text/plain": [
       "['sepal length (cm)',\n",
       " 'sepal width (cm)',\n",
       " 'petal length (cm)',\n",
       " 'petal width (cm)']"
      ]
     },
     "metadata": {},
     "output_type": "display_data"
    },
    {
     "data": {
      "text/plain": [
       "(150, 4)"
      ]
     },
     "metadata": {},
     "output_type": "display_data"
    },
    {
     "data": {
      "text/plain": [
       "array(['setosa', 'versicolor', 'virginica'], dtype='<U10')"
      ]
     },
     "metadata": {},
     "output_type": "display_data"
    },
    {
     "data": {
      "text/plain": [
       "(150,)"
      ]
     },
     "metadata": {},
     "output_type": "display_data"
    }
   ],
   "source": [
    "display(\n",
    "    iris.feature_names,\n",
    "    iris.data.shape,\n",
    "    iris.target_names,\n",
    "    iris.target.shape,\n",
    ")"
   ]
  },
  {
   "cell_type": "code",
   "execution_count": 25,
   "metadata": {},
   "outputs": [
    {
     "name": "stdout",
     "output_type": "stream",
     "text": [
      "<class 'pandas.core.frame.DataFrame'>\n",
      "RangeIndex: 150 entries, 0 to 149\n",
      "Data columns (total 5 columns):\n",
      "sepal length (cm)    150 non-null float64\n",
      "sepal width (cm)     150 non-null float64\n",
      "petal length (cm)    150 non-null float64\n",
      "petal width (cm)     150 non-null float64\n",
      "target               150 non-null object\n",
      "dtypes: float64(4), object(1)\n",
      "memory usage: 5.9+ KB\n"
     ]
    },
    {
     "data": {
      "text/plain": [
       "None"
      ]
     },
     "metadata": {},
     "output_type": "display_data"
    },
    {
     "data": {
      "text/html": [
       "<div>\n",
       "<style scoped>\n",
       "    .dataframe tbody tr th:only-of-type {\n",
       "        vertical-align: middle;\n",
       "    }\n",
       "\n",
       "    .dataframe tbody tr th {\n",
       "        vertical-align: top;\n",
       "    }\n",
       "\n",
       "    .dataframe thead th {\n",
       "        text-align: right;\n",
       "    }\n",
       "</style>\n",
       "<table border=\"1\" class=\"dataframe\">\n",
       "  <thead>\n",
       "    <tr style=\"text-align: right;\">\n",
       "      <th></th>\n",
       "      <th>sepal length (cm)</th>\n",
       "      <th>sepal width (cm)</th>\n",
       "      <th>petal length (cm)</th>\n",
       "      <th>petal width (cm)</th>\n",
       "      <th>target</th>\n",
       "    </tr>\n",
       "  </thead>\n",
       "  <tbody>\n",
       "    <tr>\n",
       "      <th>0</th>\n",
       "      <td>5.1</td>\n",
       "      <td>3.5</td>\n",
       "      <td>1.4</td>\n",
       "      <td>0.2</td>\n",
       "      <td>setosa</td>\n",
       "    </tr>\n",
       "    <tr>\n",
       "      <th>1</th>\n",
       "      <td>4.9</td>\n",
       "      <td>3.0</td>\n",
       "      <td>1.4</td>\n",
       "      <td>0.2</td>\n",
       "      <td>setosa</td>\n",
       "    </tr>\n",
       "    <tr>\n",
       "      <th>2</th>\n",
       "      <td>4.7</td>\n",
       "      <td>3.2</td>\n",
       "      <td>1.3</td>\n",
       "      <td>0.2</td>\n",
       "      <td>setosa</td>\n",
       "    </tr>\n",
       "    <tr>\n",
       "      <th>3</th>\n",
       "      <td>4.6</td>\n",
       "      <td>3.1</td>\n",
       "      <td>1.5</td>\n",
       "      <td>0.2</td>\n",
       "      <td>setosa</td>\n",
       "    </tr>\n",
       "    <tr>\n",
       "      <th>4</th>\n",
       "      <td>5.0</td>\n",
       "      <td>3.6</td>\n",
       "      <td>1.4</td>\n",
       "      <td>0.2</td>\n",
       "      <td>setosa</td>\n",
       "    </tr>\n",
       "  </tbody>\n",
       "</table>\n",
       "</div>"
      ],
      "text/plain": [
       "   sepal length (cm)  sepal width (cm)  petal length (cm)  petal width (cm)  \\\n",
       "0                5.1               3.5                1.4               0.2   \n",
       "1                4.9               3.0                1.4               0.2   \n",
       "2                4.7               3.2                1.3               0.2   \n",
       "3                4.6               3.1                1.5               0.2   \n",
       "4                5.0               3.6                1.4               0.2   \n",
       "\n",
       "   target  \n",
       "0  setosa  \n",
       "1  setosa  \n",
       "2  setosa  \n",
       "3  setosa  \n",
       "4  setosa  "
      ]
     },
     "metadata": {},
     "output_type": "display_data"
    },
    {
     "data": {
      "text/html": [
       "<div>\n",
       "<style scoped>\n",
       "    .dataframe tbody tr th:only-of-type {\n",
       "        vertical-align: middle;\n",
       "    }\n",
       "\n",
       "    .dataframe tbody tr th {\n",
       "        vertical-align: top;\n",
       "    }\n",
       "\n",
       "    .dataframe thead th {\n",
       "        text-align: right;\n",
       "    }\n",
       "</style>\n",
       "<table border=\"1\" class=\"dataframe\">\n",
       "  <thead>\n",
       "    <tr style=\"text-align: right;\">\n",
       "      <th></th>\n",
       "      <th>sepal length (cm)</th>\n",
       "      <th>sepal width (cm)</th>\n",
       "      <th>petal length (cm)</th>\n",
       "      <th>petal width (cm)</th>\n",
       "    </tr>\n",
       "  </thead>\n",
       "  <tbody>\n",
       "    <tr>\n",
       "      <th>count</th>\n",
       "      <td>150.000000</td>\n",
       "      <td>150.000000</td>\n",
       "      <td>150.000000</td>\n",
       "      <td>150.000000</td>\n",
       "    </tr>\n",
       "    <tr>\n",
       "      <th>mean</th>\n",
       "      <td>5.843333</td>\n",
       "      <td>3.057333</td>\n",
       "      <td>3.758000</td>\n",
       "      <td>1.199333</td>\n",
       "    </tr>\n",
       "    <tr>\n",
       "      <th>std</th>\n",
       "      <td>0.828066</td>\n",
       "      <td>0.435866</td>\n",
       "      <td>1.765298</td>\n",
       "      <td>0.762238</td>\n",
       "    </tr>\n",
       "    <tr>\n",
       "      <th>min</th>\n",
       "      <td>4.300000</td>\n",
       "      <td>2.000000</td>\n",
       "      <td>1.000000</td>\n",
       "      <td>0.100000</td>\n",
       "    </tr>\n",
       "    <tr>\n",
       "      <th>25%</th>\n",
       "      <td>5.100000</td>\n",
       "      <td>2.800000</td>\n",
       "      <td>1.600000</td>\n",
       "      <td>0.300000</td>\n",
       "    </tr>\n",
       "    <tr>\n",
       "      <th>50%</th>\n",
       "      <td>5.800000</td>\n",
       "      <td>3.000000</td>\n",
       "      <td>4.350000</td>\n",
       "      <td>1.300000</td>\n",
       "    </tr>\n",
       "    <tr>\n",
       "      <th>75%</th>\n",
       "      <td>6.400000</td>\n",
       "      <td>3.300000</td>\n",
       "      <td>5.100000</td>\n",
       "      <td>1.800000</td>\n",
       "    </tr>\n",
       "    <tr>\n",
       "      <th>max</th>\n",
       "      <td>7.900000</td>\n",
       "      <td>4.400000</td>\n",
       "      <td>6.900000</td>\n",
       "      <td>2.500000</td>\n",
       "    </tr>\n",
       "  </tbody>\n",
       "</table>\n",
       "</div>"
      ],
      "text/plain": [
       "       sepal length (cm)  sepal width (cm)  petal length (cm)  \\\n",
       "count         150.000000        150.000000         150.000000   \n",
       "mean            5.843333          3.057333           3.758000   \n",
       "std             0.828066          0.435866           1.765298   \n",
       "min             4.300000          2.000000           1.000000   \n",
       "25%             5.100000          2.800000           1.600000   \n",
       "50%             5.800000          3.000000           4.350000   \n",
       "75%             6.400000          3.300000           5.100000   \n",
       "max             7.900000          4.400000           6.900000   \n",
       "\n",
       "       petal width (cm)  \n",
       "count        150.000000  \n",
       "mean           1.199333  \n",
       "std            0.762238  \n",
       "min            0.100000  \n",
       "25%            0.300000  \n",
       "50%            1.300000  \n",
       "75%            1.800000  \n",
       "max            2.500000  "
      ]
     },
     "metadata": {},
     "output_type": "display_data"
    }
   ],
   "source": [
    "df_iris = pd.DataFrame(iris.data, columns=iris.feature_names).assign(\n",
    "    target=pd.Series(iris.target).map(dict(enumerate(iris.target_names)))\n",
    ")\n",
    "display(\n",
    "    df_iris.info(),\n",
    "    df_iris.head(),\n",
    "    df_iris.describe()\n",
    ")"
   ]
  },
  {
   "cell_type": "code",
   "execution_count": 69,
   "metadata": {},
   "outputs": [
    {
     "data": {
      "application/vnd.vegalite.v3+json": {
       "$schema": "https://vega.github.io/schema/vega-lite/v3.3.0.json",
       "background": "white",
       "config": {
        "mark": {
         "tooltip": null
        },
        "view": {
         "height": 300,
         "width": 400
        }
       },
       "datasets": {
        "data-efc8798eb98fb6669c53b4eb56ce3b24": [
         {
          "petal length (cm)": 1.4,
          "petal width (cm)": 0.2,
          "sepal length (cm)": 5.1,
          "sepal width (cm)": 3.5,
          "target": "setosa"
         },
         {
          "petal length (cm)": 1.4,
          "petal width (cm)": 0.2,
          "sepal length (cm)": 4.9,
          "sepal width (cm)": 3,
          "target": "setosa"
         },
         {
          "petal length (cm)": 1.3,
          "petal width (cm)": 0.2,
          "sepal length (cm)": 4.7,
          "sepal width (cm)": 3.2,
          "target": "setosa"
         },
         {
          "petal length (cm)": 1.5,
          "petal width (cm)": 0.2,
          "sepal length (cm)": 4.6,
          "sepal width (cm)": 3.1,
          "target": "setosa"
         },
         {
          "petal length (cm)": 1.4,
          "petal width (cm)": 0.2,
          "sepal length (cm)": 5,
          "sepal width (cm)": 3.6,
          "target": "setosa"
         },
         {
          "petal length (cm)": 1.7,
          "petal width (cm)": 0.4,
          "sepal length (cm)": 5.4,
          "sepal width (cm)": 3.9,
          "target": "setosa"
         },
         {
          "petal length (cm)": 1.4,
          "petal width (cm)": 0.3,
          "sepal length (cm)": 4.6,
          "sepal width (cm)": 3.4,
          "target": "setosa"
         },
         {
          "petal length (cm)": 1.5,
          "petal width (cm)": 0.2,
          "sepal length (cm)": 5,
          "sepal width (cm)": 3.4,
          "target": "setosa"
         },
         {
          "petal length (cm)": 1.4,
          "petal width (cm)": 0.2,
          "sepal length (cm)": 4.4,
          "sepal width (cm)": 2.9,
          "target": "setosa"
         },
         {
          "petal length (cm)": 1.5,
          "petal width (cm)": 0.1,
          "sepal length (cm)": 4.9,
          "sepal width (cm)": 3.1,
          "target": "setosa"
         },
         {
          "petal length (cm)": 1.5,
          "petal width (cm)": 0.2,
          "sepal length (cm)": 5.4,
          "sepal width (cm)": 3.7,
          "target": "setosa"
         },
         {
          "petal length (cm)": 1.6,
          "petal width (cm)": 0.2,
          "sepal length (cm)": 4.8,
          "sepal width (cm)": 3.4,
          "target": "setosa"
         },
         {
          "petal length (cm)": 1.4,
          "petal width (cm)": 0.1,
          "sepal length (cm)": 4.8,
          "sepal width (cm)": 3,
          "target": "setosa"
         },
         {
          "petal length (cm)": 1.1,
          "petal width (cm)": 0.1,
          "sepal length (cm)": 4.3,
          "sepal width (cm)": 3,
          "target": "setosa"
         },
         {
          "petal length (cm)": 1.2,
          "petal width (cm)": 0.2,
          "sepal length (cm)": 5.8,
          "sepal width (cm)": 4,
          "target": "setosa"
         },
         {
          "petal length (cm)": 1.5,
          "petal width (cm)": 0.4,
          "sepal length (cm)": 5.7,
          "sepal width (cm)": 4.4,
          "target": "setosa"
         },
         {
          "petal length (cm)": 1.3,
          "petal width (cm)": 0.4,
          "sepal length (cm)": 5.4,
          "sepal width (cm)": 3.9,
          "target": "setosa"
         },
         {
          "petal length (cm)": 1.4,
          "petal width (cm)": 0.3,
          "sepal length (cm)": 5.1,
          "sepal width (cm)": 3.5,
          "target": "setosa"
         },
         {
          "petal length (cm)": 1.7,
          "petal width (cm)": 0.3,
          "sepal length (cm)": 5.7,
          "sepal width (cm)": 3.8,
          "target": "setosa"
         },
         {
          "petal length (cm)": 1.5,
          "petal width (cm)": 0.3,
          "sepal length (cm)": 5.1,
          "sepal width (cm)": 3.8,
          "target": "setosa"
         },
         {
          "petal length (cm)": 1.7,
          "petal width (cm)": 0.2,
          "sepal length (cm)": 5.4,
          "sepal width (cm)": 3.4,
          "target": "setosa"
         },
         {
          "petal length (cm)": 1.5,
          "petal width (cm)": 0.4,
          "sepal length (cm)": 5.1,
          "sepal width (cm)": 3.7,
          "target": "setosa"
         },
         {
          "petal length (cm)": 1,
          "petal width (cm)": 0.2,
          "sepal length (cm)": 4.6,
          "sepal width (cm)": 3.6,
          "target": "setosa"
         },
         {
          "petal length (cm)": 1.7,
          "petal width (cm)": 0.5,
          "sepal length (cm)": 5.1,
          "sepal width (cm)": 3.3,
          "target": "setosa"
         },
         {
          "petal length (cm)": 1.9,
          "petal width (cm)": 0.2,
          "sepal length (cm)": 4.8,
          "sepal width (cm)": 3.4,
          "target": "setosa"
         },
         {
          "petal length (cm)": 1.6,
          "petal width (cm)": 0.2,
          "sepal length (cm)": 5,
          "sepal width (cm)": 3,
          "target": "setosa"
         },
         {
          "petal length (cm)": 1.6,
          "petal width (cm)": 0.4,
          "sepal length (cm)": 5,
          "sepal width (cm)": 3.4,
          "target": "setosa"
         },
         {
          "petal length (cm)": 1.5,
          "petal width (cm)": 0.2,
          "sepal length (cm)": 5.2,
          "sepal width (cm)": 3.5,
          "target": "setosa"
         },
         {
          "petal length (cm)": 1.4,
          "petal width (cm)": 0.2,
          "sepal length (cm)": 5.2,
          "sepal width (cm)": 3.4,
          "target": "setosa"
         },
         {
          "petal length (cm)": 1.6,
          "petal width (cm)": 0.2,
          "sepal length (cm)": 4.7,
          "sepal width (cm)": 3.2,
          "target": "setosa"
         },
         {
          "petal length (cm)": 1.6,
          "petal width (cm)": 0.2,
          "sepal length (cm)": 4.8,
          "sepal width (cm)": 3.1,
          "target": "setosa"
         },
         {
          "petal length (cm)": 1.5,
          "petal width (cm)": 0.4,
          "sepal length (cm)": 5.4,
          "sepal width (cm)": 3.4,
          "target": "setosa"
         },
         {
          "petal length (cm)": 1.5,
          "petal width (cm)": 0.1,
          "sepal length (cm)": 5.2,
          "sepal width (cm)": 4.1,
          "target": "setosa"
         },
         {
          "petal length (cm)": 1.4,
          "petal width (cm)": 0.2,
          "sepal length (cm)": 5.5,
          "sepal width (cm)": 4.2,
          "target": "setosa"
         },
         {
          "petal length (cm)": 1.5,
          "petal width (cm)": 0.2,
          "sepal length (cm)": 4.9,
          "sepal width (cm)": 3.1,
          "target": "setosa"
         },
         {
          "petal length (cm)": 1.2,
          "petal width (cm)": 0.2,
          "sepal length (cm)": 5,
          "sepal width (cm)": 3.2,
          "target": "setosa"
         },
         {
          "petal length (cm)": 1.3,
          "petal width (cm)": 0.2,
          "sepal length (cm)": 5.5,
          "sepal width (cm)": 3.5,
          "target": "setosa"
         },
         {
          "petal length (cm)": 1.4,
          "petal width (cm)": 0.1,
          "sepal length (cm)": 4.9,
          "sepal width (cm)": 3.6,
          "target": "setosa"
         },
         {
          "petal length (cm)": 1.3,
          "petal width (cm)": 0.2,
          "sepal length (cm)": 4.4,
          "sepal width (cm)": 3,
          "target": "setosa"
         },
         {
          "petal length (cm)": 1.5,
          "petal width (cm)": 0.2,
          "sepal length (cm)": 5.1,
          "sepal width (cm)": 3.4,
          "target": "setosa"
         },
         {
          "petal length (cm)": 1.3,
          "petal width (cm)": 0.3,
          "sepal length (cm)": 5,
          "sepal width (cm)": 3.5,
          "target": "setosa"
         },
         {
          "petal length (cm)": 1.3,
          "petal width (cm)": 0.3,
          "sepal length (cm)": 4.5,
          "sepal width (cm)": 2.3,
          "target": "setosa"
         },
         {
          "petal length (cm)": 1.3,
          "petal width (cm)": 0.2,
          "sepal length (cm)": 4.4,
          "sepal width (cm)": 3.2,
          "target": "setosa"
         },
         {
          "petal length (cm)": 1.6,
          "petal width (cm)": 0.6,
          "sepal length (cm)": 5,
          "sepal width (cm)": 3.5,
          "target": "setosa"
         },
         {
          "petal length (cm)": 1.9,
          "petal width (cm)": 0.4,
          "sepal length (cm)": 5.1,
          "sepal width (cm)": 3.8,
          "target": "setosa"
         },
         {
          "petal length (cm)": 1.4,
          "petal width (cm)": 0.3,
          "sepal length (cm)": 4.8,
          "sepal width (cm)": 3,
          "target": "setosa"
         },
         {
          "petal length (cm)": 1.6,
          "petal width (cm)": 0.2,
          "sepal length (cm)": 5.1,
          "sepal width (cm)": 3.8,
          "target": "setosa"
         },
         {
          "petal length (cm)": 1.4,
          "petal width (cm)": 0.2,
          "sepal length (cm)": 4.6,
          "sepal width (cm)": 3.2,
          "target": "setosa"
         },
         {
          "petal length (cm)": 1.5,
          "petal width (cm)": 0.2,
          "sepal length (cm)": 5.3,
          "sepal width (cm)": 3.7,
          "target": "setosa"
         },
         {
          "petal length (cm)": 1.4,
          "petal width (cm)": 0.2,
          "sepal length (cm)": 5,
          "sepal width (cm)": 3.3,
          "target": "setosa"
         },
         {
          "petal length (cm)": 4.7,
          "petal width (cm)": 1.4,
          "sepal length (cm)": 7,
          "sepal width (cm)": 3.2,
          "target": "versicolor"
         },
         {
          "petal length (cm)": 4.5,
          "petal width (cm)": 1.5,
          "sepal length (cm)": 6.4,
          "sepal width (cm)": 3.2,
          "target": "versicolor"
         },
         {
          "petal length (cm)": 4.9,
          "petal width (cm)": 1.5,
          "sepal length (cm)": 6.9,
          "sepal width (cm)": 3.1,
          "target": "versicolor"
         },
         {
          "petal length (cm)": 4,
          "petal width (cm)": 1.3,
          "sepal length (cm)": 5.5,
          "sepal width (cm)": 2.3,
          "target": "versicolor"
         },
         {
          "petal length (cm)": 4.6,
          "petal width (cm)": 1.5,
          "sepal length (cm)": 6.5,
          "sepal width (cm)": 2.8,
          "target": "versicolor"
         },
         {
          "petal length (cm)": 4.5,
          "petal width (cm)": 1.3,
          "sepal length (cm)": 5.7,
          "sepal width (cm)": 2.8,
          "target": "versicolor"
         },
         {
          "petal length (cm)": 4.7,
          "petal width (cm)": 1.6,
          "sepal length (cm)": 6.3,
          "sepal width (cm)": 3.3,
          "target": "versicolor"
         },
         {
          "petal length (cm)": 3.3,
          "petal width (cm)": 1,
          "sepal length (cm)": 4.9,
          "sepal width (cm)": 2.4,
          "target": "versicolor"
         },
         {
          "petal length (cm)": 4.6,
          "petal width (cm)": 1.3,
          "sepal length (cm)": 6.6,
          "sepal width (cm)": 2.9,
          "target": "versicolor"
         },
         {
          "petal length (cm)": 3.9,
          "petal width (cm)": 1.4,
          "sepal length (cm)": 5.2,
          "sepal width (cm)": 2.7,
          "target": "versicolor"
         },
         {
          "petal length (cm)": 3.5,
          "petal width (cm)": 1,
          "sepal length (cm)": 5,
          "sepal width (cm)": 2,
          "target": "versicolor"
         },
         {
          "petal length (cm)": 4.2,
          "petal width (cm)": 1.5,
          "sepal length (cm)": 5.9,
          "sepal width (cm)": 3,
          "target": "versicolor"
         },
         {
          "petal length (cm)": 4,
          "petal width (cm)": 1,
          "sepal length (cm)": 6,
          "sepal width (cm)": 2.2,
          "target": "versicolor"
         },
         {
          "petal length (cm)": 4.7,
          "petal width (cm)": 1.4,
          "sepal length (cm)": 6.1,
          "sepal width (cm)": 2.9,
          "target": "versicolor"
         },
         {
          "petal length (cm)": 3.6,
          "petal width (cm)": 1.3,
          "sepal length (cm)": 5.6,
          "sepal width (cm)": 2.9,
          "target": "versicolor"
         },
         {
          "petal length (cm)": 4.4,
          "petal width (cm)": 1.4,
          "sepal length (cm)": 6.7,
          "sepal width (cm)": 3.1,
          "target": "versicolor"
         },
         {
          "petal length (cm)": 4.5,
          "petal width (cm)": 1.5,
          "sepal length (cm)": 5.6,
          "sepal width (cm)": 3,
          "target": "versicolor"
         },
         {
          "petal length (cm)": 4.1,
          "petal width (cm)": 1,
          "sepal length (cm)": 5.8,
          "sepal width (cm)": 2.7,
          "target": "versicolor"
         },
         {
          "petal length (cm)": 4.5,
          "petal width (cm)": 1.5,
          "sepal length (cm)": 6.2,
          "sepal width (cm)": 2.2,
          "target": "versicolor"
         },
         {
          "petal length (cm)": 3.9,
          "petal width (cm)": 1.1,
          "sepal length (cm)": 5.6,
          "sepal width (cm)": 2.5,
          "target": "versicolor"
         },
         {
          "petal length (cm)": 4.8,
          "petal width (cm)": 1.8,
          "sepal length (cm)": 5.9,
          "sepal width (cm)": 3.2,
          "target": "versicolor"
         },
         {
          "petal length (cm)": 4,
          "petal width (cm)": 1.3,
          "sepal length (cm)": 6.1,
          "sepal width (cm)": 2.8,
          "target": "versicolor"
         },
         {
          "petal length (cm)": 4.9,
          "petal width (cm)": 1.5,
          "sepal length (cm)": 6.3,
          "sepal width (cm)": 2.5,
          "target": "versicolor"
         },
         {
          "petal length (cm)": 4.7,
          "petal width (cm)": 1.2,
          "sepal length (cm)": 6.1,
          "sepal width (cm)": 2.8,
          "target": "versicolor"
         },
         {
          "petal length (cm)": 4.3,
          "petal width (cm)": 1.3,
          "sepal length (cm)": 6.4,
          "sepal width (cm)": 2.9,
          "target": "versicolor"
         },
         {
          "petal length (cm)": 4.4,
          "petal width (cm)": 1.4,
          "sepal length (cm)": 6.6,
          "sepal width (cm)": 3,
          "target": "versicolor"
         },
         {
          "petal length (cm)": 4.8,
          "petal width (cm)": 1.4,
          "sepal length (cm)": 6.8,
          "sepal width (cm)": 2.8,
          "target": "versicolor"
         },
         {
          "petal length (cm)": 5,
          "petal width (cm)": 1.7,
          "sepal length (cm)": 6.7,
          "sepal width (cm)": 3,
          "target": "versicolor"
         },
         {
          "petal length (cm)": 4.5,
          "petal width (cm)": 1.5,
          "sepal length (cm)": 6,
          "sepal width (cm)": 2.9,
          "target": "versicolor"
         },
         {
          "petal length (cm)": 3.5,
          "petal width (cm)": 1,
          "sepal length (cm)": 5.7,
          "sepal width (cm)": 2.6,
          "target": "versicolor"
         },
         {
          "petal length (cm)": 3.8,
          "petal width (cm)": 1.1,
          "sepal length (cm)": 5.5,
          "sepal width (cm)": 2.4,
          "target": "versicolor"
         },
         {
          "petal length (cm)": 3.7,
          "petal width (cm)": 1,
          "sepal length (cm)": 5.5,
          "sepal width (cm)": 2.4,
          "target": "versicolor"
         },
         {
          "petal length (cm)": 3.9,
          "petal width (cm)": 1.2,
          "sepal length (cm)": 5.8,
          "sepal width (cm)": 2.7,
          "target": "versicolor"
         },
         {
          "petal length (cm)": 5.1,
          "petal width (cm)": 1.6,
          "sepal length (cm)": 6,
          "sepal width (cm)": 2.7,
          "target": "versicolor"
         },
         {
          "petal length (cm)": 4.5,
          "petal width (cm)": 1.5,
          "sepal length (cm)": 5.4,
          "sepal width (cm)": 3,
          "target": "versicolor"
         },
         {
          "petal length (cm)": 4.5,
          "petal width (cm)": 1.6,
          "sepal length (cm)": 6,
          "sepal width (cm)": 3.4,
          "target": "versicolor"
         },
         {
          "petal length (cm)": 4.7,
          "petal width (cm)": 1.5,
          "sepal length (cm)": 6.7,
          "sepal width (cm)": 3.1,
          "target": "versicolor"
         },
         {
          "petal length (cm)": 4.4,
          "petal width (cm)": 1.3,
          "sepal length (cm)": 6.3,
          "sepal width (cm)": 2.3,
          "target": "versicolor"
         },
         {
          "petal length (cm)": 4.1,
          "petal width (cm)": 1.3,
          "sepal length (cm)": 5.6,
          "sepal width (cm)": 3,
          "target": "versicolor"
         },
         {
          "petal length (cm)": 4,
          "petal width (cm)": 1.3,
          "sepal length (cm)": 5.5,
          "sepal width (cm)": 2.5,
          "target": "versicolor"
         },
         {
          "petal length (cm)": 4.4,
          "petal width (cm)": 1.2,
          "sepal length (cm)": 5.5,
          "sepal width (cm)": 2.6,
          "target": "versicolor"
         },
         {
          "petal length (cm)": 4.6,
          "petal width (cm)": 1.4,
          "sepal length (cm)": 6.1,
          "sepal width (cm)": 3,
          "target": "versicolor"
         },
         {
          "petal length (cm)": 4,
          "petal width (cm)": 1.2,
          "sepal length (cm)": 5.8,
          "sepal width (cm)": 2.6,
          "target": "versicolor"
         },
         {
          "petal length (cm)": 3.3,
          "petal width (cm)": 1,
          "sepal length (cm)": 5,
          "sepal width (cm)": 2.3,
          "target": "versicolor"
         },
         {
          "petal length (cm)": 4.2,
          "petal width (cm)": 1.3,
          "sepal length (cm)": 5.6,
          "sepal width (cm)": 2.7,
          "target": "versicolor"
         },
         {
          "petal length (cm)": 4.2,
          "petal width (cm)": 1.2,
          "sepal length (cm)": 5.7,
          "sepal width (cm)": 3,
          "target": "versicolor"
         },
         {
          "petal length (cm)": 4.2,
          "petal width (cm)": 1.3,
          "sepal length (cm)": 5.7,
          "sepal width (cm)": 2.9,
          "target": "versicolor"
         },
         {
          "petal length (cm)": 4.3,
          "petal width (cm)": 1.3,
          "sepal length (cm)": 6.2,
          "sepal width (cm)": 2.9,
          "target": "versicolor"
         },
         {
          "petal length (cm)": 3,
          "petal width (cm)": 1.1,
          "sepal length (cm)": 5.1,
          "sepal width (cm)": 2.5,
          "target": "versicolor"
         },
         {
          "petal length (cm)": 4.1,
          "petal width (cm)": 1.3,
          "sepal length (cm)": 5.7,
          "sepal width (cm)": 2.8,
          "target": "versicolor"
         },
         {
          "petal length (cm)": 6,
          "petal width (cm)": 2.5,
          "sepal length (cm)": 6.3,
          "sepal width (cm)": 3.3,
          "target": "virginica"
         },
         {
          "petal length (cm)": 5.1,
          "petal width (cm)": 1.9,
          "sepal length (cm)": 5.8,
          "sepal width (cm)": 2.7,
          "target": "virginica"
         },
         {
          "petal length (cm)": 5.9,
          "petal width (cm)": 2.1,
          "sepal length (cm)": 7.1,
          "sepal width (cm)": 3,
          "target": "virginica"
         },
         {
          "petal length (cm)": 5.6,
          "petal width (cm)": 1.8,
          "sepal length (cm)": 6.3,
          "sepal width (cm)": 2.9,
          "target": "virginica"
         },
         {
          "petal length (cm)": 5.8,
          "petal width (cm)": 2.2,
          "sepal length (cm)": 6.5,
          "sepal width (cm)": 3,
          "target": "virginica"
         },
         {
          "petal length (cm)": 6.6,
          "petal width (cm)": 2.1,
          "sepal length (cm)": 7.6,
          "sepal width (cm)": 3,
          "target": "virginica"
         },
         {
          "petal length (cm)": 4.5,
          "petal width (cm)": 1.7,
          "sepal length (cm)": 4.9,
          "sepal width (cm)": 2.5,
          "target": "virginica"
         },
         {
          "petal length (cm)": 6.3,
          "petal width (cm)": 1.8,
          "sepal length (cm)": 7.3,
          "sepal width (cm)": 2.9,
          "target": "virginica"
         },
         {
          "petal length (cm)": 5.8,
          "petal width (cm)": 1.8,
          "sepal length (cm)": 6.7,
          "sepal width (cm)": 2.5,
          "target": "virginica"
         },
         {
          "petal length (cm)": 6.1,
          "petal width (cm)": 2.5,
          "sepal length (cm)": 7.2,
          "sepal width (cm)": 3.6,
          "target": "virginica"
         },
         {
          "petal length (cm)": 5.1,
          "petal width (cm)": 2,
          "sepal length (cm)": 6.5,
          "sepal width (cm)": 3.2,
          "target": "virginica"
         },
         {
          "petal length (cm)": 5.3,
          "petal width (cm)": 1.9,
          "sepal length (cm)": 6.4,
          "sepal width (cm)": 2.7,
          "target": "virginica"
         },
         {
          "petal length (cm)": 5.5,
          "petal width (cm)": 2.1,
          "sepal length (cm)": 6.8,
          "sepal width (cm)": 3,
          "target": "virginica"
         },
         {
          "petal length (cm)": 5,
          "petal width (cm)": 2,
          "sepal length (cm)": 5.7,
          "sepal width (cm)": 2.5,
          "target": "virginica"
         },
         {
          "petal length (cm)": 5.1,
          "petal width (cm)": 2.4,
          "sepal length (cm)": 5.8,
          "sepal width (cm)": 2.8,
          "target": "virginica"
         },
         {
          "petal length (cm)": 5.3,
          "petal width (cm)": 2.3,
          "sepal length (cm)": 6.4,
          "sepal width (cm)": 3.2,
          "target": "virginica"
         },
         {
          "petal length (cm)": 5.5,
          "petal width (cm)": 1.8,
          "sepal length (cm)": 6.5,
          "sepal width (cm)": 3,
          "target": "virginica"
         },
         {
          "petal length (cm)": 6.7,
          "petal width (cm)": 2.2,
          "sepal length (cm)": 7.7,
          "sepal width (cm)": 3.8,
          "target": "virginica"
         },
         {
          "petal length (cm)": 6.9,
          "petal width (cm)": 2.3,
          "sepal length (cm)": 7.7,
          "sepal width (cm)": 2.6,
          "target": "virginica"
         },
         {
          "petal length (cm)": 5,
          "petal width (cm)": 1.5,
          "sepal length (cm)": 6,
          "sepal width (cm)": 2.2,
          "target": "virginica"
         },
         {
          "petal length (cm)": 5.7,
          "petal width (cm)": 2.3,
          "sepal length (cm)": 6.9,
          "sepal width (cm)": 3.2,
          "target": "virginica"
         },
         {
          "petal length (cm)": 4.9,
          "petal width (cm)": 2,
          "sepal length (cm)": 5.6,
          "sepal width (cm)": 2.8,
          "target": "virginica"
         },
         {
          "petal length (cm)": 6.7,
          "petal width (cm)": 2,
          "sepal length (cm)": 7.7,
          "sepal width (cm)": 2.8,
          "target": "virginica"
         },
         {
          "petal length (cm)": 4.9,
          "petal width (cm)": 1.8,
          "sepal length (cm)": 6.3,
          "sepal width (cm)": 2.7,
          "target": "virginica"
         },
         {
          "petal length (cm)": 5.7,
          "petal width (cm)": 2.1,
          "sepal length (cm)": 6.7,
          "sepal width (cm)": 3.3,
          "target": "virginica"
         },
         {
          "petal length (cm)": 6,
          "petal width (cm)": 1.8,
          "sepal length (cm)": 7.2,
          "sepal width (cm)": 3.2,
          "target": "virginica"
         },
         {
          "petal length (cm)": 4.8,
          "petal width (cm)": 1.8,
          "sepal length (cm)": 6.2,
          "sepal width (cm)": 2.8,
          "target": "virginica"
         },
         {
          "petal length (cm)": 4.9,
          "petal width (cm)": 1.8,
          "sepal length (cm)": 6.1,
          "sepal width (cm)": 3,
          "target": "virginica"
         },
         {
          "petal length (cm)": 5.6,
          "petal width (cm)": 2.1,
          "sepal length (cm)": 6.4,
          "sepal width (cm)": 2.8,
          "target": "virginica"
         },
         {
          "petal length (cm)": 5.8,
          "petal width (cm)": 1.6,
          "sepal length (cm)": 7.2,
          "sepal width (cm)": 3,
          "target": "virginica"
         },
         {
          "petal length (cm)": 6.1,
          "petal width (cm)": 1.9,
          "sepal length (cm)": 7.4,
          "sepal width (cm)": 2.8,
          "target": "virginica"
         },
         {
          "petal length (cm)": 6.4,
          "petal width (cm)": 2,
          "sepal length (cm)": 7.9,
          "sepal width (cm)": 3.8,
          "target": "virginica"
         },
         {
          "petal length (cm)": 5.6,
          "petal width (cm)": 2.2,
          "sepal length (cm)": 6.4,
          "sepal width (cm)": 2.8,
          "target": "virginica"
         },
         {
          "petal length (cm)": 5.1,
          "petal width (cm)": 1.5,
          "sepal length (cm)": 6.3,
          "sepal width (cm)": 2.8,
          "target": "virginica"
         },
         {
          "petal length (cm)": 5.6,
          "petal width (cm)": 1.4,
          "sepal length (cm)": 6.1,
          "sepal width (cm)": 2.6,
          "target": "virginica"
         },
         {
          "petal length (cm)": 6.1,
          "petal width (cm)": 2.3,
          "sepal length (cm)": 7.7,
          "sepal width (cm)": 3,
          "target": "virginica"
         },
         {
          "petal length (cm)": 5.6,
          "petal width (cm)": 2.4,
          "sepal length (cm)": 6.3,
          "sepal width (cm)": 3.4,
          "target": "virginica"
         },
         {
          "petal length (cm)": 5.5,
          "petal width (cm)": 1.8,
          "sepal length (cm)": 6.4,
          "sepal width (cm)": 3.1,
          "target": "virginica"
         },
         {
          "petal length (cm)": 4.8,
          "petal width (cm)": 1.8,
          "sepal length (cm)": 6,
          "sepal width (cm)": 3,
          "target": "virginica"
         },
         {
          "petal length (cm)": 5.4,
          "petal width (cm)": 2.1,
          "sepal length (cm)": 6.9,
          "sepal width (cm)": 3.1,
          "target": "virginica"
         },
         {
          "petal length (cm)": 5.6,
          "petal width (cm)": 2.4,
          "sepal length (cm)": 6.7,
          "sepal width (cm)": 3.1,
          "target": "virginica"
         },
         {
          "petal length (cm)": 5.1,
          "petal width (cm)": 2.3,
          "sepal length (cm)": 6.9,
          "sepal width (cm)": 3.1,
          "target": "virginica"
         },
         {
          "petal length (cm)": 5.1,
          "petal width (cm)": 1.9,
          "sepal length (cm)": 5.8,
          "sepal width (cm)": 2.7,
          "target": "virginica"
         },
         {
          "petal length (cm)": 5.9,
          "petal width (cm)": 2.3,
          "sepal length (cm)": 6.8,
          "sepal width (cm)": 3.2,
          "target": "virginica"
         },
         {
          "petal length (cm)": 5.7,
          "petal width (cm)": 2.5,
          "sepal length (cm)": 6.7,
          "sepal width (cm)": 3.3,
          "target": "virginica"
         },
         {
          "petal length (cm)": 5.2,
          "petal width (cm)": 2.3,
          "sepal length (cm)": 6.7,
          "sepal width (cm)": 3,
          "target": "virginica"
         },
         {
          "petal length (cm)": 5,
          "petal width (cm)": 1.9,
          "sepal length (cm)": 6.3,
          "sepal width (cm)": 2.5,
          "target": "virginica"
         },
         {
          "petal length (cm)": 5.2,
          "petal width (cm)": 2,
          "sepal length (cm)": 6.5,
          "sepal width (cm)": 3,
          "target": "virginica"
         },
         {
          "petal length (cm)": 5.4,
          "petal width (cm)": 2.3,
          "sepal length (cm)": 6.2,
          "sepal width (cm)": 3.4,
          "target": "virginica"
         },
         {
          "petal length (cm)": 5.1,
          "petal width (cm)": 1.8,
          "sepal length (cm)": 5.9,
          "sepal width (cm)": 3,
          "target": "virginica"
         }
        ]
       },
       "repeat": {
        "row": [
         "sepal length (cm)",
         "sepal width (cm)",
         "petal length (cm)",
         "petal width (cm)"
        ]
       },
       "spec": {
        "data": {
         "name": "data-efc8798eb98fb6669c53b4eb56ce3b24"
        },
        "encoding": {
         "color": {
          "field": "target",
          "type": "nominal"
         },
         "x": {
          "bin": true,
          "field": {
           "repeat": "row"
          },
          "type": "quantitative"
         },
         "y": {
          "aggregate": "count",
          "type": "quantitative"
         }
        },
        "mark": "bar"
       }
      },
      "image/png": "[encoded data removed]",
      "text/plain": [
       "<VegaLite 3 object>\n",
       "\n",
       "If you see this message, it means the renderer has not been properly enabled\n",
       "for the frontend that you are using. For more information, see\n",
       "https://altair-viz.github.io/user_guide/troubleshooting.html\n"
      ]
     },
     "execution_count": 69,
     "metadata": {},
     "output_type": "execute_result"
    }
   ],
   "source": [
    "alt.Chart(df_iris).mark_bar().encode(\n",
    "    x=alt.X(alt.repeat(\"row\"), bin=True, type=\"quantitative\"), y=\"count()\", color=\"target:N\"\n",
    ").repeat(row=df_iris.columns.tolist()[:-1], background=\"white\")"
   ]
  },
  {
   "cell_type": "code",
   "execution_count": 70,
   "metadata": {},
   "outputs": [
    {
     "data": {
      "application/vnd.vegalite.v3+json": {
       "$schema": "https://vega.github.io/schema/vega-lite/v3.3.0.json",
       "background": "white",
       "config": {
        "mark": {
         "tooltip": null
        },
        "view": {
         "height": 300,
         "width": 400
        }
       },
       "data": {
        "name": "data-efc8798eb98fb6669c53b4eb56ce3b24"
       },
       "datasets": {
        "data-efc8798eb98fb6669c53b4eb56ce3b24": [
         {
          "petal length (cm)": 1.4,
          "petal width (cm)": 0.2,
          "sepal length (cm)": 5.1,
          "sepal width (cm)": 3.5,
          "target": "setosa"
         },
         {
          "petal length (cm)": 1.4,
          "petal width (cm)": 0.2,
          "sepal length (cm)": 4.9,
          "sepal width (cm)": 3,
          "target": "setosa"
         },
         {
          "petal length (cm)": 1.3,
          "petal width (cm)": 0.2,
          "sepal length (cm)": 4.7,
          "sepal width (cm)": 3.2,
          "target": "setosa"
         },
         {
          "petal length (cm)": 1.5,
          "petal width (cm)": 0.2,
          "sepal length (cm)": 4.6,
          "sepal width (cm)": 3.1,
          "target": "setosa"
         },
         {
          "petal length (cm)": 1.4,
          "petal width (cm)": 0.2,
          "sepal length (cm)": 5,
          "sepal width (cm)": 3.6,
          "target": "setosa"
         },
         {
          "petal length (cm)": 1.7,
          "petal width (cm)": 0.4,
          "sepal length (cm)": 5.4,
          "sepal width (cm)": 3.9,
          "target": "setosa"
         },
         {
          "petal length (cm)": 1.4,
          "petal width (cm)": 0.3,
          "sepal length (cm)": 4.6,
          "sepal width (cm)": 3.4,
          "target": "setosa"
         },
         {
          "petal length (cm)": 1.5,
          "petal width (cm)": 0.2,
          "sepal length (cm)": 5,
          "sepal width (cm)": 3.4,
          "target": "setosa"
         },
         {
          "petal length (cm)": 1.4,
          "petal width (cm)": 0.2,
          "sepal length (cm)": 4.4,
          "sepal width (cm)": 2.9,
          "target": "setosa"
         },
         {
          "petal length (cm)": 1.5,
          "petal width (cm)": 0.1,
          "sepal length (cm)": 4.9,
          "sepal width (cm)": 3.1,
          "target": "setosa"
         },
         {
          "petal length (cm)": 1.5,
          "petal width (cm)": 0.2,
          "sepal length (cm)": 5.4,
          "sepal width (cm)": 3.7,
          "target": "setosa"
         },
         {
          "petal length (cm)": 1.6,
          "petal width (cm)": 0.2,
          "sepal length (cm)": 4.8,
          "sepal width (cm)": 3.4,
          "target": "setosa"
         },
         {
          "petal length (cm)": 1.4,
          "petal width (cm)": 0.1,
          "sepal length (cm)": 4.8,
          "sepal width (cm)": 3,
          "target": "setosa"
         },
         {
          "petal length (cm)": 1.1,
          "petal width (cm)": 0.1,
          "sepal length (cm)": 4.3,
          "sepal width (cm)": 3,
          "target": "setosa"
         },
         {
          "petal length (cm)": 1.2,
          "petal width (cm)": 0.2,
          "sepal length (cm)": 5.8,
          "sepal width (cm)": 4,
          "target": "setosa"
         },
         {
          "petal length (cm)": 1.5,
          "petal width (cm)": 0.4,
          "sepal length (cm)": 5.7,
          "sepal width (cm)": 4.4,
          "target": "setosa"
         },
         {
          "petal length (cm)": 1.3,
          "petal width (cm)": 0.4,
          "sepal length (cm)": 5.4,
          "sepal width (cm)": 3.9,
          "target": "setosa"
         },
         {
          "petal length (cm)": 1.4,
          "petal width (cm)": 0.3,
          "sepal length (cm)": 5.1,
          "sepal width (cm)": 3.5,
          "target": "setosa"
         },
         {
          "petal length (cm)": 1.7,
          "petal width (cm)": 0.3,
          "sepal length (cm)": 5.7,
          "sepal width (cm)": 3.8,
          "target": "setosa"
         },
         {
          "petal length (cm)": 1.5,
          "petal width (cm)": 0.3,
          "sepal length (cm)": 5.1,
          "sepal width (cm)": 3.8,
          "target": "setosa"
         },
         {
          "petal length (cm)": 1.7,
          "petal width (cm)": 0.2,
          "sepal length (cm)": 5.4,
          "sepal width (cm)": 3.4,
          "target": "setosa"
         },
         {
          "petal length (cm)": 1.5,
          "petal width (cm)": 0.4,
          "sepal length (cm)": 5.1,
          "sepal width (cm)": 3.7,
          "target": "setosa"
         },
         {
          "petal length (cm)": 1,
          "petal width (cm)": 0.2,
          "sepal length (cm)": 4.6,
          "sepal width (cm)": 3.6,
          "target": "setosa"
         },
         {
          "petal length (cm)": 1.7,
          "petal width (cm)": 0.5,
          "sepal length (cm)": 5.1,
          "sepal width (cm)": 3.3,
          "target": "setosa"
         },
         {
          "petal length (cm)": 1.9,
          "petal width (cm)": 0.2,
          "sepal length (cm)": 4.8,
          "sepal width (cm)": 3.4,
          "target": "setosa"
         },
         {
          "petal length (cm)": 1.6,
          "petal width (cm)": 0.2,
          "sepal length (cm)": 5,
          "sepal width (cm)": 3,
          "target": "setosa"
         },
         {
          "petal length (cm)": 1.6,
          "petal width (cm)": 0.4,
          "sepal length (cm)": 5,
          "sepal width (cm)": 3.4,
          "target": "setosa"
         },
         {
          "petal length (cm)": 1.5,
          "petal width (cm)": 0.2,
          "sepal length (cm)": 5.2,
          "sepal width (cm)": 3.5,
          "target": "setosa"
         },
         {
          "petal length (cm)": 1.4,
          "petal width (cm)": 0.2,
          "sepal length (cm)": 5.2,
          "sepal width (cm)": 3.4,
          "target": "setosa"
         },
         {
          "petal length (cm)": 1.6,
          "petal width (cm)": 0.2,
          "sepal length (cm)": 4.7,
          "sepal width (cm)": 3.2,
          "target": "setosa"
         },
         {
          "petal length (cm)": 1.6,
          "petal width (cm)": 0.2,
          "sepal length (cm)": 4.8,
          "sepal width (cm)": 3.1,
          "target": "setosa"
         },
         {
          "petal length (cm)": 1.5,
          "petal width (cm)": 0.4,
          "sepal length (cm)": 5.4,
          "sepal width (cm)": 3.4,
          "target": "setosa"
         },
         {
          "petal length (cm)": 1.5,
          "petal width (cm)": 0.1,
          "sepal length (cm)": 5.2,
          "sepal width (cm)": 4.1,
          "target": "setosa"
         },
         {
          "petal length (cm)": 1.4,
          "petal width (cm)": 0.2,
          "sepal length (cm)": 5.5,
          "sepal width (cm)": 4.2,
          "target": "setosa"
         },
         {
          "petal length (cm)": 1.5,
          "petal width (cm)": 0.2,
          "sepal length (cm)": 4.9,
          "sepal width (cm)": 3.1,
          "target": "setosa"
         },
         {
          "petal length (cm)": 1.2,
          "petal width (cm)": 0.2,
          "sepal length (cm)": 5,
          "sepal width (cm)": 3.2,
          "target": "setosa"
         },
         {
          "petal length (cm)": 1.3,
          "petal width (cm)": 0.2,
          "sepal length (cm)": 5.5,
          "sepal width (cm)": 3.5,
          "target": "setosa"
         },
         {
          "petal length (cm)": 1.4,
          "petal width (cm)": 0.1,
          "sepal length (cm)": 4.9,
          "sepal width (cm)": 3.6,
          "target": "setosa"
         },
         {
          "petal length (cm)": 1.3,
          "petal width (cm)": 0.2,
          "sepal length (cm)": 4.4,
          "sepal width (cm)": 3,
          "target": "setosa"
         },
         {
          "petal length (cm)": 1.5,
          "petal width (cm)": 0.2,
          "sepal length (cm)": 5.1,
          "sepal width (cm)": 3.4,
          "target": "setosa"
         },
         {
          "petal length (cm)": 1.3,
          "petal width (cm)": 0.3,
          "sepal length (cm)": 5,
          "sepal width (cm)": 3.5,
          "target": "setosa"
         },
         {
          "petal length (cm)": 1.3,
          "petal width (cm)": 0.3,
          "sepal length (cm)": 4.5,
          "sepal width (cm)": 2.3,
          "target": "setosa"
         },
         {
          "petal length (cm)": 1.3,
          "petal width (cm)": 0.2,
          "sepal length (cm)": 4.4,
          "sepal width (cm)": 3.2,
          "target": "setosa"
         },
         {
          "petal length (cm)": 1.6,
          "petal width (cm)": 0.6,
          "sepal length (cm)": 5,
          "sepal width (cm)": 3.5,
          "target": "setosa"
         },
         {
          "petal length (cm)": 1.9,
          "petal width (cm)": 0.4,
          "sepal length (cm)": 5.1,
          "sepal width (cm)": 3.8,
          "target": "setosa"
         },
         {
          "petal length (cm)": 1.4,
          "petal width (cm)": 0.3,
          "sepal length (cm)": 4.8,
          "sepal width (cm)": 3,
          "target": "setosa"
         },
         {
          "petal length (cm)": 1.6,
          "petal width (cm)": 0.2,
          "sepal length (cm)": 5.1,
          "sepal width (cm)": 3.8,
          "target": "setosa"
         },
         {
          "petal length (cm)": 1.4,
          "petal width (cm)": 0.2,
          "sepal length (cm)": 4.6,
          "sepal width (cm)": 3.2,
          "target": "setosa"
         },
         {
          "petal length (cm)": 1.5,
          "petal width (cm)": 0.2,
          "sepal length (cm)": 5.3,
          "sepal width (cm)": 3.7,
          "target": "setosa"
         },
         {
          "petal length (cm)": 1.4,
          "petal width (cm)": 0.2,
          "sepal length (cm)": 5,
          "sepal width (cm)": 3.3,
          "target": "setosa"
         },
         {
          "petal length (cm)": 4.7,
          "petal width (cm)": 1.4,
          "sepal length (cm)": 7,
          "sepal width (cm)": 3.2,
          "target": "versicolor"
         },
         {
          "petal length (cm)": 4.5,
          "petal width (cm)": 1.5,
          "sepal length (cm)": 6.4,
          "sepal width (cm)": 3.2,
          "target": "versicolor"
         },
         {
          "petal length (cm)": 4.9,
          "petal width (cm)": 1.5,
          "sepal length (cm)": 6.9,
          "sepal width (cm)": 3.1,
          "target": "versicolor"
         },
         {
          "petal length (cm)": 4,
          "petal width (cm)": 1.3,
          "sepal length (cm)": 5.5,
          "sepal width (cm)": 2.3,
          "target": "versicolor"
         },
         {
          "petal length (cm)": 4.6,
          "petal width (cm)": 1.5,
          "sepal length (cm)": 6.5,
          "sepal width (cm)": 2.8,
          "target": "versicolor"
         },
         {
          "petal length (cm)": 4.5,
          "petal width (cm)": 1.3,
          "sepal length (cm)": 5.7,
          "sepal width (cm)": 2.8,
          "target": "versicolor"
         },
         {
          "petal length (cm)": 4.7,
          "petal width (cm)": 1.6,
          "sepal length (cm)": 6.3,
          "sepal width (cm)": 3.3,
          "target": "versicolor"
         },
         {
          "petal length (cm)": 3.3,
          "petal width (cm)": 1,
          "sepal length (cm)": 4.9,
          "sepal width (cm)": 2.4,
          "target": "versicolor"
         },
         {
          "petal length (cm)": 4.6,
          "petal width (cm)": 1.3,
          "sepal length (cm)": 6.6,
          "sepal width (cm)": 2.9,
          "target": "versicolor"
         },
         {
          "petal length (cm)": 3.9,
          "petal width (cm)": 1.4,
          "sepal length (cm)": 5.2,
          "sepal width (cm)": 2.7,
          "target": "versicolor"
         },
         {
          "petal length (cm)": 3.5,
          "petal width (cm)": 1,
          "sepal length (cm)": 5,
          "sepal width (cm)": 2,
          "target": "versicolor"
         },
         {
          "petal length (cm)": 4.2,
          "petal width (cm)": 1.5,
          "sepal length (cm)": 5.9,
          "sepal width (cm)": 3,
          "target": "versicolor"
         },
         {
          "petal length (cm)": 4,
          "petal width (cm)": 1,
          "sepal length (cm)": 6,
          "sepal width (cm)": 2.2,
          "target": "versicolor"
         },
         {
          "petal length (cm)": 4.7,
          "petal width (cm)": 1.4,
          "sepal length (cm)": 6.1,
          "sepal width (cm)": 2.9,
          "target": "versicolor"
         },
         {
          "petal length (cm)": 3.6,
          "petal width (cm)": 1.3,
          "sepal length (cm)": 5.6,
          "sepal width (cm)": 2.9,
          "target": "versicolor"
         },
         {
          "petal length (cm)": 4.4,
          "petal width (cm)": 1.4,
          "sepal length (cm)": 6.7,
          "sepal width (cm)": 3.1,
          "target": "versicolor"
         },
         {
          "petal length (cm)": 4.5,
          "petal width (cm)": 1.5,
          "sepal length (cm)": 5.6,
          "sepal width (cm)": 3,
          "target": "versicolor"
         },
         {
          "petal length (cm)": 4.1,
          "petal width (cm)": 1,
          "sepal length (cm)": 5.8,
          "sepal width (cm)": 2.7,
          "target": "versicolor"
         },
         {
          "petal length (cm)": 4.5,
          "petal width (cm)": 1.5,
          "sepal length (cm)": 6.2,
          "sepal width (cm)": 2.2,
          "target": "versicolor"
         },
         {
          "petal length (cm)": 3.9,
          "petal width (cm)": 1.1,
          "sepal length (cm)": 5.6,
          "sepal width (cm)": 2.5,
          "target": "versicolor"
         },
         {
          "petal length (cm)": 4.8,
          "petal width (cm)": 1.8,
          "sepal length (cm)": 5.9,
          "sepal width (cm)": 3.2,
          "target": "versicolor"
         },
         {
          "petal length (cm)": 4,
          "petal width (cm)": 1.3,
          "sepal length (cm)": 6.1,
          "sepal width (cm)": 2.8,
          "target": "versicolor"
         },
         {
          "petal length (cm)": 4.9,
          "petal width (cm)": 1.5,
          "sepal length (cm)": 6.3,
          "sepal width (cm)": 2.5,
          "target": "versicolor"
         },
         {
          "petal length (cm)": 4.7,
          "petal width (cm)": 1.2,
          "sepal length (cm)": 6.1,
          "sepal width (cm)": 2.8,
          "target": "versicolor"
         },
         {
          "petal length (cm)": 4.3,
          "petal width (cm)": 1.3,
          "sepal length (cm)": 6.4,
          "sepal width (cm)": 2.9,
          "target": "versicolor"
         },
         {
          "petal length (cm)": 4.4,
          "petal width (cm)": 1.4,
          "sepal length (cm)": 6.6,
          "sepal width (cm)": 3,
          "target": "versicolor"
         },
         {
          "petal length (cm)": 4.8,
          "petal width (cm)": 1.4,
          "sepal length (cm)": 6.8,
          "sepal width (cm)": 2.8,
          "target": "versicolor"
         },
         {
          "petal length (cm)": 5,
          "petal width (cm)": 1.7,
          "sepal length (cm)": 6.7,
          "sepal width (cm)": 3,
          "target": "versicolor"
         },
         {
          "petal length (cm)": 4.5,
          "petal width (cm)": 1.5,
          "sepal length (cm)": 6,
          "sepal width (cm)": 2.9,
          "target": "versicolor"
         },
         {
          "petal length (cm)": 3.5,
          "petal width (cm)": 1,
          "sepal length (cm)": 5.7,
          "sepal width (cm)": 2.6,
          "target": "versicolor"
         },
         {
          "petal length (cm)": 3.8,
          "petal width (cm)": 1.1,
          "sepal length (cm)": 5.5,
          "sepal width (cm)": 2.4,
          "target": "versicolor"
         },
         {
          "petal length (cm)": 3.7,
          "petal width (cm)": 1,
          "sepal length (cm)": 5.5,
          "sepal width (cm)": 2.4,
          "target": "versicolor"
         },
         {
          "petal length (cm)": 3.9,
          "petal width (cm)": 1.2,
          "sepal length (cm)": 5.8,
          "sepal width (cm)": 2.7,
          "target": "versicolor"
         },
         {
          "petal length (cm)": 5.1,
          "petal width (cm)": 1.6,
          "sepal length (cm)": 6,
          "sepal width (cm)": 2.7,
          "target": "versicolor"
         },
         {
          "petal length (cm)": 4.5,
          "petal width (cm)": 1.5,
          "sepal length (cm)": 5.4,
          "sepal width (cm)": 3,
          "target": "versicolor"
         },
         {
          "petal length (cm)": 4.5,
          "petal width (cm)": 1.6,
          "sepal length (cm)": 6,
          "sepal width (cm)": 3.4,
          "target": "versicolor"
         },
         {
          "petal length (cm)": 4.7,
          "petal width (cm)": 1.5,
          "sepal length (cm)": 6.7,
          "sepal width (cm)": 3.1,
          "target": "versicolor"
         },
         {
          "petal length (cm)": 4.4,
          "petal width (cm)": 1.3,
          "sepal length (cm)": 6.3,
          "sepal width (cm)": 2.3,
          "target": "versicolor"
         },
         {
          "petal length (cm)": 4.1,
          "petal width (cm)": 1.3,
          "sepal length (cm)": 5.6,
          "sepal width (cm)": 3,
          "target": "versicolor"
         },
         {
          "petal length (cm)": 4,
          "petal width (cm)": 1.3,
          "sepal length (cm)": 5.5,
          "sepal width (cm)": 2.5,
          "target": "versicolor"
         },
         {
          "petal length (cm)": 4.4,
          "petal width (cm)": 1.2,
          "sepal length (cm)": 5.5,
          "sepal width (cm)": 2.6,
          "target": "versicolor"
         },
         {
          "petal length (cm)": 4.6,
          "petal width (cm)": 1.4,
          "sepal length (cm)": 6.1,
          "sepal width (cm)": 3,
          "target": "versicolor"
         },
         {
          "petal length (cm)": 4,
          "petal width (cm)": 1.2,
          "sepal length (cm)": 5.8,
          "sepal width (cm)": 2.6,
          "target": "versicolor"
         },
         {
          "petal length (cm)": 3.3,
          "petal width (cm)": 1,
          "sepal length (cm)": 5,
          "sepal width (cm)": 2.3,
          "target": "versicolor"
         },
         {
          "petal length (cm)": 4.2,
          "petal width (cm)": 1.3,
          "sepal length (cm)": 5.6,
          "sepal width (cm)": 2.7,
          "target": "versicolor"
         },
         {
          "petal length (cm)": 4.2,
          "petal width (cm)": 1.2,
          "sepal length (cm)": 5.7,
          "sepal width (cm)": 3,
          "target": "versicolor"
         },
         {
          "petal length (cm)": 4.2,
          "petal width (cm)": 1.3,
          "sepal length (cm)": 5.7,
          "sepal width (cm)": 2.9,
          "target": "versicolor"
         },
         {
          "petal length (cm)": 4.3,
          "petal width (cm)": 1.3,
          "sepal length (cm)": 6.2,
          "sepal width (cm)": 2.9,
          "target": "versicolor"
         },
         {
          "petal length (cm)": 3,
          "petal width (cm)": 1.1,
          "sepal length (cm)": 5.1,
          "sepal width (cm)": 2.5,
          "target": "versicolor"
         },
         {
          "petal length (cm)": 4.1,
          "petal width (cm)": 1.3,
          "sepal length (cm)": 5.7,
          "sepal width (cm)": 2.8,
          "target": "versicolor"
         },
         {
          "petal length (cm)": 6,
          "petal width (cm)": 2.5,
          "sepal length (cm)": 6.3,
          "sepal width (cm)": 3.3,
          "target": "virginica"
         },
         {
          "petal length (cm)": 5.1,
          "petal width (cm)": 1.9,
          "sepal length (cm)": 5.8,
          "sepal width (cm)": 2.7,
          "target": "virginica"
         },
         {
          "petal length (cm)": 5.9,
          "petal width (cm)": 2.1,
          "sepal length (cm)": 7.1,
          "sepal width (cm)": 3,
          "target": "virginica"
         },
         {
          "petal length (cm)": 5.6,
          "petal width (cm)": 1.8,
          "sepal length (cm)": 6.3,
          "sepal width (cm)": 2.9,
          "target": "virginica"
         },
         {
          "petal length (cm)": 5.8,
          "petal width (cm)": 2.2,
          "sepal length (cm)": 6.5,
          "sepal width (cm)": 3,
          "target": "virginica"
         },
         {
          "petal length (cm)": 6.6,
          "petal width (cm)": 2.1,
          "sepal length (cm)": 7.6,
          "sepal width (cm)": 3,
          "target": "virginica"
         },
         {
          "petal length (cm)": 4.5,
          "petal width (cm)": 1.7,
          "sepal length (cm)": 4.9,
          "sepal width (cm)": 2.5,
          "target": "virginica"
         },
         {
          "petal length (cm)": 6.3,
          "petal width (cm)": 1.8,
          "sepal length (cm)": 7.3,
          "sepal width (cm)": 2.9,
          "target": "virginica"
         },
         {
          "petal length (cm)": 5.8,
          "petal width (cm)": 1.8,
          "sepal length (cm)": 6.7,
          "sepal width (cm)": 2.5,
          "target": "virginica"
         },
         {
          "petal length (cm)": 6.1,
          "petal width (cm)": 2.5,
          "sepal length (cm)": 7.2,
          "sepal width (cm)": 3.6,
          "target": "virginica"
         },
         {
          "petal length (cm)": 5.1,
          "petal width (cm)": 2,
          "sepal length (cm)": 6.5,
          "sepal width (cm)": 3.2,
          "target": "virginica"
         },
         {
          "petal length (cm)": 5.3,
          "petal width (cm)": 1.9,
          "sepal length (cm)": 6.4,
          "sepal width (cm)": 2.7,
          "target": "virginica"
         },
         {
          "petal length (cm)": 5.5,
          "petal width (cm)": 2.1,
          "sepal length (cm)": 6.8,
          "sepal width (cm)": 3,
          "target": "virginica"
         },
         {
          "petal length (cm)": 5,
          "petal width (cm)": 2,
          "sepal length (cm)": 5.7,
          "sepal width (cm)": 2.5,
          "target": "virginica"
         },
         {
          "petal length (cm)": 5.1,
          "petal width (cm)": 2.4,
          "sepal length (cm)": 5.8,
          "sepal width (cm)": 2.8,
          "target": "virginica"
         },
         {
          "petal length (cm)": 5.3,
          "petal width (cm)": 2.3,
          "sepal length (cm)": 6.4,
          "sepal width (cm)": 3.2,
          "target": "virginica"
         },
         {
          "petal length (cm)": 5.5,
          "petal width (cm)": 1.8,
          "sepal length (cm)": 6.5,
          "sepal width (cm)": 3,
          "target": "virginica"
         },
         {
          "petal length (cm)": 6.7,
          "petal width (cm)": 2.2,
          "sepal length (cm)": 7.7,
          "sepal width (cm)": 3.8,
          "target": "virginica"
         },
         {
          "petal length (cm)": 6.9,
          "petal width (cm)": 2.3,
          "sepal length (cm)": 7.7,
          "sepal width (cm)": 2.6,
          "target": "virginica"
         },
         {
          "petal length (cm)": 5,
          "petal width (cm)": 1.5,
          "sepal length (cm)": 6,
          "sepal width (cm)": 2.2,
          "target": "virginica"
         },
         {
          "petal length (cm)": 5.7,
          "petal width (cm)": 2.3,
          "sepal length (cm)": 6.9,
          "sepal width (cm)": 3.2,
          "target": "virginica"
         },
         {
          "petal length (cm)": 4.9,
          "petal width (cm)": 2,
          "sepal length (cm)": 5.6,
          "sepal width (cm)": 2.8,
          "target": "virginica"
         },
         {
          "petal length (cm)": 6.7,
          "petal width (cm)": 2,
          "sepal length (cm)": 7.7,
          "sepal width (cm)": 2.8,
          "target": "virginica"
         },
         {
          "petal length (cm)": 4.9,
          "petal width (cm)": 1.8,
          "sepal length (cm)": 6.3,
          "sepal width (cm)": 2.7,
          "target": "virginica"
         },
         {
          "petal length (cm)": 5.7,
          "petal width (cm)": 2.1,
          "sepal length (cm)": 6.7,
          "sepal width (cm)": 3.3,
          "target": "virginica"
         },
         {
          "petal length (cm)": 6,
          "petal width (cm)": 1.8,
          "sepal length (cm)": 7.2,
          "sepal width (cm)": 3.2,
          "target": "virginica"
         },
         {
          "petal length (cm)": 4.8,
          "petal width (cm)": 1.8,
          "sepal length (cm)": 6.2,
          "sepal width (cm)": 2.8,
          "target": "virginica"
         },
         {
          "petal length (cm)": 4.9,
          "petal width (cm)": 1.8,
          "sepal length (cm)": 6.1,
          "sepal width (cm)": 3,
          "target": "virginica"
         },
         {
          "petal length (cm)": 5.6,
          "petal width (cm)": 2.1,
          "sepal length (cm)": 6.4,
          "sepal width (cm)": 2.8,
          "target": "virginica"
         },
         {
          "petal length (cm)": 5.8,
          "petal width (cm)": 1.6,
          "sepal length (cm)": 7.2,
          "sepal width (cm)": 3,
          "target": "virginica"
         },
         {
          "petal length (cm)": 6.1,
          "petal width (cm)": 1.9,
          "sepal length (cm)": 7.4,
          "sepal width (cm)": 2.8,
          "target": "virginica"
         },
         {
          "petal length (cm)": 6.4,
          "petal width (cm)": 2,
          "sepal length (cm)": 7.9,
          "sepal width (cm)": 3.8,
          "target": "virginica"
         },
         {
          "petal length (cm)": 5.6,
          "petal width (cm)": 2.2,
          "sepal length (cm)": 6.4,
          "sepal width (cm)": 2.8,
          "target": "virginica"
         },
         {
          "petal length (cm)": 5.1,
          "petal width (cm)": 1.5,
          "sepal length (cm)": 6.3,
          "sepal width (cm)": 2.8,
          "target": "virginica"
         },
         {
          "petal length (cm)": 5.6,
          "petal width (cm)": 1.4,
          "sepal length (cm)": 6.1,
          "sepal width (cm)": 2.6,
          "target": "virginica"
         },
         {
          "petal length (cm)": 6.1,
          "petal width (cm)": 2.3,
          "sepal length (cm)": 7.7,
          "sepal width (cm)": 3,
          "target": "virginica"
         },
         {
          "petal length (cm)": 5.6,
          "petal width (cm)": 2.4,
          "sepal length (cm)": 6.3,
          "sepal width (cm)": 3.4,
          "target": "virginica"
         },
         {
          "petal length (cm)": 5.5,
          "petal width (cm)": 1.8,
          "sepal length (cm)": 6.4,
          "sepal width (cm)": 3.1,
          "target": "virginica"
         },
         {
          "petal length (cm)": 4.8,
          "petal width (cm)": 1.8,
          "sepal length (cm)": 6,
          "sepal width (cm)": 3,
          "target": "virginica"
         },
         {
          "petal length (cm)": 5.4,
          "petal width (cm)": 2.1,
          "sepal length (cm)": 6.9,
          "sepal width (cm)": 3.1,
          "target": "virginica"
         },
         {
          "petal length (cm)": 5.6,
          "petal width (cm)": 2.4,
          "sepal length (cm)": 6.7,
          "sepal width (cm)": 3.1,
          "target": "virginica"
         },
         {
          "petal length (cm)": 5.1,
          "petal width (cm)": 2.3,
          "sepal length (cm)": 6.9,
          "sepal width (cm)": 3.1,
          "target": "virginica"
         },
         {
          "petal length (cm)": 5.1,
          "petal width (cm)": 1.9,
          "sepal length (cm)": 5.8,
          "sepal width (cm)": 2.7,
          "target": "virginica"
         },
         {
          "petal length (cm)": 5.9,
          "petal width (cm)": 2.3,
          "sepal length (cm)": 6.8,
          "sepal width (cm)": 3.2,
          "target": "virginica"
         },
         {
          "petal length (cm)": 5.7,
          "petal width (cm)": 2.5,
          "sepal length (cm)": 6.7,
          "sepal width (cm)": 3.3,
          "target": "virginica"
         },
         {
          "petal length (cm)": 5.2,
          "petal width (cm)": 2.3,
          "sepal length (cm)": 6.7,
          "sepal width (cm)": 3,
          "target": "virginica"
         },
         {
          "petal length (cm)": 5,
          "petal width (cm)": 1.9,
          "sepal length (cm)": 6.3,
          "sepal width (cm)": 2.5,
          "target": "virginica"
         },
         {
          "petal length (cm)": 5.2,
          "petal width (cm)": 2,
          "sepal length (cm)": 6.5,
          "sepal width (cm)": 3,
          "target": "virginica"
         },
         {
          "petal length (cm)": 5.4,
          "petal width (cm)": 2.3,
          "sepal length (cm)": 6.2,
          "sepal width (cm)": 3.4,
          "target": "virginica"
         },
         {
          "petal length (cm)": 5.1,
          "petal width (cm)": 1.8,
          "sepal length (cm)": 5.9,
          "sepal width (cm)": 3,
          "target": "virginica"
         }
        ]
       },
       "hconcat": [
        {
         "encoding": {
          "color": {
           "field": "target",
           "type": "nominal"
          },
          "x": {
           "field": "sepal length (cm)",
           "type": "quantitative"
          },
          "y": {
           "field": "sepal width (cm)",
           "type": "quantitative"
          }
         },
         "height": 250,
         "mark": "point",
         "width": 250
        },
        {
         "encoding": {
          "color": {
           "field": "target",
           "type": "nominal"
          },
          "x": {
           "field": "petal length (cm)",
           "type": "quantitative"
          },
          "y": {
           "field": "petal width (cm)",
           "type": "quantitative"
          }
         },
         "height": 250,
         "mark": "point",
         "width": 250
        }
       ]
      },
      "image/png": "[encoded data removed]",
      "text/plain": [
       "<VegaLite 3 object>\n",
       "\n",
       "If you see this message, it means the renderer has not been properly enabled\n",
       "for the frontend that you are using. For more information, see\n",
       "https://altair-viz.github.io/user_guide/troubleshooting.html\n"
      ]
     },
     "execution_count": 70,
     "metadata": {},
     "output_type": "execute_result"
    }
   ],
   "source": [
    "ch = alt.Chart(df_iris, height=250, width=250).mark_point()\n",
    "(\n",
    "    ch.encode(x=\"sepal length (cm):Q\", y=\"sepal width (cm):Q\", color=\"target:N\")\n",
    "    | ch.encode(x=\"petal length (cm):Q\", y=\"petal width (cm):Q\", color=\"target:N\")\n",
    ").properties(background=\"white\")"
   ]
  },
  {
   "cell_type": "code",
   "execution_count": 77,
   "metadata": {},
   "outputs": [],
   "source": [
    "from sklearn.metrics import classification_report\n",
    "from sklearn.model_selection import train_test_split\n",
    "X_train, X_test, y_train, y_test = train_test_split(iris.data[:, :2], iris.target, random_state=1, test_size=.25)"
   ]
  },
  {
   "cell_type": "code",
   "execution_count": 78,
   "metadata": {},
   "outputs": [
    {
     "name": "stdout",
     "output_type": "stream",
     "text": [
      "              precision    recall  f1-score   support\n",
      "\n",
      "           0       1.00      1.00      1.00        13\n",
      "           1       0.82      0.56      0.67        16\n",
      "           2       0.50      0.78      0.61         9\n",
      "\n",
      "    accuracy                           0.76        38\n",
      "   macro avg       0.77      0.78      0.76        38\n",
      "weighted avg       0.81      0.76      0.77        38\n",
      "\n"
     ]
    }
   ],
   "source": [
    "from sklearn.svm import SVC\n",
    "clf = SVC(kernel='linear', random_state=1).fit(X_train, y_train)\n",
    "print(classification_report(y_test, clf.predict(X_test)))"
   ]
  },
  {
   "cell_type": "code",
   "execution_count": 83,
   "metadata": {},
   "outputs": [
    {
     "name": "stdout",
     "output_type": "stream",
     "text": [
      "              precision    recall  f1-score   support\n",
      "\n",
      "           0       0.93      1.00      0.96        13\n",
      "           1       1.00      0.06      0.12        16\n",
      "           2       0.39      1.00      0.56         9\n",
      "\n",
      "    accuracy                           0.61        38\n",
      "   macro avg       0.77      0.69      0.55        38\n",
      "weighted avg       0.83      0.61      0.51        38\n",
      "\n"
     ]
    }
   ],
   "source": [
    "from sklearn.linear_model import LogisticRegression\n",
    "clf = LogisticRegression(multi_class='ovr', random_state=1, solver='liblinear').fit(X_train, y_train)\n",
    "print(classification_report(y_test, clf.predict(X_test)))"
   ]
  },
  {
   "cell_type": "code",
   "execution_count": 92,
   "metadata": {},
   "outputs": [
    {
     "data": {
      "text/plain": [
       "array([0.8       , 0.89285714, 0.81481481, 0.77777778])"
      ]
     },
     "execution_count": 92,
     "metadata": {},
     "output_type": "execute_result"
    }
   ],
   "source": [
    "from sklearn.model_selection import cross_val_predict, cross_val_score\n",
    "clf = SVC(kernel='linear', random_state=7)\n",
    "cross_val_score(clf, X_train, y_train, cv=4)"
   ]
  },
  {
   "cell_type": "code",
   "execution_count": 93,
   "metadata": {},
   "outputs": [
    {
     "data": {
      "text/plain": [
       "array([0.7       , 0.67857143, 0.62962963, 0.66666667])"
      ]
     },
     "execution_count": 93,
     "metadata": {},
     "output_type": "execute_result"
    }
   ],
   "source": [
    "clf = LogisticRegression(multi_class='ovr', random_state=7, solver='liblinear')\n",
    "cross_val_score(clf, X_train, y_train, cv=4)"
   ]
  },
  {
   "cell_type": "code",
   "execution_count": 100,
   "metadata": {},
   "outputs": [
    {
     "data": {
      "text/plain": [
       "array([0.83333333, 0.67857143, 0.7037037 , 0.92592593])"
      ]
     },
     "execution_count": 100,
     "metadata": {},
     "output_type": "execute_result"
    }
   ],
   "source": [
    "X_train_s, _1, y_train_s, _2 = train_test_split(iris.data[:, :2], iris.target, random_state=7, stratify=iris.target)\n",
    "cross_val_score(SVC(kernel='linear', random_state=7), X_train_s, y_train_s, cv=4)"
   ]
  },
  {
   "cell_type": "code",
   "execution_count": 109,
   "metadata": {},
   "outputs": [
    {
     "data": {
      "text/plain": [
       "DescribeResult(nobs=10, minmax=(0.6666666666666666, 1.0), mean=0.7983333333333333, variance=0.009163580246913583, skewness=0.8666774522190215, kurtosis=0.07522823980729942)"
      ]
     },
     "metadata": {},
     "output_type": "display_data"
    },
    {
     "data": {
      "text/plain": [
       "DescribeResult(nobs=10, minmax=(0.75, 0.9), mean=0.8066666666666666, variance=0.003475994513031551, skewness=0.3850934438993509, kurtosis=-1.3135930664198163)"
      ]
     },
     "metadata": {},
     "output_type": "display_data"
    }
   ],
   "source": [
    "from scipy import stats\n",
    "from sklearn.neighbors import KNeighborsClassifier\n",
    "X_train, X_test, y_train, y_test = train_test_split(iris.data[:, :2], iris.target, random_state=0, stratify=iris.target)\n",
    "display(\n",
    "    stats.describe(cross_val_score(KNeighborsClassifier(n_neighbors=3), X_train, y_train, cv=10)),\n",
    "    stats.describe(cross_val_score(KNeighborsClassifier(n_neighbors=5), X_train, y_train, cv=10))\n",
    ")"
   ]
  },
  {
   "cell_type": "code",
   "execution_count": 147,
   "metadata": {},
   "outputs": [],
   "source": [
    "from sklearn.metrics import accuracy_score, make_scorer\n",
    "from sklearn.svm import SVR\n",
    "X_train, X_test, y_train, y_test = train_test_split(iris.data[iris.target<2], iris.target[iris.target<2], random_state=7, stratify=iris.target[iris.target<2], test_size=.25)\n",
    "svr_to_class_scorer = make_scorer(lambda y_test, y_pred: accuracy_score(y_test, np.rint(y_pred).astype(np.int)), greater_is_better=True)"
   ]
  },
  {
   "cell_type": "code",
   "execution_count": 153,
   "metadata": {},
   "outputs": [
    {
     "data": {
      "text/plain": [
       "array([1., 1., 1., 1.])"
      ]
     },
     "execution_count": 153,
     "metadata": {},
     "output_type": "execute_result"
    }
   ],
   "source": [
    "cross_val_score(SVR(kernel='linear'), X_train, y_train, cv=4, scoring=svr_to_class_scorer)"
   ]
  }
 ],
 "metadata": {
  "kernelspec": {
   "display_name": "Python 3",
   "language": "python",
   "name": "python3"
  },
  "language_info": {
   "codemirror_mode": {
    "name": "ipython",
    "version": 3
   },
   "file_extension": ".py",
   "mimetype": "text/x-python",
   "name": "python",
   "nbconvert_exporter": "python",
   "pygments_lexer": "ipython3",
   "version": "3.7.3"
  }
 },
 "nbformat": 4,
 "nbformat_minor": 4
}
