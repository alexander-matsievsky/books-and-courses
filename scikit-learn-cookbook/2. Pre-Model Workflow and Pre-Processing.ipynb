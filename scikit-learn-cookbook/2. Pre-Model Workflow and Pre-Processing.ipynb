{
 "cells": [
  {
   "cell_type": "code",
   "execution_count": 12,
   "metadata": {},
   "outputs": [],
   "source": [
    "import altair as alt\n",
    "import pandas as pd\n",
    "from sklearn import datasets\n",
    "from sklearn.model_selection import train_test_split"
   ]
  },
  {
   "cell_type": "code",
   "execution_count": 15,
   "metadata": {},
   "outputs": [
    {
     "data": {
      "text/plain": [
       "array([[ -7.58016738, -10.42095295],\n",
       "       [ -8.67564708,  -5.95932187],\n",
       "       [-10.7856926 ,  -7.68628094],\n",
       "       [  4.08168751,  -2.64682503],\n",
       "       [-10.55639307,  -6.5283819 ],\n",
       "       [ -9.78876079,  -9.67469267],\n",
       "       [  4.77766905,  -4.15935365],\n",
       "       [ -8.08825242,  -5.90445978],\n",
       "       [-10.54934172, -10.66023726],\n",
       "       [  5.14610529,  -0.30653628]])"
      ]
     },
     "execution_count": 15,
     "metadata": {},
     "output_type": "execute_result"
    }
   ],
   "source": [
    "X[:10]"
   ]
  },
  {
   "cell_type": "code",
   "execution_count": 37,
   "metadata": {},
   "outputs": [
    {
     "data": {
      "application/vnd.vegalite.v3+json": {
       "$schema": "https://vega.github.io/schema/vega-lite/v3.3.0.json",
       "background": "white",
       "config": {
        "mark": {
         "tooltip": null
        },
        "view": {
         "height": 300,
         "width": 400
        }
       },
       "data": {
        "name": "data-a24b385d3818816b5bfb6f88a847a750"
       },
       "datasets": {
        "data-a24b385d3818816b5bfb6f88a847a750": [
         {
          "c": 1,
          "x": 2.631858338047819,
          "y": 0.6893649043599419
         },
         {
          "c": 0,
          "x": 0.08080351735281943,
          "y": 4.690689825307652
         },
         {
          "c": 1,
          "x": 3.002519489206626,
          "y": 0.7426535668471026
         },
         {
          "c": 0,
          "x": -0.6376277690114565,
          "y": 4.091047047234421
         },
         {
          "c": 0,
          "x": -0.07228288652059756,
          "y": 2.883769390269415
         },
         {
          "c": 0,
          "x": 0.6283579292203425,
          "y": 4.46013629655237
         },
         {
          "c": 2,
          "x": -2.674372665633008,
          "y": 2.4800622165886885
         },
         {
          "c": 2,
          "x": -0.5774832062961446,
          "y": 3.0054335027183137
         },
         {
          "c": 1,
          "x": 2.7275622784453133,
          "y": 1.3051254961790473
         },
         {
          "c": 0,
          "x": 0.34194798486553146,
          "y": 3.941046161461252
         },
         {
          "c": 0,
          "x": 1.7053606407240318,
          "y": 4.4327702382058005
         },
         {
          "c": 0,
          "x": 2.2065607592742156,
          "y": 5.506167176232801
         },
         {
          "c": 1,
          "x": 2.520929961163338,
          "y": -0.6385800263392869
         },
         {
          "c": 0,
          "x": 2.509049292904953,
          "y": 5.7731460973486755
         },
         {
          "c": 2,
          "x": -2.2716588352703453,
          "y": 2.0914437226741085
         },
         {
          "c": 1,
          "x": 3.922826481859448,
          "y": 1.8037083182133222
         },
         {
          "c": 2,
          "x": -1.6253565376473378,
          "y": 2.2544039749710154
         },
         {
          "c": 0,
          "x": 0.163123796502041,
          "y": 2.577504725116713
         },
         {
          "c": 2,
          "x": -1.5951456185465367,
          "y": 4.63122498298249
         },
         {
          "c": 2,
          "x": -2.631287352650356,
          "y": 2.970047340594097
         },
         {
          "c": 2,
          "x": -2.170522416054796,
          "y": 0.6944791091086961
         },
         {
          "c": 2,
          "x": -1.566186831449401,
          "y": 1.7497887635919254
         },
         {
          "c": 2,
          "x": -0.8867724871243133,
          "y": 1.3009262170222884
         },
         {
          "c": 0,
          "x": 0.0884843309163823,
          "y": 2.322990859224463
         },
         {
          "c": 1,
          "x": 0.9845148999223354,
          "y": 1.9521153868690735
         },
         {
          "c": 1,
          "x": 2.1821796141364977,
          "y": 1.2996530233826384
         },
         {
          "c": 1,
          "x": 1.2853514469875615,
          "y": 1.4369128512297542
         },
         {
          "c": 1,
          "x": 0.8901176806495215,
          "y": 1.798490146892124
         },
         {
          "c": 2,
          "x": -1.896085851164349,
          "y": 2.6785030837571964
         },
         {
          "c": 2,
          "x": -0.755113462008238,
          "y": 3.741386415296854
         },
         {
          "c": 0,
          "x": 1.1203136497073731,
          "y": 5.758060834411365
         },
         {
          "c": 1,
          "x": 3.5435197152284776,
          "y": 2.79355283596852
         },
         {
          "c": 1,
          "x": 1.6416485406731307,
          "y": 0.15020884849717908
         },
         {
          "c": 0,
          "x": 2.4703491517041014,
          "y": 4.098629063682589
         },
         {
          "c": 2,
          "x": -1.9824365167392486,
          "y": 2.9353614203581797
         },
         {
          "c": 2,
          "x": 0.8562407616420367,
          "y": 3.8623617483235364
         },
         {
          "c": 0,
          "x": 0.8730512267529372,
          "y": 4.714385829386762
         },
         {
          "c": 1,
          "x": 1.3809348607755019,
          "y": 0.9294942182122881
         },
         {
          "c": 1,
          "x": 2.4116339186072797,
          "y": 1.6042368281298849
         },
         {
          "c": 2,
          "x": -2.2664670096132187,
          "y": 4.460896856739859
         },
         {
          "c": 2,
          "x": -0.4002680911153984,
          "y": 1.8379507529696995
         },
         {
          "c": 1,
          "x": 2.457609162610427,
          "y": 0.21285356899762364
         },
         {
          "c": 1,
          "x": 2.3535056956389337,
          "y": 2.2240495566249674
         },
         {
          "c": 0,
          "x": -0.7300001120785176,
          "y": 6.25456272268018
         },
         {
          "c": 0,
          "x": 1.1312175042434114,
          "y": 4.681949847050563
         },
         {
          "c": 0,
          "x": 0.46661789679484156,
          "y": 3.8657130258372034
         },
         {
          "c": 1,
          "x": 1.1844703722509962,
          "y": 0.3188139951735214
         },
         {
          "c": 1,
          "x": 1.3606996617015126,
          "y": 0.7480291196102661
         },
         {
          "c": 2,
          "x": -2.439726238666064,
          "y": 4.034898549428975
         },
         {
          "c": 2,
          "x": -1.0036273526901516,
          "y": 2.7463359301108747
         },
         {
          "c": 2,
          "x": 0.6363319360587845,
          "y": 4.254410210769515
         },
         {
          "c": 1,
          "x": 1.4194214430539969,
          "y": 1.5740969548844366
         },
         {
          "c": 0,
          "x": 0.06897171416325287,
          "y": 4.355732723244529
         },
         {
          "c": 1,
          "x": 2.263542499509738,
          "y": 1.8743026964216496
         },
         {
          "c": 2,
          "x": -2.0249364639142104,
          "y": 4.847414315150108
         },
         {
          "c": 2,
          "x": -0.6700734013192142,
          "y": 2.266856668032976
         },
         {
          "c": 1,
          "x": 3.2340470925925286,
          "y": 0.717738824125586
         },
         {
          "c": 1,
          "x": 2.0657675421536985,
          "y": 2.6835341538437723
         },
         {
          "c": 0,
          "x": 1.0220285958479411,
          "y": 4.116603477422556
         },
         {
          "c": 1,
          "x": 3.938418218489132,
          "y": -0.4500954012045095
         },
         {
          "c": 1,
          "x": 0.7847825229471443,
          "y": 1.8670603680959479
         },
         {
          "c": 2,
          "x": -2.819760922945354,
          "y": 3.184933130682306
         },
         {
          "c": 2,
          "x": -2.3303136773957465,
          "y": 2.228332483582922
         },
         {
          "c": 2,
          "x": -1.3602305178493763,
          "y": 3.552913698225229
         },
         {
          "c": 2,
          "x": -3.018161605927511,
          "y": 3.3572739625976595
         },
         {
          "c": 1,
          "x": 1.6520905744596983,
          "y": 2.1201087303203643
         },
         {
          "c": 0,
          "x": 1.7373078036934886,
          "y": 4.425462343941218
         },
         {
          "c": 2,
          "x": -2.5271193606114704,
          "y": 1.3731111645555112
         },
         {
          "c": 1,
          "x": 1.7437149893055053,
          "y": 0.9538290021676823
         },
         {
          "c": 0,
          "x": 1.9263584960720843,
          "y": 4.152430119150692
         },
         {
          "c": 2,
          "x": -0.6060451894410864,
          "y": 3.236609914276144
         },
         {
          "c": 0,
          "x": 3.2460247025341027,
          "y": 2.8494216528496255
         },
         {
          "c": 0,
          "x": -1.5767197372875836,
          "y": 4.957405922888751
         },
         {
          "c": 1,
          "x": 3.978209547913263,
          "y": 2.378178451372361
         },
         {
          "c": 1,
          "x": 1.1940418363781755,
          "y": 2.8077286130369705
         },
         {
          "c": 0,
          "x": 2.1156707630897955,
          "y": 3.0689615070947376
         },
         {
          "c": 0,
          "x": 1.153696220800248,
          "y": 3.902006391240128
         },
         {
          "c": 0,
          "x": 0.303809630770544,
          "y": 3.9442341659078486
         },
         {
          "c": 2,
          "x": -1.8808979244753894,
          "y": 1.542930967915104
         },
         {
          "c": 1,
          "x": 2.4316930525885074,
          "y": -0.20173713064625765
         },
         {
          "c": 0,
          "x": -0.27652528150343114,
          "y": 5.0812776832803
         },
         {
          "c": 0,
          "x": 1.0427873009296629,
          "y": 4.606259225188172
         },
         {
          "c": 1,
          "x": 1.7872641504814974,
          "y": 1.700120055734332
         },
         {
          "c": 0,
          "x": -0.6539282684195495,
          "y": 4.7665695829741646
         },
         {
          "c": 1,
          "x": 0.882144116318718,
          "y": 2.8412848455872295
         },
         {
          "c": 0,
          "x": 1.4201333112919208,
          "y": 4.637461654822657
         },
         {
          "c": 0,
          "x": 0.9480878502078401,
          "y": 4.7321191979788075
         },
         {
          "c": 0,
          "x": 0.46546494097762203,
          "y": 3.123155143325978
         },
         {
          "c": 1,
          "x": 2.6693468917789582,
          "y": 1.8198703315044638
         },
         {
          "c": 0,
          "x": 0.5889432611385428,
          "y": 4.001484576873055
         },
         {
          "c": 1,
          "x": 1.6201139697112406,
          "y": 2.7469273884172787
         },
         {
          "c": 1,
          "x": 2.451274234094523,
          "y": -0.19539784879256894
         },
         {
          "c": 2,
          "x": -0.42724441733479224,
          "y": 3.5731459920557205
         },
         {
          "c": 2,
          "x": -2.56114685500637,
          "y": 3.5994767796147498
         },
         {
          "c": 2,
          "x": -2.8428114237334263,
          "y": 2.456297656518414
         },
         {
          "c": 2,
          "x": -0.3388742208696036,
          "y": 3.2348248732579723
         },
         {
          "c": 0,
          "x": 1.2893377801973964,
          "y": 3.449691588146665
         },
         {
          "c": 0,
          "x": 1.8407062774060008,
          "y": 3.561622307041948
         },
         {
          "c": 2,
          "x": -0.9016725621947179,
          "y": 1.3158246057263752
         },
         {
          "c": 2,
          "x": -2.7523395320520736,
          "y": 3.76224523773467
         }
        ]
       },
       "encoding": {
        "color": {
         "field": "c",
         "type": "nominal"
        },
        "x": {
         "field": "x",
         "type": "quantitative"
        },
        "y": {
         "field": "y",
         "type": "quantitative"
        }
       },
       "mark": "point"
      },
      "image/png": "[encoded data removed]",
      "text/plain": [
       "<VegaLite 3 object>\n",
       "\n",
       "If you see this message, it means the renderer has not been properly enabled\n",
       "for the frontend that you are using. For more information, see\n",
       "https://altair-viz.github.io/user_guide/troubleshooting.html\n"
      ]
     },
     "execution_count": 37,
     "metadata": {},
     "output_type": "execute_result"
    }
   ],
   "source": [
    "X, y = datasets.make_blobs(random_state=0)\n",
    "alt.Chart(pd.DataFrame(X, columns=['x','y']).assign(c=y), background='white').mark_point().encode(x='x:Q', y='y:Q', color='c:N')"
   ]
  },
  {
   "cell_type": "code",
   "execution_count": 54,
   "metadata": {},
   "outputs": [
    {
     "name": "stdout",
     "output_type": "stream",
     "text": [
      ".. _boston_dataset:\n",
      "\n",
      "Boston house prices dataset\n",
      "---------------------------\n",
      "\n",
      "**Data Set Characteristics:**  \n",
      "\n",
      "    :Number of Instances: 506 \n",
      "\n",
      "    :Number of Attributes: 13 numeric/categorical predictive. Median Value (attribute 14) is usually the target.\n",
      "\n",
      "    :Attribute Information (in order):\n",
      "        - CRIM     per capita crime rate by town\n",
      "        - ZN       proportion of residential land zoned for lots over 25,000 sq.ft.\n",
      "        - INDUS    proportion of non-retail business acres per town\n",
      "        - CHAS     Charles River dummy variable (= 1 if tract bounds river; 0 otherwise)\n",
      "        - NOX      nitric oxides concentration (parts per 10 million)\n",
      "        - RM       average number of rooms per dwelling\n",
      "        - AGE      proportion of owner-occupied units built prior to 1940\n",
      "        - DIS      weighted distances to five Boston employment centres\n",
      "        - RAD      index of accessibility to radial highways\n",
      "        - TAX      full-value property-tax rate per $10,000\n",
      "        - PTRATIO  pupil-teacher ratio by town\n",
      "        - B        1000(Bk - 0.63)^2 where Bk is the proportion of blacks by town\n",
      "        - LSTAT    % lower status of the population\n",
      "        - MEDV     Median value of owner-occupied homes in $1000's\n",
      "\n",
      "    :Missing Attribute Values: None\n",
      "\n",
      "    :Creator: Harrison, D. and Rubinfeld, D.L.\n",
      "\n",
      "This is a copy of UCI ML housing dataset.\n",
      "https://archive.ics.uci.edu/ml/machine-learning-databases/housing/\n",
      "\n",
      "\n",
      "This dataset was taken from the StatLib library which is maintained at Carnegie Mellon University.\n",
      "\n",
      "The Boston house-price data of Harrison, D. and Rubinfeld, D.L. 'Hedonic\n",
      "prices and the demand for clean air', J. Environ. Economics & Management,\n",
      "vol.5, 81-102, 1978.   Used in Belsley, Kuh & Welsch, 'Regression diagnostics\n",
      "...', Wiley, 1980.   N.B. Various transformations are used in the table on\n",
      "pages 244-261 of the latter.\n",
      "\n",
      "The Boston house-price data has been used in many machine learning papers that address regression\n",
      "problems.   \n",
      "     \n",
      ".. topic:: References\n",
      "\n",
      "   - Belsley, Kuh & Welsch, 'Regression diagnostics: Identifying Influential Data and Sources of Collinearity', Wiley, 1980. 244-261.\n",
      "   - Quinlan,R. (1993). Combining Instance-Based and Model-Based Learning. In Proceedings on the Tenth International Conference of Machine Learning, 236-243, University of Massachusetts, Amherst. Morgan Kaufmann.\n",
      "\n",
      "<class 'pandas.core.frame.DataFrame'>\n",
      "RangeIndex: 506 entries, 0 to 505\n",
      "Data columns (total 14 columns):\n",
      "CRIM       506 non-null float64\n",
      "ZN         506 non-null float64\n",
      "INDUS      506 non-null float64\n",
      "CHAS       506 non-null float64\n",
      "NOX        506 non-null float64\n",
      "RM         506 non-null float64\n",
      "AGE        506 non-null float64\n",
      "DIS        506 non-null float64\n",
      "RAD        506 non-null float64\n",
      "TAX        506 non-null float64\n",
      "PTRATIO    506 non-null float64\n",
      "B          506 non-null float64\n",
      "LSTAT      506 non-null float64\n",
      "target     506 non-null float64\n",
      "dtypes: float64(14)\n",
      "memory usage: 55.4 KB\n"
     ]
    },
    {
     "data": {
      "text/plain": [
       "None"
      ]
     },
     "metadata": {},
     "output_type": "display_data"
    },
    {
     "data": {
      "text/html": [
       "<div>\n",
       "<style scoped>\n",
       "    .dataframe tbody tr th:only-of-type {\n",
       "        vertical-align: middle;\n",
       "    }\n",
       "\n",
       "    .dataframe tbody tr th {\n",
       "        vertical-align: top;\n",
       "    }\n",
       "\n",
       "    .dataframe thead th {\n",
       "        text-align: right;\n",
       "    }\n",
       "</style>\n",
       "<table border=\"1\" class=\"dataframe\">\n",
       "  <thead>\n",
       "    <tr style=\"text-align: right;\">\n",
       "      <th></th>\n",
       "      <th>CRIM</th>\n",
       "      <th>ZN</th>\n",
       "      <th>INDUS</th>\n",
       "      <th>CHAS</th>\n",
       "      <th>NOX</th>\n",
       "      <th>RM</th>\n",
       "      <th>AGE</th>\n",
       "      <th>DIS</th>\n",
       "      <th>RAD</th>\n",
       "      <th>TAX</th>\n",
       "      <th>PTRATIO</th>\n",
       "      <th>B</th>\n",
       "      <th>LSTAT</th>\n",
       "      <th>target</th>\n",
       "    </tr>\n",
       "  </thead>\n",
       "  <tbody>\n",
       "    <tr>\n",
       "      <th>0</th>\n",
       "      <td>0.00632</td>\n",
       "      <td>18.0</td>\n",
       "      <td>2.31</td>\n",
       "      <td>0.0</td>\n",
       "      <td>0.538</td>\n",
       "      <td>6.575</td>\n",
       "      <td>65.2</td>\n",
       "      <td>4.0900</td>\n",
       "      <td>1.0</td>\n",
       "      <td>296.0</td>\n",
       "      <td>15.3</td>\n",
       "      <td>396.90</td>\n",
       "      <td>4.98</td>\n",
       "      <td>24.0</td>\n",
       "    </tr>\n",
       "    <tr>\n",
       "      <th>1</th>\n",
       "      <td>0.02731</td>\n",
       "      <td>0.0</td>\n",
       "      <td>7.07</td>\n",
       "      <td>0.0</td>\n",
       "      <td>0.469</td>\n",
       "      <td>6.421</td>\n",
       "      <td>78.9</td>\n",
       "      <td>4.9671</td>\n",
       "      <td>2.0</td>\n",
       "      <td>242.0</td>\n",
       "      <td>17.8</td>\n",
       "      <td>396.90</td>\n",
       "      <td>9.14</td>\n",
       "      <td>21.6</td>\n",
       "    </tr>\n",
       "    <tr>\n",
       "      <th>2</th>\n",
       "      <td>0.02729</td>\n",
       "      <td>0.0</td>\n",
       "      <td>7.07</td>\n",
       "      <td>0.0</td>\n",
       "      <td>0.469</td>\n",
       "      <td>7.185</td>\n",
       "      <td>61.1</td>\n",
       "      <td>4.9671</td>\n",
       "      <td>2.0</td>\n",
       "      <td>242.0</td>\n",
       "      <td>17.8</td>\n",
       "      <td>392.83</td>\n",
       "      <td>4.03</td>\n",
       "      <td>34.7</td>\n",
       "    </tr>\n",
       "    <tr>\n",
       "      <th>3</th>\n",
       "      <td>0.03237</td>\n",
       "      <td>0.0</td>\n",
       "      <td>2.18</td>\n",
       "      <td>0.0</td>\n",
       "      <td>0.458</td>\n",
       "      <td>6.998</td>\n",
       "      <td>45.8</td>\n",
       "      <td>6.0622</td>\n",
       "      <td>3.0</td>\n",
       "      <td>222.0</td>\n",
       "      <td>18.7</td>\n",
       "      <td>394.63</td>\n",
       "      <td>2.94</td>\n",
       "      <td>33.4</td>\n",
       "    </tr>\n",
       "    <tr>\n",
       "      <th>4</th>\n",
       "      <td>0.06905</td>\n",
       "      <td>0.0</td>\n",
       "      <td>2.18</td>\n",
       "      <td>0.0</td>\n",
       "      <td>0.458</td>\n",
       "      <td>7.147</td>\n",
       "      <td>54.2</td>\n",
       "      <td>6.0622</td>\n",
       "      <td>3.0</td>\n",
       "      <td>222.0</td>\n",
       "      <td>18.7</td>\n",
       "      <td>396.90</td>\n",
       "      <td>5.33</td>\n",
       "      <td>36.2</td>\n",
       "    </tr>\n",
       "  </tbody>\n",
       "</table>\n",
       "</div>"
      ],
      "text/plain": [
       "      CRIM    ZN  INDUS  CHAS    NOX     RM   AGE     DIS  RAD    TAX  \\\n",
       "0  0.00632  18.0   2.31   0.0  0.538  6.575  65.2  4.0900  1.0  296.0   \n",
       "1  0.02731   0.0   7.07   0.0  0.469  6.421  78.9  4.9671  2.0  242.0   \n",
       "2  0.02729   0.0   7.07   0.0  0.469  7.185  61.1  4.9671  2.0  242.0   \n",
       "3  0.03237   0.0   2.18   0.0  0.458  6.998  45.8  6.0622  3.0  222.0   \n",
       "4  0.06905   0.0   2.18   0.0  0.458  7.147  54.2  6.0622  3.0  222.0   \n",
       "\n",
       "   PTRATIO       B  LSTAT  target  \n",
       "0     15.3  396.90   4.98    24.0  \n",
       "1     17.8  396.90   9.14    21.6  \n",
       "2     17.8  392.83   4.03    34.7  \n",
       "3     18.7  394.63   2.94    33.4  \n",
       "4     18.7  396.90   5.33    36.2  "
      ]
     },
     "metadata": {},
     "output_type": "display_data"
    },
    {
     "data": {
      "text/html": [
       "<div>\n",
       "<style scoped>\n",
       "    .dataframe tbody tr th:only-of-type {\n",
       "        vertical-align: middle;\n",
       "    }\n",
       "\n",
       "    .dataframe tbody tr th {\n",
       "        vertical-align: top;\n",
       "    }\n",
       "\n",
       "    .dataframe thead th {\n",
       "        text-align: right;\n",
       "    }\n",
       "</style>\n",
       "<table border=\"1\" class=\"dataframe\">\n",
       "  <thead>\n",
       "    <tr style=\"text-align: right;\">\n",
       "      <th></th>\n",
       "      <th>CRIM</th>\n",
       "      <th>ZN</th>\n",
       "      <th>INDUS</th>\n",
       "      <th>CHAS</th>\n",
       "      <th>NOX</th>\n",
       "      <th>RM</th>\n",
       "      <th>AGE</th>\n",
       "      <th>DIS</th>\n",
       "      <th>RAD</th>\n",
       "      <th>TAX</th>\n",
       "      <th>PTRATIO</th>\n",
       "      <th>B</th>\n",
       "      <th>LSTAT</th>\n",
       "      <th>target</th>\n",
       "    </tr>\n",
       "  </thead>\n",
       "  <tbody>\n",
       "    <tr>\n",
       "      <th>count</th>\n",
       "      <td>506.000000</td>\n",
       "      <td>506.000000</td>\n",
       "      <td>506.000000</td>\n",
       "      <td>506.000000</td>\n",
       "      <td>506.000000</td>\n",
       "      <td>506.000000</td>\n",
       "      <td>506.000000</td>\n",
       "      <td>506.000000</td>\n",
       "      <td>506.000000</td>\n",
       "      <td>506.000000</td>\n",
       "      <td>506.000000</td>\n",
       "      <td>506.000000</td>\n",
       "      <td>506.000000</td>\n",
       "      <td>506.000000</td>\n",
       "    </tr>\n",
       "    <tr>\n",
       "      <th>mean</th>\n",
       "      <td>3.613524</td>\n",
       "      <td>11.363636</td>\n",
       "      <td>11.136779</td>\n",
       "      <td>0.069170</td>\n",
       "      <td>0.554695</td>\n",
       "      <td>6.284634</td>\n",
       "      <td>68.574901</td>\n",
       "      <td>3.795043</td>\n",
       "      <td>9.549407</td>\n",
       "      <td>408.237154</td>\n",
       "      <td>18.455534</td>\n",
       "      <td>356.674032</td>\n",
       "      <td>12.653063</td>\n",
       "      <td>22.532806</td>\n",
       "    </tr>\n",
       "    <tr>\n",
       "      <th>std</th>\n",
       "      <td>8.601545</td>\n",
       "      <td>23.322453</td>\n",
       "      <td>6.860353</td>\n",
       "      <td>0.253994</td>\n",
       "      <td>0.115878</td>\n",
       "      <td>0.702617</td>\n",
       "      <td>28.148861</td>\n",
       "      <td>2.105710</td>\n",
       "      <td>8.707259</td>\n",
       "      <td>168.537116</td>\n",
       "      <td>2.164946</td>\n",
       "      <td>91.294864</td>\n",
       "      <td>7.141062</td>\n",
       "      <td>9.197104</td>\n",
       "    </tr>\n",
       "    <tr>\n",
       "      <th>min</th>\n",
       "      <td>0.006320</td>\n",
       "      <td>0.000000</td>\n",
       "      <td>0.460000</td>\n",
       "      <td>0.000000</td>\n",
       "      <td>0.385000</td>\n",
       "      <td>3.561000</td>\n",
       "      <td>2.900000</td>\n",
       "      <td>1.129600</td>\n",
       "      <td>1.000000</td>\n",
       "      <td>187.000000</td>\n",
       "      <td>12.600000</td>\n",
       "      <td>0.320000</td>\n",
       "      <td>1.730000</td>\n",
       "      <td>5.000000</td>\n",
       "    </tr>\n",
       "    <tr>\n",
       "      <th>25%</th>\n",
       "      <td>0.082045</td>\n",
       "      <td>0.000000</td>\n",
       "      <td>5.190000</td>\n",
       "      <td>0.000000</td>\n",
       "      <td>0.449000</td>\n",
       "      <td>5.885500</td>\n",
       "      <td>45.025000</td>\n",
       "      <td>2.100175</td>\n",
       "      <td>4.000000</td>\n",
       "      <td>279.000000</td>\n",
       "      <td>17.400000</td>\n",
       "      <td>375.377500</td>\n",
       "      <td>6.950000</td>\n",
       "      <td>17.025000</td>\n",
       "    </tr>\n",
       "    <tr>\n",
       "      <th>50%</th>\n",
       "      <td>0.256510</td>\n",
       "      <td>0.000000</td>\n",
       "      <td>9.690000</td>\n",
       "      <td>0.000000</td>\n",
       "      <td>0.538000</td>\n",
       "      <td>6.208500</td>\n",
       "      <td>77.500000</td>\n",
       "      <td>3.207450</td>\n",
       "      <td>5.000000</td>\n",
       "      <td>330.000000</td>\n",
       "      <td>19.050000</td>\n",
       "      <td>391.440000</td>\n",
       "      <td>11.360000</td>\n",
       "      <td>21.200000</td>\n",
       "    </tr>\n",
       "    <tr>\n",
       "      <th>75%</th>\n",
       "      <td>3.677083</td>\n",
       "      <td>12.500000</td>\n",
       "      <td>18.100000</td>\n",
       "      <td>0.000000</td>\n",
       "      <td>0.624000</td>\n",
       "      <td>6.623500</td>\n",
       "      <td>94.075000</td>\n",
       "      <td>5.188425</td>\n",
       "      <td>24.000000</td>\n",
       "      <td>666.000000</td>\n",
       "      <td>20.200000</td>\n",
       "      <td>396.225000</td>\n",
       "      <td>16.955000</td>\n",
       "      <td>25.000000</td>\n",
       "    </tr>\n",
       "    <tr>\n",
       "      <th>max</th>\n",
       "      <td>88.976200</td>\n",
       "      <td>100.000000</td>\n",
       "      <td>27.740000</td>\n",
       "      <td>1.000000</td>\n",
       "      <td>0.871000</td>\n",
       "      <td>8.780000</td>\n",
       "      <td>100.000000</td>\n",
       "      <td>12.126500</td>\n",
       "      <td>24.000000</td>\n",
       "      <td>711.000000</td>\n",
       "      <td>22.000000</td>\n",
       "      <td>396.900000</td>\n",
       "      <td>37.970000</td>\n",
       "      <td>50.000000</td>\n",
       "    </tr>\n",
       "  </tbody>\n",
       "</table>\n",
       "</div>"
      ],
      "text/plain": [
       "             CRIM          ZN       INDUS        CHAS         NOX          RM  \\\n",
       "count  506.000000  506.000000  506.000000  506.000000  506.000000  506.000000   \n",
       "mean     3.613524   11.363636   11.136779    0.069170    0.554695    6.284634   \n",
       "std      8.601545   23.322453    6.860353    0.253994    0.115878    0.702617   \n",
       "min      0.006320    0.000000    0.460000    0.000000    0.385000    3.561000   \n",
       "25%      0.082045    0.000000    5.190000    0.000000    0.449000    5.885500   \n",
       "50%      0.256510    0.000000    9.690000    0.000000    0.538000    6.208500   \n",
       "75%      3.677083   12.500000   18.100000    0.000000    0.624000    6.623500   \n",
       "max     88.976200  100.000000   27.740000    1.000000    0.871000    8.780000   \n",
       "\n",
       "              AGE         DIS         RAD         TAX     PTRATIO           B  \\\n",
       "count  506.000000  506.000000  506.000000  506.000000  506.000000  506.000000   \n",
       "mean    68.574901    3.795043    9.549407  408.237154   18.455534  356.674032   \n",
       "std     28.148861    2.105710    8.707259  168.537116    2.164946   91.294864   \n",
       "min      2.900000    1.129600    1.000000  187.000000   12.600000    0.320000   \n",
       "25%     45.025000    2.100175    4.000000  279.000000   17.400000  375.377500   \n",
       "50%     77.500000    3.207450    5.000000  330.000000   19.050000  391.440000   \n",
       "75%     94.075000    5.188425   24.000000  666.000000   20.200000  396.225000   \n",
       "max    100.000000   12.126500   24.000000  711.000000   22.000000  396.900000   \n",
       "\n",
       "            LSTAT      target  \n",
       "count  506.000000  506.000000  \n",
       "mean    12.653063   22.532806  \n",
       "std      7.141062    9.197104  \n",
       "min      1.730000    5.000000  \n",
       "25%      6.950000   17.025000  \n",
       "50%     11.360000   21.200000  \n",
       "75%     16.955000   25.000000  \n",
       "max     37.970000   50.000000  "
      ]
     },
     "metadata": {},
     "output_type": "display_data"
    }
   ],
   "source": [
    "boston = datasets.load_boston()\n",
    "print(boston.DESCR)\n",
    "boston = pd.DataFrame(boston.data, columns=boston.feature_names).assign(target=boston.target)\n",
    "display(boston.info(), boston.head(), boston.describe())"
   ]
  },
  {
   "cell_type": "code",
   "execution_count": 77,
   "metadata": {},
   "outputs": [],
   "source": [
    "from sklearn.compose import make_column_transformer\n",
    "from sklearn.pipeline import make_pipeline\n",
    "from sklearn.preprocessing import Binarizer, Normalizer, StandardScaler"
   ]
  },
  {
   "cell_type": "code",
   "execution_count": 86,
   "metadata": {},
   "outputs": [
    {
     "data": {
      "text/plain": [
       "array([1., 1., 1., 1., 1., 1., 1., 1., 1., 1.])"
      ]
     },
     "execution_count": 86,
     "metadata": {},
     "output_type": "execute_result"
    }
   ],
   "source": [
    "make_column_transformer(\n",
    "    (Normalizer(norm='l1'), boston.columns^{'target'}),\n",
    "    (Binarizer(boston.target.mean()), ['target'])\n",
    ").fit_transform(boston)[:, :-1].sum(axis=1)[:10]"
   ]
  }
 ],
 "metadata": {
  "kernelspec": {
   "display_name": "Python 3",
   "language": "python",
   "name": "python3"
  },
  "language_info": {
   "codemirror_mode": {
    "name": "ipython",
    "version": 3
   },
   "file_extension": ".py",
   "mimetype": "text/x-python",
   "name": "python",
   "nbconvert_exporter": "python",
   "pygments_lexer": "ipython3",
   "version": "3.7.3"
  }
 },
 "nbformat": 4,
 "nbformat_minor": 4
}
