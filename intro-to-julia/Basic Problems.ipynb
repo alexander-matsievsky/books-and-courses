{
 "cells": [
  {
   "cell_type": "markdown",
   "metadata": {},
   "source": [
    "http://ucidatascienceinitiative.github.io/IntroToJulia/Html/BasicProblems"
   ]
  },
  {
   "cell_type": "markdown",
   "metadata": {},
   "source": [
    "# Starter Problems"
   ]
  },
  {
   "cell_type": "markdown",
   "metadata": {},
   "source": [
    "## Strang Matrix Problem"
   ]
  },
  {
   "cell_type": "code",
   "execution_count": 54,
   "metadata": {},
   "outputs": [
    {
     "data": {
      "text/plain": [
       "10×10 Array{Float64,2}:\n",
       " -2.0   1.0   0.0   0.0   0.0   0.0   0.0   0.0   0.0   0.0\n",
       "  1.0  -2.0   1.0   0.0   0.0   0.0   0.0   0.0   0.0   0.0\n",
       "  0.0   1.0  -2.0   1.0   0.0   0.0   0.0   0.0   0.0   0.0\n",
       "  0.0   0.0   1.0  -2.0   1.0   0.0   0.0   0.0   0.0   0.0\n",
       "  0.0   0.0   0.0   1.0  -2.0   1.0   0.0   0.0   0.0   0.0\n",
       "  0.0   0.0   0.0   0.0   1.0  -2.0   1.0   0.0   0.0   0.0\n",
       "  0.0   0.0   0.0   0.0   0.0   1.0  -2.0   1.0   0.0   0.0\n",
       "  0.0   0.0   0.0   0.0   0.0   0.0   1.0  -2.0   1.0   0.0\n",
       "  0.0   0.0   0.0   0.0   0.0   0.0   0.0   1.0  -2.0   1.0\n",
       "  0.0   0.0   0.0   0.0   0.0   0.0   0.0   0.0   1.0  -2.0"
      ]
     },
     "execution_count": 54,
     "metadata": {},
     "output_type": "execute_result"
    }
   ],
   "source": [
    "function strang(n::Int)::Array{Float64,2}\n",
    "    M = zeros(n, n)\n",
    "    for i=1:n, j=1:n\n",
    "        i == j && (M[i, j] = -2)\n",
    "        abs(i - j) == 1 && (M[i, j] = 1)\n",
    "    end\n",
    "    M\n",
    "end\n",
    "\n",
    "strang(10)"
   ]
  },
  {
   "cell_type": "markdown",
   "metadata": {},
   "source": [
    "## Factorial Problem"
   ]
  },
  {
   "cell_type": "code",
   "execution_count": 61,
   "metadata": {},
   "outputs": [
    {
     "name": "stdout",
     "output_type": "stream",
     "text": [
      "[Int64] 20! = 2432902008176640000\n",
      "[Int64] 21! = -4249290049419214848\n",
      "[Int64] 22! = -1250660718674968576\n",
      "[Int64] 23! = 8128291617894825984\n",
      "[Int64] 24! = -7835185981329244160\n",
      "[Int64] 25! = 7034535277573963776\n",
      "\n",
      "[BigInt] 20! = 2432902008176640000\n",
      "[BigInt] 21! = 51090942171709440000\n",
      "[BigInt] 22! = 1124000727777607680000\n",
      "[BigInt] 23! = 25852016738884976640000\n",
      "[BigInt] 24! = 620448401733239439360000\n",
      "[BigInt] 25! = 15511210043330985984000000\n"
     ]
    }
   ],
   "source": [
    "function my_factorial(n::T)::T where T <: Integer\n",
    "    @assert n >= zero(n)\n",
    "    f = one(n)\n",
    "    for i=2:n\n",
    "        f *= i\n",
    "    end\n",
    "    f\n",
    "end\n",
    "\n",
    "for i=20:25\n",
    "    f = my_factorial(i)\n",
    "    println(\"[$(typeof(f))] $(lpad(i, 2))! = $f\")\n",
    "end\n",
    "\n",
    "println()\n",
    "\n",
    "for i=20:25\n",
    "    f = my_factorial(big(i))\n",
    "    println(\"[$(typeof(f))] $(lpad(i, 2))! = $f\")\n",
    "end"
   ]
  },
  {
   "cell_type": "markdown",
   "metadata": {},
   "source": [
    "## Binomial Problem"
   ]
  },
  {
   "cell_type": "code",
   "execution_count": 62,
   "metadata": {},
   "outputs": [
    {
     "data": {
      "text/plain": [
       "10-element Array{Int64,1}:\n",
       " 4\n",
       " 5\n",
       " 8\n",
       " 4\n",
       " 7\n",
       " 2\n",
       " 5\n",
       " 5\n",
       " 7\n",
       " 6"
      ]
     },
     "execution_count": 62,
     "metadata": {},
     "output_type": "execute_result"
    }
   ],
   "source": [
    "function binomial_rv(n, p)\n",
    "    count = zero(n)\n",
    "    for x=rand(n)\n",
    "        x < p && (count+=1)\n",
    "    end\n",
    "    count\n",
    "end\n",
    "\n",
    "map(_ -> binomial_rv(10, .5), 1:10)"
   ]
  },
  {
   "cell_type": "markdown",
   "metadata": {},
   "source": [
    "## Monte Carlo π Problem"
   ]
  },
  {
   "cell_type": "code",
   "execution_count": 134,
   "metadata": {},
   "outputs": [
    {
     "name": "stdout",
     "output_type": "stream",
     "text": [
      "π = 3.1418036\n",
      "π = 3.1415926535897...\n"
     ]
    }
   ],
   "source": [
    "function estimate_pi()::Float64\n",
    "    n = 10_000_000\n",
    "    inside_circle = 0\n",
    "    for i=1:n\n",
    "        x, y = 2rand(2) .- 1\n",
    "        sqrt(x^2 + y^2) < 1 && (inside_circle += 1)\n",
    "    end\n",
    "    4inside_circle / n\n",
    "end\n",
    "\n",
    "println(\"π = $(estimate_pi())\")\n",
    "println(π)"
   ]
  },
  {
   "cell_type": "markdown",
   "metadata": {},
   "source": [
    "# Integration Problems"
   ]
  },
  {
   "cell_type": "markdown",
   "metadata": {},
   "source": [
    "## Timeseries Generation Problem"
   ]
  },
  {
   "cell_type": "code",
   "execution_count": 135,
   "metadata": {},
   "outputs": [],
   "source": [
    "using PyCall"
   ]
  },
  {
   "cell_type": "code",
   "execution_count": 138,
   "metadata": {},
   "outputs": [
    {
     "data": {
      "text/plain": [
       "201-element Array{Float64,1}:\n",
       "  0.0                \n",
       " -2.0127538472423896 \n",
       " -0.8518786641094896 \n",
       " -0.901276237809004  \n",
       "  0.676200623983852  \n",
       "  0.5059970467300796 \n",
       " -1.024420303532396  \n",
       " -0.2797248664672519 \n",
       " -1.0165107129024042 \n",
       "  0.2738129712369164 \n",
       "  0.39634491514473624\n",
       "  0.7927589428299086 \n",
       " -1.511678373665991  \n",
       "  ⋮                  \n",
       "  1.7248218253523464 \n",
       "  0.9324573351644346 \n",
       "  1.1737301978715726 \n",
       "  1.8918068414725635 \n",
       "  0.9113322533733603 \n",
       "  0.15424993863193748\n",
       "  1.5630369784930782 \n",
       " -0.5167353983639883 \n",
       "  0.534012312615646  \n",
       " -0.9501832507645185 \n",
       " -0.7232508786024713 \n",
       " -1.3341127089263838 "
      ]
     },
     "execution_count": 138,
     "metadata": {},
     "output_type": "execute_result"
    }
   ],
   "source": [
    "function ar1(α, T)\n",
    "    X = zeros(T + 1)\n",
    "    for t=1:T\n",
    "        X[t + 1] = α*X[t] + randn()\n",
    "    end\n",
    "    X\n",
    "end\n",
    "\n",
    "ar1(0.5, 200)"
   ]
  }
 ],
 "metadata": {
  "kernelspec": {
   "display_name": "Julia 1.1.0",
   "language": "julia",
   "name": "julia-1.1"
  },
  "language_info": {
   "file_extension": ".jl",
   "mimetype": "application/julia",
   "name": "julia",
   "version": "1.1.0"
  }
 },
 "nbformat": 4,
 "nbformat_minor": 4
}
