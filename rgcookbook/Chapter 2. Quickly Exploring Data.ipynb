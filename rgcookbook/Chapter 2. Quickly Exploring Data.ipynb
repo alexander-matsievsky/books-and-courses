{
 "cells": [
  {
   "cell_type": "markdown",
   "metadata": {},
   "source": [
    "# Chapter 2. Quickly Exploring Data"
   ]
  },
  {
   "cell_type": "code",
   "execution_count": 1,
   "metadata": {},
   "outputs": [
    {
     "name": "stderr",
     "output_type": "stream",
     "text": [
      "── \u001b[1mAttaching packages\u001b[22m ─────────────────────────────────────── tidyverse 1.3.0 ──\n",
      "\n",
      "\u001b[32m✔\u001b[39m \u001b[34mggplot2\u001b[39m 3.3.3     \u001b[32m✔\u001b[39m \u001b[34mpurrr  \u001b[39m 0.3.4\n",
      "\u001b[32m✔\u001b[39m \u001b[34mtibble \u001b[39m 3.0.4     \u001b[32m✔\u001b[39m \u001b[34mdplyr  \u001b[39m 1.0.2\n",
      "\u001b[32m✔\u001b[39m \u001b[34mtidyr  \u001b[39m 1.1.2     \u001b[32m✔\u001b[39m \u001b[34mstringr\u001b[39m 1.4.0\n",
      "\u001b[32m✔\u001b[39m \u001b[34mreadr  \u001b[39m 1.4.0     \u001b[32m✔\u001b[39m \u001b[34mforcats\u001b[39m 0.5.0\n",
      "\n",
      "── \u001b[1mConflicts\u001b[22m ────────────────────────────────────────── tidyverse_conflicts() ──\n",
      "\u001b[31m✖\u001b[39m \u001b[34mdplyr\u001b[39m::\u001b[32mfilter()\u001b[39m masks \u001b[34mstats\u001b[39m::filter()\n",
      "\u001b[31m✖\u001b[39m \u001b[34mdplyr\u001b[39m::\u001b[32mlag()\u001b[39m    masks \u001b[34mstats\u001b[39m::lag()\n",
      "\n"
     ]
    }
   ],
   "source": [
    "options(repr.plot.width = 8, repr.plot.height = 6)\n",
    "library(tidyverse)"
   ]
  },
  {
   "cell_type": "markdown",
   "metadata": {},
   "source": [
    "## 2.1 Creating a Scatter Plot"
   ]
  },
  {
   "cell_type": "code",
   "execution_count": 2,
   "metadata": {},
   "outputs": [
    {
     "data": {
      "text/plain": [
       "      mpg             cyl             disp             hp       \n",
       " Min.   :10.40   Min.   :4.000   Min.   : 71.1   Min.   : 52.0  \n",
       " 1st Qu.:15.43   1st Qu.:4.000   1st Qu.:120.8   1st Qu.: 96.5  \n",
       " Median :19.20   Median :6.000   Median :196.3   Median :123.0  \n",
       " Mean   :20.09   Mean   :6.188   Mean   :230.7   Mean   :146.7  \n",
       " 3rd Qu.:22.80   3rd Qu.:8.000   3rd Qu.:326.0   3rd Qu.:180.0  \n",
       " Max.   :33.90   Max.   :8.000   Max.   :472.0   Max.   :335.0  \n",
       "      drat             wt             qsec             vs        \n",
       " Min.   :2.760   Min.   :1.513   Min.   :14.50   Min.   :0.0000  \n",
       " 1st Qu.:3.080   1st Qu.:2.581   1st Qu.:16.89   1st Qu.:0.0000  \n",
       " Median :3.695   Median :3.325   Median :17.71   Median :0.0000  \n",
       " Mean   :3.597   Mean   :3.217   Mean   :17.85   Mean   :0.4375  \n",
       " 3rd Qu.:3.920   3rd Qu.:3.610   3rd Qu.:18.90   3rd Qu.:1.0000  \n",
       " Max.   :4.930   Max.   :5.424   Max.   :22.90   Max.   :1.0000  \n",
       "       am              gear            carb      \n",
       " Min.   :0.0000   Min.   :3.000   Min.   :1.000  \n",
       " 1st Qu.:0.0000   1st Qu.:3.000   1st Qu.:2.000  \n",
       " Median :0.0000   Median :4.000   Median :2.000  \n",
       " Mean   :0.4062   Mean   :3.688   Mean   :2.812  \n",
       " 3rd Qu.:1.0000   3rd Qu.:4.000   3rd Qu.:4.000  \n",
       " Max.   :1.0000   Max.   :5.000   Max.   :8.000  "
      ]
     },
     "metadata": {},
     "output_type": "display_data"
    },
    {
     "data": {
      "text/html": [
       "<table>\n",
       "<caption>A data.frame: 6 × 11</caption>\n",
       "<thead>\n",
       "\t<tr><th></th><th scope=col>mpg</th><th scope=col>cyl</th><th scope=col>disp</th><th scope=col>hp</th><th scope=col>drat</th><th scope=col>wt</th><th scope=col>qsec</th><th scope=col>vs</th><th scope=col>am</th><th scope=col>gear</th><th scope=col>carb</th></tr>\n",
       "\t<tr><th></th><th scope=col>&lt;dbl&gt;</th><th scope=col>&lt;dbl&gt;</th><th scope=col>&lt;dbl&gt;</th><th scope=col>&lt;dbl&gt;</th><th scope=col>&lt;dbl&gt;</th><th scope=col>&lt;dbl&gt;</th><th scope=col>&lt;dbl&gt;</th><th scope=col>&lt;dbl&gt;</th><th scope=col>&lt;dbl&gt;</th><th scope=col>&lt;dbl&gt;</th><th scope=col>&lt;dbl&gt;</th></tr>\n",
       "</thead>\n",
       "<tbody>\n",
       "\t<tr><th scope=row>Mazda RX4</th><td>21.0</td><td>6</td><td>160</td><td>110</td><td>3.90</td><td>2.620</td><td>16.46</td><td>0</td><td>1</td><td>4</td><td>4</td></tr>\n",
       "\t<tr><th scope=row>Mazda RX4 Wag</th><td>21.0</td><td>6</td><td>160</td><td>110</td><td>3.90</td><td>2.875</td><td>17.02</td><td>0</td><td>1</td><td>4</td><td>4</td></tr>\n",
       "\t<tr><th scope=row>Datsun 710</th><td>22.8</td><td>4</td><td>108</td><td> 93</td><td>3.85</td><td>2.320</td><td>18.61</td><td>1</td><td>1</td><td>4</td><td>1</td></tr>\n",
       "\t<tr><th scope=row>Hornet 4 Drive</th><td>21.4</td><td>6</td><td>258</td><td>110</td><td>3.08</td><td>3.215</td><td>19.44</td><td>1</td><td>0</td><td>3</td><td>1</td></tr>\n",
       "\t<tr><th scope=row>Hornet Sportabout</th><td>18.7</td><td>8</td><td>360</td><td>175</td><td>3.15</td><td>3.440</td><td>17.02</td><td>0</td><td>0</td><td>3</td><td>2</td></tr>\n",
       "\t<tr><th scope=row>Valiant</th><td>18.1</td><td>6</td><td>225</td><td>105</td><td>2.76</td><td>3.460</td><td>20.22</td><td>1</td><td>0</td><td>3</td><td>1</td></tr>\n",
       "</tbody>\n",
       "</table>\n"
      ],
      "text/latex": [
       "A data.frame: 6 × 11\n",
       "\\begin{tabular}{r|lllllllllll}\n",
       "  & mpg & cyl & disp & hp & drat & wt & qsec & vs & am & gear & carb\\\\\n",
       "  & <dbl> & <dbl> & <dbl> & <dbl> & <dbl> & <dbl> & <dbl> & <dbl> & <dbl> & <dbl> & <dbl>\\\\\n",
       "\\hline\n",
       "\tMazda RX4 & 21.0 & 6 & 160 & 110 & 3.90 & 2.620 & 16.46 & 0 & 1 & 4 & 4\\\\\n",
       "\tMazda RX4 Wag & 21.0 & 6 & 160 & 110 & 3.90 & 2.875 & 17.02 & 0 & 1 & 4 & 4\\\\\n",
       "\tDatsun 710 & 22.8 & 4 & 108 &  93 & 3.85 & 2.320 & 18.61 & 1 & 1 & 4 & 1\\\\\n",
       "\tHornet 4 Drive & 21.4 & 6 & 258 & 110 & 3.08 & 3.215 & 19.44 & 1 & 0 & 3 & 1\\\\\n",
       "\tHornet Sportabout & 18.7 & 8 & 360 & 175 & 3.15 & 3.440 & 17.02 & 0 & 0 & 3 & 2\\\\\n",
       "\tValiant & 18.1 & 6 & 225 & 105 & 2.76 & 3.460 & 20.22 & 1 & 0 & 3 & 1\\\\\n",
       "\\end{tabular}\n"
      ],
      "text/markdown": [
       "\n",
       "A data.frame: 6 × 11\n",
       "\n",
       "| <!--/--> | mpg &lt;dbl&gt; | cyl &lt;dbl&gt; | disp &lt;dbl&gt; | hp &lt;dbl&gt; | drat &lt;dbl&gt; | wt &lt;dbl&gt; | qsec &lt;dbl&gt; | vs &lt;dbl&gt; | am &lt;dbl&gt; | gear &lt;dbl&gt; | carb &lt;dbl&gt; |\n",
       "|---|---|---|---|---|---|---|---|---|---|---|---|\n",
       "| Mazda RX4 | 21.0 | 6 | 160 | 110 | 3.90 | 2.620 | 16.46 | 0 | 1 | 4 | 4 |\n",
       "| Mazda RX4 Wag | 21.0 | 6 | 160 | 110 | 3.90 | 2.875 | 17.02 | 0 | 1 | 4 | 4 |\n",
       "| Datsun 710 | 22.8 | 4 | 108 |  93 | 3.85 | 2.320 | 18.61 | 1 | 1 | 4 | 1 |\n",
       "| Hornet 4 Drive | 21.4 | 6 | 258 | 110 | 3.08 | 3.215 | 19.44 | 1 | 0 | 3 | 1 |\n",
       "| Hornet Sportabout | 18.7 | 8 | 360 | 175 | 3.15 | 3.440 | 17.02 | 0 | 0 | 3 | 2 |\n",
       "| Valiant | 18.1 | 6 | 225 | 105 | 2.76 | 3.460 | 20.22 | 1 | 0 | 3 | 1 |\n",
       "\n"
      ],
      "text/plain": [
       "                  mpg  cyl disp hp  drat wt    qsec  vs am gear carb\n",
       "Mazda RX4         21.0 6   160  110 3.90 2.620 16.46 0  1  4    4   \n",
       "Mazda RX4 Wag     21.0 6   160  110 3.90 2.875 17.02 0  1  4    4   \n",
       "Datsun 710        22.8 4   108   93 3.85 2.320 18.61 1  1  4    1   \n",
       "Hornet 4 Drive    21.4 6   258  110 3.08 3.215 19.44 1  0  3    1   \n",
       "Hornet Sportabout 18.7 8   360  175 3.15 3.440 17.02 0  0  3    2   \n",
       "Valiant           18.1 6   225  105 2.76 3.460 20.22 1  0  3    1   "
      ]
     },
     "metadata": {},
     "output_type": "display_data"
    },
    {
     "data": {
      "text/html": [
       "\n",
       "<table width=\"100%\" summary=\"page for mtcars {datasets}\"><tr><td>mtcars {datasets}</td><td style=\"text-align: right;\">R Documentation</td></tr></table>\n",
       "\n",
       "<h2>Motor Trend Car Road Tests</h2>\n",
       "\n",
       "<h3>Description</h3>\n",
       "\n",
       "<p>The data was extracted from the 1974 <em>Motor Trend</em> US magazine,\n",
       "and comprises fuel consumption and 10 aspects of\n",
       "automobile design and performance for 32 automobiles (1973&ndash;74\n",
       "models).\n",
       "</p>\n",
       "\n",
       "\n",
       "<h3>Usage</h3>\n",
       "\n",
       "<pre>mtcars</pre>\n",
       "\n",
       "\n",
       "<h3>Format</h3>\n",
       "\n",
       "<p>A data frame with 32 observations on 11 (numeric) variables.\n",
       "</p>\n",
       "\n",
       "<table summary=\"Rd table\">\n",
       "<tr>\n",
       " <td style=\"text-align: right;\">\n",
       "    [, 1] </td><td style=\"text-align: left;\"> mpg  </td><td style=\"text-align: left;\"> Miles/(US) gallon </td>\n",
       "</tr>\n",
       "<tr>\n",
       " <td style=\"text-align: right;\">\n",
       "    [, 2] </td><td style=\"text-align: left;\"> cyl  </td><td style=\"text-align: left;\"> Number of cylinders </td>\n",
       "</tr>\n",
       "<tr>\n",
       " <td style=\"text-align: right;\">\n",
       "    [, 3] </td><td style=\"text-align: left;\"> disp </td><td style=\"text-align: left;\"> Displacement (cu.in.) </td>\n",
       "</tr>\n",
       "<tr>\n",
       " <td style=\"text-align: right;\">\n",
       "    [, 4] </td><td style=\"text-align: left;\"> hp   </td><td style=\"text-align: left;\"> Gross horsepower </td>\n",
       "</tr>\n",
       "<tr>\n",
       " <td style=\"text-align: right;\">\n",
       "    [, 5] </td><td style=\"text-align: left;\"> drat </td><td style=\"text-align: left;\"> Rear axle ratio </td>\n",
       "</tr>\n",
       "<tr>\n",
       " <td style=\"text-align: right;\">\n",
       "    [, 6] </td><td style=\"text-align: left;\"> wt   </td><td style=\"text-align: left;\"> Weight (1000 lbs) </td>\n",
       "</tr>\n",
       "<tr>\n",
       " <td style=\"text-align: right;\">\n",
       "    [, 7] </td><td style=\"text-align: left;\"> qsec </td><td style=\"text-align: left;\"> 1/4 mile time </td>\n",
       "</tr>\n",
       "<tr>\n",
       " <td style=\"text-align: right;\">\n",
       "    [, 8] </td><td style=\"text-align: left;\"> vs   </td><td style=\"text-align: left;\"> Engine (0 = V-shaped, 1 = straight) </td>\n",
       "</tr>\n",
       "<tr>\n",
       " <td style=\"text-align: right;\">\n",
       "    [, 9] </td><td style=\"text-align: left;\"> am   </td><td style=\"text-align: left;\"> Transmission (0 = automatic, 1 = manual) </td>\n",
       "</tr>\n",
       "<tr>\n",
       " <td style=\"text-align: right;\">\n",
       "    [,10] </td><td style=\"text-align: left;\"> gear </td><td style=\"text-align: left;\"> Number of forward gears </td>\n",
       "</tr>\n",
       "<tr>\n",
       " <td style=\"text-align: right;\">\n",
       "    [,11] </td><td style=\"text-align: left;\"> carb </td><td style=\"text-align: left;\"> Number of carburetors\n",
       "  </td>\n",
       "</tr>\n",
       "\n",
       "</table>\n",
       "\n",
       "\n",
       "\n",
       "<h3>Note</h3>\n",
       "\n",
       "<p>Henderson and Velleman (1981) comment in a footnote to Table 1:\n",
       "&lsquo;Hocking [original transcriber]'s noncrucial coding of the\n",
       "Mazda's rotary engine as a straight six-cylinder engine and the\n",
       "Porsche's flat engine as a V engine, as well as the inclusion of the\n",
       "diesel Mercedes 240D, have been retained to enable direct comparisons\n",
       "to be made with previous analyses.&rsquo;\n",
       "</p>\n",
       "\n",
       "\n",
       "<h3>Source</h3>\n",
       "\n",
       "<p>Henderson and Velleman (1981),\n",
       "Building multiple regression models interactively.\n",
       "<em>Biometrics</em>, <b>37</b>, 391&ndash;411.\n",
       "</p>\n",
       "\n",
       "\n",
       "<h3>Examples</h3>\n",
       "\n",
       "<pre>\n",
       "require(graphics)\n",
       "pairs(mtcars, main = \"mtcars data\", gap = 1/4)\n",
       "coplot(mpg ~ disp | as.factor(cyl), data = mtcars,\n",
       "       panel = panel.smooth, rows = 1)\n",
       "## possibly more meaningful, e.g., for summary() or bivariate plots:\n",
       "mtcars2 &lt;- within(mtcars, {\n",
       "   vs &lt;- factor(vs, labels = c(\"V\", \"S\"))\n",
       "   am &lt;- factor(am, labels = c(\"automatic\", \"manual\"))\n",
       "   cyl  &lt;- ordered(cyl)\n",
       "   gear &lt;- ordered(gear)\n",
       "   carb &lt;- ordered(carb)\n",
       "})\n",
       "summary(mtcars2)\n",
       "</pre>\n",
       "\n",
       "<hr /><div style=\"text-align: center;\">[Package <em>datasets</em> version 4.0.3 ]</div>"
      ],
      "text/latex": [
       "\\inputencoding{utf8}\n",
       "\\HeaderA{mtcars}{Motor Trend Car Road Tests}{mtcars}\n",
       "\\keyword{datasets}{mtcars}\n",
       "%\n",
       "\\begin{Description}\\relax\n",
       "The data was extracted from the 1974 \\emph{Motor Trend} US magazine,\n",
       "and comprises fuel consumption and 10 aspects of\n",
       "automobile design and performance for 32 automobiles (1973--74\n",
       "models).\n",
       "\\end{Description}\n",
       "%\n",
       "\\begin{Usage}\n",
       "\\begin{verbatim}\n",
       "mtcars\n",
       "\\end{verbatim}\n",
       "\\end{Usage}\n",
       "%\n",
       "\\begin{Format}\n",
       "A data frame with 32 observations on 11 (numeric) variables.\n",
       "\n",
       "\\Tabular{rll}{\n",
       "[, 1] & mpg  & Miles/(US) gallon \\\\{}\n",
       "[, 2] & cyl  & Number of cylinders \\\\{}\n",
       "[, 3] & disp & Displacement (cu.in.) \\\\{}\n",
       "[, 4] & hp   & Gross horsepower \\\\{}\n",
       "[, 5] & drat & Rear axle ratio \\\\{}\n",
       "[, 6] & wt   & Weight (1000 lbs) \\\\{}\n",
       "[, 7] & qsec & 1/4 mile time \\\\{}\n",
       "[, 8] & vs   & Engine (0 = V-shaped, 1 = straight) \\\\{}\n",
       "[, 9] & am   & Transmission (0 = automatic, 1 = manual) \\\\{}\n",
       "[,10] & gear & Number of forward gears \\\\{}\n",
       "[,11] & carb & Number of carburetors\n",
       "}\n",
       "\\end{Format}\n",
       "%\n",
       "\\begin{Note}\\relax\n",
       "Henderson and Velleman (1981) comment in a footnote to Table 1:\n",
       "`Hocking [original transcriber]'s noncrucial coding of the\n",
       "Mazda's rotary engine as a straight six-cylinder engine and the\n",
       "Porsche's flat engine as a V engine, as well as the inclusion of the\n",
       "diesel Mercedes 240D, have been retained to enable direct comparisons\n",
       "to be made with previous analyses.'\n",
       "\\end{Note}\n",
       "%\n",
       "\\begin{Source}\\relax\n",
       "Henderson and Velleman (1981),\n",
       "Building multiple regression models interactively.\n",
       "\\emph{Biometrics}, \\bold{37}, 391--411.\n",
       "\\end{Source}\n",
       "%\n",
       "\\begin{Examples}\n",
       "\\begin{ExampleCode}\n",
       "require(graphics)\n",
       "pairs(mtcars, main = \"mtcars data\", gap = 1/4)\n",
       "coplot(mpg ~ disp | as.factor(cyl), data = mtcars,\n",
       "       panel = panel.smooth, rows = 1)\n",
       "## possibly more meaningful, e.g., for summary() or bivariate plots:\n",
       "mtcars2 <- within(mtcars, {\n",
       "   vs <- factor(vs, labels = c(\"V\", \"S\"))\n",
       "   am <- factor(am, labels = c(\"automatic\", \"manual\"))\n",
       "   cyl  <- ordered(cyl)\n",
       "   gear <- ordered(gear)\n",
       "   carb <- ordered(carb)\n",
       "})\n",
       "summary(mtcars2)\n",
       "\\end{ExampleCode}\n",
       "\\end{Examples}"
      ],
      "text/plain": [
       "mtcars                package:datasets                 R Documentation\n",
       "\n",
       "_\bM_\bo_\bt_\bo_\br _\bT_\br_\be_\bn_\bd _\bC_\ba_\br _\bR_\bo_\ba_\bd _\bT_\be_\bs_\bt_\bs\n",
       "\n",
       "_\bD_\be_\bs_\bc_\br_\bi_\bp_\bt_\bi_\bo_\bn:\n",
       "\n",
       "     The data was extracted from the 1974 _Motor Trend_ US magazine,\n",
       "     and comprises fuel consumption and 10 aspects of automobile design\n",
       "     and performance for 32 automobiles (1973-74 models).\n",
       "\n",
       "_\bU_\bs_\ba_\bg_\be:\n",
       "\n",
       "     mtcars\n",
       "     \n",
       "_\bF_\bo_\br_\bm_\ba_\bt:\n",
       "\n",
       "     A data frame with 32 observations on 11 (numeric) variables.\n",
       "\n",
       "       [, 1]  mpg   Miles/(US) gallon                        \n",
       "       [, 2]  cyl   Number of cylinders                      \n",
       "       [, 3]  disp  Displacement (cu.in.)                    \n",
       "       [, 4]  hp    Gross horsepower                         \n",
       "       [, 5]  drat  Rear axle ratio                          \n",
       "       [, 6]  wt    Weight (1000 lbs)                        \n",
       "       [, 7]  qsec  1/4 mile time                            \n",
       "       [, 8]  vs    Engine (0 = V-shaped, 1 = straight)      \n",
       "       [, 9]  am    Transmission (0 = automatic, 1 = manual) \n",
       "       [,10]  gear  Number of forward gears                  \n",
       "       [,11]  carb  Number of carburetors                    \n",
       "      \n",
       "_\bN_\bo_\bt_\be:\n",
       "\n",
       "     Henderson and Velleman (1981) comment in a footnote to Table 1:\n",
       "     ‘Hocking [original transcriber]'s noncrucial coding of the Mazda's\n",
       "     rotary engine as a straight six-cylinder engine and the Porsche's\n",
       "     flat engine as a V engine, as well as the inclusion of the diesel\n",
       "     Mercedes 240D, have been retained to enable direct comparisons to\n",
       "     be made with previous analyses.’\n",
       "\n",
       "_\bS_\bo_\bu_\br_\bc_\be:\n",
       "\n",
       "     Henderson and Velleman (1981), Building multiple regression models\n",
       "     interactively.  _Biometrics_, *37*, 391-411.\n",
       "\n",
       "_\bE_\bx_\ba_\bm_\bp_\bl_\be_\bs:\n",
       "\n",
       "     require(graphics)\n",
       "     pairs(mtcars, main = \"mtcars data\", gap = 1/4)\n",
       "     coplot(mpg ~ disp | as.factor(cyl), data = mtcars,\n",
       "            panel = panel.smooth, rows = 1)\n",
       "     ## possibly more meaningful, e.g., for summary() or bivariate plots:\n",
       "     mtcars2 <- within(mtcars, {\n",
       "        vs <- factor(vs, labels = c(\"V\", \"S\"))\n",
       "        am <- factor(am, labels = c(\"automatic\", \"manual\"))\n",
       "        cyl  <- ordered(cyl)\n",
       "        gear <- ordered(gear)\n",
       "        carb <- ordered(carb)\n",
       "     })\n",
       "     summary(mtcars2)\n",
       "     "
      ]
     },
     "metadata": {},
     "output_type": "display_data"
    }
   ],
   "source": [
    "summary(mtcars)\n",
    "head(mtcars)\n",
    "?mtcars"
   ]
  },
  {
   "cell_type": "code",
   "execution_count": 3,
   "metadata": {},
   "outputs": [
    {
     "data": {
      "image/png": "[encoded data removed]",
      "text/plain": [
       "plot without title"
      ]
     },
     "metadata": {
      "image/png": {
       "height": 360,
       "width": 480
      }
     },
     "output_type": "display_data"
    }
   ],
   "source": [
    "qplot(wt, mpg, data = mtcars)"
   ]
  },
  {
   "cell_type": "markdown",
   "metadata": {},
   "source": [
    "## 2.2 Creating a Line Graph"
   ]
  },
  {
   "cell_type": "code",
   "execution_count": 4,
   "metadata": {},
   "outputs": [
    {
     "data": {
      "text/plain": [
       "  temperature     pressure       \n",
       " Min.   :  0   Min.   :  0.0002  \n",
       " 1st Qu.: 90   1st Qu.:  0.1800  \n",
       " Median :180   Median :  8.8000  \n",
       " Mean   :180   Mean   :124.3367  \n",
       " 3rd Qu.:270   3rd Qu.:126.5000  \n",
       " Max.   :360   Max.   :806.0000  "
      ]
     },
     "metadata": {},
     "output_type": "display_data"
    },
    {
     "data": {
      "text/html": [
       "<table>\n",
       "<caption>A data.frame: 6 × 2</caption>\n",
       "<thead>\n",
       "\t<tr><th></th><th scope=col>temperature</th><th scope=col>pressure</th></tr>\n",
       "\t<tr><th></th><th scope=col>&lt;dbl&gt;</th><th scope=col>&lt;dbl&gt;</th></tr>\n",
       "</thead>\n",
       "<tbody>\n",
       "\t<tr><th scope=row>1</th><td>  0</td><td>0.0002</td></tr>\n",
       "\t<tr><th scope=row>2</th><td> 20</td><td>0.0012</td></tr>\n",
       "\t<tr><th scope=row>3</th><td> 40</td><td>0.0060</td></tr>\n",
       "\t<tr><th scope=row>4</th><td> 60</td><td>0.0300</td></tr>\n",
       "\t<tr><th scope=row>5</th><td> 80</td><td>0.0900</td></tr>\n",
       "\t<tr><th scope=row>6</th><td>100</td><td>0.2700</td></tr>\n",
       "</tbody>\n",
       "</table>\n"
      ],
      "text/latex": [
       "A data.frame: 6 × 2\n",
       "\\begin{tabular}{r|ll}\n",
       "  & temperature & pressure\\\\\n",
       "  & <dbl> & <dbl>\\\\\n",
       "\\hline\n",
       "\t1 &   0 & 0.0002\\\\\n",
       "\t2 &  20 & 0.0012\\\\\n",
       "\t3 &  40 & 0.0060\\\\\n",
       "\t4 &  60 & 0.0300\\\\\n",
       "\t5 &  80 & 0.0900\\\\\n",
       "\t6 & 100 & 0.2700\\\\\n",
       "\\end{tabular}\n"
      ],
      "text/markdown": [
       "\n",
       "A data.frame: 6 × 2\n",
       "\n",
       "| <!--/--> | temperature &lt;dbl&gt; | pressure &lt;dbl&gt; |\n",
       "|---|---|---|\n",
       "| 1 |   0 | 0.0002 |\n",
       "| 2 |  20 | 0.0012 |\n",
       "| 3 |  40 | 0.0060 |\n",
       "| 4 |  60 | 0.0300 |\n",
       "| 5 |  80 | 0.0900 |\n",
       "| 6 | 100 | 0.2700 |\n",
       "\n"
      ],
      "text/plain": [
       "  temperature pressure\n",
       "1   0         0.0002  \n",
       "2  20         0.0012  \n",
       "3  40         0.0060  \n",
       "4  60         0.0300  \n",
       "5  80         0.0900  \n",
       "6 100         0.2700  "
      ]
     },
     "metadata": {},
     "output_type": "display_data"
    },
    {
     "data": {
      "text/html": [
       "\n",
       "<table width=\"100%\" summary=\"page for pressure {datasets}\"><tr><td>pressure {datasets}</td><td style=\"text-align: right;\">R Documentation</td></tr></table>\n",
       "\n",
       "<h2>Vapor Pressure of Mercury as a Function of Temperature</h2>\n",
       "\n",
       "<h3>Description</h3>\n",
       "\n",
       "<p>Data on the relation between temperature in degrees Celsius and vapor\n",
       "pressure of mercury in millimeters (of mercury).\n",
       "</p>\n",
       "\n",
       "\n",
       "<h3>Usage</h3>\n",
       "\n",
       "<pre>pressure</pre>\n",
       "\n",
       "\n",
       "<h3>Format</h3>\n",
       "\n",
       "<p>A data frame with 19 observations on 2 variables.\n",
       "</p>\n",
       "\n",
       "<table summary=\"Rd table\">\n",
       "<tr>\n",
       " <td style=\"text-align: right;\">\n",
       "    [, 1] </td><td style=\"text-align: left;\"> temperature </td><td style=\"text-align: left;\"> numeric </td><td style=\"text-align: left;\"> temperature (deg C)</td>\n",
       "</tr>\n",
       "<tr>\n",
       " <td style=\"text-align: right;\">\n",
       "    [, 2] </td><td style=\"text-align: left;\"> pressure    </td><td style=\"text-align: left;\"> numeric </td><td style=\"text-align: left;\"> pressure (mm)\n",
       "  </td>\n",
       "</tr>\n",
       "\n",
       "</table>\n",
       "\n",
       "\n",
       "\n",
       "<h3>Source</h3>\n",
       "\n",
       "<p>Weast, R. C., ed. (1973)\n",
       "<em>Handbook of Chemistry and Physics</em>.\n",
       "CRC Press.\n",
       "</p>\n",
       "\n",
       "\n",
       "<h3>References</h3>\n",
       "\n",
       "<p>McNeil, D. R. (1977)\n",
       "<em>Interactive Data Analysis</em>.\n",
       "New York: Wiley.\n",
       "</p>\n",
       "\n",
       "\n",
       "<h3>Examples</h3>\n",
       "\n",
       "<pre>\n",
       "require(graphics)\n",
       "plot(pressure, xlab = \"Temperature (deg C)\",\n",
       "     ylab = \"Pressure (mm of Hg)\",\n",
       "     main = \"pressure data: Vapor Pressure of Mercury\")\n",
       "plot(pressure, xlab = \"Temperature (deg C)\",  log = \"y\",\n",
       "     ylab = \"Pressure (mm of Hg)\",\n",
       "     main = \"pressure data: Vapor Pressure of Mercury\")\n",
       "</pre>\n",
       "\n",
       "<hr /><div style=\"text-align: center;\">[Package <em>datasets</em> version 4.0.3 ]</div>"
      ],
      "text/latex": [
       "\\inputencoding{utf8}\n",
       "\\HeaderA{pressure}{Vapor Pressure of Mercury as a Function of Temperature}{pressure}\n",
       "\\keyword{datasets}{pressure}\n",
       "%\n",
       "\\begin{Description}\\relax\n",
       "Data on the relation between temperature in degrees Celsius and vapor\n",
       "pressure of mercury in millimeters (of mercury).\n",
       "\\end{Description}\n",
       "%\n",
       "\\begin{Usage}\n",
       "\\begin{verbatim}\n",
       "pressure\n",
       "\\end{verbatim}\n",
       "\\end{Usage}\n",
       "%\n",
       "\\begin{Format}\n",
       "A data frame with 19 observations on 2 variables.\n",
       "\n",
       "\\Tabular{rlll}{\n",
       "[, 1] & temperature & numeric & temperature (deg C)\\\\{}\n",
       "[, 2] & pressure    & numeric & pressure (mm)\n",
       "}\n",
       "\\end{Format}\n",
       "%\n",
       "\\begin{Source}\\relax\n",
       "Weast, R. C., ed. (1973)\n",
       "\\emph{Handbook of Chemistry and Physics}.\n",
       "CRC Press.\n",
       "\\end{Source}\n",
       "%\n",
       "\\begin{References}\\relax\n",
       "McNeil, D. R. (1977)\n",
       "\\emph{Interactive Data Analysis}.\n",
       "New York: Wiley.\n",
       "\\end{References}\n",
       "%\n",
       "\\begin{Examples}\n",
       "\\begin{ExampleCode}\n",
       "require(graphics)\n",
       "plot(pressure, xlab = \"Temperature (deg C)\",\n",
       "     ylab = \"Pressure (mm of Hg)\",\n",
       "     main = \"pressure data: Vapor Pressure of Mercury\")\n",
       "plot(pressure, xlab = \"Temperature (deg C)\",  log = \"y\",\n",
       "     ylab = \"Pressure (mm of Hg)\",\n",
       "     main = \"pressure data: Vapor Pressure of Mercury\")\n",
       "\\end{ExampleCode}\n",
       "\\end{Examples}"
      ],
      "text/plain": [
       "pressure               package:datasets                R Documentation\n",
       "\n",
       "_\bV_\ba_\bp_\bo_\br _\bP_\br_\be_\bs_\bs_\bu_\br_\be _\bo_\bf _\bM_\be_\br_\bc_\bu_\br_\by _\ba_\bs _\ba _\bF_\bu_\bn_\bc_\bt_\bi_\bo_\bn _\bo_\bf _\bT_\be_\bm_\bp_\be_\br_\ba_\bt_\bu_\br_\be\n",
       "\n",
       "_\bD_\be_\bs_\bc_\br_\bi_\bp_\bt_\bi_\bo_\bn:\n",
       "\n",
       "     Data on the relation between temperature in degrees Celsius and\n",
       "     vapor pressure of mercury in millimeters (of mercury).\n",
       "\n",
       "_\bU_\bs_\ba_\bg_\be:\n",
       "\n",
       "     pressure\n",
       "     \n",
       "_\bF_\bo_\br_\bm_\ba_\bt:\n",
       "\n",
       "     A data frame with 19 observations on 2 variables.\n",
       "\n",
       "       [, 1]  temperature  numeric  temperature (deg C) \n",
       "       [, 2]  pressure     numeric  pressure (mm)       \n",
       "      \n",
       "_\bS_\bo_\bu_\br_\bc_\be:\n",
       "\n",
       "     Weast, R. C., ed. (1973) _Handbook of Chemistry and Physics_.  CRC\n",
       "     Press.\n",
       "\n",
       "_\bR_\be_\bf_\be_\br_\be_\bn_\bc_\be_\bs:\n",
       "\n",
       "     McNeil, D. R. (1977) _Interactive Data Analysis_.  New York:\n",
       "     Wiley.\n",
       "\n",
       "_\bE_\bx_\ba_\bm_\bp_\bl_\be_\bs:\n",
       "\n",
       "     require(graphics)\n",
       "     plot(pressure, xlab = \"Temperature (deg C)\",\n",
       "          ylab = \"Pressure (mm of Hg)\",\n",
       "          main = \"pressure data: Vapor Pressure of Mercury\")\n",
       "     plot(pressure, xlab = \"Temperature (deg C)\",  log = \"y\",\n",
       "          ylab = \"Pressure (mm of Hg)\",\n",
       "          main = \"pressure data: Vapor Pressure of Mercury\")\n",
       "     "
      ]
     },
     "metadata": {},
     "output_type": "display_data"
    }
   ],
   "source": [
    "summary(pressure)\n",
    "head(pressure)\n",
    "?pressure"
   ]
  },
  {
   "cell_type": "code",
   "execution_count": 5,
   "metadata": {},
   "outputs": [
    {
     "data": {
      "image/png": "[encoded data removed]",
      "text/plain": [
       "plot without title"
      ]
     },
     "metadata": {
      "image/png": {
       "height": 360,
       "width": 480
      }
     },
     "output_type": "display_data"
    }
   ],
   "source": [
    "bind_rows(\n",
    "  mutate(pressure, color = \"1\"),\n",
    "  mutate(pressure, pressure = pressure / 2, color = \"2\")\n",
    ") %>%\n",
    "  qplot(temperature, pressure, color = color, data = .) +\n",
    "  geom_line() +\n",
    "  theme(legend.position = \"none\") +\n",
    "  scale_color_manual(values = c(\"black\", \"red\"))"
   ]
  },
  {
   "cell_type": "markdown",
   "metadata": {},
   "source": [
    "## 2.3 Creating a Bar Graph"
   ]
  },
  {
   "cell_type": "code",
   "execution_count": 6,
   "metadata": {},
   "outputs": [
    {
     "data": {
      "text/plain": [
       "      Time           demand     \n",
       " Min.   :1.000   Min.   : 8.30  \n",
       " 1st Qu.:2.250   1st Qu.:11.62  \n",
       " Median :3.500   Median :15.80  \n",
       " Mean   :3.667   Mean   :14.83  \n",
       " 3rd Qu.:4.750   3rd Qu.:18.25  \n",
       " Max.   :7.000   Max.   :19.80  "
      ]
     },
     "metadata": {},
     "output_type": "display_data"
    },
    {
     "data": {
      "text/html": [
       "<table>\n",
       "<caption>A data.frame: 6 × 2</caption>\n",
       "<thead>\n",
       "\t<tr><th></th><th scope=col>Time</th><th scope=col>demand</th></tr>\n",
       "\t<tr><th></th><th scope=col>&lt;dbl&gt;</th><th scope=col>&lt;dbl&gt;</th></tr>\n",
       "</thead>\n",
       "<tbody>\n",
       "\t<tr><th scope=row>1</th><td>1</td><td> 8.3</td></tr>\n",
       "\t<tr><th scope=row>2</th><td>2</td><td>10.3</td></tr>\n",
       "\t<tr><th scope=row>3</th><td>3</td><td>19.0</td></tr>\n",
       "\t<tr><th scope=row>4</th><td>4</td><td>16.0</td></tr>\n",
       "\t<tr><th scope=row>5</th><td>5</td><td>15.6</td></tr>\n",
       "\t<tr><th scope=row>6</th><td>7</td><td>19.8</td></tr>\n",
       "</tbody>\n",
       "</table>\n"
      ],
      "text/latex": [
       "A data.frame: 6 × 2\n",
       "\\begin{tabular}{r|ll}\n",
       "  & Time & demand\\\\\n",
       "  & <dbl> & <dbl>\\\\\n",
       "\\hline\n",
       "\t1 & 1 &  8.3\\\\\n",
       "\t2 & 2 & 10.3\\\\\n",
       "\t3 & 3 & 19.0\\\\\n",
       "\t4 & 4 & 16.0\\\\\n",
       "\t5 & 5 & 15.6\\\\\n",
       "\t6 & 7 & 19.8\\\\\n",
       "\\end{tabular}\n"
      ],
      "text/markdown": [
       "\n",
       "A data.frame: 6 × 2\n",
       "\n",
       "| <!--/--> | Time &lt;dbl&gt; | demand &lt;dbl&gt; |\n",
       "|---|---|---|\n",
       "| 1 | 1 |  8.3 |\n",
       "| 2 | 2 | 10.3 |\n",
       "| 3 | 3 | 19.0 |\n",
       "| 4 | 4 | 16.0 |\n",
       "| 5 | 5 | 15.6 |\n",
       "| 6 | 7 | 19.8 |\n",
       "\n"
      ],
      "text/plain": [
       "  Time demand\n",
       "1 1     8.3  \n",
       "2 2    10.3  \n",
       "3 3    19.0  \n",
       "4 4    16.0  \n",
       "5 5    15.6  \n",
       "6 7    19.8  "
      ]
     },
     "metadata": {},
     "output_type": "display_data"
    },
    {
     "data": {
      "text/html": [
       "\n",
       "<table width=\"100%\" summary=\"page for BOD {datasets}\"><tr><td>BOD {datasets}</td><td style=\"text-align: right;\">R Documentation</td></tr></table>\n",
       "\n",
       "<h2> Biochemical Oxygen Demand </h2>\n",
       "\n",
       "<h3>Description</h3>\n",
       "\n",
       "<p>The <code>BOD</code> data frame has 6 rows and 2 columns giving the\n",
       "biochemical oxygen demand versus time in an evaluation of water\n",
       "quality.\n",
       "</p>\n",
       "\n",
       "\n",
       "<h3>Usage</h3>\n",
       "\n",
       "<pre>BOD</pre>\n",
       "\n",
       "\n",
       "<h3>Format</h3>\n",
       "\n",
       "<p>This data frame contains the following columns:\n",
       "</p>\n",
       "\n",
       "<dl>\n",
       "<dt><code>Time</code></dt><dd>\n",
       "<p>A numeric vector giving the time of the measurement (days).\n",
       "</p>\n",
       "</dd>\n",
       "<dt><code>demand</code></dt><dd>\n",
       "<p>A numeric vector giving the biochemical oxygen demand (mg/l).\n",
       "</p>\n",
       "</dd>\n",
       "</dl>\n",
       "\n",
       "\n",
       "\n",
       "<h3>Source</h3>\n",
       "\n",
       "<p>Bates, D.M. and Watts, D.G. (1988),\n",
       "<em>Nonlinear Regression Analysis and Its Applications</em>,\n",
       "Wiley, Appendix A1.4.\n",
       "</p>\n",
       "<p>Originally from Marske (1967), <em>Biochemical\n",
       "Oxygen Demand Data Interpretation Using Sum of Squares Surface</em>\n",
       "M.Sc. Thesis, University of Wisconsin &ndash; Madison.\n",
       "</p>\n",
       "\n",
       "\n",
       "<h3>Examples</h3>\n",
       "\n",
       "<pre>\n",
       "\n",
       "require(stats)\n",
       "# simplest form of fitting a first-order model to these data\n",
       "fm1 &lt;- nls(demand ~ A*(1-exp(-exp(lrc)*Time)), data = BOD,\n",
       "   start = c(A = 20, lrc = log(.35)))\n",
       "coef(fm1)\n",
       "fm1\n",
       "# using the plinear algorithm\n",
       "fm2 &lt;- nls(demand ~ (1-exp(-exp(lrc)*Time)), data = BOD,\n",
       "   start = c(lrc = log(.35)), algorithm = \"plinear\", trace = TRUE)\n",
       "# using a self-starting model\n",
       "fm3 &lt;- nls(demand ~ SSasympOrig(Time, A, lrc), data = BOD)\n",
       "summary(fm3)\n",
       "\n",
       "</pre>\n",
       "\n",
       "<hr /><div style=\"text-align: center;\">[Package <em>datasets</em> version 4.0.3 ]</div>"
      ],
      "text/latex": [
       "\\inputencoding{utf8}\n",
       "\\HeaderA{BOD}{ Biochemical Oxygen Demand }{BOD}\n",
       "\\keyword{datasets}{BOD}\n",
       "%\n",
       "\\begin{Description}\\relax\n",
       "The \\code{BOD} data frame has 6 rows and 2 columns giving the\n",
       "biochemical oxygen demand versus time in an evaluation of water\n",
       "quality.\n",
       "\\end{Description}\n",
       "%\n",
       "\\begin{Usage}\n",
       "\\begin{verbatim}\n",
       "BOD\n",
       "\\end{verbatim}\n",
       "\\end{Usage}\n",
       "%\n",
       "\\begin{Format}\n",
       "This data frame contains the following columns:\n",
       "\\begin{description}\n",
       "\n",
       "\\item[\\code{Time}] \n",
       "A numeric vector giving the time of the measurement (days).\n",
       "\n",
       "\\item[\\code{demand}] \n",
       "A numeric vector giving the biochemical oxygen demand (mg/l).\n",
       "\n",
       "\n",
       "\\end{description}\n",
       "\n",
       "\\end{Format}\n",
       "%\n",
       "\\begin{Source}\\relax\n",
       "Bates, D.M. and Watts, D.G. (1988),\n",
       "\\emph{Nonlinear Regression Analysis and Its Applications},\n",
       "Wiley, Appendix A1.4.\n",
       "\n",
       "Originally from Marske (1967), \\emph{Biochemical\n",
       "Oxygen Demand Data Interpretation Using Sum of Squares Surface}\n",
       "M.Sc. Thesis, University of Wisconsin -- Madison.\n",
       "\\end{Source}\n",
       "%\n",
       "\\begin{Examples}\n",
       "\\begin{ExampleCode}\n",
       "\n",
       "require(stats)\n",
       "# simplest form of fitting a first-order model to these data\n",
       "fm1 <- nls(demand ~ A*(1-exp(-exp(lrc)*Time)), data = BOD,\n",
       "   start = c(A = 20, lrc = log(.35)))\n",
       "coef(fm1)\n",
       "fm1\n",
       "# using the plinear algorithm\n",
       "fm2 <- nls(demand ~ (1-exp(-exp(lrc)*Time)), data = BOD,\n",
       "   start = c(lrc = log(.35)), algorithm = \"plinear\", trace = TRUE)\n",
       "# using a self-starting model\n",
       "fm3 <- nls(demand ~ SSasympOrig(Time, A, lrc), data = BOD)\n",
       "summary(fm3)\n",
       "\n",
       "\\end{ExampleCode}\n",
       "\\end{Examples}"
      ],
      "text/plain": [
       "BOD                  package:datasets                  R Documentation\n",
       "\n",
       "_\bB_\bi_\bo_\bc_\bh_\be_\bm_\bi_\bc_\ba_\bl _\bO_\bx_\by_\bg_\be_\bn _\bD_\be_\bm_\ba_\bn_\bd\n",
       "\n",
       "_\bD_\be_\bs_\bc_\br_\bi_\bp_\bt_\bi_\bo_\bn:\n",
       "\n",
       "     The ‘BOD’ data frame has 6 rows and 2 columns giving the\n",
       "     biochemical oxygen demand versus time in an evaluation of water\n",
       "     quality.\n",
       "\n",
       "_\bU_\bs_\ba_\bg_\be:\n",
       "\n",
       "     BOD\n",
       "     \n",
       "_\bF_\bo_\br_\bm_\ba_\bt:\n",
       "\n",
       "     This data frame contains the following columns:\n",
       "\n",
       "     ‘Time’ A numeric vector giving the time of the measurement (days).\n",
       "\n",
       "     ‘demand’ A numeric vector giving the biochemical oxygen demand\n",
       "          (mg/l).\n",
       "\n",
       "_\bS_\bo_\bu_\br_\bc_\be:\n",
       "\n",
       "     Bates, D.M. and Watts, D.G. (1988), _Nonlinear Regression Analysis\n",
       "     and Its Applications_, Wiley, Appendix A1.4.\n",
       "\n",
       "     Originally from Marske (1967), _Biochemical Oxygen Demand Data\n",
       "     Interpretation Using Sum of Squares Surface_ M.Sc. Thesis,\n",
       "     University of Wisconsin - Madison.\n",
       "\n",
       "_\bE_\bx_\ba_\bm_\bp_\bl_\be_\bs:\n",
       "\n",
       "     require(stats)\n",
       "     # simplest form of fitting a first-order model to these data\n",
       "     fm1 <- nls(demand ~ A*(1-exp(-exp(lrc)*Time)), data = BOD,\n",
       "        start = c(A = 20, lrc = log(.35)))\n",
       "     coef(fm1)\n",
       "     fm1\n",
       "     # using the plinear algorithm\n",
       "     fm2 <- nls(demand ~ (1-exp(-exp(lrc)*Time)), data = BOD,\n",
       "        start = c(lrc = log(.35)), algorithm = \"plinear\", trace = TRUE)\n",
       "     # using a self-starting model\n",
       "     fm3 <- nls(demand ~ SSasympOrig(Time, A, lrc), data = BOD)\n",
       "     summary(fm3)\n",
       "     "
      ]
     },
     "metadata": {},
     "output_type": "display_data"
    }
   ],
   "source": [
    "summary(BOD)\n",
    "head(BOD)\n",
    "?BOD"
   ]
  },
  {
   "cell_type": "code",
   "execution_count": 7,
   "metadata": {},
   "outputs": [
    {
     "data": {
      "image/png": "[encoded data removed]",
      "text/plain": [
       "plot without title"
      ]
     },
     "metadata": {
      "image/png": {
       "height": 360,
       "width": 480
      }
     },
     "output_type": "display_data"
    },
    {
     "data": {
      "image/png": "[encoded data removed]",
      "text/plain": [
       "plot without title"
      ]
     },
     "metadata": {
      "image/png": {
       "height": 360,
       "width": 480
      }
     },
     "output_type": "display_data"
    }
   ],
   "source": [
    "qplot(Time, demand, data = BOD, geom = \"col\")\n",
    "qplot(factor(Time), demand, data = BOD, geom = \"col\")"
   ]
  },
  {
   "cell_type": "code",
   "execution_count": 8,
   "metadata": {},
   "outputs": [
    {
     "data": {
      "text/html": [
       "<table>\n",
       "<caption>A data.frame: 3 × 2</caption>\n",
       "<thead>\n",
       "\t<tr><th scope=col>cyl</th><th scope=col>n</th></tr>\n",
       "\t<tr><th scope=col>&lt;dbl&gt;</th><th scope=col>&lt;int&gt;</th></tr>\n",
       "</thead>\n",
       "<tbody>\n",
       "\t<tr><td>4</td><td>11</td></tr>\n",
       "\t<tr><td>6</td><td> 7</td></tr>\n",
       "\t<tr><td>8</td><td>14</td></tr>\n",
       "</tbody>\n",
       "</table>\n"
      ],
      "text/latex": [
       "A data.frame: 3 × 2\n",
       "\\begin{tabular}{ll}\n",
       " cyl & n\\\\\n",
       " <dbl> & <int>\\\\\n",
       "\\hline\n",
       "\t 4 & 11\\\\\n",
       "\t 6 &  7\\\\\n",
       "\t 8 & 14\\\\\n",
       "\\end{tabular}\n"
      ],
      "text/markdown": [
       "\n",
       "A data.frame: 3 × 2\n",
       "\n",
       "| cyl &lt;dbl&gt; | n &lt;int&gt; |\n",
       "|---|---|\n",
       "| 4 | 11 |\n",
       "| 6 |  7 |\n",
       "| 8 | 14 |\n",
       "\n"
      ],
      "text/plain": [
       "  cyl n \n",
       "1 4   11\n",
       "2 6    7\n",
       "3 8   14"
      ]
     },
     "metadata": {},
     "output_type": "display_data"
    },
    {
     "data": {
      "image/png": "[encoded data removed]",
      "text/plain": [
       "plot without title"
      ]
     },
     "metadata": {
      "image/png": {
       "height": 360,
       "width": 480
      }
     },
     "output_type": "display_data"
    },
    {
     "data": {
      "image/png": "[encoded data removed]",
      "text/plain": [
       "plot without title"
      ]
     },
     "metadata": {
      "image/png": {
       "height": 360,
       "width": 480
      }
     },
     "output_type": "display_data"
    }
   ],
   "source": [
    "count(mtcars, cyl)\n",
    "qplot(cyl, data = mtcars, geom = \"bar\")\n",
    "qplot(factor(cyl), data = mtcars, geom = \"bar\")"
   ]
  },
  {
   "cell_type": "markdown",
   "metadata": {},
   "source": [
    "> In previous versions of **ggplot2**, the recommended way to create a bar graph of values was to use `geom_bar(stat = \"identity\")`. As of **ggplot2** 2.2.0, there is a `geom_col()` function that does the same thing."
   ]
  },
  {
   "cell_type": "markdown",
   "metadata": {},
   "source": [
    "## 2.4 Creating a Histogram"
   ]
  },
  {
   "cell_type": "code",
   "execution_count": 9,
   "metadata": {},
   "outputs": [
    {
     "name": "stderr",
     "output_type": "stream",
     "text": [
      "`stat_bin()` using `bins = 30`. Pick better value with `binwidth`.\n",
      "\n"
     ]
    },
    {
     "data": {
      "image/png": "[encoded data removed]",
      "text/plain": [
       "plot without title"
      ]
     },
     "metadata": {
      "image/png": {
       "height": 360,
       "width": 480
      }
     },
     "output_type": "display_data"
    },
    {
     "data": {
      "image/png": "[encoded data removed]",
      "text/plain": [
       "plot without title"
      ]
     },
     "metadata": {
      "image/png": {
       "height": 360,
       "width": 480
      }
     },
     "output_type": "display_data"
    }
   ],
   "source": [
    "qplot(mpg, data = mtcars)\n",
    "qplot(mpg, data = mtcars, binwidth = 4)"
   ]
  },
  {
   "cell_type": "markdown",
   "metadata": {},
   "source": [
    "> This is because it’s important to explore your data using different bin widths; the default of 30 may or may not show you something useful about your data."
   ]
  },
  {
   "cell_type": "markdown",
   "metadata": {},
   "source": [
    "## 2.5 Creating a Box Plot"
   ]
  },
  {
   "cell_type": "code",
   "execution_count": 10,
   "metadata": {},
   "outputs": [
    {
     "data": {
      "text/plain": [
       "      len        supp         dose      \n",
       " Min.   : 4.20   OJ:30   Min.   :0.500  \n",
       " 1st Qu.:13.07   VC:30   1st Qu.:0.500  \n",
       " Median :19.25           Median :1.000  \n",
       " Mean   :18.81           Mean   :1.167  \n",
       " 3rd Qu.:25.27           3rd Qu.:2.000  \n",
       " Max.   :33.90           Max.   :2.000  "
      ]
     },
     "metadata": {},
     "output_type": "display_data"
    },
    {
     "data": {
      "text/html": [
       "<table>\n",
       "<caption>A data.frame: 6 × 3</caption>\n",
       "<thead>\n",
       "\t<tr><th></th><th scope=col>len</th><th scope=col>supp</th><th scope=col>dose</th></tr>\n",
       "\t<tr><th></th><th scope=col>&lt;dbl&gt;</th><th scope=col>&lt;fct&gt;</th><th scope=col>&lt;dbl&gt;</th></tr>\n",
       "</thead>\n",
       "<tbody>\n",
       "\t<tr><th scope=row>1</th><td> 4.2</td><td>VC</td><td>0.5</td></tr>\n",
       "\t<tr><th scope=row>2</th><td>11.5</td><td>VC</td><td>0.5</td></tr>\n",
       "\t<tr><th scope=row>3</th><td> 7.3</td><td>VC</td><td>0.5</td></tr>\n",
       "\t<tr><th scope=row>4</th><td> 5.8</td><td>VC</td><td>0.5</td></tr>\n",
       "\t<tr><th scope=row>5</th><td> 6.4</td><td>VC</td><td>0.5</td></tr>\n",
       "\t<tr><th scope=row>6</th><td>10.0</td><td>VC</td><td>0.5</td></tr>\n",
       "</tbody>\n",
       "</table>\n"
      ],
      "text/latex": [
       "A data.frame: 6 × 3\n",
       "\\begin{tabular}{r|lll}\n",
       "  & len & supp & dose\\\\\n",
       "  & <dbl> & <fct> & <dbl>\\\\\n",
       "\\hline\n",
       "\t1 &  4.2 & VC & 0.5\\\\\n",
       "\t2 & 11.5 & VC & 0.5\\\\\n",
       "\t3 &  7.3 & VC & 0.5\\\\\n",
       "\t4 &  5.8 & VC & 0.5\\\\\n",
       "\t5 &  6.4 & VC & 0.5\\\\\n",
       "\t6 & 10.0 & VC & 0.5\\\\\n",
       "\\end{tabular}\n"
      ],
      "text/markdown": [
       "\n",
       "A data.frame: 6 × 3\n",
       "\n",
       "| <!--/--> | len &lt;dbl&gt; | supp &lt;fct&gt; | dose &lt;dbl&gt; |\n",
       "|---|---|---|---|\n",
       "| 1 |  4.2 | VC | 0.5 |\n",
       "| 2 | 11.5 | VC | 0.5 |\n",
       "| 3 |  7.3 | VC | 0.5 |\n",
       "| 4 |  5.8 | VC | 0.5 |\n",
       "| 5 |  6.4 | VC | 0.5 |\n",
       "| 6 | 10.0 | VC | 0.5 |\n",
       "\n"
      ],
      "text/plain": [
       "  len  supp dose\n",
       "1  4.2 VC   0.5 \n",
       "2 11.5 VC   0.5 \n",
       "3  7.3 VC   0.5 \n",
       "4  5.8 VC   0.5 \n",
       "5  6.4 VC   0.5 \n",
       "6 10.0 VC   0.5 "
      ]
     },
     "metadata": {},
     "output_type": "display_data"
    },
    {
     "data": {
      "text/html": [
       "\n",
       "<table width=\"100%\" summary=\"page for ToothGrowth {datasets}\"><tr><td>ToothGrowth {datasets}</td><td style=\"text-align: right;\">R Documentation</td></tr></table>\n",
       "\n",
       "<h2>The Effect of Vitamin C on Tooth Growth in Guinea Pigs</h2>\n",
       "\n",
       "<h3>Description</h3>\n",
       "\n",
       "<p>The response is the length of odontoblasts (cells responsible for\n",
       "tooth growth) in 60 guinea pigs.  Each animal received one of three\n",
       "dose levels of vitamin C (0.5, 1, and 2 mg/day) by one of two delivery\n",
       "methods, orange juice or ascorbic acid (a form of vitamin C and coded\n",
       "as <code>VC</code>).\n",
       "</p>\n",
       "\n",
       "\n",
       "<h3>Usage</h3>\n",
       "\n",
       "<pre>ToothGrowth</pre>\n",
       "\n",
       "\n",
       "<h3>Format</h3>\n",
       "\n",
       "<p>A data frame with 60 observations on 3 variables.\n",
       "</p>\n",
       "\n",
       "<table summary=\"Rd table\">\n",
       "<tr>\n",
       " <td style=\"text-align: right;\">\n",
       "    [,1]  </td><td style=\"text-align: left;\"> len   </td><td style=\"text-align: left;\"> numeric  </td><td style=\"text-align: left;\"> Tooth length</td>\n",
       "</tr>\n",
       "<tr>\n",
       " <td style=\"text-align: right;\">\n",
       "    [,2]  </td><td style=\"text-align: left;\"> supp  </td><td style=\"text-align: left;\"> factor   </td><td style=\"text-align: left;\"> Supplement type (VC or OJ).</td>\n",
       "</tr>\n",
       "<tr>\n",
       " <td style=\"text-align: right;\">\n",
       "    [,3]  </td><td style=\"text-align: left;\"> dose  </td><td style=\"text-align: left;\"> numeric  </td><td style=\"text-align: left;\"> Dose in milligrams/day\n",
       "  </td>\n",
       "</tr>\n",
       "\n",
       "</table>\n",
       "\n",
       "\n",
       "\n",
       "<h3>Source</h3>\n",
       "\n",
       "<p>C. I. Bliss (1952).\n",
       "<em>The Statistics of Bioassay</em>.\n",
       "Academic Press.\n",
       "</p>\n",
       "\n",
       "\n",
       "<h3>References</h3>\n",
       "\n",
       "<p>McNeil, D. R. (1977).\n",
       "<em>Interactive Data Analysis</em>.\n",
       "New York: Wiley.\n",
       "</p>\n",
       "<p>Crampton, E. W. (1947).\n",
       "The growth of the odontoblast of the incisor teeth as a criterion of\n",
       "vitamin C intake of the guinea pig.\n",
       "<em>The Journal of Nutrition</em>, <b>33</b>(5), 491&ndash;504.\n",
       "doi: <a href=\"https://doi.org/10.1093/jn/33.5.491\">10.1093/jn/33.5.491</a>.\n",
       "</p>\n",
       "\n",
       "\n",
       "<h3>Examples</h3>\n",
       "\n",
       "<pre>\n",
       "require(graphics)\n",
       "coplot(len ~ dose | supp, data = ToothGrowth, panel = panel.smooth,\n",
       "       xlab = \"ToothGrowth data: length vs dose, given type of supplement\")\n",
       "</pre>\n",
       "\n",
       "<hr /><div style=\"text-align: center;\">[Package <em>datasets</em> version 4.0.3 ]</div>"
      ],
      "text/latex": [
       "\\inputencoding{utf8}\n",
       "\\HeaderA{ToothGrowth}{The Effect of Vitamin C on Tooth Growth in Guinea Pigs}{ToothGrowth}\n",
       "\\keyword{datasets}{ToothGrowth}\n",
       "%\n",
       "\\begin{Description}\\relax\n",
       "The response is the length of odontoblasts (cells responsible for\n",
       "tooth growth) in 60 guinea pigs.  Each animal received one of three\n",
       "dose levels of vitamin C (0.5, 1, and 2 mg/day) by one of two delivery\n",
       "methods, orange juice or ascorbic acid (a form of vitamin C and coded\n",
       "as \\code{VC}).\n",
       "\\end{Description}\n",
       "%\n",
       "\\begin{Usage}\n",
       "\\begin{verbatim}\n",
       "ToothGrowth\n",
       "\\end{verbatim}\n",
       "\\end{Usage}\n",
       "%\n",
       "\\begin{Format}\n",
       "A data frame with 60 observations on 3 variables.\n",
       "\n",
       "\\Tabular{rlll}{\n",
       "[,1]  & len   & numeric  & Tooth length\\\\{}\n",
       "[,2]  & supp  & factor   & Supplement type (VC or OJ).\\\\{}\n",
       "[,3]  & dose  & numeric  & Dose in milligrams/day\n",
       "}\n",
       "\\end{Format}\n",
       "%\n",
       "\\begin{Source}\\relax\n",
       "C. I. Bliss (1952).\n",
       "\\emph{The Statistics of Bioassay}.\n",
       "Academic Press.\n",
       "\\end{Source}\n",
       "%\n",
       "\\begin{References}\\relax\n",
       "McNeil, D. R. (1977).\n",
       "\\emph{Interactive Data Analysis}.\n",
       "New York: Wiley.\n",
       "\n",
       "Crampton, E. W. (1947).\n",
       "The growth of the odontoblast of the incisor teeth as a criterion of\n",
       "vitamin C intake of the guinea pig.\n",
       "\\emph{The Journal of Nutrition}, \\bold{33}(5), 491--504.\n",
       "doi:\\nobreakspace{}\\Rhref{https://doi.org/10.1093/jn/33.5.491}{10.1093\\slash{}jn\\slash{}33.5.491}.\n",
       "\\end{References}\n",
       "%\n",
       "\\begin{Examples}\n",
       "\\begin{ExampleCode}\n",
       "require(graphics)\n",
       "coplot(len ~ dose | supp, data = ToothGrowth, panel = panel.smooth,\n",
       "       xlab = \"ToothGrowth data: length vs dose, given type of supplement\")\n",
       "\\end{ExampleCode}\n",
       "\\end{Examples}"
      ],
      "text/plain": [
       "ToothGrowth              package:datasets              R Documentation\n",
       "\n",
       "_\bT_\bh_\be _\bE_\bf_\bf_\be_\bc_\bt _\bo_\bf _\bV_\bi_\bt_\ba_\bm_\bi_\bn _\bC _\bo_\bn _\bT_\bo_\bo_\bt_\bh _\bG_\br_\bo_\bw_\bt_\bh _\bi_\bn _\bG_\bu_\bi_\bn_\be_\ba _\bP_\bi_\bg_\bs\n",
       "\n",
       "_\bD_\be_\bs_\bc_\br_\bi_\bp_\bt_\bi_\bo_\bn:\n",
       "\n",
       "     The response is the length of odontoblasts (cells responsible for\n",
       "     tooth growth) in 60 guinea pigs.  Each animal received one of\n",
       "     three dose levels of vitamin C (0.5, 1, and 2 mg/day) by one of\n",
       "     two delivery methods, orange juice or ascorbic acid (a form of\n",
       "     vitamin C and coded as ‘VC’).\n",
       "\n",
       "_\bU_\bs_\ba_\bg_\be:\n",
       "\n",
       "     ToothGrowth\n",
       "     \n",
       "_\bF_\bo_\br_\bm_\ba_\bt:\n",
       "\n",
       "     A data frame with 60 observations on 3 variables.\n",
       "\n",
       "       [,1]  len   numeric  Tooth length                \n",
       "       [,2]  supp  factor   Supplement type (VC or OJ). \n",
       "       [,3]  dose  numeric  Dose in milligrams/day      \n",
       "      \n",
       "_\bS_\bo_\bu_\br_\bc_\be:\n",
       "\n",
       "     C. I. Bliss (1952).  _The Statistics of Bioassay_.  Academic\n",
       "     Press.\n",
       "\n",
       "_\bR_\be_\bf_\be_\br_\be_\bn_\bc_\be_\bs:\n",
       "\n",
       "     McNeil, D. R. (1977).  _Interactive Data Analysis_.  New York:\n",
       "     Wiley.\n",
       "\n",
       "     Crampton, E. W. (1947).  The growth of the odontoblast of the\n",
       "     incisor teeth as a criterion of vitamin C intake of the guinea\n",
       "     pig.  _The Journal of Nutrition_, *33*(5), 491-504.  doi:\n",
       "     10.1093/jn/33.5.491 (URL: https://doi.org/10.1093/jn/33.5.491).\n",
       "\n",
       "_\bE_\bx_\ba_\bm_\bp_\bl_\be_\bs:\n",
       "\n",
       "     require(graphics)\n",
       "     coplot(len ~ dose | supp, data = ToothGrowth, panel = panel.smooth,\n",
       "            xlab = \"ToothGrowth data: length vs dose, given type of supplement\")\n",
       "     "
      ]
     },
     "metadata": {},
     "output_type": "display_data"
    }
   ],
   "source": [
    "summary(ToothGrowth)\n",
    "head(ToothGrowth)\n",
    "?ToothGrowth"
   ]
  },
  {
   "cell_type": "code",
   "execution_count": 11,
   "metadata": {},
   "outputs": [
    {
     "data": {
      "image/png": "[encoded data removed]",
      "text/plain": [
       "plot without title"
      ]
     },
     "metadata": {
      "image/png": {
       "height": 360,
       "width": 480
      }
     },
     "output_type": "display_data"
    }
   ],
   "source": [
    "boxplot(len ~ supp + dose, data = ToothGrowth)"
   ]
  },
  {
   "cell_type": "code",
   "execution_count": 12,
   "metadata": {},
   "outputs": [
    {
     "data": {
      "image/png": "[encoded data removed]",
      "text/plain": [
       "plot without title"
      ]
     },
     "metadata": {
      "image/png": {
       "height": 360,
       "width": 480
      }
     },
     "output_type": "display_data"
    },
    {
     "data": {
      "image/png": "[encoded data removed]",
      "text/plain": [
       "plot without title"
      ]
     },
     "metadata": {
      "image/png": {
       "height": 360,
       "width": 480
      }
     },
     "output_type": "display_data"
    },
    {
     "data": {
      "image/png": "[encoded data removed]",
      "text/plain": [
       "plot without title"
      ]
     },
     "metadata": {
      "image/png": {
       "height": 360,
       "width": 480
      }
     },
     "output_type": "display_data"
    }
   ],
   "source": [
    "qplot(supp, len, data = ToothGrowth, geom = \"boxplot\")\n",
    "qplot(interaction(supp, dose), len, data = ToothGrowth, geom = \"boxplot\")\n",
    "qplot(reorder(interaction(supp, dose), len), len, data = ToothGrowth, geom = \"boxplot\")"
   ]
  },
  {
   "cell_type": "markdown",
   "metadata": {},
   "source": [
    "## 2.6 Plotting a Function Curve"
   ]
  },
  {
   "cell_type": "code",
   "execution_count": 13,
   "metadata": {},
   "outputs": [
    {
     "data": {
      "image/png": "[encoded data removed]",
      "text/plain": [
       "plot without title"
      ]
     },
     "metadata": {
      "image/png": {
       "height": 360,
       "width": 480
      }
     },
     "output_type": "display_data"
    },
    {
     "data": {
      "image/png": "[encoded data removed]",
      "text/plain": [
       "plot without title"
      ]
     },
     "metadata": {
      "image/png": {
       "height": 360,
       "width": 480
      }
     },
     "output_type": "display_data"
    }
   ],
   "source": [
    "f <- function(x) { 1 / (1 + exp(-x + 10)) }\n",
    "\n",
    "curve(f, from = 0, to = 20)\n",
    "curve(1 - f(x), from = 0, to = 20, add = TRUE, col = \"red\")\n",
    "\n",
    "ggplot(tibble(x = c(0, 20)), aes(x)) + stat_function(fun = f, geom = \"line\")"
   ]
  }
 ],
 "metadata": {
  "kernelspec": {
   "display_name": "R",
   "language": "R",
   "name": "ir"
  },
  "language_info": {
   "codemirror_mode": "r",
   "file_extension": ".r",
   "mimetype": "text/x-r-source",
   "name": "R",
   "pygments_lexer": "r",
   "version": "4.0.3"
  }
 },
 "nbformat": 4,
 "nbformat_minor": 4
}
