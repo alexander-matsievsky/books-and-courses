{
 "cells": [
  {
   "cell_type": "markdown",
   "metadata": {},
   "source": [
    "# [Graph Algorithms: Practical Examples in Apache Spark and Neo4j](https://neo4j.com/neo4j-graph-analytics)\n",
    "\n",
    "- https://github.com/neo4j-graph-analytics/book\n",
    "- https://neo4j.com/neo4j-graph-analytics\n",
    "- https://resources.oreilly.com/examples/0636920233145"
   ]
  },
  {
   "cell_type": "code",
   "execution_count": null,
   "outputs": [],
   "source": [
    "%%bash\n",
    "\n",
    "mkdir -p data vendor\n",
    "\n",
    "curl -sL 'https://resources.oreilly.com/examples/0636920233145/-/archive/master/0636920233145-master.tar.bz2' |\n",
    "  tar --strip-components=1 -xjC data\n",
    "curl -sL 'https://github.com/neo4j-contrib/neo4j-apoc-procedures/releases/download/3.5.0.9/apoc-3.5.0.9-all.jar' \\\n",
    "  >vendor/apoc-3.5.0.9-all.jar\n",
    "curl -sL 'https://s3-eu-west-1.amazonaws.com/com.neo4j.graphalgorithms.dist/neo4j-graph-algorithms-3.5.9.0-standalone.jar' \\\n",
    "  >vendor/neo4j-graph-algorithms-3.5.9.0-standalone.jar"
   ],
   "metadata": {
    "collapsed": false,
    "pycharm": {
     "name": "#%%\n"
    }
   }
  },
  {
   "cell_type": "markdown",
   "metadata": {
    "pycharm": {
     "name": "#%% md\n"
    }
   },
   "source": [
    "## Chapter 3. Graph Platforms and Processing\n",
    "\n",
    "### PySpark\n",
    "\n",
    "```bash\n",
    "pyspark --packages=graphframes:graphframes:0.8.0-spark2.4-s_2.11\n",
    "```\n",
    "\n",
    "### Neo4j\n",
    "\n",
    "See https://github.com/neo4j-contrib/neo4j-apoc-procedures/#manual-installation-download-latest-release.\n",
    "\n",
    "```bash\n",
    "d=/tmp/neo4j-graph-analytics/neo4j bash -c 'mkdir -p $d/data $d/import $d/plugins'\n",
    "cp -t /tmp/neo4j-graph-analytics/neo4j/plugins \\\n",
    "  vendor/apoc-3.5.0.9-all.jar \\\n",
    "  vendor/neo4j-graph-algorithms-3.5.9.0-standalone.jar\n",
    "docker run --rm -e NEO4J_AUTH=none -p 7474:7474 -p 7687:7687 \\\n",
    "  -e NEO4J_dbms_security_procedures_unrestricted='algo.*,apoc.\\\\\\*' \\\n",
    "  -v /tmp/neo4j-graph-analytics/neo4j/data:/data \\\n",
    "  -v /tmp/neo4j-graph-analytics/neo4j/import:/import \\\n",
    "  -v /tmp/neo4j-graph-analytics/neo4j/plugins:/plugins \\\n",
    "  neo4j:3.5.9\n",
    "```"
   ]
  },
  {
   "cell_type": "markdown",
   "metadata": {
    "pycharm": {
     "name": "#%% md\n"
    }
   },
   "source": [
    "## Chapter 4. Pathfinding and Graph Search Algorithms"
   ]
  },
  {
   "cell_type": "code",
   "execution_count": null,
   "outputs": [],
   "source": [
    "from graphframes import GraphFrame\n",
    "from pyspark.sql import SparkSession\n",
    "from pyspark.sql.types import (\n",
    "    FloatType,\n",
    "    IntegerType,\n",
    "    StringType,\n",
    "    StructField,\n",
    "    StructType,\n",
    ")\n",
    "\n",
    "spark = (\n",
    "    SparkSession.builder.appName(\"neo4j-graph-analytics\")\n",
    "    .config(\"spark.packages\", \"graphframes:graphframes:0.8.0-spark2.4-s_2.11\")\n",
    "    .getOrCreate()\n",
    ")\n",
    "\n",
    "g = GraphFrame(\n",
    "    spark.read.csv(\n",
    "        \"data/data/transport-nodes.csv\",\n",
    "        header=True,\n",
    "        schema=StructType(\n",
    "            [\n",
    "                StructField(\"id\", StringType(), True),\n",
    "                StructField(\"latitude\", FloatType(), True),\n",
    "                StructField(\"longitude\", FloatType(), True),\n",
    "                StructField(\"population\", IntegerType(), True),\n",
    "            ]\n",
    "        ),\n",
    "    ),\n",
    "    (\n",
    "        spark.read.csv(\n",
    "            \"data/data/transport-relationships.csv\", header=True\n",
    "        ).createOrReplaceTempView(\"transport_relationships\")\n",
    "        or spark.sql(\n",
    "            \"\"\"\n",
    "            select src, dst, relationship, cost from transport_relationships\n",
    "            union\n",
    "            select dst as src, src as dst, relationship, cost from transport_relationships\n",
    "            \"\"\"\n",
    "        )\n",
    "    ),\n",
    ")"
   ],
   "metadata": {
    "collapsed": false,
    "pycharm": {
     "name": "#%%\n"
    }
   }
  }
 ],
 "metadata": {
  "kernelspec": {
   "display_name": "Python 3",
   "language": "python",
   "name": "python3"
  },
  "language_info": {
   "codemirror_mode": {
    "name": "ipython",
    "version": 3
   },
   "file_extension": ".py",
   "mimetype": "text/x-python",
   "name": "python",
   "nbconvert_exporter": "python",
   "pygments_lexer": "ipython3",
   "version": "3.7.6"
  }
 },
 "nbformat": 4,
 "nbformat_minor": 4
}