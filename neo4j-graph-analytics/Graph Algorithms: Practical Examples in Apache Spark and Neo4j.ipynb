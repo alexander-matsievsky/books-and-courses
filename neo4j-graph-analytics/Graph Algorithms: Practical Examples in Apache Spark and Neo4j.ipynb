{
 "cells": [
  {
   "cell_type": "markdown",
   "metadata": {},
   "source": [
    "# [Graph Algorithms: Practical Examples in Apache Spark and Neo4j](https://neo4j.com/graph-algorithms-book/)\n",
    "\n",
    "- https://github.com/neo4j-graph-analytics/book\n",
    "- https://resources.oreilly.com/examples/0636920233145"
   ]
  },
  {
   "cell_type": "code",
   "execution_count": null,
   "outputs": [],
   "source": [
    "%%bash\n",
    "\n",
    "mkdir -p data vendor\n",
    "\n",
    "curl -sL 'https://resources.oreilly.com/examples/0636920233145/-/archive/master/0636920233145-master.tar.bz2' |\n",
    "  tar --strip-components=1 -xjC data\n",
    "curl -sL 'https://github.com/neo4j-contrib/neo4j-apoc-procedures/releases/download/3.5.0.9/apoc-3.5.0.9-all.jar' \\\n",
    "  >vendor/apoc-3.5.0.9-all.jar\n",
    "curl -sL 'https://s3-eu-west-1.amazonaws.com/com.neo4j.graphalgorithms.dist/neo4j-graph-algorithms-3.5.9.0-standalone.jar' \\\n",
    "  >vendor/neo4j-graph-algorithms-3.5.9.0-standalone.jar"
   ],
   "metadata": {
    "collapsed": false,
    "pycharm": {
     "name": "#%%\n"
    }
   }
  },
  {
   "cell_type": "markdown",
   "metadata": {
    "pycharm": {
     "name": "#%% md\n"
    }
   },
   "source": [
    "## Chapter 3. Graph Platforms and Processing\n",
    "\n",
    "### PySpark\n",
    "\n",
    "```bash\n",
    "pyspark --packages=graphframes:graphframes:0.8.0-spark2.4-s_2.11\n",
    "```\n",
    "\n",
    "### Neo4j\n",
    "\n",
    "See https://github.com/neo4j-contrib/neo4j-apoc-procedures/#manual-installation-download-latest-release.\n",
    "\n",
    "```bash\n",
    "d=/tmp/neo4j-graph-analytics/neo4j bash -c 'mkdir -p $d/data $d/import $d/plugins'\n",
    "cp -t /tmp/neo4j-graph-analytics/neo4j/plugins \\\n",
    "  vendor/apoc-3.5.0.9-all.jar \\\n",
    "  vendor/neo4j-graph-algorithms-3.5.9.0-standalone.jar\n",
    "cp -R data/data /tmp/neo4j-graph-analytics/neo4j/import\n",
    "docker run --rm -e NEO4J_AUTH=none -p 7474:7474 -p 7687:7687 \\\n",
    "  -e NEO4J_dbms_security_procedures_unrestricted='algo.*,apoc.\\\\\\*' \\\n",
    "  -v /tmp/neo4j-graph-analytics/neo4j/data:/data \\\n",
    "  -v /tmp/neo4j-graph-analytics/neo4j/import:/import \\\n",
    "  -v /tmp/neo4j-graph-analytics/neo4j/plugins:/plugins \\\n",
    "  neo4j:3.5.9\n",
    "```"
   ]
  },
  {
   "cell_type": "markdown",
   "metadata": {
    "pycharm": {
     "name": "#%% md\n"
    }
   },
   "source": [
    "## Chapter 4. Pathfinding and Graph Search Algorithms"
   ]
  },
  {
   "cell_type": "markdown",
   "source": [
    "### Breadth First Search\n",
    "\n",
    "- Edward F. Moore, 1959\n",
    "- C. Y. Lee, \"An Algorithm for Path Connections and Its Applications,\" in IRE Transactions on Electronic Computers, vol. EC-10, no. 3, pp. 346-365, Sept. 1961.\n",
    "  https://ieeexplore.ieee.org/document/5219222\n",
    "\n",
    "\n",
    "#### Breadth First Search with Apache Spark"
   ],
   "metadata": {
    "collapsed": false,
    "pycharm": {
     "name": "#%% md\n"
    }
   }
  },
  {
   "cell_type": "code",
   "execution_count": null,
   "outputs": [],
   "source": [
    "import pandas as pd\n",
    "from graphframes import GraphFrame\n",
    "from pyspark.sql import SparkSession\n",
    "\n",
    "spark = (\n",
    "    SparkSession.builder.appName(\"neo4j-graph-analytics\")\n",
    "    .config(\"spark.packages\", \"graphframes:graphframes:0.8.0-spark2.4-s_2.11\")\n",
    "    .getOrCreate()\n",
    ")\n",
    "g = GraphFrame(\n",
    "    spark.read.option(\"inferSchema\", True).csv(\n",
    "        \"data/data/transport-nodes.csv\", header=True\n",
    "    ),\n",
    "    (\n",
    "        spark.read.option(\"inferSchema\", True)\n",
    "        .csv(\"data/data/transport-relationships.csv\", header=True)\n",
    "        .createOrReplaceTempView(\"transport_relationships\")\n",
    "        or spark.sql(\n",
    "            \"\"\"\n",
    "            select src, dst, relationship, cost from transport_relationships\n",
    "            union\n",
    "            select dst as src, src as dst, relationship, cost from transport_relationships\n",
    "            \"\"\"\n",
    "        )\n",
    "    ),\n",
    ")"
   ],
   "metadata": {
    "collapsed": false,
    "pycharm": {
     "name": "#%%\n"
    }
   }
  },
  {
   "cell_type": "code",
   "execution_count": null,
   "outputs": [],
   "source": [
    "(\n",
    "    g.vertices.createOrReplaceTempView(\"_\")\n",
    "    or spark.sql(\n",
    "        \"select * from _ where 100000<population and population<300000 order by population\"\n",
    "    ).show()\n",
    ")\n",
    "g.vertices.filter(\"100000<population and population<300000\").sort(\"population\").show()\n",
    "g.bfs(\n",
    "    \"id='Den Haag'\", \"100000<population and population<300000 and id!='Den Haag'\",\n",
    ").show()"
   ],
   "metadata": {
    "collapsed": false,
    "pycharm": {
     "name": "#%%\n"
    }
   }
  },
  {
   "cell_type": "code",
   "execution_count": null,
   "outputs": [],
   "source": [
    "g.bfs(\"id='Amsterdam'\", \"id='London'\").toPandas().filter(regex=r'^e').T"
   ],
   "metadata": {
    "collapsed": false,
    "pycharm": {
     "name": "#%%\n"
    }
   }
  },
  {
   "cell_type": "markdown",
   "source": [
    "### Shortest Path\n",
    "\n",
    "- Edsger Dijkstra, 1956\n",
    "\n",
    "#### Shortest Path with Neo4j"
   ],
   "metadata": {
    "collapsed": false,
    "pycharm": {
     "name": "#%% md\n"
    }
   }
  },
  {
   "cell_type": "code",
   "execution_count": null,
   "outputs": [],
   "source": [
    "from neo4j import GraphDatabase\n",
    "\n",
    "driver = GraphDatabase.driver(\"bolt://localhost:7687\")\n",
    "with driver.session() as session:\n",
    "    for cypher in [\n",
    "        r\"\"\"\n",
    "        LOAD CSV WITH HEADERS FROM 'file:///data/transport-nodes.csv' AS row\n",
    "        MERGE (p:Place {id: row.id})\n",
    "        SET p.latitude = toFloat(row.latitude),\n",
    "        p.longitude = toFloat(row.longitude),\n",
    "        p.population = toInt(row.population);\n",
    "        \"\"\",\n",
    "        r\"\"\"\n",
    "        CREATE INDEX ON:Place(id);\n",
    "        \"\"\",\n",
    "        r\"\"\"\n",
    "        LOAD CSV WITH HEADERS FROM 'file:///data/transport-relationships.csv' AS row\n",
    "        MERGE (src:Place {id: row.src})\n",
    "        MERGE (dst:Place {id: row.dst})\n",
    "        WITH src, dst, {distance: toInt(row.cost)} AS props, row\n",
    "        CALL apoc.merge.relationship(src, row.relationship, props, props, dst, props)\n",
    "        YIELD rel\n",
    "        RETURN count(rel);\n",
    "        \"\"\",\n",
    "    ]:\n",
    "        session.write_transaction(lambda tx: tx.run(cypher))"
   ],
   "metadata": {
    "collapsed": false,
    "pycharm": {
     "name": "#%%\n"
    }
   }
  },
  {
   "cell_type": "code",
   "execution_count": null,
   "outputs": [],
   "source": [
    "with driver.session() as session:\n",
    "    cypher = r\"\"\"\n",
    "    MATCH (src:Place {id: 'Amsterdam'}), (dst:Place {id: 'London'})\n",
    "    CALL algo.shortestPath.stream(src, dst, null)\n",
    "    YIELD nodeId, cost\n",
    "    RETURN algo.getNodeById(nodeId).id AS place, cost;\n",
    "    \"\"\"\n",
    "\n",
    "    session.read_transaction(\n",
    "        lambda tx: print(*(dict(record) for record in tx.run(cypher)), sep=\"\\n\")\n",
    "    )"
   ],
   "metadata": {
    "collapsed": false,
    "pycharm": {
     "name": "#%%\n"
    }
   }
  },
  {
   "cell_type": "markdown",
   "source": [
    "#### Shortest Path (Weighted) with Neo4j"
   ],
   "metadata": {
    "collapsed": false,
    "pycharm": {
     "name": "#%% md\n"
    }
   }
  },
  {
   "cell_type": "code",
   "execution_count": null,
   "outputs": [],
   "source": [
    "with driver.session() as session:\n",
    "    cypher = r\"\"\"\n",
    "    MATCH (src:Place {id: 'Amsterdam'}), (dst:Place {id: 'London'})\n",
    "    CALL algo.shortestPath.stream(src, dst, 'distance')\n",
    "    YIELD nodeId, cost\n",
    "    RETURN algo.getNodeById(nodeId).id AS place, cost;\n",
    "    \"\"\"\n",
    "\n",
    "    session.read_transaction(\n",
    "        lambda tx: print(*(dict(record) for record in tx.run(cypher)), sep=\"\\n\")\n",
    "    )"
   ],
   "metadata": {
    "collapsed": false,
    "pycharm": {
     "name": "#%%\n"
    }
   }
  },
  {
   "cell_type": "markdown",
   "source": [
    "#### Shortest Path (Weighted) with Apache Spark\n",
    "\n",
    "**TBD**"
   ],
   "metadata": {
    "collapsed": false,
    "pycharm": {
     "name": "#%% md\n"
    }
   }
  },
  {
   "cell_type": "markdown",
   "source": [
    "#### Shortest Path Variation: A*\n",
    "\n",
    "- P. E. Hart, N. J. Nilsson and B. Raphael, \"A Formal Basis for the Heuristic Determination of Minimum Cost Paths,\" in IEEE Transactions on Systems Science and Cybernetics, vol. 4, no. 2, pp. 100-107, July 1968.\n",
    "  https://ieeexplore.ieee.org/document/4082128"
   ],
   "metadata": {
    "collapsed": false,
    "pycharm": {
     "name": "#%% md\n"
    }
   }
  },
  {
   "cell_type": "code",
   "execution_count": null,
   "outputs": [],
   "source": [
    "with driver.session() as session:\n",
    "    cypher = r\"\"\"\n",
    "    MATCH (src:Place {id: 'Den Haag'}), (dst:Place {id: 'London'})\n",
    "    CALL algo.shortestPath.astar.stream(src, dst, 'distance', 'latitude', 'longitude')\n",
    "    YIELD nodeId, cost\n",
    "    RETURN algo.getNodeById(nodeId).id AS place, cost;\n",
    "    \"\"\"\n",
    "\n",
    "    session.read_transaction(\n",
    "        lambda tx: print(*(dict(record) for record in tx.run(cypher)), sep=\"\\n\")\n",
    "    )"
   ],
   "metadata": {
    "collapsed": false,
    "pycharm": {
     "name": "#%%\n"
    }
   }
  },
  {
   "cell_type": "markdown",
   "source": [
    "#### Shortest Path Variation: Yen’s k-Shortest Paths\n",
    "\n",
    "- Yen, Jin Y. “Finding the K Shortest Loopless Paths in a Network.” Management Science, vol. 17, no. 11, 1971, pp. 712–716. JSTOR, www.jstor.org/stable/2629312. Accessed 29 Mar. 2020.\n",
    "  https://www.jstor.org/stable/2629312"
   ],
   "metadata": {
    "collapsed": false,
    "pycharm": {
     "name": "#%% md\n"
    }
   }
  },
  {
   "cell_type": "code",
   "execution_count": null,
   "outputs": [],
   "source": [
    "with driver.session() as session:\n",
    "    cypher = r\"\"\"\n",
    "    MATCH (src:Place {id: 'Gouda'}), (dst:Place {id: 'Felixstowe'})\n",
    "    CALL algo.kShortestPaths.stream(src, dst, 5, 'distance')\n",
    "    YIELD index, nodeIds, path, costs\n",
    "    RETURN index,\n",
    "           [node IN algo.getNodesById(nodeIds[1..-1]) | node.id] AS via,\n",
    "           reduce(totalCost = 0.0, cost IN costs | totalCost + cost) AS totalCost;\n",
    "    \"\"\"\n",
    "\n",
    "    session.read_transaction(\n",
    "        lambda tx: print(*(dict(record) for record in tx.run(cypher)), sep=\"\\n\")\n",
    "    )"
   ],
   "metadata": {
    "collapsed": false,
    "pycharm": {
     "name": "#%%\n"
    }
   }
  },
  {
   "cell_type": "markdown",
   "source": [
    "### All Pairs Shortest Path\n",
    "#### All Pairs Shortest Path with Apache Spark"
   ],
   "metadata": {
    "collapsed": false,
    "pycharm": {
     "name": "#%% md\n"
    }
   }
  },
  {
   "cell_type": "code",
   "execution_count": null,
   "outputs": [],
   "source": [
    "g.shortestPaths([\"Colchester\", \"Immingham\", \"Hoek van Holland\"]).toPandas().pipe(\n",
    "    lambda df: df[[\"id\"]].join(df.distances.apply(pd.Series))\n",
    ")"
   ],
   "metadata": {
    "collapsed": false,
    "pycharm": {
     "name": "#%%\n"
    }
   }
  },
  {
   "cell_type": "markdown",
   "source": [
    "#### All Pairs Shortest Path with Neo4j"
   ],
   "metadata": {
    "collapsed": false,
    "pycharm": {
     "name": "#%% md\n"
    }
   }
  },
  {
   "cell_type": "code",
   "execution_count": null,
   "outputs": [],
   "source": [
    "with driver.session() as session:\n",
    "    cypher = r\"\"\"\n",
    "    CALL algo.allShortestPaths.stream(null)\n",
    "    YIELD sourceNodeId, targetNodeId, distance\n",
    "    WITH algo.getNodeById(sourceNodeId).id AS src, algo.getNodeById(targetNodeId).id AS dst, distance\n",
    "      WHERE src < dst\n",
    "    RETURN src, dst, distance\n",
    "      ORDER BY distance DESC, src, dst\n",
    "      LIMIT 10;\n",
    "    \"\"\"\n",
    "\n",
    "    session.read_transaction(\n",
    "        lambda tx: print(*(dict(record) for record in tx.run(cypher)), sep=\"\\n\")\n",
    "    )"
   ],
   "metadata": {
    "collapsed": false,
    "pycharm": {
     "name": "#%%\n"
    }
   }
  },
  {
   "cell_type": "code",
   "execution_count": null,
   "outputs": [],
   "source": [
    "with driver.session() as session:\n",
    "    cypher = r\"\"\"\n",
    "    CALL algo.allShortestPaths.stream('distance')\n",
    "    YIELD sourceNodeId, targetNodeId, distance\n",
    "    WITH algo.getNodeById(sourceNodeId).id AS src, algo.getNodeById(targetNodeId).id AS dst, distance\n",
    "      WHERE src < dst\n",
    "    RETURN src, dst, distance\n",
    "      ORDER BY distance DESC, src, dst\n",
    "      LIMIT 10;\n",
    "    \"\"\"\n",
    "\n",
    "    session.read_transaction(\n",
    "        lambda tx: print(*(dict(record) for record in tx.run(cypher)), sep=\"\\n\")\n",
    "    )\n"
   ],
   "metadata": {
    "collapsed": false,
    "pycharm": {
     "name": "#%%\n"
    }
   }
  },
  {
   "cell_type": "markdown",
   "source": [
    "### Single Source Shortest Path\n",
    "#### Single Source Shortest Path with Apache Spark\n",
    "**TBD**"
   ],
   "metadata": {
    "collapsed": false,
    "pycharm": {
     "name": "#%% md\n"
    }
   }
  },
  {
   "cell_type": "markdown",
   "source": [
    "#### Single Source Shortest Path with Neo4j"
   ],
   "metadata": {
    "collapsed": false,
    "pycharm": {
     "name": "#%% md\n"
    }
   }
  },
  {
   "cell_type": "code",
   "execution_count": null,
   "outputs": [],
   "source": [
    "with driver.session() as session:\n",
    "    cypher = r\"\"\"\n",
    "    MATCH (p:Place {id: 'London'})\n",
    "    CALL algo.shortestPath.deltaStepping.stream(p, 'distance', 1.0)\n",
    "    YIELD nodeId, distance\n",
    "    WITH p.id AS src, algo.getNodeById(nodeId).id AS dst, distance\n",
    "      WHERE src <> dst\n",
    "    RETURN src, dst, distance\n",
    "      ORDER BY distance;\n",
    "    \"\"\"\n",
    "\n",
    "    session.read_transaction(\n",
    "        lambda tx: print(*(dict(record) for record in tx.run(cypher)), sep=\"\\n\")\n",
    "    )\n"
   ],
   "metadata": {
    "collapsed": false,
    "pycharm": {
     "name": "#%%\n"
    }
   }
  },
  {
   "cell_type": "markdown",
   "source": [
    "### Minimum Spanning Tree\n",
    "\n",
    "- Otakar Borůvka, 1926\n",
    "- Prim, 1957"
   ],
   "metadata": {
    "collapsed": false,
    "pycharm": {
     "name": "#%% md\n"
    }
   }
  }
 ],
 "metadata": {
  "kernelspec": {
   "display_name": "Python 3",
   "language": "python",
   "name": "python3"
  },
  "language_info": {
   "codemirror_mode": {
    "name": "ipython",
    "version": 3
   },
   "file_extension": ".py",
   "mimetype": "text/x-python",
   "name": "python",
   "nbconvert_exporter": "python",
   "pygments_lexer": "ipython3",
   "version": "3.7.6"
  }
 },
 "nbformat": 4,
 "nbformat_minor": 4
}